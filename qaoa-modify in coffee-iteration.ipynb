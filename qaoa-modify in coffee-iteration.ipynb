{
 "cells": [
  {
   "cell_type": "code",
   "execution_count": 4,
   "id": "9c4a177a-c5ad-4ae6-9bbc-9c2aff86a23f",
   "metadata": {
    "tags": []
   },
   "outputs": [],
   "source": [
    "from mindquantum.core.circuit import Circuit, UN, add_suffix, apply, decompose_single_term_time_evolution\n",
    "from mindquantum.core.gates import H, Rzz, RX, Rzz,RZ, RY, Measure, BarrierGate\n",
    "from mindquantum.core.operators import Hamiltonian, QubitOperator\n",
    "from mindquantum.framework import MQAnsatzOnlyLayer\n",
    "from mindquantum.simulator import Simulator\n",
    "from mindquantum.core.operators import commutator\n",
    "import time\n",
    "from mindquantum.core.parameterresolver import ParameterResolver\n",
    "from mindquantum import *\n",
    "\n",
    "import mindspore.nn as nn\n",
    "from mindspore import Tensor\n",
    "import mindspore as ms\n",
    "ms.set_context(mode=ms.PYNATIVE_MODE, device_target=\"CPU\")\n",
    "\n",
    "import networkx as nx\n",
    "import numpy as np\n",
    "import matplotlib.pyplot as plt\n",
    "from scipy.optimize import minimize\n",
    "import matplotlib.pylab as pylab\n",
    "from tqdm import tqdm\n",
    "\n",
    "from itertools import combinations\n",
    "from collections import OrderedDict as ordict\n"
   ]
  },
  {
   "cell_type": "markdown",
   "id": "688a6eb6-dd8c-4bd0-a71a-5c38b9ba67e3",
   "metadata": {},
   "source": [
    "## Build quantum circuits"
   ]
  },
  {
   "cell_type": "code",
   "execution_count": 5,
   "id": "91704169-ae56-407f-8ac6-62f1ae6a6045",
   "metadata": {},
   "outputs": [],
   "source": [
    "def param2dict(keys, values):\n",
    "    # make the parameters and coresponding label to a dict\n",
    "    param_dict = {}\n",
    "    for (key, value) in zip(keys, values):\n",
    "        param_dict[key] = value\n",
    "    return param_dict\n",
    "\n",
    "def get_expectation_of_hamitonian(circ, ham, pr):\n",
    "    # calculate the expectation of hamitonian\n",
    "    sim = Simulator('mqvector', circ.n_qubits)\n",
    "    sim.apply_circuit(circ, pr)\n",
    "    result = sim.get_expectation(ham)\n",
    "        \n",
    "    return result.real\n",
    "\n",
    "def E0_energy(ham_operator):\n",
    "    \n",
    "    # 首先根据哈密顿量的算符将其转化为矩阵形式。\n",
    "    ham_matrix = ham_operator.matrix()\n",
    "    ham_matrix = ham_matrix.todense()\n",
    "\n",
    "    # calculate the eigenvalue and eigenvector\n",
    "    eigval, eigvec = np.linalg.eig(ham_matrix)\n",
    "\n",
    "    # 找到最小特征值的索引\n",
    "    min_index = np.argmin(eigval)\n",
    "\n",
    "    # 获取对应的特征向量\n",
    "    min_eigvec = eigvec[:, min_index]\n",
    "\n",
    "    return min_eigvec,eigval[min_index]\n",
    "\n",
    "def train(ham, ansatze, iteration):\n",
    "\n",
    "    # bulid the quantum circuit\n",
    "    \n",
    "    circ = ansatze                                         # 将初始化线路与ansatz线路组合成一个线路\n",
    "    sim = Simulator('mqvector', ansatze.n_qubits)  \n",
    "    #sim.set_qs(initial_ground_state)\n",
    "    \n",
    "    grad_ops = sim.get_expectation_with_grad(ham, circ)    # 获取计算变分量子线路的期望值和梯度的算子\n",
    "    net = MQAnsatzOnlyLayer(grad_ops)                             \n",
    "    opti = nn.Adam(net.trainable_params(), learning_rate=0.05)     \n",
    "    train_net = nn.TrainOneStepCell(net, opti)                    \n",
    "\n",
    "    result = []\n",
    "    #from tqdm import tqdm\n",
    "    for i in range(iteration):\n",
    "        train_net() \n",
    "        result.append(train_net()[0])\n",
    "    pr = dict(zip(ansatze.params_name, net.weight.asnumpy())) # 获取线路参数\n",
    "        \n",
    "    return pr, result\n",
    "\n",
    "\n",
    "def state_sampling(ansatze, pr):\n",
    "    \n",
    "    shots = 1024\n",
    "\n",
    "    for i in range(ansatze.n_qubits):\n",
    "        ansatze += Measure().on(i)\n",
    "    \n",
    "\n",
    "    sim = Simulator('mqvector', ansatze.n_qubits)\n",
    "    #sim.set_qs(initial_ground_state)\n",
    "    res = sim.sampling(ansatze, pr, shots=shots)\n",
    "    \n",
    "    return res\n",
    "\n",
    "\n",
    "def CD_operator(CD):\n",
    "    \n",
    "    CD_term = []\n",
    "    for cd in CD.split():\n",
    "        CD_term.append(cd[1])\n",
    "    k = 0\n",
    "    out = ordict()\n",
    "    for cd in CD_term:\n",
    "        for key, term in cd.terms.items():\n",
    "            if len(key) == 2:\n",
    "                #print(len(key))\n",
    "                if key not in out:\n",
    "                    out[key] = ordict({f\"p{k}\": 1})\n",
    "                    k += 1\n",
    "    return out\n",
    "\n",
    "def CD_ansataz(out):\n",
    "    \"Transform a pauli ansatz to parameterized quantum circuit.\"\n",
    "\n",
    "    circuit = Circuit()\n",
    "    # circuit += inital_circuits(occupied, circuit_description)\n",
    "        \n",
    "    z = 0\n",
    "    for k, v in out.items():\n",
    "        index1 = (k[0][0], k[1][0])\n",
    "        index2 = (k[1][0], k[0][0])\n",
    "\n",
    "        pauli_operator = (str(k[0][1]), str(k[1][1]))\n",
    "        if pauli_operator == ('Z','Y'):\n",
    "            circuit += Ryz(f'{z}').on(index2)          \n",
    "            z+=1\n",
    "    # for k, v in out.items():\n",
    "    #     circuit += decompose_single_term_time_evolution(k, v)\n",
    "    for i in range(n_items):\n",
    "        circuit += RY(f'ry{i}').on(i)\n",
    "    \n",
    "    return circuit"
   ]
  },
  {
   "cell_type": "markdown",
   "id": "4e1114eb-6cc0-4b1c-af8a-475ce735c9f3",
   "metadata": {},
   "source": [
    "### The Hamitonian \n",
    "$H_p = \\sum_{i=1}^{n}(-\\frac{\\alpha}{2}+\\beta(C-\\frac{1}{2}\\sum_{i}^{n}\\omega_{i}))Z_{i}\\omega_{i} + \\sum_{i<j}\\frac{\\beta}{2}\\omega_{i}\\omega_{j}Z_{i}Z_{j}.$"
   ]
  },
  {
   "cell_type": "code",
   "execution_count": 6,
   "id": "11e47b90-ed3f-45df-8ebf-985f16056ded",
   "metadata": {},
   "outputs": [],
   "source": [
    "def generate_h_one_body(n, W, alpha, beta, capacity):\n",
    "    ele1 = QubitOperator()\n",
    "    for i in range(n):\n",
    "            ele1 += QubitOperator(f'Z{i}',-W[i]*(alpha/2 - beta*capacity))\n",
    "    for i in range(n):\n",
    "        for j in range(n):\n",
    "            ele1 += QubitOperator(f'Z{i}',-1/2*beta*W[i]*W[j])\n",
    "    return ele1\n",
    "\n",
    "def generate_h_two_body(n, W, beta):\n",
    "    ele1 = QubitOperator()\n",
    "    h_two_body = QubitOperator()\n",
    "    for i in range(n):\n",
    "        for j in range(n):\n",
    "            if i < j:\n",
    "                ele1 += QubitOperator(f'Z{i} Z{j}',W[i]*W[j]*beta/2)\n",
    "    return ele1\n",
    "\n",
    "def generate_h_mixer(n):\n",
    "    h_mixer = QubitOperator()\n",
    "    for i in range(n):\n",
    "        h_mixer += QubitOperator(f'X{i}')\n",
    "    return h_mixer"
   ]
  },
  {
   "cell_type": "code",
   "execution_count": 7,
   "id": "a9c18bb9-5a39-4f14-98d2-9df6bba50f8e",
   "metadata": {
    "tags": []
   },
   "outputs": [],
   "source": [
    "# Function of generating all possible solution in one bin\n",
    "def find_combinations(elements, target_sum):\n",
    "    result = []\n",
    "    # Enumerate the elements to keep track of their indices\n",
    "    enumerated_elements = list(enumerate(elements))\n",
    "    for r in range(1, len(elements) + 1):\n",
    "        for combo in combinations(enumerated_elements, r):\n",
    "            # Calculate the sum of the current combination\n",
    "            combo_sum = sum(ele[1] for ele in combo)\n",
    "            if combo_sum <= target_sum:\n",
    "                # Store the indices of the elements in the combination\n",
    "                result.append([ele[0] for ele in combo])\n",
    "    return result\n",
    "\n",
    "\n",
    "# Function of calculating the minimum positive difference of weights\n",
    "def min_positive_difference(lst):\n",
    "    # Sort the list in ascending order\n",
    "    sorted_lst = sorted(lst)\n",
    "    \n",
    "    # Initialize min_diff to a large value\n",
    "    min_diff = float('inf')\n",
    "\n",
    "    # Iterate through the sorted list to find the minimum positive difference\n",
    "    for i in range(len(sorted_lst) - 1):\n",
    "        diff = sorted_lst[i + 1] - sorted_lst[i]\n",
    "        if 0 < diff < min_diff:\n",
    "            min_diff = diff\n",
    "\n",
    "    return min_diff if min_diff != float('inf') else None"
   ]
  },
  {
   "cell_type": "markdown",
   "id": "9a748d69-4c24-466c-a966-48561bbd3ca2",
   "metadata": {},
   "source": [
    "### check the minimum number of bin"
   ]
  },
  {
   "cell_type": "code",
   "execution_count": 8,
   "id": "649dd143-7261-4109-8258-b78070864f0b",
   "metadata": {
    "tags": []
   },
   "outputs": [],
   "source": [
    "def find_min_number(lists, target):\n",
    "    opti_solu = 0\n",
    "    for n in tqdm(range(n_items)):\n",
    "        nested_list = list(combinations(lists,n))\n",
    "        for sublist in nested_list:\n",
    "            l = []\n",
    "            for i in sublist:\n",
    "                l+=i\n",
    "                l = sorted(l)\n",
    "                if l==target:\n",
    "                    opti_solu += 1\n",
    "        if opti_solu != 0:\n",
    "            return n, opti_solu\n",
    "            break\n",
    "    return 999, 999"
   ]
  },
  {
   "cell_type": "markdown",
   "id": "924a1c5d-9255-4282-827f-d32280822c02",
   "metadata": {},
   "source": [
    "### define the traing process, including optimizer, iteration"
   ]
  },
  {
   "cell_type": "code",
   "execution_count": 9,
   "id": "f81a3ca4-91f4-44b1-96f8-e8f12f852cf0",
   "metadata": {},
   "outputs": [],
   "source": [
    "def Quantum_cd_mixer(h_m, ci, n_layer, n_items):\n",
    "       \n",
    "    u_m = 0\n",
    "    index=0\n",
    "    for i in h_m:\n",
    "        u_m += decompose_single_term_time_evolution(i, ParameterResolver(f'c{index}'))\n",
    "        index=index+1\n",
    "\n",
    "    p = n_layer\n",
    "    prep_circ = UN(H, n_items)\n",
    "    ansatz_template =   u_m + ci #u_p +\n",
    "    ansatz = Circuit() + prep_circ\n",
    "\n",
    "    for i in range(p):\n",
    "        ansatz += add_suffix(ansatz_template, str(i)) + BarrierGate()\n",
    "        \n",
    "    return ansatz\n",
    "\n",
    "def Quantum_cd_QAOA(h_m, h_p, ci, n_layer, n_items):\n",
    "       \n",
    "    u_m = 0\n",
    "    index=0\n",
    "    for i in h_m:\n",
    "        u_m += decompose_single_term_time_evolution(i, ParameterResolver(f'b{index}'))\n",
    "        index=index+1\n",
    "        \n",
    "    u_p = 0\n",
    "    index=0\n",
    "    for i in h_p:\n",
    "        u_p += decompose_single_term_time_evolution(i, ParameterResolver(f'a{index}'))\n",
    "        index=index+1\n",
    "\n",
    "    p = n_layer\n",
    "    prep_circ = UN(H, n_items)\n",
    "    ansatz_template =   u_m + ci + u_p\n",
    "    ansatz = Circuit() + prep_circ\n",
    "\n",
    "    for i in range(p):\n",
    "        ansatz += add_suffix(ansatz_template, str(i)) + BarrierGate()\n",
    "        \n",
    "    return ansatz\n",
    "\n",
    "def Quantum_QAOA_Circuits(h_m, h_p, n_layer, n_items):\n",
    "    \n",
    "            \n",
    "    u_m = 0\n",
    "    index=0\n",
    "    for i in h_m:\n",
    "        u_m += decompose_single_term_time_evolution(i, ParameterResolver(f'b{index}'))\n",
    "        index=index+1\n",
    "\n",
    "    u_p = 0\n",
    "    index=0\n",
    "    for i in h_p:\n",
    "        u_p += decompose_single_term_time_evolution(i, ParameterResolver(f'a{index}'))\n",
    "        index=index+1\n",
    "\n",
    "\n",
    "    p = n_layer\n",
    "    prep_circ = UN(H, n_items)\n",
    "    ansatz_template =   u_p + u_m \n",
    "    ansatz = Circuit() + prep_circ\n",
    "\n",
    "    for i in range(p):\n",
    "        ansatz += add_suffix(ansatz_template, str(i)) + BarrierGate()\n",
    "        \n",
    "    return ansatz"
   ]
  },
  {
   "cell_type": "code",
   "execution_count": 10,
   "id": "5c2eb893-5be9-42cf-94db-d4ba94f390c6",
   "metadata": {},
   "outputs": [],
   "source": [
    "def data_analyze(n_items, solution_set, W, Capa, target_solu):\n",
    "    \n",
    "    # Extracting keys with values greater than 100\n",
    "    data = [key for sub_dict in solution_set for key, value in sub_dict.items()]\n",
    "    # Remove the duplicate keys\n",
    "    result_list = list(set(data))\n",
    "    # Calculate the weight sum for each binary string\n",
    "    weight_sums = [sum(W[i] for i in range(len(result_list_sub)) if result_list_sub[i] == '1') for result_list_sub in result_list]\n",
    "    # Combine the binary strings and their corresponding weight sums\n",
    "    combined_data = list(zip(result_list, weight_sums))\n",
    "    #print(combined_data)\n",
    "    # Filter out the empty lists\n",
    "    filtered_empty = [(binary_string, value) for binary_string, value in combined_data if value != 0]\n",
    "    #print(filtered_empty)\n",
    "    # Filter out the data whose weight sum is bigger than Capacity\n",
    "    filtered_data = [(binary_string, weight_sum) for binary_string, weight_sum in filtered_empty if weight_sum <= Capa]\n",
    "    # Sort the combined data by weight sum in descending order\n",
    "    sorted_data = sorted(filtered_data, key=lambda x: x[1], reverse=True)\n",
    "    # Read the feasible solutions\n",
    "    sorted_binary_strings = [data[0] for data in sorted_data] \n",
    "    \n",
    "    ar = len(sorted_binary_strings)/len(target_solu)\n",
    "    sq = len(sorted_binary_strings)/len(filtered_empty)\n",
    "\n",
    "    return  sorted_binary_strings, ar, sq"
   ]
  },
  {
   "cell_type": "code",
   "execution_count": 11,
   "id": "491a1c55-6755-4673-ba53-1372ab9f9787",
   "metadata": {},
   "outputs": [],
   "source": [
    "dk = 2.5\n",
    "#ite = 100\n",
    "n_layer = 1\n",
    "\n",
    "#dk_list = [1, 1.5, 2, 2.5, 3, 3.5, 4]\n",
    "iteration_list = [100]\n",
    "#n_layer_list = [1, 2, 3]"
   ]
  },
  {
   "cell_type": "code",
   "execution_count": 12,
   "id": "b81aff86-b708-4be3-a73b-ea858aa28d70",
   "metadata": {},
   "outputs": [],
   "source": [
    "n_items = 10 #number of items\n",
    "capacity = 120 #maximum capacity of box\n",
    "\n",
    "# insert QAOA weight list to compare fairly\n",
    "W = [42, 44, 63, 41, 51, 45, 42, 69, 50, 40]\n",
    "\n",
    "#np.random.normal(loc=capacity/2, size=n)\n",
    "beta = np.min(W)/5\n",
    "delta_w = min_positive_difference(W)\n",
    "\n",
    "# generate exact solutions\n",
    "result_combinations = find_combinations(W, capacity)\n",
    "target_solu = list(result_combinations)\n",
    "target = list(range(n_items))"
   ]
  },
  {
   "cell_type": "code",
   "execution_count": 13,
   "id": "2313a7b2-89e7-47b6-8f34-cb1b372670a9",
   "metadata": {},
   "outputs": [
    {
     "name": "stderr",
     "output_type": "stream",
     "text": [
      "100%|██████████| 48/48 [00:17<00:00,  2.76it/s]\n",
      " 50%|█████     | 5/10 [00:01<00:01,  4.11it/s]\n"
     ]
    },
    {
     "name": "stdout",
     "output_type": "stream",
     "text": [
      "successful ratio is:  0.7962962962962963\n",
      "solution quality is:  0.7543859649122807\n",
      "minimum number of bin is 5\n"
     ]
    },
    {
     "name": "stderr",
     "output_type": "stream",
     "text": [
      "100%|██████████| 48/48 [00:18<00:00,  2.65it/s]\n",
      " 50%|█████     | 5/10 [00:01<00:01,  3.18it/s]\n"
     ]
    },
    {
     "name": "stdout",
     "output_type": "stream",
     "text": [
      "successful ratio is:  0.8518518518518519\n",
      "solution quality is:  0.8846153846153846\n",
      "minimum number of bin is 5\n"
     ]
    },
    {
     "name": "stderr",
     "output_type": "stream",
     "text": [
      "100%|██████████| 48/48 [00:17<00:00,  2.78it/s]\n",
      " 50%|█████     | 5/10 [00:01<00:01,  3.65it/s]\n"
     ]
    },
    {
     "name": "stdout",
     "output_type": "stream",
     "text": [
      "successful ratio is:  0.8148148148148148\n",
      "solution quality is:  0.7857142857142857\n",
      "minimum number of bin is 5\n"
     ]
    },
    {
     "name": "stderr",
     "output_type": "stream",
     "text": [
      "100%|██████████| 48/48 [00:18<00:00,  2.64it/s]\n",
      " 50%|█████     | 5/10 [00:00<00:00,  5.13it/s]\n"
     ]
    },
    {
     "name": "stdout",
     "output_type": "stream",
     "text": [
      "successful ratio is:  0.7407407407407407\n",
      "solution quality is:  0.7407407407407407\n",
      "minimum number of bin is 5\n"
     ]
    },
    {
     "name": "stderr",
     "output_type": "stream",
     "text": [
      "100%|██████████| 48/48 [00:17<00:00,  2.67it/s]\n",
      " 50%|█████     | 5/10 [00:01<00:01,  4.57it/s]"
     ]
    },
    {
     "name": "stdout",
     "output_type": "stream",
     "text": [
      "successful ratio is:  0.7777777777777778\n",
      "solution quality is:  0.6774193548387096\n",
      "minimum number of bin is 5\n"
     ]
    },
    {
     "name": "stderr",
     "output_type": "stream",
     "text": [
      "\n"
     ]
    }
   ],
   "source": [
    "# Record the current time before the first process\n",
    "\n",
    "batch = 5\n",
    "\n",
    "sr_set = np.zeros((len(iteration_list), batch))\n",
    "sq_set = np.zeros((len(iteration_list), batch))\n",
    "n_solu_set = np.zeros((len(iteration_list), batch))\n",
    "minbin_set = np.zeros((len(iteration_list), batch))\n",
    "#qu_time = np.zeros((len(iteration_list), batch))\n",
    "#cl_time = np.zeros((len(iteration_list), batch))\n",
    "\n",
    "for i_index, ite in enumerate(iteration_list):\n",
    "\n",
    "    for j in range(batch):\n",
    "\n",
    "        solution_set = []\n",
    "        # qu_time = []\n",
    "        # start_time_process1 = time.time()\n",
    "\n",
    "        for k in tqdm(np.arange(1,(capacity/delta_w),dk)):\n",
    "            alpha = 2*beta*(capacity-k*delta_w)\n",
    "            h_p = generate_h_two_body(n_items, W, beta) + generate_h_one_body(n_items, W, alpha, beta, capacity)\n",
    "            h_m = generate_h_mixer(n_items)\n",
    "            h_cd = commutator(h_m,h_p)#CD pool\n",
    "            cd = CD_operator(h_cd)\n",
    "            ci = CD_ansataz(cd)\n",
    "\n",
    "            circ = Quantum_QAOA_Circuits(h_m, h_p, n_layer, n_items)\n",
    "            #ground_energy.append(E0_energy(h_p))\n",
    "\n",
    "            ham = Hamiltonian(h_p)\n",
    "            sim = Simulator('mqvector', n_items)\n",
    "            grad_ops = sim.get_expectation_with_grad(ham, circ)\n",
    "\n",
    "            pr, result = train(ham, circ, ite)\n",
    "            #cost_fun.append(result)\n",
    "            res = state_sampling(circ, pr)\n",
    "            solution_set.append(res.data)\n",
    "        \n",
    "        \n",
    "        elements_fea, succ_ratio, solution_quality = data_analyze(n_items, solution_set, W[::-1], capacity, target_solu)\n",
    "        positions = [[n_items-1-i for i, char in enumerate(element) if char == '1'] for element in elements_fea]\n",
    "        minbin, n_solu = find_min_number(positions,target)\n",
    "        \n",
    "        minbin_set[i_index, j] = minbin\n",
    "        n_solu_set[i_index, j] = n_solu\n",
    "        sr_set[i_index, j] = succ_ratio\n",
    "        sq_set[i_index, j] = solution_quality\n",
    "\n",
    "        # Record the current time before the second process\n",
    "        # end_time_process2 = time.time()\n",
    "\n",
    "        # Calculate the elapsed time for the classic process\n",
    "        # elapsed_time_process2 = end_time_process2 - end_time_process1\n",
    "        # cl_time[i_index, j] = elapsed_time_process2\n",
    "\n",
    "        print('successful ratio is: ',succ_ratio)\n",
    "        print('solution quality is: ',solution_quality)\n",
    "        print('minimum number of bin is',minbin)\n",
    "        #print(\"Elapsed time for quantum process:\", np.mean(elapsed_time_process1), \"seconds\")\n",
    "        #print(\"Elapsed time for classic process:\", np.mean(elapsed_time_process2), \"seconds\")"
   ]
  },
  {
   "cell_type": "code",
   "execution_count": 11,
   "id": "08d2b689-e16e-4feb-8ab5-58720a2d8794",
   "metadata": {
    "tags": []
   },
   "outputs": [],
   "source": [
    "# Write data to a text file\n",
    "with open('qaoa-it20-90-W1.txt', 'w') as f:\n",
    "    f.write(\"dk, batch, sr_set, sq_set, minbin_set, n_solu\\n\")\n",
    "    for i_index, dk in enumerate(iteration_list):\n",
    "        for j in range(batch):\n",
    "            f.write(f\"{dk}, {j}, {sr_set[i_index, j]}, {sq_set[i_index, j]}, {minbin_set[i_index, j]}, {n_solu_set[i_index, j]}\\n\")"
   ]
  },
  {
   "cell_type": "code",
   "execution_count": 12,
   "id": "4fbe8274-fd32-4983-a80f-b48ebb46dafb",
   "metadata": {
    "tags": []
   },
   "outputs": [],
   "source": [
    "dk = 2.5\n",
    "#ite = 100\n",
    "n_layer = 1\n",
    "\n",
    "#dk_list = [1, 1.5, 2, 2.5, 3, 3.5, 4]\n",
    "iteration_list = [20, 40, 50, 60, 70, 80, 90]\n",
    "#n_layer_list = [1, 2, 3]"
   ]
  },
  {
   "cell_type": "code",
   "execution_count": 13,
   "id": "14f5884b-401f-4c8a-893d-17346ff366e6",
   "metadata": {
    "tags": []
   },
   "outputs": [],
   "source": [
    "n_items = 10 #number of items\n",
    "capacity = 120 #maximum capacity of box\n",
    "\n",
    "# insert QAOA weight list to compare fairly\n",
    "W = [24, 35, 34, 23, 29, 20, 52, 33, 47, 20]\n",
    "\n",
    "#np.random.normal(loc=capacity/2, size=n)\n",
    "beta = np.min(W)/5\n",
    "delta_w = min_positive_difference(W)\n",
    "\n",
    "# generate exact solutions\n",
    "result_combinations = find_combinations(W, capacity)\n",
    "target_solu = list(result_combinations)\n",
    "target = list(range(n_items))"
   ]
  },
  {
   "cell_type": "code",
   "execution_count": 14,
   "id": "30442ad9-1609-46b0-962e-e3ff343d77b8",
   "metadata": {
    "tags": []
   },
   "outputs": [
    {
     "name": "stderr",
     "output_type": "stream",
     "text": [
      "100%|██████████| 48/48 [00:09<00:00,  5.09it/s]\n",
      " 30%|███       | 3/10 [00:02<00:06,  1.10it/s]\n"
     ]
    },
    {
     "name": "stdout",
     "output_type": "stream",
     "text": [
      "successful ratio is:  1.0\n",
      "solution quality is:  0.4212328767123288\n",
      "minimum number of bin is 3\n"
     ]
    },
    {
     "name": "stderr",
     "output_type": "stream",
     "text": [
      "100%|██████████| 48/48 [00:08<00:00,  5.35it/s]\n",
      " 30%|███       | 3/10 [00:02<00:06,  1.10it/s]\n"
     ]
    },
    {
     "name": "stdout",
     "output_type": "stream",
     "text": [
      "successful ratio is:  1.0\n",
      "solution quality is:  0.44727272727272727\n",
      "minimum number of bin is 3\n"
     ]
    },
    {
     "name": "stderr",
     "output_type": "stream",
     "text": [
      "100%|██████████| 48/48 [00:09<00:00,  5.14it/s]\n",
      " 30%|███       | 3/10 [00:02<00:05,  1.17it/s]\n"
     ]
    },
    {
     "name": "stdout",
     "output_type": "stream",
     "text": [
      "successful ratio is:  1.0\n",
      "solution quality is:  0.4400715563506261\n",
      "minimum number of bin is 3\n"
     ]
    },
    {
     "name": "stderr",
     "output_type": "stream",
     "text": [
      "100%|██████████| 48/48 [00:08<00:00,  5.47it/s]\n",
      " 30%|███       | 3/10 [00:02<00:06,  1.15it/s]\n"
     ]
    },
    {
     "name": "stdout",
     "output_type": "stream",
     "text": [
      "successful ratio is:  1.0\n",
      "solution quality is:  0.4270833333333333\n",
      "minimum number of bin is 3\n"
     ]
    },
    {
     "name": "stderr",
     "output_type": "stream",
     "text": [
      "100%|██████████| 48/48 [00:08<00:00,  5.40it/s]\n",
      " 30%|███       | 3/10 [00:02<00:06,  1.04it/s]\n"
     ]
    },
    {
     "name": "stdout",
     "output_type": "stream",
     "text": [
      "successful ratio is:  1.0\n",
      "solution quality is:  0.41414141414141414\n",
      "minimum number of bin is 3\n"
     ]
    },
    {
     "name": "stderr",
     "output_type": "stream",
     "text": [
      "100%|██████████| 48/48 [00:12<00:00,  3.91it/s]\n",
      " 30%|███       | 3/10 [00:01<00:02,  2.50it/s]\n"
     ]
    },
    {
     "name": "stdout",
     "output_type": "stream",
     "text": [
      "successful ratio is:  0.7520325203252033\n",
      "solution quality is:  0.7459677419354839\n",
      "minimum number of bin is 3\n"
     ]
    },
    {
     "name": "stderr",
     "output_type": "stream",
     "text": [
      "100%|██████████| 48/48 [00:12<00:00,  3.94it/s]\n",
      " 30%|███       | 3/10 [00:02<00:04,  1.42it/s]\n"
     ]
    },
    {
     "name": "stdout",
     "output_type": "stream",
     "text": [
      "successful ratio is:  0.8048780487804879\n",
      "solution quality is:  0.75\n",
      "minimum number of bin is 3\n"
     ]
    },
    {
     "name": "stderr",
     "output_type": "stream",
     "text": [
      "100%|██████████| 48/48 [00:12<00:00,  3.86it/s]\n",
      " 30%|███       | 3/10 [00:01<00:03,  2.07it/s]\n"
     ]
    },
    {
     "name": "stdout",
     "output_type": "stream",
     "text": [
      "successful ratio is:  0.8170731707317073\n",
      "solution quality is:  0.7821011673151751\n",
      "minimum number of bin is 3\n"
     ]
    },
    {
     "name": "stderr",
     "output_type": "stream",
     "text": [
      "100%|██████████| 48/48 [00:12<00:00,  3.84it/s]\n",
      " 30%|███       | 3/10 [00:01<00:03,  1.79it/s]\n"
     ]
    },
    {
     "name": "stdout",
     "output_type": "stream",
     "text": [
      "successful ratio is:  0.8008130081300813\n",
      "solution quality is:  0.7975708502024291\n",
      "minimum number of bin is 3\n"
     ]
    },
    {
     "name": "stderr",
     "output_type": "stream",
     "text": [
      "100%|██████████| 48/48 [00:12<00:00,  3.91it/s]\n",
      " 30%|███       | 3/10 [00:01<00:03,  1.85it/s]\n"
     ]
    },
    {
     "name": "stdout",
     "output_type": "stream",
     "text": [
      "successful ratio is:  0.8373983739837398\n",
      "solution quality is:  0.7152777777777778\n",
      "minimum number of bin is 3\n"
     ]
    },
    {
     "name": "stderr",
     "output_type": "stream",
     "text": [
      "100%|██████████| 48/48 [00:14<00:00,  3.42it/s]\n",
      " 30%|███       | 3/10 [00:01<00:03,  2.12it/s]\n"
     ]
    },
    {
     "name": "stdout",
     "output_type": "stream",
     "text": [
      "successful ratio is:  0.7357723577235772\n",
      "solution quality is:  0.8578199052132701\n",
      "minimum number of bin is 3\n"
     ]
    },
    {
     "name": "stderr",
     "output_type": "stream",
     "text": [
      "100%|██████████| 48/48 [00:14<00:00,  3.43it/s]\n",
      " 30%|███       | 3/10 [00:01<00:02,  2.58it/s]\n"
     ]
    },
    {
     "name": "stdout",
     "output_type": "stream",
     "text": [
      "successful ratio is:  0.6829268292682927\n",
      "solution quality is:  0.865979381443299\n",
      "minimum number of bin is 3\n"
     ]
    },
    {
     "name": "stderr",
     "output_type": "stream",
     "text": [
      "100%|██████████| 48/48 [00:14<00:00,  3.41it/s]\n",
      " 30%|███       | 3/10 [00:01<00:02,  2.72it/s]\n"
     ]
    },
    {
     "name": "stdout",
     "output_type": "stream",
     "text": [
      "successful ratio is:  0.6097560975609756\n",
      "solution quality is:  0.8522727272727273\n",
      "minimum number of bin is 3\n"
     ]
    },
    {
     "name": "stderr",
     "output_type": "stream",
     "text": [
      "100%|██████████| 48/48 [00:14<00:00,  3.39it/s]\n",
      " 30%|███       | 3/10 [00:00<00:00,  7.87it/s]\n"
     ]
    },
    {
     "name": "stdout",
     "output_type": "stream",
     "text": [
      "successful ratio is:  0.6707317073170732\n",
      "solution quality is:  0.8333333333333334\n",
      "minimum number of bin is 3\n"
     ]
    },
    {
     "name": "stderr",
     "output_type": "stream",
     "text": [
      "100%|██████████| 48/48 [00:15<00:00,  3.18it/s]\n",
      " 30%|███       | 3/10 [00:00<00:00,  7.34it/s]\n"
     ]
    },
    {
     "name": "stdout",
     "output_type": "stream",
     "text": [
      "successful ratio is:  0.6829268292682927\n",
      "solution quality is:  0.8795811518324608\n",
      "minimum number of bin is 3\n"
     ]
    },
    {
     "name": "stderr",
     "output_type": "stream",
     "text": [
      "100%|██████████| 48/48 [00:15<00:00,  3.01it/s]\n",
      " 30%|███       | 3/10 [00:01<00:03,  2.29it/s]\n"
     ]
    },
    {
     "name": "stdout",
     "output_type": "stream",
     "text": [
      "successful ratio is:  0.6016260162601627\n",
      "solution quality is:  0.891566265060241\n",
      "minimum number of bin is 3\n"
     ]
    },
    {
     "name": "stderr",
     "output_type": "stream",
     "text": [
      "100%|██████████| 48/48 [00:15<00:00,  3.00it/s]\n",
      " 30%|███       | 3/10 [00:00<00:00, 12.09it/s]\n"
     ]
    },
    {
     "name": "stdout",
     "output_type": "stream",
     "text": [
      "successful ratio is:  0.5813008130081301\n",
      "solution quality is:  0.8313953488372093\n",
      "minimum number of bin is 3\n"
     ]
    },
    {
     "name": "stderr",
     "output_type": "stream",
     "text": [
      "100%|██████████| 48/48 [00:17<00:00,  2.67it/s]\n",
      " 30%|███       | 3/10 [00:00<00:00, 13.76it/s]\n"
     ]
    },
    {
     "name": "stdout",
     "output_type": "stream",
     "text": [
      "successful ratio is:  0.5121951219512195\n",
      "solution quality is:  0.8936170212765957\n",
      "minimum number of bin is 3\n"
     ]
    },
    {
     "name": "stderr",
     "output_type": "stream",
     "text": [
      "100%|██████████| 48/48 [00:16<00:00,  2.93it/s]\n",
      " 30%|███       | 3/10 [00:00<00:00, 12.53it/s]\n"
     ]
    },
    {
     "name": "stdout",
     "output_type": "stream",
     "text": [
      "successful ratio is:  0.5691056910569106\n",
      "solution quality is:  0.9090909090909091\n",
      "minimum number of bin is 3\n"
     ]
    },
    {
     "name": "stderr",
     "output_type": "stream",
     "text": [
      "100%|██████████| 48/48 [00:16<00:00,  2.96it/s]\n",
      " 30%|███       | 3/10 [00:01<00:02,  2.48it/s]\n"
     ]
    },
    {
     "name": "stdout",
     "output_type": "stream",
     "text": [
      "successful ratio is:  0.532520325203252\n",
      "solution quality is:  0.8506493506493507\n",
      "minimum number of bin is 3\n"
     ]
    },
    {
     "name": "stderr",
     "output_type": "stream",
     "text": [
      "100%|██████████| 48/48 [00:18<00:00,  2.66it/s]\n",
      " 30%|███       | 3/10 [00:00<00:00, 15.91it/s]\n"
     ]
    },
    {
     "name": "stdout",
     "output_type": "stream",
     "text": [
      "successful ratio is:  0.532520325203252\n",
      "solution quality is:  0.903448275862069\n",
      "minimum number of bin is 3\n"
     ]
    },
    {
     "name": "stderr",
     "output_type": "stream",
     "text": [
      "100%|██████████| 48/48 [00:17<00:00,  2.67it/s]\n",
      " 30%|███       | 3/10 [00:01<00:03,  2.14it/s]\n"
     ]
    },
    {
     "name": "stdout",
     "output_type": "stream",
     "text": [
      "successful ratio is:  0.5650406504065041\n",
      "solution quality is:  0.9266666666666666\n",
      "minimum number of bin is 3\n"
     ]
    },
    {
     "name": "stderr",
     "output_type": "stream",
     "text": [
      "100%|██████████| 48/48 [00:18<00:00,  2.66it/s]\n",
      " 30%|███       | 3/10 [00:00<00:00, 15.24it/s]\n"
     ]
    },
    {
     "name": "stdout",
     "output_type": "stream",
     "text": [
      "successful ratio is:  0.532520325203252\n",
      "solution quality is:  0.891156462585034\n",
      "minimum number of bin is 3\n"
     ]
    },
    {
     "name": "stderr",
     "output_type": "stream",
     "text": [
      "100%|██████████| 48/48 [00:17<00:00,  2.67it/s]\n",
      " 30%|███       | 3/10 [00:01<00:03,  2.02it/s]\n"
     ]
    },
    {
     "name": "stdout",
     "output_type": "stream",
     "text": [
      "successful ratio is:  0.5487804878048781\n",
      "solution quality is:  0.8490566037735849\n",
      "minimum number of bin is 3\n"
     ]
    },
    {
     "name": "stderr",
     "output_type": "stream",
     "text": [
      "100%|██████████| 48/48 [00:18<00:00,  2.60it/s]\n",
      " 30%|███       | 3/10 [00:00<00:00, 11.82it/s]\n"
     ]
    },
    {
     "name": "stdout",
     "output_type": "stream",
     "text": [
      "successful ratio is:  0.5853658536585366\n",
      "solution quality is:  0.8571428571428571\n",
      "minimum number of bin is 3\n"
     ]
    },
    {
     "name": "stderr",
     "output_type": "stream",
     "text": [
      "100%|██████████| 48/48 [00:19<00:00,  2.43it/s]\n",
      " 30%|███       | 3/10 [00:00<00:00, 18.05it/s]\n"
     ]
    },
    {
     "name": "stdout",
     "output_type": "stream",
     "text": [
      "successful ratio is:  0.508130081300813\n",
      "solution quality is:  0.8445945945945946\n",
      "minimum number of bin is 3\n"
     ]
    },
    {
     "name": "stderr",
     "output_type": "stream",
     "text": [
      "100%|██████████| 48/48 [00:19<00:00,  2.41it/s]\n",
      " 30%|███       | 3/10 [00:01<00:03,  1.91it/s]\n"
     ]
    },
    {
     "name": "stdout",
     "output_type": "stream",
     "text": [
      "successful ratio is:  0.6097560975609756\n",
      "solution quality is:  0.9146341463414634\n",
      "minimum number of bin is 3\n"
     ]
    },
    {
     "name": "stderr",
     "output_type": "stream",
     "text": [
      "100%|██████████| 48/48 [00:20<00:00,  2.37it/s]\n",
      " 30%|███       | 3/10 [00:00<00:00, 22.09it/s]\n"
     ]
    },
    {
     "name": "stdout",
     "output_type": "stream",
     "text": [
      "successful ratio is:  0.47560975609756095\n",
      "solution quality is:  0.8931297709923665\n",
      "minimum number of bin is 3\n"
     ]
    },
    {
     "name": "stderr",
     "output_type": "stream",
     "text": [
      "100%|██████████| 48/48 [00:20<00:00,  2.33it/s]\n",
      " 30%|███       | 3/10 [00:00<00:00, 23.36it/s]\n"
     ]
    },
    {
     "name": "stdout",
     "output_type": "stream",
     "text": [
      "successful ratio is:  0.4634146341463415\n",
      "solution quality is:  0.912\n",
      "minimum number of bin is 3\n"
     ]
    },
    {
     "name": "stderr",
     "output_type": "stream",
     "text": [
      "100%|██████████| 48/48 [00:21<00:00,  2.20it/s]\n",
      " 30%|███       | 3/10 [00:00<00:00, 18.80it/s]\n"
     ]
    },
    {
     "name": "stdout",
     "output_type": "stream",
     "text": [
      "successful ratio is:  0.5\n",
      "solution quality is:  0.8913043478260869\n",
      "minimum number of bin is 3\n"
     ]
    },
    {
     "name": "stderr",
     "output_type": "stream",
     "text": [
      "100%|██████████| 48/48 [00:22<00:00,  2.18it/s]\n",
      " 30%|███       | 3/10 [00:00<00:00, 11.38it/s]\n"
     ]
    },
    {
     "name": "stdout",
     "output_type": "stream",
     "text": [
      "successful ratio is:  0.5853658536585366\n",
      "solution quality is:  0.8470588235294118\n",
      "minimum number of bin is 3\n"
     ]
    },
    {
     "name": "stderr",
     "output_type": "stream",
     "text": [
      "100%|██████████| 48/48 [00:22<00:00,  2.18it/s]\n",
      " 30%|███       | 3/10 [00:01<00:04,  1.60it/s]\n"
     ]
    },
    {
     "name": "stdout",
     "output_type": "stream",
     "text": [
      "successful ratio is:  0.516260162601626\n",
      "solution quality is:  0.9621212121212122\n",
      "minimum number of bin is 3\n"
     ]
    },
    {
     "name": "stderr",
     "output_type": "stream",
     "text": [
      "100%|██████████| 48/48 [00:22<00:00,  2.13it/s]\n",
      " 30%|███       | 3/10 [00:00<00:00, 17.77it/s]\n"
     ]
    },
    {
     "name": "stdout",
     "output_type": "stream",
     "text": [
      "successful ratio is:  0.5121951219512195\n",
      "solution quality is:  0.8936170212765957\n",
      "minimum number of bin is 3\n"
     ]
    },
    {
     "name": "stderr",
     "output_type": "stream",
     "text": [
      "100%|██████████| 48/48 [00:22<00:00,  2.17it/s]\n",
      " 30%|███       | 3/10 [00:00<00:00, 17.90it/s]\n"
     ]
    },
    {
     "name": "stdout",
     "output_type": "stream",
     "text": [
      "successful ratio is:  0.5\n",
      "solution quality is:  0.8661971830985915\n",
      "minimum number of bin is 3\n"
     ]
    },
    {
     "name": "stderr",
     "output_type": "stream",
     "text": [
      "100%|██████████| 48/48 [00:22<00:00,  2.12it/s]\n",
      " 30%|███       | 3/10 [00:01<00:03,  1.76it/s]"
     ]
    },
    {
     "name": "stdout",
     "output_type": "stream",
     "text": [
      "successful ratio is:  0.5284552845528455\n",
      "solution quality is:  0.8552631578947368\n",
      "minimum number of bin is 3\n"
     ]
    },
    {
     "name": "stderr",
     "output_type": "stream",
     "text": [
      "\n"
     ]
    }
   ],
   "source": [
    "# Record the current time before the first process\n",
    "\n",
    "batch = 5\n",
    "dk = 2.5\n",
    "\n",
    "sr_set = np.zeros((len(iteration_list), batch))\n",
    "sq_set = np.zeros((len(iteration_list), batch))\n",
    "n_solu_set = np.zeros((len(iteration_list), batch))\n",
    "minbin_set = np.zeros((len(iteration_list), batch))\n",
    "\n",
    "\n",
    "\n",
    "for i_index, ite in enumerate(iteration_list):\n",
    "\n",
    "    for j in range(batch):\n",
    "\n",
    "        solution_set = []\n",
    "\n",
    "        for k in tqdm(np.arange(1,(capacity/delta_w),dk)):\n",
    "            alpha = 2*beta*(capacity-k*delta_w)\n",
    "            h_p = generate_h_two_body(n_items, W, beta) + generate_h_one_body(n_items, W, alpha, beta, capacity)\n",
    "            h_m = generate_h_mixer(n_items)\n",
    "            h_cd = commutator(h_m,h_p)#CD pool\n",
    "            cd = CD_operator(h_cd)\n",
    "            ci = CD_ansataz(cd)\n",
    "\n",
    "            circ = Quantum_QAOA_Circuits(h_m, h_p, n_layer, n_items)\n",
    "            #ground_energy.append(E0_energy(h_p))\n",
    "\n",
    "            ham = Hamiltonian(h_p)\n",
    "            sim = Simulator('mqvector', n_items)\n",
    "            grad_ops = sim.get_expectation_with_grad(ham, circ)\n",
    "\n",
    "            pr, result = train(ham, circ, ite)\n",
    "            res = state_sampling(circ, pr)\n",
    "            solution_set.append(res.data)\n",
    "        \n",
    "        \n",
    "        elements_fea, succ_ratio, solution_quality = data_analyze(n_items, solution_set, W[::-1], capacity, target_solu)\n",
    "        positions = [[n_items-1-i for i, char in enumerate(element) if char == '1'] for element in elements_fea]\n",
    "        minbin, n_solu = find_min_number(positions,target)\n",
    "        \n",
    "        minbin_set[i_index, j] = minbin\n",
    "        n_solu_set[i_index, j] = n_solu\n",
    "        sr_set[i_index, j] = succ_ratio\n",
    "        sq_set[i_index, j] = solution_quality\n",
    "\n",
    "        # Record the current time before the second process\n",
    "        # end_time_process2 = time.time()\n",
    "\n",
    "        # Calculate the elapsed time for the classic process\n",
    "        # elapsed_time_process2 = end_time_process2 - end_time_process1\n",
    "        # cl_time[i_index, j] = elapsed_time_process2\n",
    "\n",
    "        print('successful ratio is: ',succ_ratio)\n",
    "        print('solution quality is: ',solution_quality)\n",
    "        print('minimum number of bin is',minbin)\n",
    "        #print(\"Elapsed time for quantum process:\", np.mean(elapsed_time_process1), \"seconds\")\n",
    "        #print(\"Elapsed time for classic process:\", np.mean(elapsed_time_process2), \"seconds\")"
   ]
  },
  {
   "cell_type": "code",
   "execution_count": 15,
   "id": "d0458f1f-e4b8-4913-8858-5760d6a47856",
   "metadata": {
    "tags": []
   },
   "outputs": [],
   "source": [
    "# Write data to a text file\n",
    "with open('qaoa-it20-90-W2.txt', 'w') as f:\n",
    "    f.write(\"dk, batch, sr_set, sq_set, minbin_set, n_solu\\n\")\n",
    "    for i_index, i in enumerate(iteration_list):\n",
    "        for j in range(batch):\n",
    "            f.write(f\"{i}, {j}, {sr_set[i_index, j]}, {sq_set[i_index, j]}, {minbin_set[i_index, j]}, {n_solu_set[i_index, j]}\\n\")\n"
   ]
  },
  {
   "cell_type": "code",
   "execution_count": null,
   "id": "ec452ea0-04e0-4caa-bc2c-3011a184cd25",
   "metadata": {},
   "outputs": [],
   "source": []
  },
  {
   "cell_type": "code",
   "execution_count": 15,
   "id": "01d907b5-8a69-4563-bd9c-f2bdaaf42cbd",
   "metadata": {
    "tags": []
   },
   "outputs": [],
   "source": [
    "dk = 4\n",
    "#ite = 100\n",
    "n_layer = 1\n",
    "\n",
    "#dk_list = [1, 1.5, 2, 2.5, 3, 3.5, 4]\n",
    "iteration_list = [100]\n",
    "#n_layer_list = [1, 2, 3]"
   ]
  },
  {
   "cell_type": "code",
   "execution_count": 16,
   "id": "cb52b56a-ba3d-47d4-b6d0-c90bae07a723",
   "metadata": {
    "tags": []
   },
   "outputs": [],
   "source": [
    "# insert QAOA weight list to compare fairly\n",
    "W = [28, 30, 31, 36, 46, 32, 49, 29, 33, 21]\n",
    "\n",
    "#np.random.normal(loc=capacity/2, size=n)\n",
    "beta = np.min(W)/5\n",
    "delta_w = min_positive_difference(W)\n",
    "\n",
    "# generate exact solutions\n",
    "result_combinations = find_combinations(W, capacity)\n",
    "target_solu = list(result_combinations)\n",
    "target = list(range(n_items))"
   ]
  },
  {
   "cell_type": "code",
   "execution_count": 18,
   "id": "511cec77-eba2-4681-b1b8-053cc3d3261d",
   "metadata": {
    "tags": []
   },
   "outputs": [
    {
     "name": "stderr",
     "output_type": "stream",
     "text": [
      "100%|██████████| 30/30 [00:10<00:00,  2.73it/s]\n",
      " 30%|███       | 3/10 [00:00<00:00, 112.94it/s]"
     ]
    },
    {
     "name": "stdout",
     "output_type": "stream",
     "text": [
      "successful ratio is:  0.34146341463414637\n",
      "solution quality is:  0.8433734939759037\n",
      "minimum number of bin is 3\n"
     ]
    },
    {
     "name": "stderr",
     "output_type": "stream",
     "text": [
      "\n"
     ]
    }
   ],
   "source": [
    "# Record the current time before the first process\n",
    "\n",
    "batch = 1\n",
    "dk = 4\n",
    "\n",
    "sr_set = np.zeros((len(iteration_list), batch))\n",
    "sq_set = np.zeros((len(iteration_list), batch))\n",
    "n_solu_set = np.zeros((len(iteration_list), batch))\n",
    "minbin_set = np.zeros((len(iteration_list), batch))\n",
    "best_pr_list = []\n",
    "\n",
    "\n",
    "for i_index, ite in enumerate(iteration_list):\n",
    "\n",
    "    for j in range(batch):\n",
    "\n",
    "        solution_set = []\n",
    "\n",
    "        for k in tqdm(np.arange(1,(capacity/delta_w),dk)):\n",
    "            alpha = 2*beta*(capacity-k*delta_w)\n",
    "            h_p = generate_h_two_body(n_items, W, beta) + generate_h_one_body(n_items, W, alpha, beta, capacity)\n",
    "            h_m = generate_h_mixer(n_items)\n",
    "            h_cd = commutator(h_m,h_p)#CD pool\n",
    "            cd = CD_operator(h_cd)\n",
    "            ci = CD_ansataz(cd)\n",
    "\n",
    "            circ = Quantum_QAOA_Circuits(h_m, h_p, n_layer, n_items)\n",
    "            #ground_energy.append(E0_energy(h_p))\n",
    "\n",
    "            ham = Hamiltonian(h_p)\n",
    "            sim = Simulator('mqvector', n_items)\n",
    "            grad_ops = sim.get_expectation_with_grad(ham, circ)\n",
    "\n",
    "            pr, result = train(ham, circ, ite)\n",
    "            res = state_sampling(circ, pr)\n",
    "            solution_set.append(res.data)\n",
    "            best_pr_list.append(pr)\n",
    "        \n",
    "        \n",
    "        elements_fea, succ_ratio, solution_quality = data_analyze(n_items, solution_set, W[::-1], capacity, target_solu)\n",
    "        positions = [[n_items-1-i for i, char in enumerate(element) if char == '1'] for element in elements_fea]\n",
    "        minbin, n_solu = find_min_number(positions,target)\n",
    "        \n",
    "        minbin_set[i_index, j] = minbin\n",
    "        n_solu_set[i_index, j] = n_solu\n",
    "        sr_set[i_index, j] = succ_ratio\n",
    "        sq_set[i_index, j] = solution_quality\n",
    "\n",
    "        # Record the current time before the second process\n",
    "        # end_time_process2 = time.time()\n",
    "\n",
    "        # Calculate the elapsed time for the classic process\n",
    "        # elapsed_time_process2 = end_time_process2 - end_time_process1\n",
    "        # cl_time[i_index, j] = elapsed_time_process2\n",
    "\n",
    "        print('successful ratio is: ',succ_ratio)\n",
    "        print('solution quality is: ',solution_quality)\n",
    "        print('minimum number of bin is',minbin)\n",
    "        #print(\"Elapsed time for quantum process:\", np.mean(elapsed_time_process1), \"seconds\")\n",
    "        #print(\"Elapsed time for classic process:\", np.mean(elapsed_time_process2), \"seconds\")"
   ]
  },
  {
   "cell_type": "code",
   "execution_count": 36,
   "id": "3b0ea29e-2687-43bb-af96-bffad0faaef4",
   "metadata": {
    "tags": []
   },
   "outputs": [
    {
     "data": {
      "text/plain": [
       "70"
      ]
     },
     "execution_count": 36,
     "metadata": {},
     "output_type": "execute_result"
    }
   ],
   "source": [
    "len(elements_fea)"
   ]
  },
  {
   "cell_type": "code",
   "execution_count": 23,
   "id": "84512510-5132-4d49-8982-da1054a7ce5a",
   "metadata": {
    "tags": []
   },
   "outputs": [],
   "source": [
    "# Save all values to a text file\n",
    "with open('best_pr_values_qaoa.txt', 'w') as file:\n",
    "    for d in best_pr_list:\n",
    "        for value in d.values():\n",
    "            file.write(f\"{value}\\n\")\n"
   ]
  },
  {
   "cell_type": "code",
   "execution_count": 19,
   "id": "692d39e8-14f6-419c-9651-7d260acabc96",
   "metadata": {
    "tags": []
   },
   "outputs": [],
   "source": [
    "# Write data to a text file\n",
    "with open('qaoa-it20-90-W3.txt', 'w') as f:\n",
    "    f.write(\"iteration, batch, sr_set, sq_set, minbin_set, n_solu\\n\")\n",
    "    for i_index, i in enumerate(iteration_list):\n",
    "        for j in range(batch):\n",
    "            f.write(f\"{i}, {j}, {sr_set[i_index, j]}, {sq_set[i_index, j]}, {minbin_set[i_index, j]}, {n_solu_set[i_index, j]}\\n\")\n"
   ]
  },
  {
   "cell_type": "code",
   "execution_count": 20,
   "id": "ce8e48eb-fbbd-4f45-b3db-967f8dbac290",
   "metadata": {
    "tags": []
   },
   "outputs": [],
   "source": [
    "dk = 2.5\n",
    "#ite = 100\n",
    "n_layer = 1\n",
    "\n",
    "#dk_list = [1, 1.5, 2, 2.5, 3, 3.5, 4]\n",
    "iteration_list = [20, 40, 50, 60, 70, 80, 90]\n",
    "#n_layer_list = [1, 2, 3]"
   ]
  },
  {
   "cell_type": "code",
   "execution_count": 21,
   "id": "8d1d50fb-c035-4a40-8065-b0306c0f5889",
   "metadata": {
    "tags": []
   },
   "outputs": [],
   "source": [
    "# insert QAOA weight list to compare fairly\n",
    "W = [41, 31, 30, 26, 21, 24, 31, 30, 42, 29]\n",
    "\n",
    "#np.random.normal(loc=capacity/2, size=n)\n",
    "beta = np.min(W)/5\n",
    "delta_w = min_positive_difference(W)\n",
    "\n",
    "# generate exact solutions\n",
    "result_combinations = find_combinations(W, capacity)\n",
    "target_solu = list(result_combinations)\n",
    "target = list(range(n_items))"
   ]
  },
  {
   "cell_type": "code",
   "execution_count": 22,
   "id": "db4f4a9c-88fc-45c0-b47b-6dd167a64ae1",
   "metadata": {
    "tags": []
   },
   "outputs": [
    {
     "name": "stderr",
     "output_type": "stream",
     "text": [
      "100%|██████████| 48/48 [00:12<00:00,  3.81it/s]\n",
      " 30%|███       | 3/10 [00:05<00:11,  1.70s/it]\n"
     ]
    },
    {
     "name": "stdout",
     "output_type": "stream",
     "text": [
      "successful ratio is:  0.9962264150943396\n",
      "solution quality is:  0.4183835182250396\n",
      "minimum number of bin is 3\n"
     ]
    },
    {
     "name": "stderr",
     "output_type": "stream",
     "text": [
      "100%|██████████| 48/48 [00:11<00:00,  4.01it/s]\n",
      " 30%|███       | 3/10 [00:06<00:14,  2.05s/it]\n"
     ]
    },
    {
     "name": "stdout",
     "output_type": "stream",
     "text": [
      "successful ratio is:  1.0\n",
      "solution quality is:  0.41930379746835444\n",
      "minimum number of bin is 3\n"
     ]
    },
    {
     "name": "stderr",
     "output_type": "stream",
     "text": [
      "100%|██████████| 48/48 [00:11<00:00,  4.29it/s]\n",
      " 30%|███       | 3/10 [00:04<00:10,  1.44s/it]\n"
     ]
    },
    {
     "name": "stdout",
     "output_type": "stream",
     "text": [
      "successful ratio is:  0.9924528301886792\n",
      "solution quality is:  0.42215088282504015\n",
      "minimum number of bin is 3\n"
     ]
    },
    {
     "name": "stderr",
     "output_type": "stream",
     "text": [
      "100%|██████████| 48/48 [00:11<00:00,  4.21it/s]\n",
      " 30%|███       | 3/10 [00:04<00:10,  1.51s/it]\n"
     ]
    },
    {
     "name": "stdout",
     "output_type": "stream",
     "text": [
      "successful ratio is:  1.0\n",
      "solution quality is:  0.43089430894308944\n",
      "minimum number of bin is 3\n"
     ]
    },
    {
     "name": "stderr",
     "output_type": "stream",
     "text": [
      "100%|██████████| 48/48 [00:11<00:00,  4.25it/s]\n",
      " 30%|███       | 3/10 [00:04<00:09,  1.42s/it]\n"
     ]
    },
    {
     "name": "stdout",
     "output_type": "stream",
     "text": [
      "successful ratio is:  1.0\n",
      "solution quality is:  0.42673107890499196\n",
      "minimum number of bin is 3\n"
     ]
    },
    {
     "name": "stderr",
     "output_type": "stream",
     "text": [
      "100%|██████████| 48/48 [00:16<00:00,  2.96it/s]\n",
      " 30%|███       | 3/10 [00:00<00:02,  3.25it/s]\n"
     ]
    },
    {
     "name": "stdout",
     "output_type": "stream",
     "text": [
      "successful ratio is:  0.8264150943396227\n",
      "solution quality is:  0.7180327868852459\n",
      "minimum number of bin is 3\n"
     ]
    },
    {
     "name": "stderr",
     "output_type": "stream",
     "text": [
      "100%|██████████| 48/48 [00:15<00:00,  3.01it/s]\n",
      " 30%|███       | 3/10 [00:03<00:07,  1.12s/it]\n"
     ]
    },
    {
     "name": "stdout",
     "output_type": "stream",
     "text": [
      "successful ratio is:  0.7509433962264151\n",
      "solution quality is:  0.737037037037037\n",
      "minimum number of bin is 3\n"
     ]
    },
    {
     "name": "stderr",
     "output_type": "stream",
     "text": [
      "100%|██████████| 48/48 [00:15<00:00,  3.00it/s]\n",
      " 30%|███       | 3/10 [00:03<00:07,  1.12s/it]\n"
     ]
    },
    {
     "name": "stdout",
     "output_type": "stream",
     "text": [
      "successful ratio is:  0.7735849056603774\n",
      "solution quality is:  0.7509157509157509\n",
      "minimum number of bin is 3\n"
     ]
    },
    {
     "name": "stderr",
     "output_type": "stream",
     "text": [
      "100%|██████████| 48/48 [00:16<00:00,  2.97it/s]\n",
      " 30%|███       | 3/10 [00:00<00:01,  4.34it/s]\n"
     ]
    },
    {
     "name": "stdout",
     "output_type": "stream",
     "text": [
      "successful ratio is:  0.7471698113207547\n",
      "solution quality is:  0.7443609022556391\n",
      "minimum number of bin is 3\n"
     ]
    },
    {
     "name": "stderr",
     "output_type": "stream",
     "text": [
      "100%|██████████| 48/48 [00:16<00:00,  2.98it/s]\n",
      " 30%|███       | 3/10 [00:00<00:01,  5.39it/s]\n"
     ]
    },
    {
     "name": "stdout",
     "output_type": "stream",
     "text": [
      "successful ratio is:  0.6981132075471698\n",
      "solution quality is:  0.7283464566929134\n",
      "minimum number of bin is 3\n"
     ]
    },
    {
     "name": "stderr",
     "output_type": "stream",
     "text": [
      "100%|██████████| 48/48 [00:23<00:00,  2.02it/s]\n",
      " 30%|███       | 3/10 [00:00<00:01,  5.96it/s]\n"
     ]
    },
    {
     "name": "stdout",
     "output_type": "stream",
     "text": [
      "successful ratio is:  0.6792452830188679\n",
      "solution quality is:  0.8372093023255814\n",
      "minimum number of bin is 3\n"
     ]
    },
    {
     "name": "stderr",
     "output_type": "stream",
     "text": [
      "100%|██████████| 48/48 [00:18<00:00,  2.65it/s]\n",
      " 30%|███       | 3/10 [00:00<00:00,  7.33it/s]\n"
     ]
    },
    {
     "name": "stdout",
     "output_type": "stream",
     "text": [
      "successful ratio is:  0.6339622641509434\n",
      "solution quality is:  0.8115942028985508\n",
      "minimum number of bin is 3\n"
     ]
    },
    {
     "name": "stderr",
     "output_type": "stream",
     "text": [
      "100%|██████████| 48/48 [00:18<00:00,  2.62it/s]\n",
      " 30%|███       | 3/10 [00:03<00:07,  1.04s/it]\n"
     ]
    },
    {
     "name": "stdout",
     "output_type": "stream",
     "text": [
      "successful ratio is:  0.630188679245283\n",
      "solution quality is:  0.7877358490566038\n",
      "minimum number of bin is 3\n"
     ]
    },
    {
     "name": "stderr",
     "output_type": "stream",
     "text": [
      "100%|██████████| 48/48 [00:19<00:00,  2.51it/s]\n",
      " 30%|███       | 3/10 [00:00<00:00,  8.41it/s]\n"
     ]
    },
    {
     "name": "stdout",
     "output_type": "stream",
     "text": [
      "successful ratio is:  0.6113207547169811\n",
      "solution quality is:  0.7570093457943925\n",
      "minimum number of bin is 3\n"
     ]
    },
    {
     "name": "stderr",
     "output_type": "stream",
     "text": [
      "100%|██████████| 48/48 [00:18<00:00,  2.63it/s]\n",
      " 30%|███       | 3/10 [00:00<00:00,  7.80it/s]\n"
     ]
    },
    {
     "name": "stdout",
     "output_type": "stream",
     "text": [
      "successful ratio is:  0.6150943396226415\n",
      "solution quality is:  0.7912621359223301\n",
      "minimum number of bin is 3\n"
     ]
    },
    {
     "name": "stderr",
     "output_type": "stream",
     "text": [
      "100%|██████████| 48/48 [00:19<00:00,  2.41it/s]\n",
      " 30%|███       | 3/10 [00:03<00:07,  1.11s/it]\n"
     ]
    },
    {
     "name": "stdout",
     "output_type": "stream",
     "text": [
      "successful ratio is:  0.6452830188679245\n",
      "solution quality is:  0.8860103626943006\n",
      "minimum number of bin is 3\n"
     ]
    },
    {
     "name": "stderr",
     "output_type": "stream",
     "text": [
      "100%|██████████| 48/48 [00:20<00:00,  2.30it/s]\n",
      " 30%|███       | 3/10 [00:00<00:00,  8.20it/s]\n"
     ]
    },
    {
     "name": "stdout",
     "output_type": "stream",
     "text": [
      "successful ratio is:  0.6113207547169811\n",
      "solution quality is:  0.8393782383419689\n",
      "minimum number of bin is 3\n"
     ]
    },
    {
     "name": "stderr",
     "output_type": "stream",
     "text": [
      "100%|██████████| 48/48 [00:20<00:00,  2.34it/s]\n",
      " 30%|███       | 3/10 [00:00<00:00,  8.93it/s]\n"
     ]
    },
    {
     "name": "stdout",
     "output_type": "stream",
     "text": [
      "successful ratio is:  0.5886792452830188\n",
      "solution quality is:  0.8432432432432433\n",
      "minimum number of bin is 3\n"
     ]
    },
    {
     "name": "stderr",
     "output_type": "stream",
     "text": [
      "100%|██████████| 48/48 [00:20<00:00,  2.36it/s]\n",
      " 30%|███       | 3/10 [00:03<00:08,  1.25s/it]\n"
     ]
    },
    {
     "name": "stdout",
     "output_type": "stream",
     "text": [
      "successful ratio is:  0.5773584905660377\n",
      "solution quality is:  0.8742857142857143\n",
      "minimum number of bin is 3\n"
     ]
    },
    {
     "name": "stderr",
     "output_type": "stream",
     "text": [
      "100%|██████████| 48/48 [00:20<00:00,  2.30it/s]\n",
      " 30%|███       | 3/10 [00:00<00:00, 12.08it/s]\n"
     ]
    },
    {
     "name": "stdout",
     "output_type": "stream",
     "text": [
      "successful ratio is:  0.5320754716981132\n",
      "solution quality is:  0.8597560975609756\n",
      "minimum number of bin is 3\n"
     ]
    },
    {
     "name": "stderr",
     "output_type": "stream",
     "text": [
      "100%|██████████| 48/48 [00:22<00:00,  2.13it/s]\n",
      " 30%|███       | 3/10 [00:00<00:00, 12.51it/s]\n"
     ]
    },
    {
     "name": "stdout",
     "output_type": "stream",
     "text": [
      "successful ratio is:  0.5169811320754717\n",
      "solution quality is:  0.8011695906432749\n",
      "minimum number of bin is 3\n"
     ]
    },
    {
     "name": "stderr",
     "output_type": "stream",
     "text": [
      "100%|██████████| 48/48 [00:24<00:00,  1.98it/s]\n",
      " 30%|███       | 3/10 [00:00<00:00, 13.31it/s]\n"
     ]
    },
    {
     "name": "stdout",
     "output_type": "stream",
     "text": [
      "successful ratio is:  0.5169811320754717\n",
      "solution quality is:  0.8253012048192772\n",
      "minimum number of bin is 3\n"
     ]
    },
    {
     "name": "stderr",
     "output_type": "stream",
     "text": [
      "100%|██████████| 48/48 [00:27<00:00,  1.77it/s]\n",
      " 30%|███       | 3/10 [00:00<00:00, 12.53it/s]\n"
     ]
    },
    {
     "name": "stdout",
     "output_type": "stream",
     "text": [
      "successful ratio is:  0.5320754716981132\n",
      "solution quality is:  0.8867924528301887\n",
      "minimum number of bin is 3\n"
     ]
    },
    {
     "name": "stderr",
     "output_type": "stream",
     "text": [
      "100%|██████████| 48/48 [00:23<00:00,  2.02it/s]\n",
      " 30%|███       | 3/10 [00:03<00:08,  1.15s/it]\n"
     ]
    },
    {
     "name": "stdout",
     "output_type": "stream",
     "text": [
      "successful ratio is:  0.5283018867924528\n",
      "solution quality is:  0.89171974522293\n",
      "minimum number of bin is 3\n"
     ]
    },
    {
     "name": "stderr",
     "output_type": "stream",
     "text": [
      "100%|██████████| 48/48 [00:24<00:00,  1.95it/s]\n",
      " 30%|███       | 3/10 [00:00<00:00, 12.74it/s]\n"
     ]
    },
    {
     "name": "stdout",
     "output_type": "stream",
     "text": [
      "successful ratio is:  0.5283018867924528\n",
      "solution quality is:  0.7608695652173914\n",
      "minimum number of bin is 3\n"
     ]
    },
    {
     "name": "stderr",
     "output_type": "stream",
     "text": [
      "100%|██████████| 48/48 [00:25<00:00,  1.90it/s]\n",
      " 30%|███       | 3/10 [00:00<00:00, 11.70it/s]\n"
     ]
    },
    {
     "name": "stdout",
     "output_type": "stream",
     "text": [
      "successful ratio is:  0.5471698113207547\n",
      "solution quality is:  0.8787878787878788\n",
      "minimum number of bin is 3\n"
     ]
    },
    {
     "name": "stderr",
     "output_type": "stream",
     "text": [
      "100%|██████████| 48/48 [00:26<00:00,  1.82it/s]\n",
      " 30%|███       | 3/10 [00:00<00:00, 13.61it/s]\n"
     ]
    },
    {
     "name": "stdout",
     "output_type": "stream",
     "text": [
      "successful ratio is:  0.5169811320754717\n",
      "solution quality is:  0.9133333333333333\n",
      "minimum number of bin is 3\n"
     ]
    },
    {
     "name": "stderr",
     "output_type": "stream",
     "text": [
      "100%|██████████| 48/48 [00:25<00:00,  1.88it/s]\n",
      " 30%|███       | 3/10 [00:03<00:08,  1.16s/it]\n"
     ]
    },
    {
     "name": "stdout",
     "output_type": "stream",
     "text": [
      "successful ratio is:  0.5358490566037736\n",
      "solution quality is:  0.9161290322580645\n",
      "minimum number of bin is 3\n"
     ]
    },
    {
     "name": "stderr",
     "output_type": "stream",
     "text": [
      "100%|██████████| 48/48 [00:26<00:00,  1.78it/s]\n",
      " 30%|███       | 3/10 [00:00<00:00, 14.70it/s]\n"
     ]
    },
    {
     "name": "stdout",
     "output_type": "stream",
     "text": [
      "successful ratio is:  0.4981132075471698\n",
      "solution quality is:  0.7810650887573964\n",
      "minimum number of bin is 3\n"
     ]
    },
    {
     "name": "stderr",
     "output_type": "stream",
     "text": [
      "100%|██████████| 48/48 [00:25<00:00,  1.85it/s]\n",
      " 30%|███       | 3/10 [00:00<00:00, 11.78it/s]\n"
     ]
    },
    {
     "name": "stdout",
     "output_type": "stream",
     "text": [
      "successful ratio is:  0.539622641509434\n",
      "solution quality is:  0.8562874251497006\n",
      "minimum number of bin is 3\n"
     ]
    },
    {
     "name": "stderr",
     "output_type": "stream",
     "text": [
      "100%|██████████| 48/48 [00:28<00:00,  1.68it/s]\n",
      " 30%|███       | 3/10 [00:00<00:00, 13.43it/s]\n"
     ]
    },
    {
     "name": "stdout",
     "output_type": "stream",
     "text": [
      "successful ratio is:  0.5207547169811321\n",
      "solution quality is:  0.9019607843137255\n",
      "minimum number of bin is 3\n"
     ]
    },
    {
     "name": "stderr",
     "output_type": "stream",
     "text": [
      "100%|██████████| 48/48 [00:28<00:00,  1.67it/s]\n",
      " 30%|███       | 3/10 [00:00<00:00, 11.25it/s]\n"
     ]
    },
    {
     "name": "stdout",
     "output_type": "stream",
     "text": [
      "successful ratio is:  0.5471698113207547\n",
      "solution quality is:  0.8787878787878788\n",
      "minimum number of bin is 3\n"
     ]
    },
    {
     "name": "stderr",
     "output_type": "stream",
     "text": [
      "100%|██████████| 48/48 [00:28<00:00,  1.66it/s]\n",
      " 30%|███       | 3/10 [00:03<00:07,  1.11s/it]\n"
     ]
    },
    {
     "name": "stdout",
     "output_type": "stream",
     "text": [
      "successful ratio is:  0.5169811320754717\n",
      "solution quality is:  0.8726114649681529\n",
      "minimum number of bin is 3\n"
     ]
    },
    {
     "name": "stderr",
     "output_type": "stream",
     "text": [
      "100%|██████████| 48/48 [00:30<00:00,  1.60it/s]\n",
      " 30%|███       | 3/10 [00:00<00:00,  9.67it/s]\n"
     ]
    },
    {
     "name": "stdout",
     "output_type": "stream",
     "text": [
      "successful ratio is:  0.5773584905660377\n",
      "solution quality is:  0.8793103448275862\n",
      "minimum number of bin is 3\n"
     ]
    },
    {
     "name": "stderr",
     "output_type": "stream",
     "text": [
      "100%|██████████| 48/48 [00:29<00:00,  1.64it/s]\n",
      " 30%|███       | 3/10 [00:00<00:00, 15.25it/s]\n"
     ]
    },
    {
     "name": "stdout",
     "output_type": "stream",
     "text": [
      "successful ratio is:  0.49433962264150944\n",
      "solution quality is:  0.8618421052631579\n",
      "minimum number of bin is 3\n"
     ]
    }
   ],
   "source": [
    "# Record the current time before the first process\n",
    "\n",
    "batch = 5\n",
    "dk = 2.5\n",
    "\n",
    "sr_set = np.zeros((len(iteration_list), batch))\n",
    "sq_set = np.zeros((len(iteration_list), batch))\n",
    "n_solu_set = np.zeros((len(iteration_list), batch))\n",
    "minbin_set = np.zeros((len(iteration_list), batch))\n",
    "\n",
    "\n",
    "\n",
    "for i_index, ite in enumerate(iteration_list):\n",
    "\n",
    "    for j in range(batch):\n",
    "\n",
    "        solution_set = []\n",
    "\n",
    "        for k in tqdm(np.arange(1,(capacity/delta_w),dk)):\n",
    "            alpha = 2*beta*(capacity-k*delta_w)\n",
    "            h_p = generate_h_two_body(n_items, W, beta) + generate_h_one_body(n_items, W, alpha, beta, capacity)\n",
    "            h_m = generate_h_mixer(n_items)\n",
    "            h_cd = commutator(h_m,h_p)#CD pool\n",
    "            cd = CD_operator(h_cd)\n",
    "            ci = CD_ansataz(cd)\n",
    "\n",
    "            circ = Quantum_QAOA_Circuits(h_m, h_p, n_layer, n_items)\n",
    "            #ground_energy.append(E0_energy(h_p))\n",
    "\n",
    "            ham = Hamiltonian(h_p)\n",
    "            sim = Simulator('mqvector', n_items)\n",
    "            grad_ops = sim.get_expectation_with_grad(ham, circ)\n",
    "\n",
    "            pr, result = train(ham, circ, ite)\n",
    "            res = state_sampling(circ, pr)\n",
    "            solution_set.append(res.data)\n",
    "        \n",
    "        \n",
    "        elements_fea, succ_ratio, solution_quality = data_analyze(n_items, solution_set, W[::-1], capacity, target_solu)\n",
    "        positions = [[n_items-1-i for i, char in enumerate(element) if char == '1'] for element in elements_fea]\n",
    "        minbin, n_solu = find_min_number(positions,target)\n",
    "        \n",
    "        minbin_set[i_index, j] = minbin\n",
    "        n_solu_set[i_index, j] = n_solu\n",
    "        sr_set[i_index, j] = succ_ratio\n",
    "        sq_set[i_index, j] = solution_quality\n",
    "\n",
    "        # Record the current time before the second process\n",
    "        # end_time_process2 = time.time()\n",
    "\n",
    "        # Calculate the elapsed time for the classic process\n",
    "        # elapsed_time_process2 = end_time_process2 - end_time_process1\n",
    "        # cl_time[i_index, j] = elapsed_time_process2\n",
    "\n",
    "        print('successful ratio is: ',succ_ratio)\n",
    "        print('solution quality is: ',solution_quality)\n",
    "        print('minimum number of bin is',minbin)\n",
    "        #print(\"Elapsed time for quantum process:\", np.mean(elapsed_time_process1), \"seconds\")\n",
    "        #print(\"Elapsed time for classic process:\", np.mean(elapsed_time_process2), \"seconds\")"
   ]
  },
  {
   "cell_type": "code",
   "execution_count": 23,
   "id": "dce87f70-02bc-4b42-8bb0-d389299f4014",
   "metadata": {
    "tags": []
   },
   "outputs": [],
   "source": [
    "# Write data to a text file\n",
    "with open('qaoa-it20-90-W4.txt', 'w') as f:\n",
    "    f.write(\"iteration, batch, sr_set, sq_set, minbin_set, n_solu\\n\")\n",
    "    for i_index, i in enumerate(iteration_list):\n",
    "        for j in range(batch):\n",
    "            f.write(f\"{i}, {j}, {sr_set[i_index, j]}, {sq_set[i_index, j]}, {minbin_set[i_index, j]}, {n_solu_set[i_index, j]}\\n\")\n"
   ]
  },
  {
   "cell_type": "code",
   "execution_count": null,
   "id": "fe5400d6-4a31-4f39-a0ab-32a397841155",
   "metadata": {},
   "outputs": [],
   "source": []
  },
  {
   "cell_type": "code",
   "execution_count": 24,
   "id": "20c4ccfb-d3d6-47a8-9c02-b604f1dd17e7",
   "metadata": {
    "tags": []
   },
   "outputs": [],
   "source": [
    "dk = 2.5\n",
    "#ite = 100\n",
    "n_layer = 1\n",
    "\n",
    "#dk_list = [1, 1.5, 2, 2.5, 3, 3.5, 4]\n",
    "iteration_list = [20, 40, 50, 60, 70, 80, 90]\n",
    "#n_layer_list = [1, 2, 3]"
   ]
  },
  {
   "cell_type": "code",
   "execution_count": 25,
   "id": "7638a4c7-0672-43c9-87cd-3507a4f9f979",
   "metadata": {
    "tags": []
   },
   "outputs": [],
   "source": [
    "# insert QAOA weight list to compare fairly\n",
    "W = [35, 33, 29, 41, 31, 28, 35, 26, 26, 32]\n",
    "\n",
    "#np.random.normal(loc=capacity/2, size=n)\n",
    "beta = np.min(W)/5\n",
    "delta_w = min_positive_difference(W)\n",
    "\n",
    "# generate exact solutions\n",
    "result_combinations = find_combinations(W, capacity)\n",
    "target_solu = list(result_combinations)\n",
    "target = list(range(n_items))"
   ]
  },
  {
   "cell_type": "code",
   "execution_count": 26,
   "id": "4bf91842-a855-452e-8a71-3e7673229635",
   "metadata": {
    "tags": []
   },
   "outputs": [
    {
     "name": "stderr",
     "output_type": "stream",
     "text": [
      "100%|██████████| 48/48 [00:12<00:00,  3.86it/s]\n",
      " 30%|███       | 3/10 [00:04<00:10,  1.43s/it]\n"
     ]
    },
    {
     "name": "stdout",
     "output_type": "stream",
     "text": [
      "successful ratio is:  1.0\n",
      "solution quality is:  0.3501577287066246\n",
      "minimum number of bin is 3\n"
     ]
    },
    {
     "name": "stderr",
     "output_type": "stream",
     "text": [
      "100%|██████████| 48/48 [00:13<00:00,  3.62it/s]\n",
      " 30%|███       | 3/10 [00:00<00:02,  3.03it/s]\n"
     ]
    },
    {
     "name": "stdout",
     "output_type": "stream",
     "text": [
      "successful ratio is:  1.0\n",
      "solution quality is:  0.35406698564593303\n",
      "minimum number of bin is 3\n"
     ]
    },
    {
     "name": "stderr",
     "output_type": "stream",
     "text": [
      "100%|██████████| 48/48 [00:12<00:00,  3.83it/s]\n",
      " 30%|███       | 3/10 [00:04<00:09,  1.36s/it]\n"
     ]
    },
    {
     "name": "stdout",
     "output_type": "stream",
     "text": [
      "successful ratio is:  1.0\n",
      "solution quality is:  0.38879159369527144\n",
      "minimum number of bin is 3\n"
     ]
    },
    {
     "name": "stderr",
     "output_type": "stream",
     "text": [
      "100%|██████████| 48/48 [00:12<00:00,  3.71it/s]\n",
      " 30%|███       | 3/10 [00:00<00:02,  3.17it/s]\n"
     ]
    },
    {
     "name": "stdout",
     "output_type": "stream",
     "text": [
      "successful ratio is:  1.0\n",
      "solution quality is:  0.38608695652173913\n",
      "minimum number of bin is 3\n"
     ]
    },
    {
     "name": "stderr",
     "output_type": "stream",
     "text": [
      "100%|██████████| 48/48 [00:13<00:00,  3.66it/s]\n",
      " 30%|███       | 3/10 [00:04<00:10,  1.46s/it]\n"
     ]
    },
    {
     "name": "stdout",
     "output_type": "stream",
     "text": [
      "successful ratio is:  1.0\n",
      "solution quality is:  0.36333878887070375\n",
      "minimum number of bin is 3\n"
     ]
    },
    {
     "name": "stderr",
     "output_type": "stream",
     "text": [
      "100%|██████████| 48/48 [00:21<00:00,  2.27it/s]\n",
      " 30%|███       | 3/10 [00:00<00:01,  5.56it/s]\n"
     ]
    },
    {
     "name": "stdout",
     "output_type": "stream",
     "text": [
      "successful ratio is:  0.8108108108108109\n",
      "solution quality is:  0.6642066420664207\n",
      "minimum number of bin is 3\n"
     ]
    },
    {
     "name": "stderr",
     "output_type": "stream",
     "text": [
      "100%|██████████| 48/48 [00:18<00:00,  2.62it/s]\n",
      " 30%|███       | 3/10 [00:03<00:08,  1.18s/it]\n"
     ]
    },
    {
     "name": "stdout",
     "output_type": "stream",
     "text": [
      "successful ratio is:  0.8468468468468469\n",
      "solution quality is:  0.6245847176079734\n",
      "minimum number of bin is 3\n"
     ]
    },
    {
     "name": "stderr",
     "output_type": "stream",
     "text": [
      "100%|██████████| 48/48 [00:16<00:00,  2.97it/s]\n",
      " 30%|███       | 3/10 [00:00<00:01,  5.18it/s]\n"
     ]
    },
    {
     "name": "stdout",
     "output_type": "stream",
     "text": [
      "successful ratio is:  0.8558558558558559\n",
      "solution quality is:  0.76\n",
      "minimum number of bin is 3\n"
     ]
    },
    {
     "name": "stderr",
     "output_type": "stream",
     "text": [
      "100%|██████████| 48/48 [00:17<00:00,  2.81it/s]\n",
      " 30%|███       | 3/10 [00:00<00:01,  5.03it/s]\n"
     ]
    },
    {
     "name": "stdout",
     "output_type": "stream",
     "text": [
      "successful ratio is:  0.8603603603603603\n",
      "solution quality is:  0.6262295081967213\n",
      "minimum number of bin is 3\n"
     ]
    },
    {
     "name": "stderr",
     "output_type": "stream",
     "text": [
      "100%|██████████| 48/48 [00:17<00:00,  2.78it/s]\n",
      " 30%|███       | 3/10 [00:04<00:10,  1.56s/it]\n"
     ]
    },
    {
     "name": "stdout",
     "output_type": "stream",
     "text": [
      "successful ratio is:  0.7747747747747747\n",
      "solution quality is:  0.6539923954372624\n",
      "minimum number of bin is 3\n"
     ]
    },
    {
     "name": "stderr",
     "output_type": "stream",
     "text": [
      "100%|██████████| 48/48 [00:21<00:00,  2.28it/s]\n",
      " 30%|███       | 3/10 [00:00<00:00,  9.09it/s]\n"
     ]
    },
    {
     "name": "stdout",
     "output_type": "stream",
     "text": [
      "successful ratio is:  0.7072072072072072\n",
      "solution quality is:  0.8092783505154639\n",
      "minimum number of bin is 3\n"
     ]
    },
    {
     "name": "stderr",
     "output_type": "stream",
     "text": [
      "100%|██████████| 48/48 [00:20<00:00,  2.31it/s]\n",
      " 30%|███       | 3/10 [00:00<00:00,  9.46it/s]\n"
     ]
    },
    {
     "name": "stdout",
     "output_type": "stream",
     "text": [
      "successful ratio is:  0.6981981981981982\n",
      "solution quality is:  0.7560975609756098\n",
      "minimum number of bin is 3\n"
     ]
    },
    {
     "name": "stderr",
     "output_type": "stream",
     "text": [
      "100%|██████████| 48/48 [00:20<00:00,  2.35it/s]\n",
      " 30%|███       | 3/10 [00:00<00:00,  9.16it/s]\n"
     ]
    },
    {
     "name": "stdout",
     "output_type": "stream",
     "text": [
      "successful ratio is:  0.6981981981981982\n",
      "solution quality is:  0.7598039215686274\n",
      "minimum number of bin is 3\n"
     ]
    },
    {
     "name": "stderr",
     "output_type": "stream",
     "text": [
      "100%|██████████| 48/48 [00:19<00:00,  2.51it/s]\n",
      " 30%|███       | 3/10 [00:04<00:10,  1.51s/it]\n"
     ]
    },
    {
     "name": "stdout",
     "output_type": "stream",
     "text": [
      "successful ratio is:  0.6936936936936937\n",
      "solution quality is:  0.8020833333333334\n",
      "minimum number of bin is 3\n"
     ]
    },
    {
     "name": "stderr",
     "output_type": "stream",
     "text": [
      "100%|██████████| 48/48 [00:24<00:00,  1.96it/s]\n",
      " 30%|███       | 3/10 [00:00<00:00,  7.72it/s]\n"
     ]
    },
    {
     "name": "stdout",
     "output_type": "stream",
     "text": [
      "successful ratio is:  0.7477477477477478\n",
      "solution quality is:  0.751131221719457\n",
      "minimum number of bin is 3\n"
     ]
    },
    {
     "name": "stderr",
     "output_type": "stream",
     "text": [
      "100%|██████████| 48/48 [00:24<00:00,  1.99it/s]\n",
      " 30%|███       | 3/10 [00:00<00:00, 12.69it/s]\n"
     ]
    },
    {
     "name": "stdout",
     "output_type": "stream",
     "text": [
      "successful ratio is:  0.6306306306306306\n",
      "solution quality is:  0.8045977011494253\n",
      "minimum number of bin is 3\n"
     ]
    },
    {
     "name": "stderr",
     "output_type": "stream",
     "text": [
      "100%|██████████| 48/48 [00:25<00:00,  1.88it/s]\n",
      " 30%|███       | 3/10 [00:00<00:00, 12.48it/s]\n"
     ]
    },
    {
     "name": "stdout",
     "output_type": "stream",
     "text": [
      "successful ratio is:  0.6396396396396397\n",
      "solution quality is:  0.7845303867403315\n",
      "minimum number of bin is 3\n"
     ]
    },
    {
     "name": "stderr",
     "output_type": "stream",
     "text": [
      "100%|██████████| 48/48 [00:24<00:00,  1.95it/s]\n",
      " 30%|███       | 3/10 [00:00<00:00, 12.55it/s]\n"
     ]
    },
    {
     "name": "stdout",
     "output_type": "stream",
     "text": [
      "successful ratio is:  0.6396396396396397\n",
      "solution quality is:  0.7513227513227513\n",
      "minimum number of bin is 3\n"
     ]
    },
    {
     "name": "stderr",
     "output_type": "stream",
     "text": [
      "100%|██████████| 48/48 [00:25<00:00,  1.88it/s]\n",
      " 30%|███       | 3/10 [00:06<00:14,  2.02s/it]\n"
     ]
    },
    {
     "name": "stdout",
     "output_type": "stream",
     "text": [
      "successful ratio is:  0.6171171171171171\n",
      "solution quality is:  0.8353658536585366\n",
      "minimum number of bin is 3\n"
     ]
    },
    {
     "name": "stderr",
     "output_type": "stream",
     "text": [
      "100%|██████████| 48/48 [00:26<00:00,  1.78it/s]\n",
      " 30%|███       | 3/10 [00:00<00:00, 17.02it/s]\n"
     ]
    },
    {
     "name": "stdout",
     "output_type": "stream",
     "text": [
      "successful ratio is:  0.581081081081081\n",
      "solution quality is:  0.7914110429447853\n",
      "minimum number of bin is 3\n"
     ]
    },
    {
     "name": "stderr",
     "output_type": "stream",
     "text": [
      "100%|██████████| 48/48 [00:30<00:00,  1.57it/s]\n",
      " 30%|███       | 3/10 [00:00<00:00, 16.49it/s]\n"
     ]
    },
    {
     "name": "stdout",
     "output_type": "stream",
     "text": [
      "successful ratio is:  0.5855855855855856\n",
      "solution quality is:  0.8024691358024691\n",
      "minimum number of bin is 3\n"
     ]
    },
    {
     "name": "stderr",
     "output_type": "stream",
     "text": [
      "100%|██████████| 48/48 [00:30<00:00,  1.57it/s]\n",
      " 30%|███       | 3/10 [00:00<00:00, 19.88it/s]\n"
     ]
    },
    {
     "name": "stdout",
     "output_type": "stream",
     "text": [
      "successful ratio is:  0.5495495495495496\n",
      "solution quality is:  0.8840579710144928\n",
      "minimum number of bin is 3\n"
     ]
    },
    {
     "name": "stderr",
     "output_type": "stream",
     "text": [
      "100%|██████████| 48/48 [00:28<00:00,  1.70it/s]\n",
      " 30%|███       | 3/10 [00:00<00:00, 22.34it/s]\n"
     ]
    },
    {
     "name": "stdout",
     "output_type": "stream",
     "text": [
      "successful ratio is:  0.527027027027027\n",
      "solution quality is:  0.8125\n",
      "minimum number of bin is 3\n"
     ]
    },
    {
     "name": "stderr",
     "output_type": "stream",
     "text": [
      "100%|██████████| 48/48 [00:29<00:00,  1.63it/s]\n",
      " 30%|███       | 3/10 [00:00<00:00, 12.63it/s]\n"
     ]
    },
    {
     "name": "stdout",
     "output_type": "stream",
     "text": [
      "successful ratio is:  0.6171171171171171\n",
      "solution quality is:  0.8509316770186336\n",
      "minimum number of bin is 3\n"
     ]
    },
    {
     "name": "stderr",
     "output_type": "stream",
     "text": [
      "100%|██████████| 48/48 [00:27<00:00,  1.78it/s]\n",
      " 30%|███       | 3/10 [00:00<00:00, 13.75it/s]\n"
     ]
    },
    {
     "name": "stdout",
     "output_type": "stream",
     "text": [
      "successful ratio is:  0.6171171171171171\n",
      "solution quality is:  0.791907514450867\n",
      "minimum number of bin is 3\n"
     ]
    },
    {
     "name": "stderr",
     "output_type": "stream",
     "text": [
      "100%|██████████| 48/48 [00:29<00:00,  1.65it/s]\n",
      " 30%|███       | 3/10 [00:04<00:11,  1.60s/it]\n"
     ]
    },
    {
     "name": "stdout",
     "output_type": "stream",
     "text": [
      "successful ratio is:  0.545045045045045\n",
      "solution quality is:  0.852112676056338\n",
      "minimum number of bin is 3\n"
     ]
    },
    {
     "name": "stderr",
     "output_type": "stream",
     "text": [
      "100%|██████████| 48/48 [00:30<00:00,  1.57it/s]\n",
      " 30%|███       | 3/10 [00:00<00:00, 23.44it/s]\n"
     ]
    },
    {
     "name": "stdout",
     "output_type": "stream",
     "text": [
      "successful ratio is:  0.5135135135135135\n",
      "solution quality is:  0.7651006711409396\n",
      "minimum number of bin is 3\n"
     ]
    },
    {
     "name": "stderr",
     "output_type": "stream",
     "text": [
      "100%|██████████| 48/48 [00:32<00:00,  1.47it/s]\n",
      " 30%|███       | 3/10 [00:00<00:00, 17.23it/s]\n"
     ]
    },
    {
     "name": "stdout",
     "output_type": "stream",
     "text": [
      "successful ratio is:  0.5765765765765766\n",
      "solution quality is:  0.9014084507042254\n",
      "minimum number of bin is 3\n"
     ]
    },
    {
     "name": "stderr",
     "output_type": "stream",
     "text": [
      "100%|██████████| 48/48 [00:31<00:00,  1.51it/s]\n",
      " 30%|███       | 3/10 [00:00<00:00, 17.36it/s]\n"
     ]
    },
    {
     "name": "stdout",
     "output_type": "stream",
     "text": [
      "successful ratio is:  0.5585585585585585\n",
      "solution quality is:  0.8211920529801324\n",
      "minimum number of bin is 3\n"
     ]
    },
    {
     "name": "stderr",
     "output_type": "stream",
     "text": [
      "100%|██████████| 48/48 [00:30<00:00,  1.56it/s]\n",
      " 30%|███       | 3/10 [00:00<00:00, 15.80it/s]\n"
     ]
    },
    {
     "name": "stdout",
     "output_type": "stream",
     "text": [
      "successful ratio is:  0.5900900900900901\n",
      "solution quality is:  0.8451612903225807\n",
      "minimum number of bin is 3\n"
     ]
    },
    {
     "name": "stderr",
     "output_type": "stream",
     "text": [
      "100%|██████████| 48/48 [00:33<00:00,  1.45it/s]\n",
      " 30%|███       | 3/10 [00:00<00:00, 20.35it/s]\n"
     ]
    },
    {
     "name": "stdout",
     "output_type": "stream",
     "text": [
      "successful ratio is:  0.5405405405405406\n",
      "solution quality is:  0.8888888888888888\n",
      "minimum number of bin is 3\n"
     ]
    },
    {
     "name": "stderr",
     "output_type": "stream",
     "text": [
      "100%|██████████| 48/48 [00:33<00:00,  1.44it/s]\n",
      " 30%|███       | 3/10 [00:00<00:00, 25.56it/s]\n"
     ]
    },
    {
     "name": "stdout",
     "output_type": "stream",
     "text": [
      "successful ratio is:  0.5045045045045045\n",
      "solution quality is:  0.8888888888888888\n",
      "minimum number of bin is 3\n"
     ]
    },
    {
     "name": "stderr",
     "output_type": "stream",
     "text": [
      "100%|██████████| 48/48 [00:31<00:00,  1.54it/s]\n",
      " 30%|███       | 3/10 [00:00<00:00, 22.21it/s]\n"
     ]
    },
    {
     "name": "stdout",
     "output_type": "stream",
     "text": [
      "successful ratio is:  0.527027027027027\n",
      "solution quality is:  0.8297872340425532\n",
      "minimum number of bin is 3\n"
     ]
    },
    {
     "name": "stderr",
     "output_type": "stream",
     "text": [
      "100%|██████████| 48/48 [00:36<00:00,  1.32it/s]\n",
      " 30%|███       | 3/10 [00:00<00:00, 19.58it/s]\n"
     ]
    },
    {
     "name": "stdout",
     "output_type": "stream",
     "text": [
      "successful ratio is:  0.5495495495495496\n",
      "solution quality is:  0.7625\n",
      "minimum number of bin is 3\n"
     ]
    },
    {
     "name": "stderr",
     "output_type": "stream",
     "text": [
      "100%|██████████| 48/48 [00:30<00:00,  1.56it/s]\n",
      " 30%|███       | 3/10 [00:00<00:00, 16.20it/s]"
     ]
    },
    {
     "name": "stdout",
     "output_type": "stream",
     "text": [
      "successful ratio is:  0.5855855855855856\n",
      "solution quality is:  0.8441558441558441\n",
      "minimum number of bin is 3\n"
     ]
    },
    {
     "name": "stderr",
     "output_type": "stream",
     "text": [
      "\n"
     ]
    }
   ],
   "source": [
    "# Record the current time before the first process\n",
    "\n",
    "batch = 5\n",
    "dk = 2.5\n",
    "\n",
    "sr_set = np.zeros((len(iteration_list), batch))\n",
    "sq_set = np.zeros((len(iteration_list), batch))\n",
    "n_solu_set = np.zeros((len(iteration_list), batch))\n",
    "minbin_set = np.zeros((len(iteration_list), batch))\n",
    "\n",
    "\n",
    "\n",
    "for i_index, ite in enumerate(iteration_list):\n",
    "\n",
    "    for j in range(batch):\n",
    "\n",
    "        solution_set = []\n",
    "\n",
    "        for k in tqdm(np.arange(1,(capacity/delta_w),dk)):\n",
    "            alpha = 2*beta*(capacity-k*delta_w)\n",
    "            h_p = generate_h_two_body(n_items, W, beta) + generate_h_one_body(n_items, W, alpha, beta, capacity)\n",
    "            h_m = generate_h_mixer(n_items)\n",
    "            h_cd = commutator(h_m,h_p)#CD pool\n",
    "            cd = CD_operator(h_cd)\n",
    "            ci = CD_ansataz(cd)\n",
    "\n",
    "            circ = Quantum_QAOA_Circuits(h_m, h_p, n_layer, n_items)\n",
    "            #ground_energy.append(E0_energy(h_p))\n",
    "\n",
    "            ham = Hamiltonian(h_p)\n",
    "            sim = Simulator('mqvector', n_items)\n",
    "            grad_ops = sim.get_expectation_with_grad(ham, circ)\n",
    "\n",
    "            pr, result = train(ham, circ, ite)\n",
    "            res = state_sampling(circ, pr)\n",
    "            solution_set.append(res.data)\n",
    "        \n",
    "        \n",
    "        elements_fea, succ_ratio, solution_quality = data_analyze(n_items, solution_set, W[::-1], capacity, target_solu)\n",
    "        positions = [[n_items-1-i for i, char in enumerate(element) if char == '1'] for element in elements_fea]\n",
    "        minbin, n_solu = find_min_number(positions,target)\n",
    "        \n",
    "        minbin_set[i_index, j] = minbin\n",
    "        n_solu_set[i_index, j] = n_solu\n",
    "        sr_set[i_index, j] = succ_ratio\n",
    "        sq_set[i_index, j] = solution_quality\n",
    "\n",
    "        # Record the current time before the second process\n",
    "        # end_time_process2 = time.time()\n",
    "\n",
    "        # Calculate the elapsed time for the classic process\n",
    "        # elapsed_time_process2 = end_time_process2 - end_time_process1\n",
    "        # cl_time[i_index, j] = elapsed_time_process2\n",
    "\n",
    "        print('successful ratio is: ',succ_ratio)\n",
    "        print('solution quality is: ',solution_quality)\n",
    "        print('minimum number of bin is',minbin)\n",
    "        #print(\"Elapsed time for quantum process:\", np.mean(elapsed_time_process1), \"seconds\")\n",
    "        #print(\"Elapsed time for classic process:\", np.mean(elapsed_time_process2), \"seconds\")"
   ]
  },
  {
   "cell_type": "code",
   "execution_count": 27,
   "id": "2c864ff9-15f9-41c0-90c7-20264ef49a58",
   "metadata": {
    "tags": []
   },
   "outputs": [],
   "source": [
    "# Write data to a text file\n",
    "with open('qaoa-it20-90-W5.txt', 'w') as f:\n",
    "    f.write(\"iteration, batch, sr_set, sq_set, minbin_set, n_solu\\n\")\n",
    "    for i_index, i in enumerate(iteration_list):\n",
    "        for j in range(batch):\n",
    "            f.write(f\"{i}, {j}, {sr_set[i_index, j]}, {sq_set[i_index, j]}, {minbin_set[i_index, j]}, {n_solu_set[i_index, j]}\\n\")\n"
   ]
  },
  {
   "cell_type": "code",
   "execution_count": null,
   "id": "cfffb4b2-f9b7-4e68-9224-139fe79ba09f",
   "metadata": {},
   "outputs": [],
   "source": []
  },
  {
   "cell_type": "code",
   "execution_count": 28,
   "id": "47e4ed51-d7eb-446a-962c-6fea76490840",
   "metadata": {
    "tags": []
   },
   "outputs": [
    {
     "name": "stdout",
     "output_type": "stream",
     "text": [
      "====================================Circuit Summary====================================\n",
      "|Total number of gates  : 356.                                                        |\n",
      "|Parameter gates        : 65.                                                         |\n",
      "|with 65 parameters are :                                                             |\n",
      "|a0_0, a1_0, a2_0, a3_0, a4_0, a5_0, a6_0, a7_0, a8_0, a9_0..                        .|\n",
      "|Number qubit of circuit: 10                                                          |\n",
      "=======================================================================================\n"
     ]
    }
   ],
   "source": [
    "circ.summary()"
   ]
  },
  {
   "cell_type": "code",
   "execution_count": null,
   "id": "cf150888-adb2-4a2f-b862-eb8c258366bf",
   "metadata": {},
   "outputs": [],
   "source": []
  },
  {
   "cell_type": "code",
   "execution_count": null,
   "id": "994f8c72-1841-41e2-b130-a602f21dc820",
   "metadata": {
    "tags": []
   },
   "outputs": [],
   "source": []
  },
  {
   "cell_type": "code",
   "execution_count": 29,
   "id": "6b30675b-51e1-4ba4-aa0f-2f1caf7adf36",
   "metadata": {
    "tags": []
   },
   "outputs": [],
   "source": [
    "gs = E0_energy(h_p)"
   ]
  },
  {
   "cell_type": "code",
   "execution_count": 30,
   "id": "0a27f04b-14f9-4657-be71-281dbf45a68e",
   "metadata": {
    "tags": []
   },
   "outputs": [
    {
     "name": "stderr",
     "output_type": "stream",
     "text": [
      "/Users/qiuqiu/anaconda3/envs/mind-new/lib/python3.9/site-packages/matplotlib/axes/_axes.py:769: VisibleDeprecationWarning: Creating an ndarray from ragged nested sequences (which is a list-or-tuple of lists-or-tuples-or ndarrays with different lengths or shapes) is deprecated. If you meant to do this, you must specify 'dtype=object' when creating the ndarray.\n",
      "  scaley = (yy < ymin) or (yy > ymax)\n"
     ]
    },
    {
     "ename": "ValueError",
     "evalue": "The truth value of an array with more than one element is ambiguous. Use a.any() or a.all()",
     "output_type": "error",
     "traceback": [
      "\u001b[0;31m---------------------------------------------------------------------------\u001b[0m",
      "\u001b[0;31mValueError\u001b[0m                                Traceback (most recent call last)",
      "Cell \u001b[0;32mIn[30], line 4\u001b[0m\n\u001b[1;32m      2\u001b[0m plt\u001b[38;5;241m.\u001b[39mylabel(\u001b[38;5;124m'\u001b[39m\u001b[38;5;124mEnergy\u001b[39m\u001b[38;5;124m'\u001b[39m, fontsize\u001b[38;5;241m=\u001b[39m\u001b[38;5;241m12\u001b[39m)\n\u001b[1;32m      3\u001b[0m plt\u001b[38;5;241m.\u001b[39mtitle(\u001b[38;5;124m\"\u001b[39m\u001b[38;5;124m100 iteration\u001b[39m\u001b[38;5;124m\"\u001b[39m, fontsize\u001b[38;5;241m=\u001b[39m\u001b[38;5;241m12\u001b[39m)\n\u001b[0;32m----> 4\u001b[0m \u001b[43mplt\u001b[49m\u001b[38;5;241;43m.\u001b[39;49m\u001b[43maxhline\u001b[49m\u001b[43m(\u001b[49m\u001b[43my\u001b[49m\u001b[38;5;241;43m=\u001b[39;49m\u001b[43mgs\u001b[49m\u001b[43m,\u001b[49m\u001b[43m \u001b[49m\u001b[43mcolor\u001b[49m\u001b[38;5;241;43m=\u001b[39;49m\u001b[38;5;124;43m\"\u001b[39;49m\u001b[38;5;124;43mblack\u001b[39;49m\u001b[38;5;124;43m\"\u001b[39;49m\u001b[43m,\u001b[49m\u001b[43m \u001b[49m\u001b[43mlinestyle\u001b[49m\u001b[38;5;241;43m=\u001b[39;49m\u001b[38;5;124;43m\"\u001b[39;49m\u001b[38;5;124;43m--\u001b[39;49m\u001b[38;5;124;43m\"\u001b[39;49m\u001b[43m,\u001b[49m\u001b[43m \u001b[49m\u001b[43mlabel\u001b[49m\u001b[38;5;241;43m=\u001b[39;49m\u001b[38;5;124;43m\"\u001b[39;49m\u001b[38;5;124;43mTrue energy\u001b[39;49m\u001b[38;5;124;43m\"\u001b[39;49m\u001b[43m)\u001b[49m\n\u001b[1;32m      5\u001b[0m plt\u001b[38;5;241m.\u001b[39mplot(result)\n",
      "File \u001b[0;32m~/anaconda3/envs/mind-new/lib/python3.9/site-packages/matplotlib/pyplot.py:2401\u001b[0m, in \u001b[0;36maxhline\u001b[0;34m(y, xmin, xmax, **kwargs)\u001b[0m\n\u001b[1;32m   2399\u001b[0m \u001b[38;5;129m@_copy_docstring_and_deprecators\u001b[39m(Axes\u001b[38;5;241m.\u001b[39maxhline)\n\u001b[1;32m   2400\u001b[0m \u001b[38;5;28;01mdef\u001b[39;00m \u001b[38;5;21maxhline\u001b[39m(y\u001b[38;5;241m=\u001b[39m\u001b[38;5;241m0\u001b[39m, xmin\u001b[38;5;241m=\u001b[39m\u001b[38;5;241m0\u001b[39m, xmax\u001b[38;5;241m=\u001b[39m\u001b[38;5;241m1\u001b[39m, \u001b[38;5;241m*\u001b[39m\u001b[38;5;241m*\u001b[39mkwargs):\n\u001b[0;32m-> 2401\u001b[0m     \u001b[38;5;28;01mreturn\u001b[39;00m \u001b[43mgca\u001b[49m\u001b[43m(\u001b[49m\u001b[43m)\u001b[49m\u001b[38;5;241;43m.\u001b[39;49m\u001b[43maxhline\u001b[49m\u001b[43m(\u001b[49m\u001b[43my\u001b[49m\u001b[38;5;241;43m=\u001b[39;49m\u001b[43my\u001b[49m\u001b[43m,\u001b[49m\u001b[43m \u001b[49m\u001b[43mxmin\u001b[49m\u001b[38;5;241;43m=\u001b[39;49m\u001b[43mxmin\u001b[49m\u001b[43m,\u001b[49m\u001b[43m \u001b[49m\u001b[43mxmax\u001b[49m\u001b[38;5;241;43m=\u001b[39;49m\u001b[43mxmax\u001b[49m\u001b[43m,\u001b[49m\u001b[43m \u001b[49m\u001b[38;5;241;43m*\u001b[39;49m\u001b[38;5;241;43m*\u001b[39;49m\u001b[43mkwargs\u001b[49m\u001b[43m)\u001b[49m\n",
      "File \u001b[0;32m~/anaconda3/envs/mind-new/lib/python3.9/site-packages/matplotlib/axes/_axes.py:769\u001b[0m, in \u001b[0;36mAxes.axhline\u001b[0;34m(self, y, xmin, xmax, **kwargs)\u001b[0m\n\u001b[1;32m    767\u001b[0m \u001b[38;5;66;03m# Strip away the units for comparison with non-unitized bounds.\u001b[39;00m\n\u001b[1;32m    768\u001b[0m yy, \u001b[38;5;241m=\u001b[39m \u001b[38;5;28mself\u001b[39m\u001b[38;5;241m.\u001b[39m_process_unit_info([(\u001b[38;5;124m\"\u001b[39m\u001b[38;5;124my\u001b[39m\u001b[38;5;124m\"\u001b[39m, y)], kwargs)\n\u001b[0;32m--> 769\u001b[0m scaley \u001b[38;5;241m=\u001b[39m (\u001b[43myy\u001b[49m\u001b[43m \u001b[49m\u001b[38;5;241;43m<\u001b[39;49m\u001b[43m \u001b[49m\u001b[43mymin\u001b[49m) \u001b[38;5;129;01mor\u001b[39;00m (yy \u001b[38;5;241m>\u001b[39m ymax)\n\u001b[1;32m    771\u001b[0m trans \u001b[38;5;241m=\u001b[39m \u001b[38;5;28mself\u001b[39m\u001b[38;5;241m.\u001b[39mget_yaxis_transform(which\u001b[38;5;241m=\u001b[39m\u001b[38;5;124m'\u001b[39m\u001b[38;5;124mgrid\u001b[39m\u001b[38;5;124m'\u001b[39m)\n\u001b[1;32m    772\u001b[0m l \u001b[38;5;241m=\u001b[39m mlines\u001b[38;5;241m.\u001b[39mLine2D([xmin, xmax], [y, y], transform\u001b[38;5;241m=\u001b[39mtrans, \u001b[38;5;241m*\u001b[39m\u001b[38;5;241m*\u001b[39mkwargs)\n",
      "\u001b[0;31mValueError\u001b[0m: The truth value of an array with more than one element is ambiguous. Use a.any() or a.all()"
     ]
    },
    {
     "data": {
      "image/png": "[encoded data removed]",
      "text/plain": [
       "<Figure size 640x480 with 1 Axes>"
      ]
     },
     "metadata": {},
     "output_type": "display_data"
    }
   ],
   "source": [
    "plt.xlabel('iteration', fontsize=12)\n",
    "plt.ylabel('Energy', fontsize=12)\n",
    "plt.title(\"100 iteration\", fontsize=12)\n",
    "plt.axhline(y=gs, color=\"black\", linestyle=\"--\", label=\"True energy\")\n",
    "plt.plot(result)\n",
    "#plt.savefig('100-dc-p=1.png')"
   ]
  },
  {
   "cell_type": "code",
   "execution_count": null,
   "id": "acd4c2e0-b576-4a22-b495-64b1facf6ac4",
   "metadata": {
    "tags": []
   },
   "outputs": [],
   "source": []
  },
  {
   "cell_type": "code",
   "execution_count": null,
   "id": "7b6b6ff0-7638-406c-9121-74cde1ebe82f",
   "metadata": {},
   "outputs": [],
   "source": []
  }
 ],
 "metadata": {
  "kernelspec": {
   "display_name": "Python 3 (ipykernel)",
   "language": "python",
   "name": "python3"
  },
  "language_info": {
   "codemirror_mode": {
    "name": "ipython",
    "version": 3
   },
   "file_extension": ".py",
   "mimetype": "text/x-python",
   "name": "python",
   "nbconvert_exporter": "python",
   "pygments_lexer": "ipython3",
   "version": "3.11.0"
  }
 },
 "nbformat": 4,
 "nbformat_minor": 5
}
