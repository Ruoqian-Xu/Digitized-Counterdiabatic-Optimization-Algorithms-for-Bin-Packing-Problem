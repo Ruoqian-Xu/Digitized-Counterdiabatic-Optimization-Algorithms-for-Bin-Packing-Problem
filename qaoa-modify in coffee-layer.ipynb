{
 "cells": [
  {
   "cell_type": "code",
   "execution_count": 1,
   "id": "9c4a177a-c5ad-4ae6-9bbc-9c2aff86a23f",
   "metadata": {
    "tags": []
   },
   "outputs": [],
   "source": [
    "from mindquantum.core.circuit import Circuit, UN, add_suffix, apply, decompose_single_term_time_evolution\n",
    "from mindquantum.core.gates import H, Rzz, RX, Rzz,RZ, RY, Measure, BarrierGate\n",
    "from mindquantum.core.operators import Hamiltonian, QubitOperator\n",
    "from mindquantum.framework import MQAnsatzOnlyLayer\n",
    "from mindquantum.simulator import Simulator\n",
    "from mindquantum.core.operators import commutator\n",
    "import time\n",
    "from mindquantum.core.parameterresolver import ParameterResolver\n",
    "from mindquantum import *\n",
    "\n",
    "import mindspore.nn as nn\n",
    "from mindspore import Tensor\n",
    "import mindspore as ms\n",
    "ms.set_context(mode=ms.PYNATIVE_MODE, device_target=\"CPU\")\n",
    "\n",
    "import networkx as nx\n",
    "import numpy as np\n",
    "import matplotlib.pyplot as plt\n",
    "from scipy.optimize import minimize\n",
    "import matplotlib.pylab as pylab\n",
    "from tqdm import tqdm\n",
    "\n",
    "from itertools import combinations\n",
    "from collections import OrderedDict as ordict"
   ]
  },
  {
   "cell_type": "markdown",
   "id": "688a6eb6-dd8c-4bd0-a71a-5c38b9ba67e3",
   "metadata": {},
   "source": [
    "## Build quantum circuits"
   ]
  },
  {
   "cell_type": "code",
   "execution_count": 2,
   "id": "91704169-ae56-407f-8ac6-62f1ae6a6045",
   "metadata": {},
   "outputs": [],
   "source": [
    "def param2dict(keys, values):\n",
    "    # make the parameters and coresponding label to a dict\n",
    "    param_dict = {}\n",
    "    for (key, value) in zip(keys, values):\n",
    "        param_dict[key] = value\n",
    "    return param_dict\n",
    "\n",
    "def get_expectation_of_hamitonian(circ, ham, pr):\n",
    "    # calculate the expectation of hamitonian\n",
    "    sim = Simulator('mqvector', circ.n_qubits)\n",
    "    sim.apply_circuit(circ, pr)\n",
    "    result = sim.get_expectation(ham)\n",
    "        \n",
    "    return result.real\n",
    "\n",
    "def E0_energy(ham_operator):\n",
    "    \n",
    "    # 首先根据哈密顿量的算符将其转化为矩阵形式。\n",
    "    ham_matrix = ham_operator.matrix()\n",
    "    ham_matrix = ham_matrix.todense()\n",
    "\n",
    "    # calculate the eigenvalue and eigenvector\n",
    "    eigval, eigvec = np.linalg.eig(ham_matrix)\n",
    "\n",
    "    # ground energy\n",
    "    E0 = min(eigval).real\n",
    "    #print(eigval, eigvec)\n",
    "    \n",
    "    return E0\n",
    "\n",
    "def train(ham, ansatze, iteration):\n",
    "\n",
    "    # bulid the quantum circuit\n",
    "    \n",
    "    circ = ansatze                                         # 将初始化线路与ansatz线路组合成一个线路\n",
    "    sim = Simulator('mqvector', ansatze.n_qubits)  \n",
    "    #sim.set_qs(initial_ground_state)\n",
    "    \n",
    "    grad_ops = sim.get_expectation_with_grad(ham, circ)    # 获取计算变分量子线路的期望值和梯度的算子\n",
    "    net = MQAnsatzOnlyLayer(grad_ops)                             \n",
    "    opti = nn.Adam(net.trainable_params(), learning_rate=0.05)     \n",
    "    train_net = nn.TrainOneStepCell(net, opti)                    \n",
    "\n",
    "    result = []\n",
    "    #from tqdm import tqdm\n",
    "    for i in range(iteration):\n",
    "        train_net() \n",
    "        result.append(np.array(train_net()[0]))\n",
    "    pr = dict(zip(ansatze.params_name, net.weight.asnumpy())) # 获取线路参数\n",
    "        \n",
    "    return pr, result\n",
    "\n",
    "\n",
    "def state_sampling(ansatze, pr):\n",
    "    \n",
    "    shots = 1024\n",
    "\n",
    "    for i in range(ansatze.n_qubits):\n",
    "        ansatze += Measure().on(i)\n",
    "    \n",
    "\n",
    "    sim = Simulator('mqvector', ansatze.n_qubits)\n",
    "    #sim.set_qs(initial_ground_state)\n",
    "    res = sim.sampling(ansatze, pr, shots=shots)\n",
    "    \n",
    "    return res\n",
    "\n",
    "def CD_operator(CD):\n",
    "    \n",
    "    CD_term = []\n",
    "    for cd in CD.split():\n",
    "        CD_term.append(cd[1])\n",
    "    k = 0\n",
    "    out = ordict()\n",
    "    for cd in CD_term:\n",
    "        for key, term in cd.terms.items():\n",
    "            if len(key) == 2:\n",
    "                #print(len(key))\n",
    "                if key not in out:\n",
    "                    out[key] = ordict({f\"p{k}\": 1})\n",
    "                    k += 1\n",
    "    return out\n",
    "\n",
    "def CD_ansataz(out):\n",
    "    \"Transform a pauli ansatz to parameterized quantum circuit.\"\n",
    "\n",
    "    circuit = Circuit()\n",
    "    # circuit += inital_circuits(occupied, circuit_description)\n",
    "        \n",
    "    z = 0\n",
    "    for k, v in out.items():\n",
    "        index1 = (k[0][0], k[1][0])\n",
    "        index2 = (k[1][0], k[0][0])\n",
    "\n",
    "        pauli_operator = (str(k[0][1]), str(k[1][1]))\n",
    "        if pauli_operator == ('Z','Y'):\n",
    "            circuit += Ryz(f'{z}').on(index2)          \n",
    "            z+=1\n",
    "    # for k, v in out.items():\n",
    "    #     circuit += decompose_single_term_time_evolution(k, v)\n",
    "    for i in range(n_items):\n",
    "        circuit += RY(f'ry{i}').on(i)\n",
    "    \n",
    "    return circuit"
   ]
  },
  {
   "cell_type": "markdown",
   "id": "4e1114eb-6cc0-4b1c-af8a-475ce735c9f3",
   "metadata": {},
   "source": [
    "### The Hamitonian \n",
    "$H_p = \\sum_{i=1}^{n}(-\\frac{\\alpha}{2}+\\beta(C-\\frac{1}{2}\\sum_{i}^{n}\\omega_{i}))Z_{i}\\omega_{i} + \\sum_{i<j}\\frac{\\beta}{2}\\omega_{i}\\omega_{j}Z_{i}Z_{j}.$"
   ]
  },
  {
   "cell_type": "code",
   "execution_count": 3,
   "id": "11e47b90-ed3f-45df-8ebf-985f16056ded",
   "metadata": {},
   "outputs": [],
   "source": [
    "def generate_h_one_body(n, W, alpha, beta, capacity):\n",
    "    ele1 = QubitOperator()\n",
    "    for i in range(n):\n",
    "            ele1 += QubitOperator(f'Z{i}',-W[i]*(alpha/2 - beta*capacity))\n",
    "    for i in range(n):\n",
    "        for j in range(n):\n",
    "            ele1 += QubitOperator(f'Z{i}',-1/2*beta*W[i]*W[j])\n",
    "    return ele1\n",
    "\n",
    "def generate_h_two_body(n, W, beta):\n",
    "    ele1 = QubitOperator()\n",
    "    h_two_body = QubitOperator()\n",
    "    for i in range(n):\n",
    "        for j in range(n):\n",
    "            if i < j:\n",
    "                ele1 += QubitOperator(f'Z{i} Z{j}',W[i]*W[j]*beta/2)\n",
    "    return ele1\n",
    "\n",
    "def generate_h_mixer(n):\n",
    "    h_mixer = QubitOperator()\n",
    "    for i in range(n):\n",
    "        h_mixer += QubitOperator(f'X{i}')\n",
    "    return h_mixer"
   ]
  },
  {
   "cell_type": "code",
   "execution_count": 4,
   "id": "a9c18bb9-5a39-4f14-98d2-9df6bba50f8e",
   "metadata": {
    "tags": []
   },
   "outputs": [],
   "source": [
    "# Function of generating all possible solution in one bin\n",
    "def find_combinations(elements, target_sum):\n",
    "    result = []\n",
    "    # Enumerate the elements to keep track of their indices\n",
    "    enumerated_elements = list(enumerate(elements))\n",
    "    for r in range(1, len(elements) + 1):\n",
    "        for combo in combinations(enumerated_elements, r):\n",
    "            # Calculate the sum of the current combination\n",
    "            combo_sum = sum(ele[1] for ele in combo)\n",
    "            if combo_sum <= target_sum:\n",
    "                # Store the indices of the elements in the combination\n",
    "                result.append([ele[0] for ele in combo])\n",
    "    return result\n",
    "\n",
    "\n",
    "# Function of calculating the minimum positive difference of weights\n",
    "def min_positive_difference(lst):\n",
    "    # Sort the list in ascending order\n",
    "    sorted_lst = sorted(lst)\n",
    "    \n",
    "    # Initialize min_diff to a large value\n",
    "    min_diff = float('inf')\n",
    "\n",
    "    # Iterate through the sorted list to find the minimum positive difference\n",
    "    for i in range(len(sorted_lst) - 1):\n",
    "        diff = sorted_lst[i + 1] - sorted_lst[i]\n",
    "        if 0 < diff < min_diff:\n",
    "            min_diff = diff\n",
    "\n",
    "    return min_diff if min_diff != float('inf') else None"
   ]
  },
  {
   "cell_type": "markdown",
   "id": "9a748d69-4c24-466c-a966-48561bbd3ca2",
   "metadata": {},
   "source": [
    "### check the minimum number of bin"
   ]
  },
  {
   "cell_type": "code",
   "execution_count": 5,
   "id": "649dd143-7261-4109-8258-b78070864f0b",
   "metadata": {
    "tags": []
   },
   "outputs": [],
   "source": [
    "def find_min_number(lists, target):\n",
    "    opti_solu = 0\n",
    "    for n in tqdm(range(n_items)):\n",
    "        nested_list = list(combinations(lists,n))\n",
    "        for sublist in nested_list:\n",
    "            l = []\n",
    "            for i in sublist:\n",
    "                l+=i\n",
    "                l = sorted(l)\n",
    "                if l==target:\n",
    "                    opti_solu += 1\n",
    "        if opti_solu != 0:\n",
    "            return n, opti_solu\n",
    "            break\n",
    "    return 999, 999"
   ]
  },
  {
   "cell_type": "markdown",
   "id": "924a1c5d-9255-4282-827f-d32280822c02",
   "metadata": {},
   "source": [
    "### define the traing process, including optimizer, iteration"
   ]
  },
  {
   "cell_type": "code",
   "execution_count": 6,
   "id": "f81a3ca4-91f4-44b1-96f8-e8f12f852cf0",
   "metadata": {},
   "outputs": [],
   "source": [
    "def Quantum_cd_mixer(h_m, ci, n_layer, n_items):\n",
    "       \n",
    "    u_m = 0\n",
    "    index=0\n",
    "    for i in h_m:\n",
    "        u_m += decompose_single_term_time_evolution(i, ParameterResolver(f'c{index}'))\n",
    "        index=index+1\n",
    "\n",
    "    p = n_layer\n",
    "    prep_circ = UN(H, n_items)\n",
    "    ansatz_template =   u_m + ci #u_p +\n",
    "    ansatz = Circuit() + prep_circ\n",
    "\n",
    "    for i in range(p):\n",
    "        ansatz += add_suffix(ansatz_template, str(i)) + BarrierGate()\n",
    "        \n",
    "    return ansatz\n",
    "\n",
    "def Quantum_QAOA_Circuits(h_m, h_p, n_layer, n_items):\n",
    "    \n",
    "            \n",
    "    u_m = 0\n",
    "    index=0\n",
    "    for i in h_m:\n",
    "        u_m += decompose_single_term_time_evolution(i, ParameterResolver(f'b{index}'))\n",
    "        index=index+1\n",
    "\n",
    "    u_p = 0\n",
    "    index=0\n",
    "    for i in h_p:\n",
    "        u_p += decompose_single_term_time_evolution(i, ParameterResolver(f'a{index}'))\n",
    "        index=index+1\n",
    "\n",
    "\n",
    "    p = n_layer\n",
    "    prep_circ = UN(H, n_items)\n",
    "    ansatz_template =   u_p + u_m \n",
    "    ansatz = Circuit() + prep_circ\n",
    "\n",
    "    for i in range(p):\n",
    "        ansatz += add_suffix(ansatz_template, str(i)) + BarrierGate()\n",
    "        \n",
    "    return ansatz"
   ]
  },
  {
   "cell_type": "code",
   "execution_count": 7,
   "id": "5c2eb893-5be9-42cf-94db-d4ba94f390c6",
   "metadata": {},
   "outputs": [],
   "source": [
    "def data_analyze(n_items, solution_set, W, Capa, target_solu):\n",
    "    \n",
    "    # Extracting keys with values greater than 100\n",
    "    data = [key for sub_dict in solution_set for key, value in sub_dict.items()]\n",
    "    # Remove the duplicate keys\n",
    "    result_list = list(set(data))\n",
    "    # Calculate the weight sum for each binary string\n",
    "    weight_sums = [sum(W[i] for i in range(len(result_list_sub)) if result_list_sub[i] == '1') for result_list_sub in result_list]\n",
    "    # Combine the binary strings and their corresponding weight sums\n",
    "    combined_data = list(zip(result_list, weight_sums))\n",
    "    # Filter out the empty lists\n",
    "    filtered_empty = [(binary_string, value) for binary_string, value in combined_data if value != 0]\n",
    "    # Filter out the data whose weight sum is bigger than Capacity\n",
    "    filtered_data = [(binary_string, weight_sum) for binary_string, weight_sum in filtered_empty if weight_sum <= Capa]\n",
    "    # Sort the combined data by weight sum in descending order\n",
    "    sorted_data = sorted(filtered_data, key=lambda x: x[1], reverse=True)\n",
    "    # Read the feasible solutions\n",
    "    sorted_binary_strings = [data[0] for data in sorted_data] \n",
    "    \n",
    "    ar = len(sorted_binary_strings)/len(target_solu)\n",
    "    sq = len(sorted_binary_strings)/len(filtered_empty)\n",
    "\n",
    "    return  sorted_binary_strings, ar, sq"
   ]
  },
  {
   "cell_type": "code",
   "execution_count": 8,
   "id": "491a1c55-6755-4673-ba53-1372ab9f9787",
   "metadata": {},
   "outputs": [],
   "source": [
    "dk = 2.5\n",
    "ite = 100\n",
    "#n_layer = 1\n",
    "\n",
    "#dk_list = [1, 1.5, 2, 2.5, 3, 3.5, 4]\n",
    "\n",
    "#iteration_list = [100, 150, 200]\n",
    "n_layer_list = [1]\n"
   ]
  },
  {
   "cell_type": "code",
   "execution_count": 9,
   "id": "b81aff86-b708-4be3-a73b-ea858aa28d70",
   "metadata": {
    "tags": []
   },
   "outputs": [],
   "source": [
    "n_items = 10 #number of items\n",
    "capacity = 120 #maximum capacity of box\n",
    "\n",
    "# insert QAOA weight list to compare fairly\n",
    "W = [42, 44, 63, 41, 51, 45, 42, 69, 50, 40]\n",
    "\n",
    "#np.random.normal(loc=capacity/2, size=n)\n",
    "beta = np.min(W)/5\n",
    "delta_w = min_positive_difference(W)\n",
    "\n",
    "# generate exact solutions\n",
    "result_combinations = find_combinations(W, capacity)\n",
    "target_solu = list(result_combinations)\n",
    "target = list(range(n_items))"
   ]
  },
  {
   "cell_type": "code",
   "execution_count": 10,
   "id": "2313a7b2-89e7-47b6-8f34-cb1b372670a9",
   "metadata": {
    "tags": []
   },
   "outputs": [
    {
     "name": "stderr",
     "output_type": "stream",
     "text": [
      "100%|██████████| 48/48 [00:17<00:00,  2.77it/s]\n",
      " 50%|█████     | 5/10 [00:01<00:01,  3.86it/s]\n"
     ]
    },
    {
     "name": "stdout",
     "output_type": "stream",
     "text": [
      "successful ratio is:  0.7962962962962963\n",
      "solution quality is:  0.8431372549019608\n",
      "minimum number of bin is 5\n"
     ]
    },
    {
     "name": "stderr",
     "output_type": "stream",
     "text": [
      "100%|██████████| 48/48 [00:17<00:00,  2.77it/s]\n",
      " 50%|█████     | 5/10 [00:01<00:01,  4.62it/s]\n"
     ]
    },
    {
     "name": "stdout",
     "output_type": "stream",
     "text": [
      "successful ratio is:  0.7592592592592593\n",
      "solution quality is:  0.803921568627451\n",
      "minimum number of bin is 5\n"
     ]
    },
    {
     "name": "stderr",
     "output_type": "stream",
     "text": [
      "100%|██████████| 48/48 [00:17<00:00,  2.73it/s]\n",
      " 50%|█████     | 5/10 [00:01<00:01,  3.40it/s]\n"
     ]
    },
    {
     "name": "stdout",
     "output_type": "stream",
     "text": [
      "successful ratio is:  0.8148148148148148\n",
      "solution quality is:  0.7719298245614035\n",
      "minimum number of bin is 5\n"
     ]
    },
    {
     "name": "stderr",
     "output_type": "stream",
     "text": [
      "100%|██████████| 48/48 [00:18<00:00,  2.65it/s]\n",
      " 50%|█████     | 5/10 [00:00<00:00,  5.32it/s]\n"
     ]
    },
    {
     "name": "stdout",
     "output_type": "stream",
     "text": [
      "successful ratio is:  0.7407407407407407\n",
      "solution quality is:  0.7547169811320755\n",
      "minimum number of bin is 5\n"
     ]
    },
    {
     "name": "stderr",
     "output_type": "stream",
     "text": [
      "100%|██████████| 48/48 [00:17<00:00,  2.71it/s]\n",
      " 50%|█████     | 5/10 [00:00<00:00,  7.18it/s]"
     ]
    },
    {
     "name": "stdout",
     "output_type": "stream",
     "text": [
      "successful ratio is:  0.7037037037037037\n",
      "solution quality is:  0.7037037037037037\n",
      "minimum number of bin is 5\n"
     ]
    },
    {
     "name": "stderr",
     "output_type": "stream",
     "text": [
      "\n"
     ]
    }
   ],
   "source": [
    "# Record the current time before the first process\n",
    "\n",
    "batch = 5\n",
    "sr_set = np.zeros((len(n_layer_list), batch))\n",
    "sq_set = np.zeros((len(n_layer_list), batch))\n",
    "minbin_set = np.zeros((len(n_layer_list), batch))\n",
    "n_solu_set = np.zeros((len(n_layer_list), batch))\n",
    "\n",
    "cost_fun = []\n",
    "\n",
    "for i_index, n_layer in enumerate(n_layer_list):\n",
    "\n",
    "    for j in range(batch):\n",
    "\n",
    "        solution_set = []\n",
    "        # qu_time = []\n",
    "        # start_time_process1 = time.time()\n",
    "\n",
    "        for k in tqdm(np.arange(1,(capacity/delta_w),dk)):\n",
    "            alpha = 2*beta*(capacity-k*delta_w)\n",
    "            h_p = generate_h_two_body(n_items, W, beta) + generate_h_one_body(n_items, W, alpha, beta, capacity)\n",
    "            h_m = generate_h_mixer(n_items)\n",
    "            h_cd = commutator(h_m,h_p)#CD pool\n",
    "            cd = CD_operator(h_cd)\n",
    "            ci = CD_ansataz(cd)\n",
    "\n",
    "            circ = Quantum_QAOA_Circuits(h_m, h_p, n_layer, n_items)\n",
    "            #ground_energy.append(E0_energy(h_p))\n",
    "\n",
    "            ham = Hamiltonian(h_p)\n",
    "            sim = Simulator('mqvector', n_items)\n",
    "            grad_ops = sim.get_expectation_with_grad(ham, circ)\n",
    "\n",
    "            pr, result = train(ham, circ, ite)\n",
    "            cost_fun.append(result)\n",
    "            res = state_sampling(circ, pr)\n",
    "            solution_set.append(res.data)\n",
    "\n",
    "        # Record the current time after the first process\n",
    "        # end_time_process1 = time.time()\n",
    "\n",
    "        # Calculate the elapsed time for the quantum process\n",
    "        # elapsed_time_process1 = end_time_process1 - start_time_process1\n",
    "        # qu_time[i_index, j] = elapsed_time_process1\n",
    "\n",
    "        elements_fea, succ_ratio, solution_quality = data_analyze(n_items, solution_set, W[::-1], capacity, target_solu)\n",
    "        positions = [[n_items-1-i for i, char in enumerate(element) if char == '1'] for element in elements_fea]\n",
    "        minbin, n_solu = find_min_number(positions,target)\n",
    "        \n",
    "        minbin_set[i_index, j] = minbin\n",
    "        n_solu_set[i_index, j] = n_solu\n",
    "        sr_set[i_index, j] = succ_ratio\n",
    "        sq_set[i_index, j] = solution_quality\n",
    "\n",
    "        # Record the current time before the second process\n",
    "        # end_time_process2 = time.time()\n",
    "\n",
    "        # Calculate the elapsed time for the classic process\n",
    "        # elapsed_time_process2 = end_time_process2 - end_time_process1\n",
    "        # cl_time[i_index, j] = elapsed_time_process2\n",
    "\n",
    "        print('successful ratio is: ',succ_ratio)\n",
    "        print('solution quality is: ',solution_quality)\n",
    "        print('minimum number of bin is',minbin)\n",
    "        #print(\"Elapsed time for quantum process:\", np.mean(elapsed_time_process1), \"seconds\")\n",
    "        #print(\"Elapsed time for classic process:\", np.mean(elapsed_time_process2), \"seconds\")"
   ]
  },
  {
   "cell_type": "code",
   "execution_count": 36,
   "id": "dab2444b-31e0-4186-8b88-d83ea73017e5",
   "metadata": {
    "tags": []
   },
   "outputs": [],
   "source": [
    "# # Write data to a text file\n",
    "# with open('qaoa-la-W1.txt', 'w') as f:\n",
    "#     f.write(\"layer, batch, sr_set, sq_set, minbin_set, n_solu\\n\")\n",
    "#     for i_index, i in enumerate(n_layer_list):\n",
    "#         for j in range(batch):\n",
    "#             f.write(f\"{i}, {j}, {sr_set[i_index, j]}, {sq_set[i_index, j]}, {minbin_set[i_index, j]}, {n_solu_set[i_index, j]}\\n\")"
   ]
  },
  {
   "cell_type": "code",
   "execution_count": 11,
   "id": "4d157758-8ec6-43bf-862b-2c347c401a2b",
   "metadata": {},
   "outputs": [
    {
     "name": "stdout",
     "output_type": "stream",
     "text": [
      "====================================Circuit Summary====================================\n",
      "|Total number of gates  : 346.                                                        |\n",
      "|Parameter gates        : 65.                                                         |\n",
      "|with 65 parameters are :                                                             |\n",
      "|a0_0, a1_0, a2_0, a3_0, a4_0, a5_0, a6_0, a7_0, a8_0, a9_0..                        .|\n",
      "|Number qubit of circuit: 10                                                          |\n",
      "=======================================================================================\n"
     ]
    }
   ],
   "source": [
    "circ.summary()\n"
   ]
  },
  {
   "cell_type": "code",
   "execution_count": 45,
   "id": "e2875082-3244-4cdd-a570-571334cf19bc",
   "metadata": {
    "tags": []
   },
   "outputs": [],
   "source": [
    "circ.svg().to_file('qaoa_ansatz.svg')"
   ]
  },
  {
   "cell_type": "code",
   "execution_count": 11,
   "id": "8af49f6e-68ff-438a-8e8c-e1196489c6c2",
   "metadata": {},
   "outputs": [],
   "source": [
    "dk = 2.5\n",
    "ite = 100\n",
    "#n_layer = 1\n",
    "\n",
    "#dk_list = [1, 1.5, 2, 2.5, 3, 3.5, 4]\n",
    "\n",
    "#iteration_list = [100, 150, 200]\n",
    "n_layer_list = [1]"
   ]
  },
  {
   "cell_type": "code",
   "execution_count": 14,
   "id": "b31f6003-e705-4802-afb1-e34c2e4845db",
   "metadata": {
    "tags": []
   },
   "outputs": [],
   "source": [
    "n_items = 10 #number of items\n",
    "capacity = 120 #maximum capacity of box\n",
    "\n",
    "# insert QAOA weight list to compare fairly\n",
    "W = [55, 59, 52, 46, 40, 55, 79, 40, 55, 56]\n",
    "\n",
    "#np.random.normal(loc=capacity/2, size=n)\n",
    "beta = np.min(W)/5\n",
    "delta_w = min_positive_difference(W)\n",
    "\n",
    "# generate exact solutions\n",
    "result_combinations = find_combinations(W, capacity)\n",
    "target_solu = list(result_combinations)\n",
    "target = list(range(n_items))"
   ]
  },
  {
   "cell_type": "code",
   "execution_count": 15,
   "id": "947444fd-a5f2-462c-bea8-88fc542bd0df",
   "metadata": {
    "tags": []
   },
   "outputs": [
    {
     "name": "stderr",
     "output_type": "stream",
     "text": [
      "100%|██████████| 48/48 [00:18<00:00,  2.61it/s]\n",
      " 50%|█████     | 5/10 [00:00<00:00,  8.75it/s]\n"
     ]
    },
    {
     "name": "stdout",
     "output_type": "stream",
     "text": [
      "successful ratio is:  0.7708333333333334\n",
      "solution quality is:  0.9024390243902439\n",
      "minimum number of bin is 5\n"
     ]
    },
    {
     "name": "stderr",
     "output_type": "stream",
     "text": [
      "100%|██████████| 48/48 [00:18<00:00,  2.56it/s]\n",
      " 50%|█████     | 5/10 [00:00<00:00, 10.18it/s]\n"
     ]
    },
    {
     "name": "stdout",
     "output_type": "stream",
     "text": [
      "successful ratio is:  0.7291666666666666\n",
      "solution quality is:  0.8974358974358975\n",
      "minimum number of bin is 5\n"
     ]
    },
    {
     "name": "stderr",
     "output_type": "stream",
     "text": [
      "100%|██████████| 48/48 [00:18<00:00,  2.56it/s]\n",
      " 50%|█████     | 5/10 [00:01<00:01,  4.95it/s]\n"
     ]
    },
    {
     "name": "stdout",
     "output_type": "stream",
     "text": [
      "successful ratio is:  0.8333333333333334\n",
      "solution quality is:  0.8695652173913043\n",
      "minimum number of bin is 5\n"
     ]
    },
    {
     "name": "stderr",
     "output_type": "stream",
     "text": [
      " 69%|██████▉   | 33/48 [00:13<00:05,  2.51it/s]\n"
     ]
    },
    {
     "ename": "KeyboardInterrupt",
     "evalue": "",
     "output_type": "error",
     "traceback": [
      "\u001b[0;31m---------------------------------------------------------------------------\u001b[0m",
      "\u001b[0;31mKeyboardInterrupt\u001b[0m                         Traceback (most recent call last)",
      "Cell \u001b[0;32mIn[15], line 32\u001b[0m\n\u001b[1;32m     29\u001b[0m sim \u001b[38;5;241m=\u001b[39m Simulator(\u001b[38;5;124m'\u001b[39m\u001b[38;5;124mmqvector\u001b[39m\u001b[38;5;124m'\u001b[39m, n_items)\n\u001b[1;32m     30\u001b[0m grad_ops \u001b[38;5;241m=\u001b[39m sim\u001b[38;5;241m.\u001b[39mget_expectation_with_grad(ham, circ)\n\u001b[0;32m---> 32\u001b[0m pr, result \u001b[38;5;241m=\u001b[39m \u001b[43mtrain\u001b[49m\u001b[43m(\u001b[49m\u001b[43mham\u001b[49m\u001b[43m,\u001b[49m\u001b[43m \u001b[49m\u001b[43mcirc\u001b[49m\u001b[43m,\u001b[49m\u001b[43m \u001b[49m\u001b[43mite\u001b[49m\u001b[43m)\u001b[49m\n\u001b[1;32m     33\u001b[0m \u001b[38;5;66;03m#cost_fun.append(result)\u001b[39;00m\n\u001b[1;32m     34\u001b[0m res \u001b[38;5;241m=\u001b[39m state_sampling(circ, pr)\n",
      "Cell \u001b[0;32mIn[2], line 48\u001b[0m, in \u001b[0;36mtrain\u001b[0;34m(ham, ansatze, iteration)\u001b[0m\n\u001b[1;32m     46\u001b[0m \u001b[38;5;28;01mfor\u001b[39;00m i \u001b[38;5;129;01min\u001b[39;00m \u001b[38;5;28mrange\u001b[39m(iteration):\n\u001b[1;32m     47\u001b[0m     train_net() \n\u001b[0;32m---> 48\u001b[0m     result\u001b[38;5;241m.\u001b[39mappend(np\u001b[38;5;241m.\u001b[39marray(\u001b[43mtrain_net\u001b[49m\u001b[43m(\u001b[49m\u001b[43m)\u001b[49m[\u001b[38;5;241m0\u001b[39m]))\n\u001b[1;32m     49\u001b[0m pr \u001b[38;5;241m=\u001b[39m \u001b[38;5;28mdict\u001b[39m(\u001b[38;5;28mzip\u001b[39m(ansatze\u001b[38;5;241m.\u001b[39mparams_name, net\u001b[38;5;241m.\u001b[39mweight\u001b[38;5;241m.\u001b[39masnumpy())) \u001b[38;5;66;03m# 获取线路参数\u001b[39;00m\n\u001b[1;32m     51\u001b[0m \u001b[38;5;28;01mreturn\u001b[39;00m pr, result\n",
      "File \u001b[0;32m~/anaconda3/envs/mind-new/lib/python3.9/site-packages/mindspore/nn/cell.py:641\u001b[0m, in \u001b[0;36mCell.__call__\u001b[0;34m(self, *args, **kwargs)\u001b[0m\n\u001b[1;32m    639\u001b[0m \u001b[38;5;28;01mtry\u001b[39;00m:\n\u001b[1;32m    640\u001b[0m     _pynative_executor\u001b[38;5;241m.\u001b[39mnew_graph(\u001b[38;5;28mself\u001b[39m, \u001b[38;5;241m*\u001b[39margs, \u001b[38;5;241m*\u001b[39m\u001b[38;5;241m*\u001b[39mkwargs)\n\u001b[0;32m--> 641\u001b[0m     output \u001b[38;5;241m=\u001b[39m \u001b[38;5;28;43mself\u001b[39;49m\u001b[38;5;241;43m.\u001b[39;49m\u001b[43m_run_construct\u001b[49m\u001b[43m(\u001b[49m\u001b[43margs\u001b[49m\u001b[43m,\u001b[49m\u001b[43m \u001b[49m\u001b[43mkwargs\u001b[49m\u001b[43m)\u001b[49m\n\u001b[1;32m    642\u001b[0m     _pynative_executor\u001b[38;5;241m.\u001b[39mend_graph(\u001b[38;5;28mself\u001b[39m, output, \u001b[38;5;241m*\u001b[39margs, \u001b[38;5;241m*\u001b[39m\u001b[38;5;241m*\u001b[39mkwargs)\n\u001b[1;32m    643\u001b[0m \u001b[38;5;28;01mexcept\u001b[39;00m \u001b[38;5;167;01mException\u001b[39;00m \u001b[38;5;28;01mas\u001b[39;00m err:\n",
      "File \u001b[0;32m~/anaconda3/envs/mind-new/lib/python3.9/site-packages/mindspore/nn/cell.py:429\u001b[0m, in \u001b[0;36mCell._run_construct\u001b[0;34m(self, cast_inputs, kwargs)\u001b[0m\n\u001b[1;32m    427\u001b[0m     output \u001b[38;5;241m=\u001b[39m \u001b[38;5;28mself\u001b[39m\u001b[38;5;241m.\u001b[39m_shard_fn(\u001b[38;5;241m*\u001b[39mcast_inputs, \u001b[38;5;241m*\u001b[39m\u001b[38;5;241m*\u001b[39mkwargs)\n\u001b[1;32m    428\u001b[0m \u001b[38;5;28;01melse\u001b[39;00m:\n\u001b[0;32m--> 429\u001b[0m     output \u001b[38;5;241m=\u001b[39m \u001b[38;5;28;43mself\u001b[39;49m\u001b[38;5;241;43m.\u001b[39;49m\u001b[43mconstruct\u001b[49m\u001b[43m(\u001b[49m\u001b[38;5;241;43m*\u001b[39;49m\u001b[43mcast_inputs\u001b[49m\u001b[43m,\u001b[49m\u001b[43m \u001b[49m\u001b[38;5;241;43m*\u001b[39;49m\u001b[38;5;241;43m*\u001b[39;49m\u001b[43mkwargs\u001b[49m\u001b[43m)\u001b[49m\n\u001b[1;32m    430\u001b[0m \u001b[38;5;28;01mif\u001b[39;00m \u001b[38;5;28mself\u001b[39m\u001b[38;5;241m.\u001b[39m_enable_forward_hook:\n\u001b[1;32m    431\u001b[0m     output \u001b[38;5;241m=\u001b[39m \u001b[38;5;28mself\u001b[39m\u001b[38;5;241m.\u001b[39m_run_forward_hook(cast_inputs, output)\n",
      "File \u001b[0;32m~/anaconda3/envs/mind-new/lib/python3.9/site-packages/mindspore/nn/wrap/cell_wrapper.py:391\u001b[0m, in \u001b[0;36mTrainOneStepCell.construct\u001b[0;34m(self, *inputs)\u001b[0m\n\u001b[1;32m    390\u001b[0m \u001b[38;5;28;01mdef\u001b[39;00m \u001b[38;5;21mconstruct\u001b[39m(\u001b[38;5;28mself\u001b[39m, \u001b[38;5;241m*\u001b[39minputs):\n\u001b[0;32m--> 391\u001b[0m     loss \u001b[38;5;241m=\u001b[39m \u001b[38;5;28;43mself\u001b[39;49m\u001b[38;5;241;43m.\u001b[39;49m\u001b[43mnetwork\u001b[49m\u001b[43m(\u001b[49m\u001b[38;5;241;43m*\u001b[39;49m\u001b[43minputs\u001b[49m\u001b[43m)\u001b[49m\n\u001b[1;32m    392\u001b[0m     sens \u001b[38;5;241m=\u001b[39m F\u001b[38;5;241m.\u001b[39mfill(loss\u001b[38;5;241m.\u001b[39mdtype, loss\u001b[38;5;241m.\u001b[39mshape, \u001b[38;5;28mself\u001b[39m\u001b[38;5;241m.\u001b[39msens)\n\u001b[1;32m    393\u001b[0m     grads \u001b[38;5;241m=\u001b[39m \u001b[38;5;28mself\u001b[39m\u001b[38;5;241m.\u001b[39mgrad(\u001b[38;5;28mself\u001b[39m\u001b[38;5;241m.\u001b[39mnetwork, \u001b[38;5;28mself\u001b[39m\u001b[38;5;241m.\u001b[39mweights)(\u001b[38;5;241m*\u001b[39minputs, sens)\n",
      "File \u001b[0;32m~/anaconda3/envs/mind-new/lib/python3.9/site-packages/mindspore/nn/cell.py:641\u001b[0m, in \u001b[0;36mCell.__call__\u001b[0;34m(self, *args, **kwargs)\u001b[0m\n\u001b[1;32m    639\u001b[0m \u001b[38;5;28;01mtry\u001b[39;00m:\n\u001b[1;32m    640\u001b[0m     _pynative_executor\u001b[38;5;241m.\u001b[39mnew_graph(\u001b[38;5;28mself\u001b[39m, \u001b[38;5;241m*\u001b[39margs, \u001b[38;5;241m*\u001b[39m\u001b[38;5;241m*\u001b[39mkwargs)\n\u001b[0;32m--> 641\u001b[0m     output \u001b[38;5;241m=\u001b[39m \u001b[38;5;28;43mself\u001b[39;49m\u001b[38;5;241;43m.\u001b[39;49m\u001b[43m_run_construct\u001b[49m\u001b[43m(\u001b[49m\u001b[43margs\u001b[49m\u001b[43m,\u001b[49m\u001b[43m \u001b[49m\u001b[43mkwargs\u001b[49m\u001b[43m)\u001b[49m\n\u001b[1;32m    642\u001b[0m     _pynative_executor\u001b[38;5;241m.\u001b[39mend_graph(\u001b[38;5;28mself\u001b[39m, output, \u001b[38;5;241m*\u001b[39margs, \u001b[38;5;241m*\u001b[39m\u001b[38;5;241m*\u001b[39mkwargs)\n\u001b[1;32m    643\u001b[0m \u001b[38;5;28;01mexcept\u001b[39;00m \u001b[38;5;167;01mException\u001b[39;00m \u001b[38;5;28;01mas\u001b[39;00m err:\n",
      "File \u001b[0;32m~/anaconda3/envs/mind-new/lib/python3.9/site-packages/mindspore/nn/cell.py:429\u001b[0m, in \u001b[0;36mCell._run_construct\u001b[0;34m(self, cast_inputs, kwargs)\u001b[0m\n\u001b[1;32m    427\u001b[0m     output \u001b[38;5;241m=\u001b[39m \u001b[38;5;28mself\u001b[39m\u001b[38;5;241m.\u001b[39m_shard_fn(\u001b[38;5;241m*\u001b[39mcast_inputs, \u001b[38;5;241m*\u001b[39m\u001b[38;5;241m*\u001b[39mkwargs)\n\u001b[1;32m    428\u001b[0m \u001b[38;5;28;01melse\u001b[39;00m:\n\u001b[0;32m--> 429\u001b[0m     output \u001b[38;5;241m=\u001b[39m \u001b[38;5;28;43mself\u001b[39;49m\u001b[38;5;241;43m.\u001b[39;49m\u001b[43mconstruct\u001b[49m\u001b[43m(\u001b[49m\u001b[38;5;241;43m*\u001b[39;49m\u001b[43mcast_inputs\u001b[49m\u001b[43m,\u001b[49m\u001b[43m \u001b[49m\u001b[38;5;241;43m*\u001b[39;49m\u001b[38;5;241;43m*\u001b[39;49m\u001b[43mkwargs\u001b[49m\u001b[43m)\u001b[49m\n\u001b[1;32m    430\u001b[0m \u001b[38;5;28;01mif\u001b[39;00m \u001b[38;5;28mself\u001b[39m\u001b[38;5;241m.\u001b[39m_enable_forward_hook:\n\u001b[1;32m    431\u001b[0m     output \u001b[38;5;241m=\u001b[39m \u001b[38;5;28mself\u001b[39m\u001b[38;5;241m.\u001b[39m_run_forward_hook(cast_inputs, output)\n",
      "File \u001b[0;32m~/anaconda3/envs/mind-new/lib/python3.9/site-packages/mindquantum/framework/layer.py:236\u001b[0m, in \u001b[0;36mMQAnsatzOnlyLayer.construct\u001b[0;34m(self)\u001b[0m\n\u001b[1;32m    234\u001b[0m \u001b[38;5;28;01mdef\u001b[39;00m \u001b[38;5;21mconstruct\u001b[39m(\u001b[38;5;28mself\u001b[39m):\n\u001b[1;32m    235\u001b[0m \u001b[38;5;250m    \u001b[39m\u001b[38;5;124;03m\"\"\"Construct a MQAnsatzOnlyLayer node.\"\"\"\u001b[39;00m\n\u001b[0;32m--> 236\u001b[0m     \u001b[38;5;28;01mreturn\u001b[39;00m \u001b[38;5;28;43mself\u001b[39;49m\u001b[38;5;241;43m.\u001b[39;49m\u001b[43mevolution\u001b[49m\u001b[43m(\u001b[49m\u001b[38;5;28;43mself\u001b[39;49m\u001b[38;5;241;43m.\u001b[39;49m\u001b[43mweight\u001b[49m\u001b[43m)\u001b[49m\n",
      "File \u001b[0;32m~/anaconda3/envs/mind-new/lib/python3.9/site-packages/mindspore/nn/cell.py:641\u001b[0m, in \u001b[0;36mCell.__call__\u001b[0;34m(self, *args, **kwargs)\u001b[0m\n\u001b[1;32m    639\u001b[0m \u001b[38;5;28;01mtry\u001b[39;00m:\n\u001b[1;32m    640\u001b[0m     _pynative_executor\u001b[38;5;241m.\u001b[39mnew_graph(\u001b[38;5;28mself\u001b[39m, \u001b[38;5;241m*\u001b[39margs, \u001b[38;5;241m*\u001b[39m\u001b[38;5;241m*\u001b[39mkwargs)\n\u001b[0;32m--> 641\u001b[0m     output \u001b[38;5;241m=\u001b[39m \u001b[38;5;28;43mself\u001b[39;49m\u001b[38;5;241;43m.\u001b[39;49m\u001b[43m_run_construct\u001b[49m\u001b[43m(\u001b[49m\u001b[43margs\u001b[49m\u001b[43m,\u001b[49m\u001b[43m \u001b[49m\u001b[43mkwargs\u001b[49m\u001b[43m)\u001b[49m\n\u001b[1;32m    642\u001b[0m     _pynative_executor\u001b[38;5;241m.\u001b[39mend_graph(\u001b[38;5;28mself\u001b[39m, output, \u001b[38;5;241m*\u001b[39margs, \u001b[38;5;241m*\u001b[39m\u001b[38;5;241m*\u001b[39mkwargs)\n\u001b[1;32m    643\u001b[0m \u001b[38;5;28;01mexcept\u001b[39;00m \u001b[38;5;167;01mException\u001b[39;00m \u001b[38;5;28;01mas\u001b[39;00m err:\n",
      "File \u001b[0;32m~/anaconda3/envs/mind-new/lib/python3.9/site-packages/mindspore/nn/cell.py:429\u001b[0m, in \u001b[0;36mCell._run_construct\u001b[0;34m(self, cast_inputs, kwargs)\u001b[0m\n\u001b[1;32m    427\u001b[0m     output \u001b[38;5;241m=\u001b[39m \u001b[38;5;28mself\u001b[39m\u001b[38;5;241m.\u001b[39m_shard_fn(\u001b[38;5;241m*\u001b[39mcast_inputs, \u001b[38;5;241m*\u001b[39m\u001b[38;5;241m*\u001b[39mkwargs)\n\u001b[1;32m    428\u001b[0m \u001b[38;5;28;01melse\u001b[39;00m:\n\u001b[0;32m--> 429\u001b[0m     output \u001b[38;5;241m=\u001b[39m \u001b[38;5;28;43mself\u001b[39;49m\u001b[38;5;241;43m.\u001b[39;49m\u001b[43mconstruct\u001b[49m\u001b[43m(\u001b[49m\u001b[38;5;241;43m*\u001b[39;49m\u001b[43mcast_inputs\u001b[49m\u001b[43m,\u001b[49m\u001b[43m \u001b[49m\u001b[38;5;241;43m*\u001b[39;49m\u001b[38;5;241;43m*\u001b[39;49m\u001b[43mkwargs\u001b[49m\u001b[43m)\u001b[49m\n\u001b[1;32m    430\u001b[0m \u001b[38;5;28;01mif\u001b[39;00m \u001b[38;5;28mself\u001b[39m\u001b[38;5;241m.\u001b[39m_enable_forward_hook:\n\u001b[1;32m    431\u001b[0m     output \u001b[38;5;241m=\u001b[39m \u001b[38;5;28mself\u001b[39m\u001b[38;5;241m.\u001b[39m_run_forward_hook(cast_inputs, output)\n",
      "File \u001b[0;32m~/anaconda3/envs/mind-new/lib/python3.9/site-packages/mindquantum/framework/operations.py:281\u001b[0m, in \u001b[0;36mMQAnsatzOnlyOps.construct\u001b[0;34m(self, arg)\u001b[0m\n\u001b[1;32m    279\u001b[0m \u001b[38;5;250m\u001b[39m\u001b[38;5;124;03m\"\"\"Construct a MQAnsatzOnlyOps node.\"\"\"\u001b[39;00m\n\u001b[1;32m    280\u001b[0m check_ans_input_shape(arg, \u001b[38;5;28mself\u001b[39m\u001b[38;5;241m.\u001b[39mshape_ops(arg), \u001b[38;5;28mlen\u001b[39m(\u001b[38;5;28mself\u001b[39m\u001b[38;5;241m.\u001b[39mexpectation_with_grad\u001b[38;5;241m.\u001b[39mansatz_params_name))\n\u001b[0;32m--> 281\u001b[0m fval, g_ans \u001b[38;5;241m=\u001b[39m \u001b[38;5;28;43mself\u001b[39;49m\u001b[38;5;241;43m.\u001b[39;49m\u001b[43mexpectation_with_grad\u001b[49m\u001b[43m(\u001b[49m\u001b[43marg\u001b[49m\u001b[38;5;241;43m.\u001b[39;49m\u001b[43masnumpy\u001b[49m\u001b[43m(\u001b[49m\u001b[43m)\u001b[49m\u001b[43m)\u001b[49m\n\u001b[1;32m    282\u001b[0m \u001b[38;5;28mself\u001b[39m\u001b[38;5;241m.\u001b[39mg \u001b[38;5;241m=\u001b[39m np\u001b[38;5;241m.\u001b[39mreal(g_ans[\u001b[38;5;241m0\u001b[39m])\n\u001b[1;32m    283\u001b[0m \u001b[38;5;28;01mreturn\u001b[39;00m ms\u001b[38;5;241m.\u001b[39mTensor(np\u001b[38;5;241m.\u001b[39mreal(fval[\u001b[38;5;241m0\u001b[39m]), dtype\u001b[38;5;241m=\u001b[39mms\u001b[38;5;241m.\u001b[39mfloat32)\n",
      "File \u001b[0;32m~/anaconda3/envs/mind-new/lib/python3.9/site-packages/mindquantum/simulator/utils.py:65\u001b[0m, in \u001b[0;36mGradOpsWrapper.__call__\u001b[0;34m(self, *args)\u001b[0m\n\u001b[1;32m     63\u001b[0m \u001b[38;5;28;01mdef\u001b[39;00m \u001b[38;5;21m__call__\u001b[39m(\u001b[38;5;28mself\u001b[39m, \u001b[38;5;241m*\u001b[39margs):\n\u001b[1;32m     64\u001b[0m \u001b[38;5;250m    \u001b[39m\u001b[38;5;124;03m\"\"\"Definition of a function call operator.\"\"\"\u001b[39;00m\n\u001b[0;32m---> 65\u001b[0m     \u001b[38;5;28;01mreturn\u001b[39;00m \u001b[38;5;28;43mself\u001b[39;49m\u001b[38;5;241;43m.\u001b[39;49m\u001b[43mgrad_ops\u001b[49m\u001b[43m(\u001b[49m\u001b[38;5;241;43m*\u001b[39;49m\u001b[43margs\u001b[49m\u001b[43m)\u001b[49m\n",
      "File \u001b[0;32m~/anaconda3/envs/mind-new/lib/python3.9/site-packages/mindquantum/simulator/mqsim.py:346\u001b[0m, in \u001b[0;36mMQSim.get_expectation_with_grad.<locals>.grad_ops\u001b[0;34m(*inputs)\u001b[0m\n\u001b[1;32m    334\u001b[0m     f_g1_g2 \u001b[38;5;241m=\u001b[39m \u001b[38;5;28mself\u001b[39m\u001b[38;5;241m.\u001b[39msim\u001b[38;5;241m.\u001b[39mget_expectation_with_noise_grad_multi_multi(\n\u001b[1;32m    335\u001b[0m         [i\u001b[38;5;241m.\u001b[39mget_cpp_obj() \u001b[38;5;28;01mfor\u001b[39;00m i \u001b[38;5;129;01min\u001b[39;00m hams],\n\u001b[1;32m    336\u001b[0m         circ_right\u001b[38;5;241m.\u001b[39mget_cpp_obj(),\n\u001b[0;32m   (...)\u001b[0m\n\u001b[1;32m    343\u001b[0m         mea_threads,\n\u001b[1;32m    344\u001b[0m     )\n\u001b[1;32m    345\u001b[0m \u001b[38;5;28;01melse\u001b[39;00m:\n\u001b[0;32m--> 346\u001b[0m     f_g1_g2 \u001b[38;5;241m=\u001b[39m \u001b[38;5;28;43mself\u001b[39;49m\u001b[38;5;241;43m.\u001b[39;49m\u001b[43msim\u001b[49m\u001b[38;5;241;43m.\u001b[39;49m\u001b[43mget_expectation_with_grad_multi_multi\u001b[49m\u001b[43m(\u001b[49m\n\u001b[1;32m    347\u001b[0m \u001b[43m        \u001b[49m\u001b[43m[\u001b[49m\u001b[43mi\u001b[49m\u001b[38;5;241;43m.\u001b[39;49m\u001b[43mget_cpp_obj\u001b[49m\u001b[43m(\u001b[49m\u001b[43m)\u001b[49m\u001b[43m \u001b[49m\u001b[38;5;28;43;01mfor\u001b[39;49;00m\u001b[43m \u001b[49m\u001b[43mi\u001b[49m\u001b[43m \u001b[49m\u001b[38;5;129;43;01min\u001b[39;49;00m\u001b[43m \u001b[49m\u001b[43mhams\u001b[49m\u001b[43m]\u001b[49m\u001b[43m,\u001b[49m\n\u001b[1;32m    348\u001b[0m \u001b[43m        \u001b[49m\u001b[43mcirc_right\u001b[49m\u001b[38;5;241;43m.\u001b[39;49m\u001b[43mget_cpp_obj\u001b[49m\u001b[43m(\u001b[49m\u001b[43m)\u001b[49m\u001b[43m,\u001b[49m\n\u001b[1;32m    349\u001b[0m \u001b[43m        \u001b[49m\u001b[43mcirc_right\u001b[49m\u001b[38;5;241;43m.\u001b[39;49m\u001b[43mget_cpp_obj\u001b[49m\u001b[43m(\u001b[49m\u001b[43mhermitian\u001b[49m\u001b[38;5;241;43m=\u001b[39;49m\u001b[38;5;28;43;01mTrue\u001b[39;49;00m\u001b[43m)\u001b[49m\u001b[43m,\u001b[49m\n\u001b[1;32m    350\u001b[0m \u001b[43m        \u001b[49m\u001b[43minputs0\u001b[49m\u001b[43m,\u001b[49m\n\u001b[1;32m    351\u001b[0m \u001b[43m        \u001b[49m\u001b[43minputs1\u001b[49m\u001b[43m,\u001b[49m\n\u001b[1;32m    352\u001b[0m \u001b[43m        \u001b[49m\u001b[43mencoder_params_name\u001b[49m\u001b[43m,\u001b[49m\n\u001b[1;32m    353\u001b[0m \u001b[43m        \u001b[49m\u001b[43mansatz_params_name\u001b[49m\u001b[43m,\u001b[49m\n\u001b[1;32m    354\u001b[0m \u001b[43m        \u001b[49m\u001b[43mbatch_threads\u001b[49m\u001b[43m,\u001b[49m\n\u001b[1;32m    355\u001b[0m \u001b[43m        \u001b[49m\u001b[43mmea_threads\u001b[49m\u001b[43m,\u001b[49m\n\u001b[1;32m    356\u001b[0m \u001b[43m    \u001b[49m\u001b[43m)\u001b[49m\n\u001b[1;32m    357\u001b[0m res \u001b[38;5;241m=\u001b[39m np\u001b[38;5;241m.\u001b[39marray(f_g1_g2)\n\u001b[1;32m    358\u001b[0m \u001b[38;5;28;01mif\u001b[39;00m version \u001b[38;5;241m==\u001b[39m \u001b[38;5;124m'\u001b[39m\u001b[38;5;124mboth\u001b[39m\u001b[38;5;124m'\u001b[39m:\n",
      "\u001b[0;31mKeyboardInterrupt\u001b[0m: "
     ]
    }
   ],
   "source": [
    "# Record the current time before the first process\n",
    "\n",
    "batch = 5\n",
    "sr_set = np.zeros((len(n_layer_list), batch))\n",
    "sq_set = np.zeros((len(n_layer_list), batch))\n",
    "minbin_set = np.zeros((len(n_layer_list), batch))\n",
    "n_solu_set = np.zeros((len(n_layer_list), batch))\n",
    "\n",
    "for i_index, n_layer in enumerate(n_layer_list):\n",
    "\n",
    "    for j in range(batch):\n",
    "\n",
    "        solution_set = []\n",
    "        # qu_time = []\n",
    "        # start_time_process1 = time.time()\n",
    "\n",
    "        for k in tqdm(np.arange(1,(capacity/delta_w),dk)):\n",
    "            alpha = 2*beta*(capacity-k*delta_w)\n",
    "            h_p = generate_h_two_body(n_items, W, beta) + generate_h_one_body(n_items, W, alpha, beta, capacity)\n",
    "            h_m = generate_h_mixer(n_items)\n",
    "            h_cd = commutator(h_m,h_p)#CD pool\n",
    "            cd = CD_operator(h_cd)\n",
    "            ci = CD_ansataz(cd)\n",
    "\n",
    "            circ = Quantum_QAOA_Circuits(h_m, h_p, n_layer, n_items)\n",
    "            #ground_energy.append(E0_energy(h_p))\n",
    "\n",
    "            ham = Hamiltonian(h_p)\n",
    "            sim = Simulator('mqvector', n_items)\n",
    "            grad_ops = sim.get_expectation_with_grad(ham, circ)\n",
    "\n",
    "            pr, result = train(ham, circ, ite)\n",
    "            #cost_fun.append(result)\n",
    "            res = state_sampling(circ, pr)\n",
    "            solution_set.append(res.data)\n",
    "\n",
    "        # Record the current time after the first process\n",
    "        # end_time_process1 = time.time()\n",
    "\n",
    "        # Calculate the elapsed time for the quantum process\n",
    "        # elapsed_time_process1 = end_time_process1 - start_time_process1\n",
    "        # qu_time[i_index, j] = elapsed_time_process1\n",
    "\n",
    "        elements_fea, succ_ratio, solution_quality = data_analyze(n_items, solution_set, W[::-1], capacity, target_solu)\n",
    "        positions = [[n_items-1-i for i, char in enumerate(element) if char == '1'] for element in elements_fea]\n",
    "        minbin, n_solu = find_min_number(positions,target)\n",
    "        \n",
    "        minbin_set[i_index, j] = minbin\n",
    "        n_solu_set[i_index, j] = n_solu\n",
    "        sr_set[i_index, j] = succ_ratio\n",
    "        sq_set[i_index, j] = solution_quality\n",
    "\n",
    "        # Record the current time before the second process\n",
    "        # end_time_process2 = time.time()\n",
    "\n",
    "        # Calculate the elapsed time for the classic process\n",
    "        # elapsed_time_process2 = end_time_process2 - end_time_process1\n",
    "        # cl_time[i_index, j] = elapsed_time_process2\n",
    "\n",
    "        print('successful ratio is: ',succ_ratio)\n",
    "        print('solution quality is: ',solution_quality)\n",
    "        print('minimum number of bin is',minbin)\n",
    "        #print(\"Elapsed time for quantum process:\", np.mean(elapsed_time_process1), \"seconds\")\n",
    "        #print(\"Elapsed time for classic process:\", np.mean(elapsed_time_process2), \"seconds\")"
   ]
  },
  {
   "cell_type": "code",
   "execution_count": 14,
   "id": "2e24b305-5056-45b8-91ec-5ec104250120",
   "metadata": {
    "tags": []
   },
   "outputs": [],
   "source": [
    "# Write data to a text file\n",
    "with open('qaoa-la-W2.txt', 'w') as f:\n",
    "    f.write(\"layer, batch, sr_set, sq_set, minbin_set, n_solu\\n\")\n",
    "    for i_index, i in enumerate(n_layer_list):\n",
    "        for j in range(batch):\n",
    "            f.write(f\"{i}, {j}, {sr_set[i_index, j]}, {sq_set[i_index, j]}, {minbin_set[i_index, j]}, {n_solu_set[i_index, j]}\\n\")"
   ]
  },
  {
   "cell_type": "code",
   "execution_count": null,
   "id": "2d73edab-31f2-4b67-8a1a-f6ca82e4ede7",
   "metadata": {},
   "outputs": [],
   "source": []
  },
  {
   "cell_type": "code",
   "execution_count": 19,
   "id": "95c98d94-79ee-408d-ae9e-1b51efded9f2",
   "metadata": {},
   "outputs": [],
   "source": [
    "dk = 2.5\n",
    "ite = 100\n",
    "#n_layer = 1\n",
    "\n",
    "#dk_list = [1, 1.5, 2, 2.5, 3, 3.5, 4]\n",
    "\n",
    "#iteration_list = [100, 150, 200]\n",
    "n_layer_list = [1]\n"
   ]
  },
  {
   "cell_type": "code",
   "execution_count": 20,
   "id": "9329ab67-dde5-432b-84a8-02c31c447c91",
   "metadata": {
    "tags": []
   },
   "outputs": [],
   "source": [
    "n_items = 10 #number of items\n",
    "capacity = 120 #maximum capacity of box\n",
    "\n",
    "# insert QAOA weight list to compare fairly\n",
    "W = [28, 30, 31, 36, 46, 32, 49, 29, 33, 21]\n",
    "\n",
    "#np.random.normal(loc=capacity/2, size=n)\n",
    "beta = np.min(W)/5\n",
    "delta_w = min_positive_difference(W)\n",
    "\n",
    "# generate exact solutions\n",
    "result_combinations = find_combinations(W, capacity)\n",
    "target_solu = list(result_combinations)\n",
    "target = list(range(n_items))"
   ]
  },
  {
   "cell_type": "code",
   "execution_count": 21,
   "id": "1b03c12b-f08b-42ed-95a4-b29a6e98a98a",
   "metadata": {
    "collapsed": true,
    "jupyter": {
     "outputs_hidden": true
    },
    "tags": []
   },
   "outputs": [
    {
     "name": "stderr",
     "output_type": "stream",
     "text": [
      "100%|██████████| 48/48 [00:19<00:00,  2.42it/s]\n"
     ]
    },
    {
     "name": "stdout",
     "output_type": "stream",
     "text": [
      "[('0100000110', 94), ('0100100000', 65), ('1000010101', 126), ('0000001101', 95), ('1100100000', 86), ('0101000100', 113), ('1001000001', 98), ('0000001010', 66), ('1001000000', 70), ('0000010111', 135), ('0001100000', 81), ('1000100101', 112), ('0000010000', 46), ('1000010000', 67), ('1010001000', 86), ('0100001010', 99), ('0000010010', 76), ('0000000001', 28), ('0000000111', 89), ('1011000000', 99), ('1010000000', 50), ('0100001001', 97), ('0101000010', 112), ('1010001001', 114), ('1110100000', 115), ('0000000100', 31), ('1000000010', 51), ('0000011100', 113), ('0100010100', 110), ('1100100010', 116), ('0000110001', 106), ('0010010010', 105), ('0001001000', 85), ('0000100000', 32), ('1000010011', 125), ('1000000001', 49), ('1000101001', 117), ('1000101100', 120), ('0101000000', 82), ('1100001010', 120), ('0010010001', 103), ('1001100100', 133), ('0100101000', 101), ('1000110000', 99), ('1010010000', 96), ('1010100001', 110), ('0010000111', 118), ('0010000000', 29), ('0010100000', 61), ('0010000001', 57), ('0001000011', 107), ('1001000101', 129), ('1000100010', 83), ('0010100001', 89), ('0000001000', 36), ('0001000110', 110), ('0000010001', 74), ('0001100100', 112), ('1100000001', 82), ('1010100000', 82), ('0000011010', 112), ('0000000010', 30), ('0010001010', 95), ('0100000111', 122), ('1000011100', 134), ('1010000001', 78), ('0000001001', 64), ('1011000001', 127), ('0100100010', 95), ('0000110010', 108), ('1110000000', 83), ('0011000000', 78), ('0001000000', 49), ('0100001100', 100), ('0001000101', 108), ('1110000001', 111), ('1010000011', 108), ('0100001000', 69), ('0000001100', 67), ('0001010100', 126), ('1000100011', 111), ('0100000001', 61), ('0000010100', 77), ('1010100010', 112), ('0011000001', 106), ('1110000010', 113), ('0000100010', 62), ('0000101010', 98), ('1010100100', 113), ('1101000000', 103), ('0010001000', 65), ('1000000011', 79), ('1100000010', 84), ('0000100011', 90), ('0110000010', 92), ('0000101100', 99), ('1001100000', 102), ('0110000101', 121), ('1000100000', 53), ('1000001100', 88), ('0100010010', 109), ('0010100110', 122), ('1000000110', 82), ('0001000001', 77), ('1010000010', 80), ('0000100001', 60), ('1100010000', 100), ('0010001001', 93), ('1000011000', 103), ('0000011000', 82), ('1100000011', 112), ('1100001000', 90), ('0010100010', 91), ('0001010000', 95), ('0000010011', 104), ('1000001010', 87), ('1000100001', 81), ('0001001010', 115), ('1000101010', 119), ('1000010100', 98), ('1001010000', 116), ('1100000000', 54), ('0001001001', 113), ('0110100100', 125), ('1000010010', 97), ('1000001001', 85), ('1000000101', 80), ('0010000010', 59), ('1000000000', 21), ('0000010101', 105)]\n"
     ]
    },
    {
     "name": "stderr",
     "output_type": "stream",
     "text": [
      " 30%|███       | 3/10 [00:01<00:04,  1.75it/s]\n"
     ]
    },
    {
     "name": "stdout",
     "output_type": "stream",
     "text": [
      "successful ratio is:  0.5756097560975609\n",
      "solution quality is:  0.9076923076923077\n",
      "minimum number of bin is 3\n"
     ]
    },
    {
     "name": "stderr",
     "output_type": "stream",
     "text": [
      "100%|██████████| 48/48 [00:19<00:00,  2.50it/s]\n"
     ]
    },
    {
     "name": "stdout",
     "output_type": "stream",
     "text": [
      "[('0011100000', 110), ('0000010110', 107), ('0000110000', 78), ('0100001011', 127), ('0000001101', 95), ('0000001111', 125), ('0011000100', 109), ('0101000100', 113), ('1001000001', 98), ('1001000011', 128), ('0010000100', 60), ('1000001101', 116), ('1001000000', 70), ('1010011000', 132), ('0011000010', 108), ('0100000100', 64), ('1000100101', 112), ('0000010000', 46), ('0110100010', 124), ('0100001010', 99), ('0000010010', 76), ('0000000001', 28), ('0000100100', 63), ('1011000000', 99), ('1010000000', 50), ('1010000100', 81), ('1110100000', 115), ('1000100110', 114), ('0000000100', 31), ('1000000010', 51), ('0000011100', 113), ('0100000011', 91), ('0100010100', 110), ('1100100010', 116), ('0000110001', 106), ('0000001011', 94), ('0100100011', 123), ('0000100000', 32), ('1001001000', 106), ('0100001110', 130), ('1000000001', 49), ('0100000101', 92), ('0000100101', 91), ('0100100110', 126), ('0100000010', 63), ('0110000100', 93), ('0101000000', 82), ('1100001010', 120), ('1100000100', 85), ('0100101000', 101), ('0001000010', 79), ('0111000000', 111), ('0001100001', 109), ('1000110000', 99), ('1000101000', 89), ('1010100001', 110), ('0010000000', 29), ('0010000001', 57), ('0010100000', 61), ('1001000101', 129), ('1000100010', 83), ('0001000110', 110), ('0000010001', 74), ('1100000001', 82), ('1010100000', 82), ('1000111000', 135), ('0000011010', 112), ('0000000010', 30), ('1000000100', 52), ('1010000001', 78), ('1010001100', 117), ('0000110010', 108), ('0110001001', 126), ('0100100010', 95), ('1110000000', 83), ('0011000000', 78), ('0001000000', 49), ('0100001100', 100), ('0001000101', 108), ('0110001000', 98), ('0010100100', 92), ('0100100001', 93), ('0100000001', 61), ('0000010100', 77), ('1110000010', 113), ('0011000001', 106), ('0010101000', 97), ('0000110100', 109), ('0000101010', 98), ('1010100100', 113), ('1101000000', 103), ('1100000010', 84), ('1000000011', 79), ('0000100111', 121), ('0001000100', 80), ('0110000010', 92), ('0010010100', 106), ('1001100000', 102), ('1000100000', 53), ('1010110000', 128), ('0000000110', 61), ('0100010010', 109), ('0000011001', 110), ('0001001100', 116), ('1000000110', 82), ('0001000001', 77), ('0110100001', 122), ('1010000010', 80), ('0010100101', 120), ('0010001001', 93), ('0011001000', 114), ('1000011000', 103), ('1000001110', 118), ('0000011000', 82), ('1100001000', 90), ('0010001100', 96), ('1000100001', 81), ('0010011010', 141), ('0001001010', 115), ('1001000100', 101), ('1000010100', 98), ('0110001010', 128), ('1100000000', 54), ('0001001001', 113), ('1000010010', 97), ('0000000101', 59), ('1000001001', 85), ('0100100101', 124), ('0010001101', 124), ('1000000101', 80), ('0010000010', 59), ('1000000000', 21), ('0100000000', 33), ('1110001000', 119), ('0001101000', 117)]\n"
     ]
    },
    {
     "name": "stderr",
     "output_type": "stream",
     "text": [
      " 30%|███       | 3/10 [00:00<00:00, 24.02it/s]\n"
     ]
    },
    {
     "name": "stdout",
     "output_type": "stream",
     "text": [
      "successful ratio is:  0.5707317073170731\n",
      "solution quality is:  0.8666666666666667\n",
      "minimum number of bin is 3\n"
     ]
    },
    {
     "name": "stderr",
     "output_type": "stream",
     "text": [
      "100%|██████████| 48/48 [00:18<00:00,  2.56it/s]\n"
     ]
    },
    {
     "name": "stdout",
     "output_type": "stream",
     "text": [
      "[('0001110000', 127), ('1000010101', 126), ('1100100000', 86), ('0011000100', 109), ('0101000100', 113), ('1001000001', 98), ('0000001010', 66), ('1001000000', 70), ('1110010000', 129), ('0011000010', 108), ('1000100101', 112), ('1000010000', 67), ('1010001000', 86), ('0100001010', 99), ('0010011000', 111), ('0000000001', 28), ('0000100100', 63), ('1011000000', 99), ('1010000000', 50), ('1010000100', 81), ('1000100110', 114), ('1000000010', 51), ('0000011100', 113), ('0100010100', 110), ('0100010000', 79), ('0000110001', 106), ('0100011000', 115), ('0001001000', 85), ('0101001000', 118), ('0000101001', 96), ('1100000101', 113), ('0000100000', 32), ('1000000001', 49), ('0100000101', 92), ('0000100101', 91), ('0110000100', 93), ('0101000000', 82), ('0010010001', 103), ('0100000000', 33), ('0001000010', 79), ('0111000000', 111), ('0001100001', 109), ('1000101000', 89), ('1110000100', 114), ('1001000010', 100), ('0010000000', 29), ('0010000110', 90), ('0010000001', 57), ('0010100000', 61), ('1000001000', 57), ('1000100010', 83), ('0010010000', 75), ('0010100001', 89), ('0000001000', 36), ('0011010000', 124), ('0000010001', 74), ('0010110000', 107), ('0000000010', 30), ('1000000100', 52), ('1100100001', 114), ('0001000000', 49), ('0110100000', 94), ('0000001100', 67), ('0010100100', 92), ('0100000001', 61), ('0000010100', 77), ('0011000001', 106), ('0000110100', 109), ('0111000100', 142), ('0000101010', 98), ('1000100100', 84), ('1010100100', 113), ('1101000000', 103), ('0010001000', 65), ('1000000011', 79), ('0110010000', 108), ('0001000100', 80), ('0000101100', 99), ('0010010100', 106), ('1000100000', 53), ('1000001100', 88), ('0000000110', 61), ('0000011001', 110), ('1000000110', 82), ('0001000001', 77), ('0001001100', 116), ('1100010001', 128), ('0110100001', 122), ('1010000010', 80), ('0010100101', 120), ('0000100001', 60), ('1100010000', 100), ('0011001000', 114), ('1000011000', 103), ('0000011000', 82), ('1100001000', 90), ('0010100010', 91), ('0001010000', 95), ('1000001010', 87), ('1000100001', 81), ('1001000100', 101), ('1000101010', 119), ('1000010100', 98), ('1001010000', 116), ('1100000000', 54), ('0001001001', 113), ('0000000101', 59), ('1000001001', 85), ('0000100110', 93), ('1000000101', 80), ('0000101000', 68), ('0100010001', 107), ('1000000000', 21), ('0000010101', 105)]\n"
     ]
    },
    {
     "name": "stderr",
     "output_type": "stream",
     "text": [
      " 30%|███       | 3/10 [00:00<00:00, 31.85it/s]\n"
     ]
    },
    {
     "name": "stdout",
     "output_type": "stream",
     "text": [
      "successful ratio is:  0.5219512195121951\n",
      "solution quality is:  0.9385964912280702\n",
      "minimum number of bin is 3\n"
     ]
    },
    {
     "name": "stderr",
     "output_type": "stream",
     "text": [
      "100%|██████████| 48/48 [00:18<00:00,  2.59it/s]\n"
     ]
    },
    {
     "name": "stdout",
     "output_type": "stream",
     "text": [
      "[('0100000110', 94), ('0100100000', 65), ('0000110000', 78), ('1000010101', 126), ('1100100000', 86), ('0011000100', 109), ('0101000100', 113), ('1001000001', 98), ('0001010010', 125), ('0000001010', 66), ('1001000000', 70), ('0011000010', 108), ('0100000100', 64), ('1000100101', 112), ('0000101110', 129), ('0000010000', 46), ('1000010000', 67), ('0101000001', 110), ('1010001000', 86), ('0100001010', 99), ('0000010010', 76), ('0000000001', 28), ('0000100100', 63), ('1011000000', 99), ('1010000000', 50), ('0100001001', 97), ('0101000010', 112), ('1110100000', 115), ('1000100110', 114), ('0000000100', 31), ('1000000010', 51), ('0100000011', 91), ('0100010000', 79), ('0010010010', 105), ('0110000001', 90), ('0001001000', 85), ('0101001000', 118), ('0000100000', 32), ('1001001000', 106), ('0001100010', 111), ('0100001101', 128), ('1000000001', 49), ('0000100101', 91), ('0101000000', 82), ('1100000100', 85), ('0010010001', 103), ('1010010010', 126), ('0001000010', 79), ('1000110100', 130), ('0111000000', 111), ('0001100001', 109), ('1010010000', 96), ('1000101000', 89), ('1001000010', 100), ('0010000000', 29), ('0010000110', 90), ('0100100100', 96), ('1000001000', 57), ('1000100010', 83), ('0010010000', 75), ('0100110000', 111), ('0010100001', 89), ('0000001000', 36), ('0001000110', 110), ('0000010001', 74), ('0101100000', 114), ('0001100100', 112), ('1010001010', 116), ('1100000001', 82), ('1010100000', 82), ('0010110000', 107), ('0000000010', 30), ('0010001010', 95), ('1000000100', 52), ('1100100001', 114), ('0000001001', 64), ('0110000110', 123), ('0100100010', 95), ('0000110010', 108), ('0011000000', 78), ('0001000000', 49), ('0110100000', 94), ('0100001100', 100), ('0001000101', 108), ('0000001110', 97), ('0100001000', 69), ('0000001100', 67), ('0010100100', 92), ('0100100001', 93), ('0000010100', 77), ('1010100010', 112), ('0000110100', 109), ('0000101010', 98), ('1000100100', 84), ('1000000011', 79), ('0010100011', 119), ('0110010000', 108), ('0000101100', 99), ('0010010100', 106), ('0110000101', 121), ('1000100000', 53), ('0010100110', 122), ('0000000011', 58), ('1000000110', 82), ('0010100101', 120), ('0000100001', 60), ('1100010000', 100), ('0010001001', 93), ('0010000101', 88), ('1100001000', 90), ('0010100010', 91), ('0000010011', 104), ('0001010000', 95), ('1000001010', 87), ('0010001100', 96), ('0001001010', 115), ('1000010100', 98), ('1001010000', 116), ('1100000000', 54), ('0001001001', 113), ('0000000101', 59), ('1000001001', 85), ('0100100101', 124), ('1000000101', 80), ('0000101000', 68), ('0010000010', 59), ('1000000000', 21), ('0100000000', 33), ('1110001000', 119), ('0100100011', 123)]\n"
     ]
    },
    {
     "name": "stderr",
     "output_type": "stream",
     "text": [
      " 30%|███       | 3/10 [00:00<00:00, 22.81it/s]\n"
     ]
    },
    {
     "name": "stdout",
     "output_type": "stream",
     "text": [
      "successful ratio is:  0.5804878048780487\n",
      "solution quality is:  0.9153846153846154\n",
      "minimum number of bin is 3\n"
     ]
    },
    {
     "name": "stderr",
     "output_type": "stream",
     "text": [
      "100%|██████████| 48/48 [00:18<00:00,  2.59it/s]\n"
     ]
    },
    {
     "name": "stdout",
     "output_type": "stream",
     "text": [
      "[('0100000110', 94), ('0100100000', 65), ('0000010110', 107), ('0111000010', 141), ('0000110000', 78), ('0000001101', 95), ('1100100000', 86), ('0011000100', 109), ('0101000100', 113), ('1001000001', 98), ('0010110100', 138), ('0001010010', 125), ('0000001010', 66), ('0001100000', 81), ('1100101000', 122), ('0000010000', 46), ('1000010000', 67), ('0101000001', 110), ('0110100010', 124), ('1010001000', 86), ('0100001010', 99), ('0000010010', 76), ('0000000001', 28), ('0010000011', 87), ('1011000000', 99), ('1010000000', 50), ('0100001001', 97), ('0101000010', 112), ('1010000100', 81), ('1010001001', 114), ('0000000100', 31), ('0100000011', 91), ('0000110001', 106), ('0110000001', 90), ('0101001000', 118), ('1100000101', 113), ('0000100000', 32), ('1001001000', 106), ('0100001110', 130), ('1000000001', 49), ('0110000100', 93), ('0101000000', 82), ('0010010001', 103), ('0111000000', 111), ('1000110000', 99), ('1010010000', 96), ('1000101000', 89), ('1001000010', 100), ('0010000111', 118), ('0010000000', 29), ('0010000001', 57), ('0100100100', 96), ('1000001000', 57), ('1000100010', 83), ('0010010000', 75), ('0010100001', 89), ('0000001000', 36), ('0001000110', 110), ('0000010001', 74), ('0001100100', 112), ('1010001010', 116), ('1010100000', 82), ('0000011010', 112), ('0000000010', 30), ('1000000100', 52), ('0011010100', 155), ('1100100001', 114), ('1100001001', 118), ('1010000001', 78), ('0100100010', 95), ('0000110010', 108), ('1110000000', 83), ('0011000000', 78), ('0001000000', 49), ('0001000101', 108), ('1110000001', 111), ('0000001110', 97), ('0110001000', 98), ('0100001000', 69), ('0000001100', 67), ('0001010100', 126), ('0010100100', 92), ('0100100001', 93), ('0100000001', 61), ('0000010100', 77), ('0000110100', 109), ('0111000100', 142), ('0010110010', 137), ('0000100010', 62), ('1101000000', 103), ('0010001000', 65), ('1000000011', 79), ('0000100111', 121), ('0000100011', 90), ('0011010010', 154), ('0001000100', 80), ('1001100000', 102), ('0110000101', 121), ('1000100000', 53), ('1000001100', 88), ('0000000110', 61), ('0000000011', 58), ('0000011001', 110), ('1000000110', 82), ('0001000001', 77), ('1010000010', 80), ('0000010101', 105), ('1000011000', 103), ('0011001000', 114), ('0000011000', 82), ('0001010000', 95), ('0110000000', 62), ('1100001000', 90), ('0010001100', 96), ('1000100001', 81), ('0001001010', 115), ('1001000100', 101), ('1000101010', 119), ('1000010100', 98), ('1001010000', 116), ('1100000000', 54), ('0001001001', 113), ('0110100100', 125), ('1000010010', 97), ('1010000101', 109), ('0100100101', 124), ('0000100110', 93), ('0010001101', 124), ('0000101000', 68), ('0010000010', 59), ('1000000000', 21), ('0100000000', 33), ('1110001000', 119)]\n"
     ]
    },
    {
     "name": "stderr",
     "output_type": "stream",
     "text": [
      " 30%|███       | 3/10 [00:00<00:00, 24.02it/s]\n"
     ]
    },
    {
     "name": "stdout",
     "output_type": "stream",
     "text": [
      "successful ratio is:  0.5707317073170731\n",
      "solution quality is:  0.8796992481203008\n",
      "minimum number of bin is 3\n"
     ]
    },
    {
     "name": "stderr",
     "output_type": "stream",
     "text": [
      "100%|██████████| 48/48 [00:26<00:00,  1.80it/s]\n"
     ]
    },
    {
     "name": "stdout",
     "output_type": "stream",
     "text": [
      "[('0100000110', 94), ('0011100000', 110), ('0000110000', 78), ('0000001101', 95), ('1100100000', 86), ('0011000100', 109), ('0101000100', 113), ('1001000001', 98), ('0010000100', 60), ('0000001010', 66), ('1001000000', 70), ('1000001101', 116), ('1100101000', 122), ('1000001011', 115), ('1000100101', 112), ('0000010000', 46), ('1000010000', 67), ('0101000001', 110), ('0100001010', 99), ('0000010010', 76), ('0000000001', 28), ('0010000011', 87), ('1011000000', 99), ('1010000000', 50), ('0100001001', 97), ('1010000100', 81), ('1110100000', 115), ('0000000100', 31), ('1000000010', 51), ('0000011100', 113), ('0100000011', 91), ('0100010000', 79), ('0000110001', 106), ('0110000001', 90), ('0100011000', 115), ('0001001000', 85), ('0000101001', 96), ('0000100000', 32), ('1000000001', 49), ('0100000010', 63), ('1000101100', 120), ('0110000100', 93), ('0101000000', 82), ('1100001010', 120), ('0100101000', 101), ('0001000010', 79), ('0111000000', 111), ('0001100001', 109), ('1000110000', 99), ('1010010000', 96), ('1000101000', 89), ('1001000010', 100), ('0010000000', 29), ('0010000110', 90), ('1000001000', 57), ('1000100010', 83), ('0100110000', 111), ('0000001000', 36), ('0000010001', 74), ('1000000111', 110), ('1010001010', 116), ('1100000001', 82), ('0010110000', 107), ('0000011010', 112), ('0000000010', 30), ('1000000100', 52), ('1100100001', 114), ('1100001001', 118), ('0000001001', 64), ('0100100010', 95), ('0000110010', 108), ('0110001001', 126), ('1110000000', 83), ('0001000000', 49), ('0100001100', 100), ('0001000101', 108), ('1110000001', 111), ('0000001110', 97), ('0100001000', 69), ('0000001100', 67), ('1010101000', 118), ('0100100001', 93), ('0100000001', 61), ('0000010100', 77), ('1010100010', 112), ('1110000010', 113), ('0000110100', 109), ('0000100010', 62), ('1000100100', 84), ('1101000000', 103), ('0010001000', 65), ('1000000011', 79), ('1100000010', 84), ('0000100011', 90), ('0001000100', 80), ('0000101100', 99), ('0010010100', 106), ('1001100000', 102), ('0110000101', 121), ('1000100000', 53), ('1000001100', 88), ('0000000110', 61), ('0100010010', 109), ('0000000011', 58), ('0001000001', 77), ('1110001000', 119), ('0110100001', 122), ('1010000010', 80), ('0010100101', 120), ('1100010000', 100), ('0010001001', 93), ('1000011000', 103), ('0010000101', 88), ('1000001110', 118), ('0000010101', 105), ('0011001000', 114), ('0000011000', 82), ('1100000011', 112), ('1100001000', 90), ('0110000000', 62), ('0001010000', 95), ('0010001100', 96), ('1001000100', 101), ('1100000000', 54), ('0001001001', 113), ('0000100110', 93), ('0010001101', 124), ('0000101000', 68), ('1000000000', 21), ('0100000000', 33), ('0000111000', 114)]\n"
     ]
    },
    {
     "name": "stderr",
     "output_type": "stream",
     "text": [
      " 30%|███       | 3/10 [00:01<00:03,  1.88it/s]\n"
     ]
    },
    {
     "name": "stdout",
     "output_type": "stream",
     "text": [
      "successful ratio is:  0.6146341463414634\n",
      "solution quality is:  0.9618320610687023\n",
      "minimum number of bin is 3\n"
     ]
    },
    {
     "name": "stderr",
     "output_type": "stream",
     "text": [
      "100%|██████████| 48/48 [00:26<00:00,  1.79it/s]\n"
     ]
    },
    {
     "name": "stdout",
     "output_type": "stream",
     "text": [
      "[('0100100000', 65), ('1000010001', 95), ('0100001011', 127), ('1100100000', 86), ('0011000100', 109), ('0101000100', 113), ('1001000001', 98), ('1010000110', 111), ('0010000100', 60), ('0000001010', 66), ('1001000000', 70), ('1000001101', 116), ('1100001100', 121), ('0001100000', 81), ('0100000100', 64), ('0000010000', 46), ('0101000001', 110), ('0000000001', 28), ('0000100100', 63), ('0010000011', 87), ('1011000000', 99), ('1100000110', 115), ('1010000100', 81), ('1010001001', 114), ('1110100000', 115), ('0000000100', 31), ('0100000011', 91), ('0100010000', 79), ('0100100011', 123), ('0101000110', 143), ('0101001000', 118), ('1100000101', 113), ('0000100000', 32), ('1001001000', 106), ('1000000001', 49), ('0100100110', 126), ('0100000010', 63), ('0101000000', 82), ('1100001010', 120), ('0010010001', 103), ('0100000000', 33), ('0001000010', 79), ('1010010000', 96), ('1110000100', 114), ('1001000010', 100), ('0010000000', 29), ('0010000001', 57), ('0010100000', 61), ('0100100100', 96), ('1000001000', 57), ('0001000011', 107), ('1000100010', 83), ('0010100001', 89), ('0000001000', 36), ('0001000110', 110), ('0000010001', 74), ('1000000111', 110), ('0101100000', 114), ('1010001010', 116), ('1100000001', 82), ('1010100000', 82), ('0000011010', 112), ('0000000010', 30), ('0010001010', 95), ('1000000100', 52), ('0100000111', 122), ('1100001001', 118), ('1010000001', 78), ('0000001001', 64), ('1010001100', 117), ('0000110010', 108), ('1110000000', 83), ('0011000000', 78), ('0001000000', 49), ('1010000011', 108), ('0000001100', 67), ('0010100100', 92), ('1100100100', 117), ('0100100001', 93), ('0100000001', 61), ('0000010100', 77), ('0011000001', 106), ('1110000010', 113), ('0010101000', 97), ('1000100100', 84), ('1010100100', 113), ('0010001000', 65), ('0000100011', 90), ('0001000100', 80), ('1000100000', 53), ('0000000110', 61), ('0010100110', 122), ('0000000011', 58), ('1000000110', 82), ('0001000001', 77), ('0001001100', 116), ('1010000010', 80), ('0000100001', 60), ('0010001001', 93), ('1100010000', 100), ('1000011000', 103), ('1000001110', 118), ('0011001000', 114), ('1100000011', 112), ('0001010000', 95), ('0110000000', 62), ('0010001100', 96), ('1000100001', 81), ('0010001011', 123), ('0001001010', 115), ('1000010100', 98), ('1100000000', 54), ('0001001001', 113), ('1000010010', 97), ('0000000101', 59), ('1000001001', 85), ('0000100110', 93), ('1000000101', 80), ('0100010001', 107), ('0010000010', 59), ('1000000000', 21), ('0000010101', 105), ('0001101000', 117)]\n"
     ]
    },
    {
     "name": "stderr",
     "output_type": "stream",
     "text": [
      " 30%|███       | 3/10 [00:00<00:00, 25.41it/s]\n"
     ]
    },
    {
     "name": "stdout",
     "output_type": "stream",
     "text": [
      "successful ratio is:  0.5609756097560976\n",
      "solution quality is:  0.9349593495934959\n",
      "minimum number of bin is 3\n"
     ]
    },
    {
     "name": "stderr",
     "output_type": "stream",
     "text": [
      "100%|██████████| 48/48 [00:26<00:00,  1.79it/s]\n"
     ]
    },
    {
     "name": "stdout",
     "output_type": "stream",
     "text": [
      "[('0100100000', 65), ('1000010001', 95), ('0000110000', 78), ('0000001101', 95), ('0000001111', 125), ('1010000110', 111), ('0000001010', 66), ('0001100000', 81), ('0100000100', 64), ('1000001011', 115), ('0000010000', 46), ('1000010000', 67), ('0101000001', 110), ('1010001000', 86), ('0100001010', 99), ('0010011000', 111), ('0000000001', 28), ('0000100100', 63), ('0010000011', 87), ('1010000000', 50), ('0100001001', 97), ('0101000010', 112), ('1100000110', 115), ('1010001001', 114), ('0000000100', 31), ('1000000010', 51), ('0100010100', 110), ('0100010000', 79), ('0010010010', 105), ('0100011000', 115), ('0000001011', 94), ('1000110001', 127), ('0001001000', 85), ('0000101001', 96), ('1100000101', 113), ('0000100000', 32), ('0000100101', 91), ('0101000000', 82), ('0001000010', 79), ('0111000000', 111), ('1110000100', 114), ('1001000010', 100), ('0010000000', 29), ('0010000001', 57), ('0010100000', 61), ('0100100100', 96), ('1000001000', 57), ('1000100010', 83), ('0010010000', 75), ('0100110000', 111), ('0000001000', 36), ('0001000110', 110), ('1000000111', 110), ('0101100000', 114), ('0001100100', 112), ('1010001010', 116), ('1100000001', 82), ('0000011010', 112), ('0000000010', 30), ('1000000100', 52), ('1100001001', 118), ('0000001001', 64), ('0110000110', 123), ('0011000000', 78), ('0001000000', 49), ('0001000101', 108), ('0000001110', 97), ('0000001100', 67), ('0001010100', 126), ('0100100001', 93), ('0100000001', 61), ('0000010100', 77), ('0000100010', 62), ('1000100100', 84), ('1010100100', 113), ('0010001000', 65), ('1000000011', 79), ('0000100111', 121), ('0000100011', 90), ('0110010000', 108), ('0001000100', 80), ('0010010100', 106), ('1001100000', 102), ('1000001100', 88), ('0000000110', 61), ('0100010010', 109), ('0010100110', 122), ('0000000011', 58), ('0000011001', 110), ('1000000110', 82), ('0001000001', 77), ('1010000010', 80), ('0000100001', 60), ('1100010000', 100), ('0011001000', 114), ('0010000101', 88), ('1000011000', 103), ('0000010011', 104), ('1100001000', 90), ('0110000000', 62), ('1000001010', 87), ('0010001100', 96), ('1000100001', 81), ('0001001010', 115), ('1001000100', 101), ('1000010100', 98), ('1100000000', 54), ('0001001001', 113), ('0110100100', 125), ('1010000101', 109), ('0000000101', 59), ('1000001001', 85), ('1000000101', 80), ('0000101000', 68), ('0010000010', 59), ('1000000000', 21), ('0000010101', 105), ('0100010001', 107)]\n"
     ]
    },
    {
     "name": "stderr",
     "output_type": "stream",
     "text": [
      " 30%|███       | 3/10 [00:00<00:00, 28.27it/s]\n"
     ]
    },
    {
     "name": "stdout",
     "output_type": "stream",
     "text": [
      "successful ratio is:  0.5414634146341464\n",
      "solution quality is:  0.940677966101695\n",
      "minimum number of bin is 3\n"
     ]
    },
    {
     "name": "stderr",
     "output_type": "stream",
     "text": [
      "100%|██████████| 48/48 [00:26<00:00,  1.79it/s]\n"
     ]
    },
    {
     "name": "stdout",
     "output_type": "stream",
     "text": [
      "[('0100000110', 94), ('0100100000', 65), ('0000010110', 107), ('0000110000', 78), ('0011000100', 109), ('0101000100', 113), ('1001000001', 98), ('1010000110', 111), ('0010000100', 60), ('1001000000', 70), ('1110010000', 129), ('0001100000', 81), ('0100000100', 64), ('1000100101', 112), ('0000010000', 46), ('1000010000', 67), ('1010001000', 86), ('0100001010', 99), ('0000010010', 76), ('0000000001', 28), ('1011000000', 99), ('1010000000', 50), ('1010010110', 157), ('1100000110', 115), ('1110100000', 115), ('1000100110', 114), ('0000000100', 31), ('1000000010', 51), ('0100000011', 91), ('1100100010', 116), ('1010000111', 139), ('0000100000', 32), ('1000000001', 49), ('0100000101', 92), ('0000100101', 91), ('0100000010', 63), ('0110000100', 93), ('0100101000', 101), ('0001000010', 79), ('0111000000', 111), ('0001100001', 109), ('1000110100', 130), ('1000110000', 99), ('1000101000', 89), ('1110000100', 114), ('1001000010', 100), ('1010100001', 110), ('0010000111', 118), ('0010000000', 29), ('0010100000', 61), ('0010000001', 57), ('1000001000', 57), ('0001000011', 107), ('1000100010', 83), ('0100110000', 111), ('0000001000', 36), ('0000010001', 74), ('1000000111', 110), ('0101100000', 114), ('1100000001', 82), ('1010100000', 82), ('0000000010', 30), ('1000000100', 52), ('0000001001', 64), ('0000110010', 108), ('0011000000', 78), ('0001000000', 49), ('0100001100', 100), ('0001000101', 108), ('0000001110', 97), ('1010000011', 108), ('0000001100', 67), ('0010100100', 92), ('1000100011', 111), ('1100100100', 117), ('0100100001', 93), ('0100000001', 61), ('0000010100', 77), ('0011000001', 106), ('1110000010', 113), ('0010101000', 97), ('0000110100', 109), ('0000100010', 62), ('1000100100', 84), ('1101000000', 103), ('0010001000', 65), ('0000100011', 90), ('0010100011', 119), ('0110010000', 108), ('0110000010', 92), ('0000101100', 99), ('0010010100', 106), ('1000100000', 53), ('1000001100', 88), ('0000000011', 58), ('1000000110', 82), ('0001000001', 77), ('1100010000', 100), ('1000011000', 103), ('1100001000', 90), ('0110000000', 62), ('0010100010', 91), ('1000001010', 87), ('1000100001', 81), ('1001000100', 101), ('1000010100', 98), ('1100000000', 54), ('1000010010', 97), ('1010000101', 109), ('0000100110', 93), ('1000000101', 80), ('0000101000', 68), ('0010000010', 59), ('1000000000', 21), ('0100000000', 33)]\n"
     ]
    },
    {
     "name": "stderr",
     "output_type": "stream",
     "text": [
      " 30%|███       | 3/10 [00:00<00:00, 28.40it/s]\n"
     ]
    },
    {
     "name": "stdout",
     "output_type": "stream",
     "text": [
      "successful ratio is:  0.5414634146341464\n",
      "solution quality is:  0.9652173913043478\n",
      "minimum number of bin is 3\n"
     ]
    },
    {
     "name": "stderr",
     "output_type": "stream",
     "text": [
      "100%|██████████| 48/48 [00:28<00:00,  1.69it/s]\n"
     ]
    },
    {
     "name": "stdout",
     "output_type": "stream",
     "text": [
      "[('0100000110', 94), ('0011100000', 110), ('0000010110', 107), ('1100100000', 86), ('0011000100', 109), ('1001000001', 98), ('0010000100', 60), ('0000001010', 66), ('0001100000', 81), ('0000010000', 46), ('1010001000', 86), ('0000010010', 76), ('0000000001', 28), ('1011000000', 99), ('0100001001', 97), ('0110000011', 120), ('1100000110', 115), ('1110100000', 115), ('0000000100', 31), ('1000000010', 51), ('0100000011', 91), ('0100010000', 79), ('0010010010', 105), ('0100011000', 115), ('0101001000', 118), ('0000100000', 32), ('1001001000', 106), ('0001100010', 111), ('1000000001', 49), ('1000010110', 128), ('0100000010', 63), ('0110000100', 93), ('1100000100', 85), ('0111000000', 111), ('1000110000', 99), ('1010010000', 96), ('1001000010', 100), ('0010000000', 29), ('0010000001', 57), ('0010100000', 61), ('0100100100', 96), ('1000001000', 57), ('1000100010', 83), ('0000001000', 36), ('0011010000', 124), ('1100000001', 82), ('1010100000', 82), ('0010110000', 107), ('0000000010', 30), ('0100000111', 122), ('1100001001', 118), ('1010000001', 78), ('0000001001', 64), ('0000110010', 108), ('1110000000', 83), ('0011000000', 78), ('0001000000', 49), ('0110100000', 94), ('1110000001', 111), ('1010000011', 108), ('0110001000', 98), ('0100001000', 69), ('0000001100', 67), ('1100100100', 117), ('0100100001', 93), ('0100000001', 61), ('1110000010', 113), ('0000110100', 109), ('0000100010', 62), ('1000100100', 84), ('1101000000', 103), ('0010001000', 65), ('1100000010', 84), ('0110010000', 108), ('0001000100', 80), ('0110000010', 92), ('0110000101', 121), ('1000100000', 53), ('1000001100', 88), ('0000000110', 61), ('0000000011', 58), ('0001000001', 77), ('0110100001', 122), ('0000100001', 60), ('1100010000', 100), ('1000001110', 118), ('1100000011', 112), ('1100001000', 90), ('0110000000', 62), ('0001010000', 95), ('0000010011', 104), ('1000001010', 87), ('1010010100', 127), ('1000100001', 81), ('1001000100', 101), ('1001010000', 116), ('1100000000', 54), ('1000010010', 97), ('0000000101', 59), ('1000001001', 85), ('0100100101', 124), ('1000000101', 80), ('0010000010', 59), ('1000000000', 21), ('0100000000', 33), ('0000111000', 114), ('0001101000', 117)]\n"
     ]
    },
    {
     "name": "stderr",
     "output_type": "stream",
     "text": [
      " 30%|███       | 3/10 [00:00<00:00, 39.30it/s]\n"
     ]
    },
    {
     "name": "stdout",
     "output_type": "stream",
     "text": [
      "successful ratio is:  0.4878048780487805\n",
      "solution quality is:  0.9345794392523364\n",
      "minimum number of bin is 3\n"
     ]
    },
    {
     "name": "stderr",
     "output_type": "stream",
     "text": [
      "100%|██████████| 48/48 [00:35<00:00,  1.34it/s]\n"
     ]
    },
    {
     "name": "stdout",
     "output_type": "stream",
     "text": [
      "[('0100000110', 94), ('0000010110', 107), ('1000010001', 95), ('0000001101', 95), ('1100100000', 86), ('0011000100', 109), ('1001000001', 98), ('1010000110', 111), ('0010000100', 60), ('0000001010', 66), ('1001000000', 70), ('0001100000', 81), ('1100101000', 122), ('0000010000', 46), ('1000010000', 67), ('0000000001', 28), ('0000000111', 89), ('1011000000', 99), ('1010000000', 50), ('1010000100', 81), ('0000000100', 31), ('1000000010', 51), ('0000011100', 113), ('0100000011', 91), ('0100010000', 79), ('0010010010', 105), ('0100011000', 115), ('0000101001', 96), ('1100000101', 113), ('0000100000', 32), ('1000000001', 49), ('0100000101', 92), ('0000100101', 91), ('0100000010', 63), ('0110000100', 93), ('0101000000', 82), ('0001011010', 161), ('1100000100', 85), ('0010010001', 103), ('0100000000', 33), ('0100101000', 101), ('1010010000', 96), ('1110000100', 114), ('1010100001', 110), ('0010000000', 29), ('0010100000', 61), ('1000001000', 57), ('1000100010', 83), ('0010010000', 75), ('0100110000', 111), ('0010100001', 89), ('0000001000', 36), ('0001000110', 110), ('0000010001', 74), ('1000000111', 110), ('1100000001', 82), ('0000011010', 112), ('0000000010', 30), ('1000000100', 52), ('1010000001', 78), ('0000001001', 64), ('0100100010', 95), ('0011000000', 78), ('0001000000', 49), ('0110100000', 94), ('0001000101', 108), ('1110000001', 111), ('0110001000', 98), ('0100100001', 93), ('0100000001', 61), ('1010100010', 112), ('0011000001', 106), ('0010101000', 97), ('0000100010', 62), ('1000100100', 84), ('1101000000', 103), ('0010001000', 65), ('1000000011', 79), ('1100000010', 84), ('1010010001', 124), ('0000100011', 90), ('0001000100', 80), ('0110000010', 92), ('1001100000', 102), ('1000100000', 53), ('0000000110', 61), ('0000000011', 58), ('0000011001', 110), ('1000000110', 82), ('1100110000', 132), ('1010000010', 80), ('0000100001', 60), ('1000001110', 118), ('1100000011', 112), ('1100001000', 90), ('0000010011', 104), ('1000001010', 87), ('0010001100', 96), ('0001001010', 115), ('1001000100', 101), ('1100000000', 54), ('0001001001', 113), ('1000010010', 97), ('0000000101', 59), ('1010000101', 109), ('1000001001', 85), ('1000000101', 80), ('0010000010', 59), ('1000000000', 21), ('0000010101', 105), ('0000111000', 114), ('0001101000', 117)]\n"
     ]
    },
    {
     "name": "stderr",
     "output_type": "stream",
     "text": [
      " 30%|███       | 3/10 [00:00<00:00, 31.05it/s]\n"
     ]
    },
    {
     "name": "stdout",
     "output_type": "stream",
     "text": [
      "successful ratio is:  0.526829268292683\n",
      "solution quality is:  0.9642857142857143\n",
      "minimum number of bin is 3\n"
     ]
    },
    {
     "name": "stderr",
     "output_type": "stream",
     "text": [
      "100%|██████████| 48/48 [00:35<00:00,  1.37it/s]\n"
     ]
    },
    {
     "name": "stdout",
     "output_type": "stream",
     "text": [
      "[('0011100000', 110), ('1000010001', 95), ('0000110000', 78), ('0000001101', 95), ('0011000100', 109), ('1001000001', 98), ('1010000110', 111), ('0010000100', 60), ('0000001010', 66), ('1001000000', 70), ('0001100000', 81), ('1000100101', 112), ('0000010000', 46), ('1000010000', 67), ('0101000001', 110), ('1010001000', 86), ('0000010010', 76), ('0000000001', 28), ('0000100100', 63), ('0000000111', 89), ('1011000000', 99), ('0100001001', 97), ('0101000010', 112), ('0110000011', 120), ('1100000110', 115), ('1000100110', 114), ('0000000100', 31), ('1000000010', 51), ('0100000011', 91), ('0100010000', 79), ('0010010010', 105), ('0110000001', 90), ('0000001011', 94), ('1100000101', 113), ('0000100000', 32), ('1001001000', 106), ('0001100010', 111), ('1000000001', 49), ('0000100101', 91), ('0100000010', 63), ('1000101100', 120), ('0101000000', 82), ('1100000100', 85), ('0001000010', 79), ('0001100001', 109), ('1000110000', 99), ('1000101000', 89), ('0010000000', 29), ('0010000110', 90), ('0010100000', 61), ('1000001000', 57), ('0001000011', 107), ('0010010000', 75), ('0000001000', 36), ('0001000110', 110), ('0000010001', 74), ('0001100100', 112), ('1100000001', 82), ('0010110000', 107), ('0000011010', 112), ('0000000010', 30), ('1000000100', 52), ('1100100001', 114), ('1010000001', 78), ('0000001001', 64), ('0110000110', 123), ('0100100010', 95), ('1010001100', 117), ('1110000000', 83), ('0011000000', 78), ('0001000000', 49), ('1100100100', 117), ('1110000010', 113), ('0000110100', 109), ('1101000000', 103), ('0010001000', 65), ('1000000011', 79), ('0010100011', 119), ('0001000100', 80), ('0110000010', 92), ('0010010100', 106), ('1001100000', 102), ('1000100000', 53), ('1000001100', 88), ('0010100110', 122), ('0000000011', 58), ('1000000110', 82), ('0001000001', 77), ('1010000010', 80), ('0000100001', 60), ('0010001001', 93), ('0000011000', 82), ('1100000011', 112), ('0001010000', 95), ('0110000000', 62), ('1100001000', 90), ('0000010011', 104), ('1001000100', 101), ('1000010100', 98), ('1001010000', 116), ('1100000000', 54), ('0000000101', 59), ('1000001001', 85), ('0000101000', 68), ('0010000010', 59), ('1000000000', 21), ('0100000000', 33)]\n"
     ]
    },
    {
     "name": "stderr",
     "output_type": "stream",
     "text": [
      " 30%|███       | 3/10 [00:00<00:00, 33.72it/s]\n"
     ]
    },
    {
     "name": "stdout",
     "output_type": "stream",
     "text": [
      "successful ratio is:  0.5121951219512195\n",
      "solution quality is:  0.9813084112149533\n",
      "minimum number of bin is 3\n"
     ]
    },
    {
     "name": "stderr",
     "output_type": "stream",
     "text": [
      "100%|██████████| 48/48 [00:35<00:00,  1.36it/s]\n"
     ]
    },
    {
     "name": "stdout",
     "output_type": "stream",
     "text": [
      "[('0100000110', 94), ('0100100000', 65), ('0011100000', 110), ('0000110000', 78), ('0000001101', 95), ('0011000100', 109), ('1010000110', 111), ('1001000011', 128), ('0000001010', 66), ('1001000000', 70), ('0001100000', 81), ('1000001011', 115), ('1000100101', 112), ('0000010000', 46), ('1000010000', 67), ('1010001000', 86), ('0000010010', 76), ('0000000001', 28), ('0000100100', 63), ('0000000111', 89), ('1011000000', 99), ('1010000000', 50), ('0101000010', 112), ('0000000100', 31), ('1000000010', 51), ('1100100011', 144), ('0000101001', 96), ('0000100000', 32), ('1001001000', 106), ('1000000001', 49), ('0100000101', 92), ('1000101001', 117), ('0100000010', 63), ('0101000000', 82), ('1100000100', 85), ('0100101000', 101), ('0001000010', 79), ('0111000000', 111), ('0010110001', 135), ('0001100001', 109), ('1000110000', 99), ('1010010000', 96), ('1000101000', 89), ('0010000111', 118), ('0010000000', 29), ('0010000110', 90), ('0010100000', 61), ('1000001000', 57), ('1000100010', 83), ('0010010000', 75), ('0100110000', 111), ('0010100001', 89), ('1100001111', 179), ('0000001000', 36), ('1001100010', 132), ('0001000110', 110), ('0000010001', 74), ('1000000111', 110), ('0101100000', 114), ('1010001010', 116), ('1010100000', 82), ('0010110000', 107), ('0000000010', 30), ('0010001010', 95), ('1000000100', 52), ('1010000001', 78), ('0000001001', 64), ('1110000000', 83), ('0011000000', 78), ('0001000000', 49), ('0100001100', 100), ('0001000101', 108), ('1010000011', 108), ('0100001000', 69), ('0000001100', 67), ('1010101000', 118), ('1000100011', 111), ('0100000001', 61), ('0011000001', 106), ('0000100010', 62), ('0000101010', 98), ('1000100100', 84), ('1010100100', 113), ('1000000011', 79), ('1100000010', 84), ('0000100111', 121), ('0010100011', 119), ('0001000100', 80), ('0000101100', 99), ('1001100000', 102), ('1000100000', 53), ('1000001100', 88), ('0100010010', 109), ('0010100110', 122), ('1000000110', 82), ('1010000010', 80), ('0000100001', 60), ('1100010000', 100), ('0011001000', 114), ('1000011000', 103), ('1000001110', 118), ('1100000011', 112), ('1100001000', 90), ('0110000000', 62), ('1000001010', 87), ('0010001100', 96), ('1000100001', 81), ('1100000000', 54), ('0001001001', 113), ('1010000101', 109), ('0000000101', 59), ('1000001001', 85), ('1000000101', 80), ('0000101000', 68), ('0010000010', 59), ('1000000000', 21), ('0100000000', 33)]\n"
     ]
    },
    {
     "name": "stderr",
     "output_type": "stream",
     "text": [
      " 30%|███       | 3/10 [00:02<00:05,  1.36it/s]\n"
     ]
    },
    {
     "name": "stdout",
     "output_type": "stream",
     "text": [
      "successful ratio is:  0.5365853658536586\n",
      "solution quality is:  0.9401709401709402\n",
      "minimum number of bin is 3\n"
     ]
    },
    {
     "name": "stderr",
     "output_type": "stream",
     "text": [
      "100%|██████████| 48/48 [00:35<00:00,  1.34it/s]\n"
     ]
    },
    {
     "name": "stdout",
     "output_type": "stream",
     "text": [
      "[('0100100000', 65), ('0000010110', 107), ('0011100000', 110), ('1000010001', 95), ('1100100000', 86), ('0011000100', 109), ('1001000001', 98), ('0010000100', 60), ('0000001010', 66), ('1001000000', 70), ('0011000010', 108), ('0001100000', 81), ('0100000100', 64), ('0000010000', 46), ('1000010000', 67), ('1010001000', 86), ('0010011000', 111), ('0000010010', 76), ('0000000001', 28), ('0000100100', 63), ('1011000000', 99), ('1010000000', 50), ('1100000110', 115), ('1010000100', 81), ('1110100000', 115), ('0000000100', 31), ('1000000010', 51), ('0000011100', 113), ('0100010100', 110), ('1100100010', 116), ('0000110001', 106), ('0010010010', 105), ('0100011000', 115), ('1001001101', 165), ('0001001000', 85), ('0000100000', 32), ('1001001000', 106), ('0001100010', 111), ('1000000001', 49), ('0000100101', 91), ('0100000010', 63), ('0110000100', 93), ('0101000000', 82), ('1100001010', 120), ('0010010001', 103), ('0001000010', 79), ('0111000000', 111), ('0001100001', 109), ('1000110000', 99), ('1010010000', 96), ('1110000100', 114), ('0010000000', 29), ('0010000001', 57), ('0010100000', 61), ('0100100100', 96), ('1000001000', 57), ('0100110000', 111), ('0000001000', 36), ('0101100000', 114), ('1010001010', 116), ('1100000001', 82), ('1010100000', 82), ('0010110000', 107), ('0000000010', 30), ('1000000100', 52), ('0000001001', 64), ('0000110010', 108), ('0011000000', 78), ('0001000000', 49), ('0100001000', 69), ('0000001100', 67), ('1000100011', 111), ('0000010100', 77), ('0011000001', 106), ('0000100010', 62), ('1101000000', 103), ('0010001000', 65), ('1000000011', 79), ('0110010000', 108), ('0001000100', 80), ('0000101100', 99), ('0010010100', 106), ('1000100000', 53), ('1000001100', 88), ('0010011001', 139), ('0000000011', 58), ('0000011001', 110), ('0001001100', 116), ('1110001000', 119), ('1100010001', 128), ('1010000010', 80), ('0000010101', 105), ('0010000101', 88), ('1000011000', 103), ('0011001000', 114), ('0000011000', 82), ('1100001000', 90), ('0001010000', 95), ('1000001010', 87), ('0010001100', 96), ('1000100001', 81), ('0001001010', 115), ('0100011100', 146), ('1001000100', 101), ('1000010100', 98), ('0001001001', 113), ('0000000101', 59), ('1000001001', 85), ('0010000010', 59), ('1000000000', 21), ('0100000000', 33), ('0000111000', 114)]\n"
     ]
    },
    {
     "name": "stderr",
     "output_type": "stream",
     "text": [
      " 30%|███       | 3/10 [00:00<00:00, 30.83it/s]\n"
     ]
    },
    {
     "name": "stdout",
     "output_type": "stream",
     "text": [
      "successful ratio is:  0.526829268292683\n",
      "solution quality is:  0.9642857142857143\n",
      "minimum number of bin is 3\n"
     ]
    },
    {
     "name": "stderr",
     "output_type": "stream",
     "text": [
      "100%|██████████| 48/48 [00:35<00:00,  1.37it/s]\n"
     ]
    },
    {
     "name": "stdout",
     "output_type": "stream",
     "text": [
      "[('0100100000', 65), ('1000010001', 95), ('1100100000', 86), ('0011000100', 109), ('0101000100', 113), ('1001000001', 98), ('1010000110', 111), ('0010000100', 60), ('0000001010', 66), ('1001000000', 70), ('1100001100', 121), ('0001100000', 81), ('0000010000', 46), ('1000010000', 67), ('1010001000', 86), ('0000000001', 28), ('0000100100', 63), ('0010000011', 87), ('0000000111', 89), ('1011000000', 99), ('1010000000', 50), ('0101000010', 112), ('1100000110', 115), ('1010000100', 81), ('1110100000', 115), ('1000100110', 114), ('0000000100', 31), ('1000000010', 51), ('0100000011', 91), ('1100100010', 116), ('0110000001', 90), ('0001001000', 85), ('0000100000', 32), ('1000000001', 49), ('0000100101', 91), ('0110000100', 93), ('0101000000', 82), ('1100001010', 120), ('1100000100', 85), ('0001000010', 79), ('0001100001', 109), ('1000110000', 99), ('1010010000', 96), ('1000101000', 89), ('1110000100', 114), ('1001000010', 100), ('1010100001', 110), ('0010000000', 29), ('0010000110', 90), ('0100100100', 96), ('1000001000', 57), ('0100110000', 111), ('0000001000', 36), ('0011010000', 124), ('0101100000', 114), ('1010001010', 116), ('1010100000', 82), ('0000000010', 30), ('1000000100', 52), ('1100100001', 114), ('1010000001', 78), ('1010001100', 117), ('0011000000', 78), ('0001000000', 49), ('0001000101', 108), ('1110000001', 111), ('0100001000', 69), ('0000001100', 67), ('1000100011', 111), ('0100000001', 61), ('1110000010', 113), ('0000101010', 98), ('1101000000', 103), ('0010001000', 65), ('1000000011', 79), ('0001000100', 80), ('0110000010', 92), ('1001100000', 102), ('0110000101', 121), ('1000100000', 53), ('0000000110', 61), ('0010100111', 150), ('0000000011', 58), ('1000000110', 82), ('0001000001', 77), ('0000100001', 60), ('1100010000', 100), ('1000001110', 118), ('0010000101', 88), ('0001010000', 95), ('1000001010', 87), ('1000100001', 81), ('1100000000', 54), ('1000010010', 97), ('0000000101', 59), ('1010000101', 109), ('1000001001', 85), ('0000100110', 93), ('0100010001', 107), ('0000101000', 68), ('0010000010', 59), ('1000000000', 21), ('0100000000', 33), ('1110001000', 119)]\n"
     ]
    },
    {
     "name": "stderr",
     "output_type": "stream",
     "text": [
      " 30%|███       | 3/10 [00:00<00:00, 39.02it/s]\n"
     ]
    },
    {
     "name": "stdout",
     "output_type": "stream",
     "text": [
      "successful ratio is:  0.4878048780487805\n",
      "solution quality is:  0.9615384615384616\n",
      "minimum number of bin is 3\n"
     ]
    },
    {
     "name": "stderr",
     "output_type": "stream",
     "text": [
      "100%|██████████| 48/48 [00:43<00:00,  1.11it/s]\n"
     ]
    },
    {
     "name": "stdout",
     "output_type": "stream",
     "text": [
      "[('0100000110', 94), ('0100100000', 65), ('0011100000', 110), ('0000110000', 78), ('0000001101', 95), ('1100100000', 86), ('0011000100', 109), ('1001000001', 98), ('0001010010', 125), ('0010000100', 60), ('0000001010', 66), ('1001000000', 70), ('0011000010', 108), ('0001100000', 81), ('0100000100', 64), ('1000100101', 112), ('0000010000', 46), ('1000010000', 67), ('0000010010', 76), ('0000000001', 28), ('0000100100', 63), ('1010000000', 50), ('1100000110', 115), ('1010001001', 114), ('1110100000', 115), ('0000000100', 31), ('1000000010', 51), ('0000011100', 113), ('0100010100', 110), ('0000110001', 106), ('0010010010', 105), ('0110000001', 90), ('0000101001', 96), ('0000100000', 32), ('1001001000', 106), ('0001100010', 111), ('1000000001', 49), ('0100000101', 92), ('0100100110', 126), ('0100000010', 63), ('1000101100', 120), ('0010010001', 103), ('0001000010', 79), ('0111000000', 111), ('0001100001', 109), ('1000101000', 89), ('1110000100', 114), ('1001000010', 100), ('1010100001', 110), ('0010000111', 118), ('0010000000', 29), ('0010100000', 61), ('0100100100', 96), ('1000001000', 57), ('0001000011', 107), ('1000100010', 83), ('0010010000', 75), ('0000001000', 36), ('0001000110', 110), ('0011010000', 124), ('1000000111', 110), ('0001100100', 112), ('1010100000', 82), ('0010110000', 107), ('0000000010', 30), ('0010001010', 95), ('1000000100', 52), ('1000011100', 134), ('0000001001', 64), ('1010001100', 117), ('1100011000', 136), ('1010000011', 108), ('0100001000', 69), ('0000001100', 67), ('1010101000', 118), ('1000100011', 111), ('1100100100', 117), ('0100100001', 93), ('0000010100', 77), ('1010100010', 112), ('0010101000', 97), ('0000100010', 62), ('1010100100', 113), ('1101000000', 103), ('1000000011', 79), ('1100000010', 84), ('0001000100', 80), ('0110000010', 92), ('1001100000', 102), ('1000100000', 53), ('1000001100', 88), ('0000000110', 61), ('0010011001', 139), ('0000000011', 58), ('1000000110', 82), ('0000100001', 60), ('1100010000', 100), ('1100001000', 90), ('0110000000', 62), ('0001010000', 95), ('0000010011', 104), ('1001000100', 101), ('1000010100', 98), ('1100000000', 54), ('1010000101', 109), ('0100010110', 140), ('0000101000', 68), ('0010000010', 59), ('1000000000', 21), ('0100000000', 33)]\n"
     ]
    },
    {
     "name": "stderr",
     "output_type": "stream",
     "text": [
      " 30%|███       | 3/10 [00:00<00:00, 34.90it/s]\n"
     ]
    },
    {
     "name": "stdout",
     "output_type": "stream",
     "text": [
      "successful ratio is:  0.5024390243902439\n",
      "solution quality is:  0.9363636363636364\n",
      "minimum number of bin is 3\n"
     ]
    },
    {
     "name": "stderr",
     "output_type": "stream",
     "text": [
      "100%|██████████| 48/48 [00:45<00:00,  1.05it/s]\n"
     ]
    },
    {
     "name": "stdout",
     "output_type": "stream",
     "text": [
      "[('0100100000', 65), ('0000110000', 78), ('0011000100', 109), ('0101000100', 113), ('0000001010', 66), ('0001100000', 81), ('0100000100', 64), ('0000010000', 46), ('1000010000', 67), ('0110100010', 124), ('1010001000', 86), ('1000110010', 129), ('0000000001', 28), ('0000100100', 63), ('1011000000', 99), ('1010000000', 50), ('0100001001', 97), ('0101000010', 112), ('1100000110', 115), ('1010000100', 81), ('1010001001', 114), ('0000000100', 31), ('1000000010', 51), ('0100000011', 91), ('0100010100', 110), ('0100010000', 79), ('1000110001', 127), ('0101001000', 118), ('0000101001', 96), ('1100000101', 113), ('0000100000', 32), ('1000000001', 49), ('0100000101', 92), ('1000101001', 117), ('0100000010', 63), ('1000101100', 120), ('1100001010', 120), ('0010010001', 103), ('1000110000', 99), ('1010010000', 96), ('1000101000', 89), ('1001000010', 100), ('0010000000', 29), ('0010000110', 90), ('0010000001', 57), ('0010100000', 61), ('0100100100', 96), ('1000001000', 57), ('1000100010', 83), ('0010010000', 75), ('0100110000', 111), ('0000001000', 36), ('0001000110', 110), ('0001100100', 112), ('1100000001', 82), ('0010110000', 107), ('0000000010', 30), ('0010001010', 95), ('1000000100', 52), ('1100100001', 114), ('1010000001', 78), ('1010001100', 117), ('0001000000', 49), ('0110100000', 94), ('0100101001', 129), ('1110000001', 111), ('0100001000', 69), ('0000001100', 67), ('1100100100', 117), ('0100100001', 93), ('0100000001', 61), ('0000010100', 77), ('0011000001', 106), ('0000100010', 62), ('1000100100', 84), ('1101000000', 103), ('0010001000', 65), ('1100000010', 84), ('0110010000', 108), ('0001000100', 80), ('0110000010', 92), ('1000100000', 53), ('1000001100', 88), ('0100010010', 109), ('0000000011', 58), ('0001000001', 77), ('1100010001', 128), ('1010000010', 80), ('0000100001', 60), ('0110011000', 144), ('0011001000', 114), ('0000011000', 82), ('0110000000', 62), ('1000001010', 87), ('1000100001', 81), ('1111000001', 160), ('1001000100', 101), ('1000010100', 98), ('1100000000', 54), ('1000010010', 97), ('0000000101', 59), ('1010000101', 109), ('1000001001', 85), ('0100010110', 140), ('1000000101', 80), ('0000101000', 68), ('0010000010', 59), ('1000000000', 21), ('0100000000', 33), ('0100010001', 107), ('0000111000', 114)]\n"
     ]
    },
    {
     "name": "stderr",
     "output_type": "stream",
     "text": [
      " 30%|███       | 3/10 [00:00<00:00, 35.76it/s]\n"
     ]
    },
    {
     "name": "stdout",
     "output_type": "stream",
     "text": [
      "successful ratio is:  0.5024390243902439\n",
      "solution quality is:  0.9279279279279279\n",
      "minimum number of bin is 3\n"
     ]
    },
    {
     "name": "stderr",
     "output_type": "stream",
     "text": [
      "100%|██████████| 48/48 [00:43<00:00,  1.10it/s]\n"
     ]
    },
    {
     "name": "stdout",
     "output_type": "stream",
     "text": [
      "[('0100100000', 65), ('0000010110', 107), ('1000010001', 95), ('0000001101', 95), ('1100100000', 86), ('0101000100', 113), ('1010000110', 111), ('0010000100', 60), ('1001000000', 70), ('0011000010', 108), ('1110100001', 143), ('0000010000', 46), ('0000010010', 76), ('0000000001', 28), ('0000100100', 63), ('0010000011', 87), ('0000000111', 89), ('1010000000', 50), ('0100001001', 97), ('1100000110', 115), ('1010000100', 81), ('0000000100', 31), ('1000000010', 51), ('0000011100', 113), ('1100100010', 116), ('0010010010', 105), ('0110000001', 90), ('0001001000', 85), ('1100000101', 113), ('0000100000', 32), ('1001001000', 106), ('0100001101', 128), ('1000010011', 125), ('1000000001', 49), ('0100000101', 92), ('0100000010', 63), ('0110000100', 93), ('0010010001', 103), ('0001000010', 79), ('1010010000', 96), ('1110000100', 114), ('1001000010', 100), ('0010000000', 29), ('0010000110', 90), ('0010100000', 61), ('0010000001', 57), ('1000001000', 57), ('0000001000', 36), ('1100000001', 82), ('0000000010', 30), ('0010001010', 95), ('1000000100', 52), ('1100001001', 118), ('1010000001', 78), ('0011000000', 78), ('0001000000', 49), ('0100001100', 100), ('1110000001', 111), ('0000001110', 97), ('0100000001', 61), ('1110000010', 113), ('0000100010', 62), ('1000100100', 84), ('1010100100', 113), ('1000000011', 79), ('0000100011', 90), ('0001000100', 80), ('0000101100', 99), ('0010010100', 106), ('1000100000', 53), ('1000001100', 88), ('0100010010', 109), ('0000011001', 110), ('1000000110', 82), ('0001000001', 77), ('1010000010', 80), ('0000100001', 60), ('0010001001', 93), ('0010000101', 88), ('1000011000', 103), ('0000010011', 104), ('0001010000', 95), ('0110000000', 62), ('0010001100', 96), ('1000100001', 81), ('1000010100', 98), ('1100000000', 54), ('1000010010', 97), ('1000000101', 80), ('0010000010', 59), ('1000000000', 21), ('0100000000', 33), ('0000111000', 114)]\n"
     ]
    },
    {
     "name": "stderr",
     "output_type": "stream",
     "text": [
      " 30%|███       | 3/10 [00:00<00:00, 54.48it/s]\n"
     ]
    },
    {
     "name": "stdout",
     "output_type": "stream",
     "text": [
      "successful ratio is:  0.43902439024390244\n",
      "solution quality is:  0.967741935483871\n",
      "minimum number of bin is 3\n"
     ]
    },
    {
     "name": "stderr",
     "output_type": "stream",
     "text": [
      "100%|██████████| 48/48 [00:44<00:00,  1.09it/s]\n"
     ]
    },
    {
     "name": "stdout",
     "output_type": "stream",
     "text": [
      "[('0100000110', 94), ('0000010110', 107), ('1100100000', 86), ('0011000100', 109), ('0101000100', 113), ('0010000100', 60), ('1001000000', 70), ('0001100000', 81), ('0100000100', 64), ('1000100101', 112), ('0000010000', 46), ('1000010000', 67), ('0101000001', 110), ('1010001000', 86), ('0000010010', 76), ('0000000001', 28), ('0000100100', 63), ('0010000011', 87), ('1011000000', 99), ('0101000010', 112), ('1100000110', 115), ('0000000100', 31), ('1000000010', 51), ('0000011100', 113), ('0100000011', 91), ('0100010100', 110), ('0010010010', 105), ('0100011000', 115), ('0101010000', 128), ('0101001000', 118), ('0000101001', 96), ('0000100000', 32), ('1000000001', 49), ('0100000101', 92), ('0000100101', 91), ('0100000010', 63), ('0110000100', 93), ('1100000100', 85), ('0010010001', 103), ('0100000000', 33), ('0100101000', 101), ('1010010000', 96), ('1110000100', 114), ('0010000000', 29), ('0010100000', 61), ('0010000001', 57), ('1000001000', 57), ('0001000011', 107), ('1000100010', 83), ('0010010000', 75), ('0100110000', 111), ('0000001000', 36), ('0011010000', 124), ('0001000110', 110), ('0000010001', 74), ('0101100000', 114), ('0001100100', 112), ('1100000001', 82), ('1010100000', 82), ('0000011010', 112), ('0000000010', 30), ('1000000100', 52), ('1010000001', 78), ('0000001001', 64), ('0001000000', 49), ('0001000101', 108), ('1000100011', 111), ('0100000001', 61), ('0000100010', 62), ('1101000000', 103), ('1000000011', 79), ('1100000010', 84), ('0000100011', 90), ('0010010100', 106), ('1000100000', 53), ('0000000011', 58), ('0001001100', 116), ('0001000001', 77), ('1010000010', 80), ('0000100001', 60), ('0010001001', 93), ('0011001000', 114), ('1100000011', 112), ('0001010000', 95), ('1100001000', 90), ('0000010011', 104), ('1000001010', 87), ('1000100001', 81), ('0001001010', 115), ('1001000100', 101), ('1100000000', 54), ('1000010010', 97), ('0000000101', 59), ('1000001001', 85), ('0010000010', 59), ('1000000000', 21), ('0000010101', 105)]\n"
     ]
    },
    {
     "name": "stderr",
     "output_type": "stream",
     "text": [
      " 30%|███       | 3/10 [00:00<00:00, 46.63it/s]\n"
     ]
    },
    {
     "name": "stdout",
     "output_type": "stream",
     "text": [
      "successful ratio is:  0.4634146341463415\n",
      "solution quality is:  0.979381443298969\n",
      "minimum number of bin is 3\n"
     ]
    },
    {
     "name": "stderr",
     "output_type": "stream",
     "text": [
      "100%|██████████| 48/48 [00:46<00:00,  1.03it/s]\n"
     ]
    },
    {
     "name": "stdout",
     "output_type": "stream",
     "text": [
      "[('0100100000', 65), ('0011100000', 110), ('0000110000', 78), ('0000001101', 95), ('1100100000', 86), ('0101000100', 113), ('0001010010', 125), ('0010000100', 60), ('0000001010', 66), ('1001000000', 70), ('0011000010', 108), ('0001100000', 81), ('1000100101', 112), ('0000010000', 46), ('1010001000', 86), ('1011000000', 99), ('1010000000', 50), ('0101000010', 112), ('0000000100', 31), ('1000000010', 51), ('0100010100', 110), ('0100010000', 79), ('0000110001', 106), ('0010010010', 105), ('0110000001', 90), ('1111000000', 132), ('0000001011', 94), ('0001001000', 85), ('0000101001', 96), ('1100000101', 113), ('0000100000', 32), ('0001100010', 111), ('1000000001', 49), ('0100000101', 92), ('0100000010', 63), ('0110000100', 93), ('0101000000', 82), ('1100000100', 85), ('1010010010', 126), ('0001000010', 79), ('0001100001', 109), ('1000110000', 99), ('1010010000', 96), ('1000101000', 89), ('1001000010', 100), ('0010000000', 29), ('0010000001', 57), ('0100100100', 96), ('1000001000', 57), ('1000100010', 83), ('0010010000', 75), ('0100110000', 111), ('0000001000', 36), ('0001000110', 110), ('0000010001', 74), ('0101100000', 114), ('1100000001', 82), ('1010100000', 82), ('0010110000', 107), ('0000011010', 112), ('0000000010', 30), ('0010001010', 95), ('1000000100', 52), ('1010000001', 78), ('0000001001', 64), ('0000110010', 108), ('1110000000', 83), ('0011000000', 78), ('0001000000', 49), ('0110100000', 94), ('0100001100', 100), ('0001000101', 108), ('0000001110', 97), ('0100100001', 93), ('0100000001', 61), ('0000010100', 77), ('0000100010', 62), ('0000101010', 98), ('1000100100', 84), ('1010100100', 113), ('1101000000', 103), ('0010001000', 65), ('1000000011', 79), ('0000100011', 90), ('0001000100', 80), ('0110000010', 92), ('0000101100', 99), ('1000100000', 53), ('1000001100', 88), ('0000000110', 61), ('0100010010', 109), ('0000000011', 58), ('1000000110', 82), ('0001000001', 77), ('1010000010', 80), ('1100010000', 100), ('1000011000', 103), ('0000011000', 82), ('1100001000', 90), ('0110000000', 62), ('1000100001', 81), ('0001001010', 115), ('1000010100', 98), ('1001010000', 116), ('0000000101', 59), ('1000001001', 85), ('0000100110', 93), ('1000000101', 80), ('0000101000', 68), ('0010000010', 59), ('1000000000', 21), ('0100000000', 33), ('0001101000', 117)]\n"
     ]
    },
    {
     "name": "stderr",
     "output_type": "stream",
     "text": [
      " 30%|███       | 3/10 [00:00<00:00, 28.01it/s]"
     ]
    },
    {
     "name": "stdout",
     "output_type": "stream",
     "text": [
      "successful ratio is:  0.5365853658536586\n",
      "solution quality is:  0.9734513274336283\n",
      "minimum number of bin is 3\n"
     ]
    },
    {
     "name": "stderr",
     "output_type": "stream",
     "text": [
      "\n"
     ]
    }
   ],
   "source": [
    "# Record the current time before the first process\n",
    "\n",
    "batch = 5\n",
    "sr_set = np.zeros((len(n_layer_list), batch))\n",
    "sq_set = np.zeros((len(n_layer_list), batch))\n",
    "minbin_set = np.zeros((len(n_layer_list), batch))\n",
    "n_solu_set = np.zeros((len(n_layer_list), batch))\n",
    "\n",
    "cost_fun = []\n",
    "\n",
    "for i_index, n_layer in enumerate(n_layer_list):\n",
    "\n",
    "    for j in range(batch):\n",
    "\n",
    "        solution_set = []\n",
    "        # qu_time = []\n",
    "        # start_time_process1 = time.time()\n",
    "\n",
    "        for k in tqdm(np.arange(1,(capacity/delta_w),dk)):\n",
    "            alpha = 2*beta*(capacity-k*delta_w)\n",
    "            h_p = generate_h_two_body(n_items, W, beta) + generate_h_one_body(n_items, W, alpha, beta, capacity)\n",
    "            h_m = generate_h_mixer(n_items)\n",
    "            h_cd = commutator(h_m,h_p)#CD pool\n",
    "            cd = CD_operator(h_cd)\n",
    "            ci = CD_ansataz(cd)\n",
    "\n",
    "            circ = Quantum_QAOA_Circuits(h_m, h_p, n_layer, n_items)\n",
    "            #ground_energy.append(E0_energy(h_p))\n",
    "\n",
    "            ham = Hamiltonian(h_p)\n",
    "            sim = Simulator('mqvector', n_items)\n",
    "            grad_ops = sim.get_expectation_with_grad(ham, circ)\n",
    "\n",
    "            pr, result = train(ham, circ, ite)\n",
    "            cost_fun.append(result)\n",
    "            res = state_sampling(circ, pr)\n",
    "            solution_set.append(res.data)\n",
    "\n",
    "        # Record the current time after the first process\n",
    "        # end_time_process1 = time.time()\n",
    "\n",
    "        # Calculate the elapsed time for the quantum process\n",
    "        # elapsed_time_process1 = end_time_process1 - start_time_process1\n",
    "        # qu_time[i_index, j] = elapsed_time_process1\n",
    "\n",
    "        elements_fea, succ_ratio, solution_quality = data_analyze(n_items, solution_set, W[::-1], capacity, target_solu)\n",
    "        positions = [[n_items-1-i for i, char in enumerate(element) if char == '1'] for element in elements_fea]\n",
    "        minbin, n_solu = find_min_number(positions,target)\n",
    "        \n",
    "        minbin_set[i_index, j] = minbin\n",
    "        n_solu_set[i_index, j] = n_solu\n",
    "        sr_set[i_index, j] = succ_ratio\n",
    "        sq_set[i_index, j] = solution_quality\n",
    "\n",
    "        # Record the current time before the second process\n",
    "        # end_time_process2 = time.time()\n",
    "\n",
    "        # Calculate the elapsed time for the classic process\n",
    "        # elapsed_time_process2 = end_time_process2 - end_time_process1\n",
    "        # cl_time[i_index, j] = elapsed_time_process2\n",
    "\n",
    "        print('successful ratio is: ',succ_ratio)\n",
    "        print('solution quality is: ',solution_quality)\n",
    "        print('minimum number of bin is',minbin)\n",
    "        #print(\"Elapsed time for quantum process:\", np.mean(elapsed_time_process1), \"seconds\")\n",
    "        #print(\"Elapsed time for classic process:\", np.mean(elapsed_time_process2), \"seconds\")"
   ]
  },
  {
   "cell_type": "code",
   "execution_count": 22,
   "id": "42d06304-33fe-4ada-97db-fac13d1094f2",
   "metadata": {
    "tags": []
   },
   "outputs": [],
   "source": [
    "# Write data to a text file\n",
    "with open('qaoa-la-W3.txt', 'w') as f:\n",
    "    f.write(\"layer, batch, sr_set, sq_set, minbin_set, n_solu\\n\")\n",
    "    for i_index, i in enumerate(n_layer_list):\n",
    "        for j in range(batch):\n",
    "            f.write(f\"{i}, {j}, {sr_set[i_index, j]}, {sq_set[i_index, j]}, {minbin_set[i_index, j]}, {n_solu_set[i_index, j]}\\n\")"
   ]
  },
  {
   "cell_type": "code",
   "execution_count": null,
   "id": "b87d623d-cc70-4ab5-8acc-e5b83ed1697e",
   "metadata": {},
   "outputs": [],
   "source": []
  },
  {
   "cell_type": "code",
   "execution_count": null,
   "id": "043eb66b-82d9-4fd8-a9c4-ce80ab371572",
   "metadata": {},
   "outputs": [],
   "source": []
  },
  {
   "cell_type": "code",
   "execution_count": 24,
   "id": "dbbcf24a-f1cd-45da-bb6c-5e7b5d517a30",
   "metadata": {},
   "outputs": [],
   "source": [
    "dk = 2.5\n",
    "ite = 100\n",
    "#n_layer = 1\n",
    "\n",
    "#dk_list = [1, 1.5, 2, 2.5, 3, 3.5, 4]\n",
    "\n",
    "#iteration_list = [100, 150, 200]\n",
    "n_layer_list = [1, 2, 3, 4]"
   ]
  },
  {
   "cell_type": "code",
   "execution_count": 25,
   "id": "7b41b582-9d44-49e7-b225-73e480afe7f1",
   "metadata": {
    "tags": []
   },
   "outputs": [],
   "source": [
    "n_items = 10 #number of items\n",
    "capacity = 120 #maximum capacity of box\n",
    "\n",
    "# insert QAOA weight list to compare fairly\n",
    "W = [41, 31, 30, 26, 21, 24, 31, 30, 42, 29]\n",
    "\n",
    "#np.random.normal(loc=capacity/2, size=n)\n",
    "beta = np.min(W)/5\n",
    "delta_w = min_positive_difference(W)\n",
    "\n",
    "# generate exact solutions\n",
    "result_combinations = find_combinations(W, capacity)\n",
    "target_solu = list(result_combinations)\n",
    "target = list(range(n_items))"
   ]
  },
  {
   "cell_type": "code",
   "execution_count": 26,
   "id": "7a2ab103-2e64-4aaf-8339-e4a5fc2b86b9",
   "metadata": {
    "tags": []
   },
   "outputs": [
    {
     "name": "stderr",
     "output_type": "stream",
     "text": [
      "100%|██████████| 48/48 [00:23<00:00,  2.07it/s]\n",
      " 30%|███       | 3/10 [00:00<00:00, 16.12it/s]\n"
     ]
    },
    {
     "name": "stdout",
     "output_type": "stream",
     "text": [
      "successful ratio is:  0.49433962264150944\n",
      "solution quality is:  0.8506493506493507\n",
      "minimum number of bin is 3\n"
     ]
    },
    {
     "name": "stderr",
     "output_type": "stream",
     "text": [
      "100%|██████████| 48/48 [00:23<00:00,  2.08it/s]\n",
      " 30%|███       | 3/10 [00:00<00:02,  3.44it/s]\n"
     ]
    },
    {
     "name": "stdout",
     "output_type": "stream",
     "text": [
      "successful ratio is:  0.5018867924528302\n",
      "solution quality is:  0.8926174496644296\n",
      "minimum number of bin is 3\n"
     ]
    },
    {
     "name": "stderr",
     "output_type": "stream",
     "text": [
      "100%|██████████| 48/48 [00:23<00:00,  2.02it/s]\n",
      " 30%|███       | 3/10 [00:00<00:00, 15.70it/s]\n"
     ]
    },
    {
     "name": "stdout",
     "output_type": "stream",
     "text": [
      "successful ratio is:  0.4981132075471698\n",
      "solution quality is:  0.8741721854304636\n",
      "minimum number of bin is 3\n"
     ]
    },
    {
     "name": "stderr",
     "output_type": "stream",
     "text": [
      "100%|██████████| 48/48 [00:23<00:00,  2.07it/s]\n",
      " 30%|███       | 3/10 [00:00<00:00, 11.98it/s]\n"
     ]
    },
    {
     "name": "stdout",
     "output_type": "stream",
     "text": [
      "successful ratio is:  0.5433962264150943\n",
      "solution quality is:  0.8323699421965318\n",
      "minimum number of bin is 3\n"
     ]
    },
    {
     "name": "stderr",
     "output_type": "stream",
     "text": [
      "100%|██████████| 48/48 [00:22<00:00,  2.10it/s]\n",
      " 30%|███       | 3/10 [00:03<00:07,  1.11s/it]"
     ]
    },
    {
     "name": "stdout",
     "output_type": "stream",
     "text": [
      "successful ratio is: "
     ]
    },
    {
     "name": "stderr",
     "output_type": "stream",
     "text": [
      "\n"
     ]
    },
    {
     "name": "stdout",
     "output_type": "stream",
     "text": [
      " 0.5094339622641509\n",
      "solution quality is:  0.7714285714285715\n",
      "minimum number of bin is 3\n"
     ]
    },
    {
     "name": "stderr",
     "output_type": "stream",
     "text": [
      "100%|██████████| 48/48 [00:32<00:00,  1.48it/s]\n",
      " 30%|███       | 3/10 [00:00<00:00, 16.28it/s]\n"
     ]
    },
    {
     "name": "stdout",
     "output_type": "stream",
     "text": [
      "successful ratio is:  0.49056603773584906\n",
      "solution quality is:  0.8496732026143791\n",
      "minimum number of bin is 3\n"
     ]
    },
    {
     "name": "stderr",
     "output_type": "stream",
     "text": [
      "100%|██████████| 48/48 [00:33<00:00,  1.43it/s]\n",
      " 30%|███       | 3/10 [00:00<00:00, 15.62it/s]\n"
     ]
    },
    {
     "name": "stdout",
     "output_type": "stream",
     "text": [
      "successful ratio is:  0.4981132075471698\n",
      "solution quality is:  0.88\n",
      "minimum number of bin is 3\n"
     ]
    },
    {
     "name": "stderr",
     "output_type": "stream",
     "text": [
      "100%|██████████| 48/48 [00:31<00:00,  1.50it/s]\n",
      " 30%|███       | 3/10 [00:00<00:00, 24.11it/s]\n"
     ]
    },
    {
     "name": "stdout",
     "output_type": "stream",
     "text": [
      "successful ratio is:  0.43018867924528303\n",
      "solution quality is:  0.95\n",
      "minimum number of bin is 3\n"
     ]
    },
    {
     "name": "stderr",
     "output_type": "stream",
     "text": [
      "100%|██████████| 48/48 [00:32<00:00,  1.49it/s]\n",
      " 30%|███       | 3/10 [00:00<00:00, 24.75it/s]\n"
     ]
    },
    {
     "name": "stdout",
     "output_type": "stream",
     "text": [
      "successful ratio is:  0.43018867924528303\n",
      "solution quality is:  0.9047619047619048\n",
      "minimum number of bin is 3\n"
     ]
    },
    {
     "name": "stderr",
     "output_type": "stream",
     "text": [
      "100%|██████████| 48/48 [00:32<00:00,  1.49it/s]\n",
      " 30%|███       | 3/10 [00:03<00:08,  1.17s/it]\n"
     ]
    },
    {
     "name": "stdout",
     "output_type": "stream",
     "text": [
      "successful ratio is:  0.5132075471698113\n",
      "solution quality is:  0.9714285714285714\n",
      "minimum number of bin is 3\n"
     ]
    },
    {
     "name": "stderr",
     "output_type": "stream",
     "text": [
      "100%|██████████| 48/48 [00:41<00:00,  1.16it/s]\n",
      " 30%|███       | 3/10 [00:00<00:00, 35.64it/s]\n"
     ]
    },
    {
     "name": "stdout",
     "output_type": "stream",
     "text": [
      "successful ratio is:  0.38113207547169814\n",
      "solution quality is:  0.9805825242718447\n",
      "minimum number of bin is 3\n"
     ]
    },
    {
     "name": "stderr",
     "output_type": "stream",
     "text": [
      "100%|██████████| 48/48 [00:42<00:00,  1.14it/s]\n",
      " 30%|███       | 3/10 [00:00<00:00, 19.43it/s]\n"
     ]
    },
    {
     "name": "stdout",
     "output_type": "stream",
     "text": [
      "successful ratio is:  0.4641509433962264\n",
      "solution quality is:  0.924812030075188\n",
      "minimum number of bin is 3\n"
     ]
    },
    {
     "name": "stderr",
     "output_type": "stream",
     "text": [
      "100%|██████████| 48/48 [00:41<00:00,  1.15it/s]\n",
      " 30%|███       | 3/10 [00:00<00:00, 28.02it/s]\n"
     ]
    },
    {
     "name": "stdout",
     "output_type": "stream",
     "text": [
      "successful ratio is:  0.41132075471698115\n",
      "solution quality is:  0.9646017699115044\n",
      "minimum number of bin is 3\n"
     ]
    },
    {
     "name": "stderr",
     "output_type": "stream",
     "text": [
      "100%|██████████| 48/48 [00:41<00:00,  1.15it/s]\n",
      " 30%|███       | 3/10 [00:00<00:00, 21.02it/s]\n"
     ]
    },
    {
     "name": "stdout",
     "output_type": "stream",
     "text": [
      "successful ratio is:  0.4528301886792453\n",
      "solution quality is:  0.9836065573770492\n",
      "minimum number of bin is 3\n"
     ]
    },
    {
     "name": "stderr",
     "output_type": "stream",
     "text": [
      "100%|██████████| 48/48 [00:41<00:00,  1.15it/s]\n",
      " 30%|███       | 3/10 [00:03<00:08,  1.15s/it]\n"
     ]
    },
    {
     "name": "stdout",
     "output_type": "stream",
     "text": [
      "successful ratio is:  0.4981132075471698\n",
      "solution quality is:  0.9565217391304348\n",
      "minimum number of bin is 3\n"
     ]
    },
    {
     "name": "stderr",
     "output_type": "stream",
     "text": [
      "100%|██████████| 48/48 [00:51<00:00,  1.07s/it]\n",
      " 30%|███       | 3/10 [00:00<00:00, 33.13it/s]\n"
     ]
    },
    {
     "name": "stdout",
     "output_type": "stream",
     "text": [
      "successful ratio is:  0.3886792452830189\n",
      "solution quality is:  0.9903846153846154\n",
      "minimum number of bin is 3\n"
     ]
    },
    {
     "name": "stderr",
     "output_type": "stream",
     "text": [
      "100%|██████████| 48/48 [00:52<00:00,  1.10s/it]\n",
      " 30%|███       | 3/10 [00:00<00:00, 17.58it/s]\n"
     ]
    },
    {
     "name": "stdout",
     "output_type": "stream",
     "text": [
      "successful ratio is:  0.47924528301886793\n",
      "solution quality is:  0.9548872180451128\n",
      "minimum number of bin is 3\n"
     ]
    },
    {
     "name": "stderr",
     "output_type": "stream",
     "text": [
      "100%|██████████| 48/48 [00:53<00:00,  1.12s/it]\n",
      " 30%|███       | 3/10 [00:00<00:00, 21.99it/s]\n"
     ]
    },
    {
     "name": "stdout",
     "output_type": "stream",
     "text": [
      "successful ratio is:  0.4377358490566038\n",
      "solution quality is:  0.943089430894309\n",
      "minimum number of bin is 3\n"
     ]
    },
    {
     "name": "stderr",
     "output_type": "stream",
     "text": [
      "100%|██████████| 48/48 [00:59<00:00,  1.24s/it]\n",
      " 30%|███       | 3/10 [00:00<00:00, 17.06it/s]\n"
     ]
    },
    {
     "name": "stdout",
     "output_type": "stream",
     "text": [
      "successful ratio is:  0.47547169811320755\n",
      "solution quality is:  0.9197080291970803\n",
      "minimum number of bin is 3\n"
     ]
    },
    {
     "name": "stderr",
     "output_type": "stream",
     "text": [
      "100%|██████████| 48/48 [00:55<00:00,  1.16s/it]\n",
      " 30%|███       | 3/10 [00:00<00:00, 31.48it/s]"
     ]
    },
    {
     "name": "stdout",
     "output_type": "stream",
     "text": [
      "successful ratio is:  0.39245283018867927\n",
      "solution quality is:  0.9719626168224299\n",
      "minimum number of bin is 3\n"
     ]
    },
    {
     "name": "stderr",
     "output_type": "stream",
     "text": [
      "\n"
     ]
    }
   ],
   "source": [
    "# Record the current time before the first process\n",
    "\n",
    "batch = 5\n",
    "sr_set = np.zeros((len(n_layer_list), batch))\n",
    "sq_set = np.zeros((len(n_layer_list), batch))\n",
    "minbin_set = np.zeros((len(n_layer_list), batch))\n",
    "n_solu_set = np.zeros((len(n_layer_list), batch))\n",
    "\n",
    "for i_index, n_layer in enumerate(n_layer_list):\n",
    "\n",
    "    for j in range(batch):\n",
    "\n",
    "        solution_set = []\n",
    "        # qu_time = []\n",
    "        # start_time_process1 = time.time()\n",
    "\n",
    "        for k in tqdm(np.arange(1,(capacity/delta_w),dk)):\n",
    "            alpha = 2*beta*(capacity-k*delta_w)\n",
    "            h_p = generate_h_two_body(n_items, W, beta) + generate_h_one_body(n_items, W, alpha, beta, capacity)\n",
    "            h_m = generate_h_mixer(n_items)\n",
    "            h_cd = commutator(h_m,h_p)#CD pool\n",
    "            cd = CD_operator(h_cd)\n",
    "            ci = CD_ansataz(cd)\n",
    "\n",
    "            circ = Quantum_QAOA_Circuits(h_m, h_p, n_layer, n_items)\n",
    "            #ground_energy.append(E0_energy(h_p))\n",
    "\n",
    "            ham = Hamiltonian(h_p)\n",
    "            sim = Simulator('mqvector', n_items)\n",
    "            grad_ops = sim.get_expectation_with_grad(ham, circ)\n",
    "\n",
    "            pr, result = train(ham, circ, ite)\n",
    "            #cost_fun.append(result)\n",
    "            res = state_sampling(circ, pr)\n",
    "            solution_set.append(res.data)\n",
    "\n",
    "        # Record the current time after the first process\n",
    "        # end_time_process1 = time.time()\n",
    "\n",
    "        # Calculate the elapsed time for the quantum process\n",
    "        # elapsed_time_process1 = end_time_process1 - start_time_process1\n",
    "        # qu_time[i_index, j] = elapsed_time_process1\n",
    "\n",
    "        elements_fea, succ_ratio, solution_quality = data_analyze(n_items, solution_set, W[::-1], capacity, target_solu)\n",
    "        positions = [[n_items-1-i for i, char in enumerate(element) if char == '1'] for element in elements_fea]\n",
    "        minbin, n_solu = find_min_number(positions,target)\n",
    "        \n",
    "        minbin_set[i_index, j] = minbin\n",
    "        n_solu_set[i_index, j] = n_solu\n",
    "        sr_set[i_index, j] = succ_ratio\n",
    "        sq_set[i_index, j] = solution_quality\n",
    "\n",
    "        # Record the current time before the second process\n",
    "        # end_time_process2 = time.time()\n",
    "\n",
    "        # Calculate the elapsed time for the classic process\n",
    "        # elapsed_time_process2 = end_time_process2 - end_time_process1\n",
    "        # cl_time[i_index, j] = elapsed_time_process2\n",
    "\n",
    "        print('successful ratio is: ',succ_ratio)\n",
    "        print('solution quality is: ',solution_quality)\n",
    "        print('minimum number of bin is',minbin)\n",
    "        #print(\"Elapsed time for quantum process:\", np.mean(elapsed_time_process1), \"seconds\")\n",
    "        #print(\"Elapsed time for classic process:\", np.mean(elapsed_time_process2), \"seconds\")"
   ]
  },
  {
   "cell_type": "code",
   "execution_count": 27,
   "id": "2e3c6240-6e10-409e-9ba3-f7173dbf92ff",
   "metadata": {
    "tags": []
   },
   "outputs": [],
   "source": [
    "# Write data to a text file\n",
    "with open('qaoa-la-W4.txt', 'w') as f:\n",
    "    f.write(\"layer, batch, sr_set, sq_set, minbin_set, n_solu\\n\")\n",
    "    for i_index, i in enumerate(n_layer_list):\n",
    "        for j in range(batch):\n",
    "            f.write(f\"{i}, {j}, {sr_set[i_index, j]}, {sq_set[i_index, j]}, {minbin_set[i_index, j]}, {n_solu_set[i_index, j]}\\n\")"
   ]
  },
  {
   "cell_type": "code",
   "execution_count": null,
   "id": "cb651846-607a-404e-a854-12f6d9c56e50",
   "metadata": {},
   "outputs": [],
   "source": []
  },
  {
   "cell_type": "code",
   "execution_count": null,
   "id": "ad017be6-76d4-4589-aead-cea2de803c0e",
   "metadata": {},
   "outputs": [],
   "source": []
  },
  {
   "cell_type": "code",
   "execution_count": null,
   "id": "b7435c37-8a2a-48c6-93f4-659fc3c4e816",
   "metadata": {},
   "outputs": [],
   "source": []
  },
  {
   "cell_type": "code",
   "execution_count": 28,
   "id": "5b3f7845-82a0-4b4f-b254-7fb753332d4d",
   "metadata": {},
   "outputs": [],
   "source": [
    "dk = 2.5\n",
    "ite = 100\n",
    "#n_layer = 1\n",
    "\n",
    "#dk_list = [1, 1.5, 2, 2.5, 3, 3.5, 4]\n",
    "#iteration_list = [100, 150, 200]\n",
    "n_layer_list = [1, 2, 3, 4]"
   ]
  },
  {
   "cell_type": "code",
   "execution_count": 29,
   "id": "f11e3e07-97d9-4c48-b7f2-3f702b0a9ecd",
   "metadata": {
    "tags": []
   },
   "outputs": [],
   "source": [
    "n_items = 10 #number of items\n",
    "capacity = 120 #maximum capacity of box\n",
    "\n",
    "# insert QAOA weight list to compare fairly\n",
    "W = [42, 55, 52, 80, 55, 80, 53, 46, 79, 66]\n",
    "\n",
    "#np.random.normal(loc=capacity/2, size=n)\n",
    "beta = np.min(W)/5\n",
    "delta_w = min_positive_difference(W)\n",
    "\n",
    "# generate exact solutions\n",
    "result_combinations = find_combinations(W, capacity)\n",
    "target_solu = list(result_combinations)\n",
    "target = list(range(n_items))"
   ]
  },
  {
   "cell_type": "code",
   "execution_count": 30,
   "id": "ebe28b1f-8b7c-42a2-a9cf-8a0b8474c152",
   "metadata": {
    "tags": []
   },
   "outputs": [
    {
     "name": "stderr",
     "output_type": "stream",
     "text": [
      "100%|██████████| 48/48 [00:26<00:00,  1.82it/s]\n",
      " 70%|███████   | 7/10 [00:01<00:00,  6.98it/s]\n"
     ]
    },
    {
     "name": "stdout",
     "output_type": "stream",
     "text": [
      "successful ratio is:  0.896551724137931\n",
      "solution quality is:  0.7222222222222222\n",
      "minimum number of bin is 7\n"
     ]
    },
    {
     "name": "stderr",
     "output_type": "stream",
     "text": [
      "100%|██████████| 48/48 [00:26<00:00,  1.81it/s]\n",
      " 70%|███████   | 7/10 [00:01<00:00,  6.99it/s]\n"
     ]
    },
    {
     "name": "stdout",
     "output_type": "stream",
     "text": [
      "successful ratio is:  0.896551724137931\n",
      "solution quality is:  0.7428571428571429\n",
      "minimum number of bin is 7\n"
     ]
    },
    {
     "name": "stderr",
     "output_type": "stream",
     "text": [
      "100%|██████████| 48/48 [00:26<00:00,  1.83it/s]\n",
      " 70%|███████   | 7/10 [00:05<00:02,  1.39it/s]\n"
     ]
    },
    {
     "name": "stdout",
     "output_type": "stream",
     "text": [
      "successful ratio is:  0.8620689655172413\n",
      "solution quality is:  0.7575757575757576\n",
      "minimum number of bin is 7\n"
     ]
    },
    {
     "name": "stderr",
     "output_type": "stream",
     "text": [
      "100%|██████████| 48/48 [00:27<00:00,  1.74it/s]\n",
      " 70%|███████   | 7/10 [00:01<00:00,  3.72it/s]\n"
     ]
    },
    {
     "name": "stdout",
     "output_type": "stream",
     "text": [
      "successful ratio is:  0.9655172413793104\n",
      "solution quality is:  0.717948717948718\n",
      "minimum number of bin is 7\n"
     ]
    },
    {
     "name": "stderr",
     "output_type": "stream",
     "text": [
      "100%|██████████| 48/48 [00:25<00:00,  1.88it/s]\n",
      " 70%|███████   | 7/10 [00:01<00:00,  5.31it/s]\n"
     ]
    },
    {
     "name": "stdout",
     "output_type": "stream",
     "text": [
      "successful ratio is:  0.9310344827586207\n",
      "solution quality is:  0.7941176470588235\n",
      "minimum number of bin is 7\n"
     ]
    },
    {
     "name": "stderr",
     "output_type": "stream",
     "text": [
      "100%|██████████| 48/48 [00:35<00:00,  1.34it/s]\n",
      " 70%|███████   | 7/10 [00:06<00:02,  1.12it/s]\n"
     ]
    },
    {
     "name": "stdout",
     "output_type": "stream",
     "text": [
      "successful ratio is:  0.9655172413793104\n",
      "solution quality is:  0.6086956521739131\n",
      "minimum number of bin is 7\n"
     ]
    },
    {
     "name": "stderr",
     "output_type": "stream",
     "text": [
      "100%|██████████| 48/48 [00:36<00:00,  1.32it/s]\n",
      " 70%|███████   | 7/10 [00:00<00:00, 13.09it/s]\n"
     ]
    },
    {
     "name": "stdout",
     "output_type": "stream",
     "text": [
      "successful ratio is:  0.8275862068965517\n",
      "solution quality is:  0.6666666666666666\n",
      "minimum number of bin is 7\n"
     ]
    },
    {
     "name": "stderr",
     "output_type": "stream",
     "text": [
      "100%|██████████| 48/48 [00:37<00:00,  1.26it/s]\n",
      " 70%|███████   | 7/10 [00:00<00:00, 13.08it/s]\n"
     ]
    },
    {
     "name": "stdout",
     "output_type": "stream",
     "text": [
      "successful ratio is:  0.8275862068965517\n",
      "solution quality is:  0.7058823529411765\n",
      "minimum number of bin is 7\n"
     ]
    },
    {
     "name": "stderr",
     "output_type": "stream",
     "text": [
      "100%|██████████| 48/48 [00:36<00:00,  1.31it/s]\n",
      " 70%|███████   | 7/10 [00:00<00:00,  9.50it/s]\n"
     ]
    },
    {
     "name": "stdout",
     "output_type": "stream",
     "text": [
      "successful ratio is:  0.8620689655172413\n",
      "solution quality is:  0.6756756756756757\n",
      "minimum number of bin is 7\n"
     ]
    },
    {
     "name": "stderr",
     "output_type": "stream",
     "text": [
      "100%|██████████| 48/48 [00:41<00:00,  1.17it/s]\n",
      " 70%|███████   | 7/10 [00:00<00:00,  9.46it/s]\n"
     ]
    },
    {
     "name": "stdout",
     "output_type": "stream",
     "text": [
      "successful ratio is:  0.8620689655172413\n",
      "solution quality is:  0.6097560975609756\n",
      "minimum number of bin is 7\n"
     ]
    },
    {
     "name": "stderr",
     "output_type": "stream",
     "text": [
      "100%|██████████| 48/48 [00:47<00:00,  1.01it/s]\n",
      " 70%|███████   | 7/10 [00:01<00:00,  5.31it/s]\n"
     ]
    },
    {
     "name": "stdout",
     "output_type": "stream",
     "text": [
      "successful ratio is:  0.9310344827586207\n",
      "solution quality is:  0.7297297297297297\n",
      "minimum number of bin is 7\n"
     ]
    },
    {
     "name": "stderr",
     "output_type": "stream",
     "text": [
      "100%|██████████| 48/48 [00:45<00:00,  1.05it/s]\n",
      " 70%|███████   | 7/10 [00:00<00:00,  9.30it/s]\n"
     ]
    },
    {
     "name": "stdout",
     "output_type": "stream",
     "text": [
      "successful ratio is:  0.8620689655172413\n",
      "solution quality is:  0.7142857142857143\n",
      "minimum number of bin is 7\n"
     ]
    },
    {
     "name": "stderr",
     "output_type": "stream",
     "text": [
      "100%|██████████| 48/48 [01:00<00:00,  1.25s/it]\n",
      " 70%|███████   | 7/10 [00:12<00:05,  1.81s/it]\n"
     ]
    },
    {
     "name": "stdout",
     "output_type": "stream",
     "text": [
      "successful ratio is:  0.9655172413793104\n",
      "solution quality is:  0.6666666666666666\n",
      "minimum number of bin is 7\n"
     ]
    },
    {
     "name": "stderr",
     "output_type": "stream",
     "text": [
      "100%|██████████| 48/48 [00:44<00:00,  1.08it/s]\n",
      " 70%|███████   | 7/10 [00:00<00:00,  7.09it/s]\n"
     ]
    },
    {
     "name": "stdout",
     "output_type": "stream",
     "text": [
      "successful ratio is:  0.896551724137931\n",
      "solution quality is:  0.7428571428571429\n",
      "minimum number of bin is 7\n"
     ]
    },
    {
     "name": "stderr",
     "output_type": "stream",
     "text": [
      "100%|██████████| 48/48 [00:45<00:00,  1.06it/s]\n",
      " 70%|███████   | 7/10 [00:05<00:02,  1.21it/s]\n"
     ]
    },
    {
     "name": "stdout",
     "output_type": "stream",
     "text": [
      "successful ratio is:  0.9655172413793104\n",
      "solution quality is:  0.717948717948718\n",
      "minimum number of bin is 7\n"
     ]
    },
    {
     "name": "stderr",
     "output_type": "stream",
     "text": [
      "100%|██████████| 48/48 [00:54<00:00,  1.14s/it]\n",
      " 70%|███████   | 7/10 [00:01<00:00,  5.03it/s]\n"
     ]
    },
    {
     "name": "stdout",
     "output_type": "stream",
     "text": [
      "successful ratio is:  0.9310344827586207\n",
      "solution quality is:  0.75\n",
      "minimum number of bin is 7\n"
     ]
    },
    {
     "name": "stderr",
     "output_type": "stream",
     "text": [
      "100%|██████████| 48/48 [00:54<00:00,  1.13s/it]\n",
      "100%|██████████| 10/10 [00:12<00:00,  1.24s/it]\n"
     ]
    },
    {
     "name": "stdout",
     "output_type": "stream",
     "text": [
      "successful ratio is:  0.896551724137931\n",
      "solution quality is:  0.6842105263157895\n",
      "minimum number of bin is 999\n"
     ]
    },
    {
     "name": "stderr",
     "output_type": "stream",
     "text": [
      "100%|██████████| 48/48 [01:12<00:00,  1.50s/it]\n",
      " 70%|███████   | 7/10 [00:13<00:05,  1.97s/it]\n"
     ]
    },
    {
     "name": "stdout",
     "output_type": "stream",
     "text": [
      "successful ratio is:  1.0\n",
      "solution quality is:  0.7837837837837838\n",
      "minimum number of bin is 7\n"
     ]
    },
    {
     "name": "stderr",
     "output_type": "stream",
     "text": [
      "100%|██████████| 48/48 [01:14<00:00,  1.55s/it]\n",
      " 70%|███████   | 7/10 [00:00<00:00,  9.47it/s]\n"
     ]
    },
    {
     "name": "stdout",
     "output_type": "stream",
     "text": [
      "successful ratio is:  0.8620689655172413\n",
      "solution quality is:  0.6944444444444444\n",
      "minimum number of bin is 7\n"
     ]
    },
    {
     "name": "stderr",
     "output_type": "stream",
     "text": [
      "100%|██████████| 48/48 [01:15<00:00,  1.58s/it]\n",
      " 70%|███████   | 7/10 [00:01<00:00,  4.78it/s]"
     ]
    },
    {
     "name": "stdout",
     "output_type": "stream",
     "text": [
      "successful ratio is:  0.9310344827586207\n",
      "solution quality is:  0.6428571428571429\n",
      "minimum number of bin is 7\n"
     ]
    },
    {
     "name": "stderr",
     "output_type": "stream",
     "text": [
      "\n"
     ]
    }
   ],
   "source": [
    "# Record the current time before the first process\n",
    "\n",
    "batch = 5\n",
    "sr_set = np.zeros((len(n_layer_list), batch))\n",
    "sq_set = np.zeros((len(n_layer_list), batch))\n",
    "minbin_set = np.zeros((len(n_layer_list), batch))\n",
    "n_solu_set = np.zeros((len(n_layer_list), batch))\n",
    "\n",
    "for i_index, n_layer in enumerate(n_layer_list):\n",
    "\n",
    "    for j in range(batch):\n",
    "\n",
    "        solution_set = []\n",
    "        # qu_time = []\n",
    "        # start_time_process1 = time.time()\n",
    "\n",
    "        for k in tqdm(np.arange(1,(capacity/delta_w),dk)):\n",
    "            alpha = 2*beta*(capacity-k*delta_w)\n",
    "            h_p = generate_h_two_body(n_items, W, beta) + generate_h_one_body(n_items, W, alpha, beta, capacity)\n",
    "            h_m = generate_h_mixer(n_items)\n",
    "            h_cd = commutator(h_m,h_p)#CD pool\n",
    "            cd = CD_operator(h_cd)\n",
    "            ci = CD_ansataz(cd)\n",
    "\n",
    "            circ = Quantum_QAOA_Circuits(h_m, h_p, n_layer, n_items)\n",
    "            #ground_energy.append(E0_energy(h_p))\n",
    "\n",
    "            ham = Hamiltonian(h_p)\n",
    "            sim = Simulator('mqvector', n_items)\n",
    "            grad_ops = sim.get_expectation_with_grad(ham, circ)\n",
    "\n",
    "            pr, result = train(ham, circ, ite)\n",
    "            #cost_fun.append(result)\n",
    "            res = state_sampling(circ, pr)\n",
    "            solution_set.append(res.data)\n",
    "\n",
    "        # Record the current time after the first process\n",
    "        # end_time_process1 = time.time()\n",
    "\n",
    "        # Calculate the elapsed time for the quantum process\n",
    "        # elapsed_time_process1 = end_time_process1 - start_time_process1\n",
    "        # qu_time[i_index, j] = elapsed_time_process1\n",
    "\n",
    "        elements_fea, succ_ratio, solution_quality = data_analyze(n_items, solution_set, W[::-1], capacity, target_solu)\n",
    "        positions = [[n_items-1-i for i, char in enumerate(element) if char == '1'] for element in elements_fea]\n",
    "        minbin, n_solu = find_min_number(positions,target)\n",
    "        \n",
    "        minbin_set[i_index, j] = minbin\n",
    "        n_solu_set[i_index, j] = n_solu\n",
    "        sr_set[i_index, j] = succ_ratio\n",
    "        sq_set[i_index, j] = solution_quality\n",
    "\n",
    "        # Record the current time before the second process\n",
    "        # end_time_process2 = time.time()\n",
    "\n",
    "        # Calculate the elapsed time for the classic process\n",
    "        # elapsed_time_process2 = end_time_process2 - end_time_process1\n",
    "        # cl_time[i_index, j] = elapsed_time_process2\n",
    "\n",
    "        print('successful ratio is: ',succ_ratio)\n",
    "        print('solution quality is: ',solution_quality)\n",
    "        print('minimum number of bin is',minbin)\n",
    "        #print(\"Elapsed time for quantum process:\", np.mean(elapsed_time_process1), \"seconds\")\n",
    "        #print(\"Elapsed time for classic process:\", np.mean(elapsed_time_process2), \"seconds\")"
   ]
  },
  {
   "cell_type": "code",
   "execution_count": 31,
   "id": "96ea8867-438c-4209-a7e5-54c9bf050e52",
   "metadata": {
    "tags": []
   },
   "outputs": [],
   "source": [
    "# Write data to a text file\n",
    "with open('qaoa-la-W5.txt', 'w') as f:\n",
    "    f.write(\"layer, batch, sr_set, sq_set, minbin_set, n_solu\\n\")\n",
    "    for i_index, i in enumerate(n_layer_list):\n",
    "        for j in range(batch):\n",
    "            f.write(f\"{i}, {j}, {sr_set[i_index, j]}, {sq_set[i_index, j]}, {minbin_set[i_index, j]}, {n_solu_set[i_index, j]}\\n\")"
   ]
  },
  {
   "cell_type": "code",
   "execution_count": null,
   "id": "50924809-5b44-4f5d-aed2-ea88f7b5c8a0",
   "metadata": {},
   "outputs": [],
   "source": []
  },
  {
   "cell_type": "code",
   "execution_count": 32,
   "id": "92f9fe80-0611-471b-ab3f-e7bb2e94e727",
   "metadata": {
    "tags": []
   },
   "outputs": [
    {
     "name": "stdout",
     "output_type": "stream",
     "text": [
      "====================================Circuit Summary====================================\n",
      "|Total number of gates  : 1364.                                                       |\n",
      "|Parameter gates        : 260.                                                        |\n",
      "|with 260 parameters are:                                                             |\n",
      "|a0_0, a1_0, a2_0, a3_0, a4_0, a5_0, a6_0, a7_0, a8_0, a9_0..                        .|\n",
      "|Number qubit of circuit: 10                                                          |\n",
      "=======================================================================================\n"
     ]
    }
   ],
   "source": [
    "circ.summary()"
   ]
  },
  {
   "cell_type": "code",
   "execution_count": 20,
   "id": "65f71331-99f5-41a3-8b8c-4fd0edc7cc63",
   "metadata": {},
   "outputs": [],
   "source": [
    "# Write data to a text file\n",
    "with open('0412-qaoa-n_layer-dk=1.txt', 'w') as f:\n",
    "    f.write(\"dk, batch, sr_set, sq_set, cost_fun, minbin_set, qu_time, cl_time\\n\")\n",
    "    for i_index, dk in enumerate(n_layer_list):\n",
    "        for j in range(batch):\n",
    "            f.write(f\"{dk}, {j}, {sr_set[i_index, j]}, {sq_set[i_index, j]}, {cost_fun[i_index, j]}, {minbin_set[i_index, j]}, {qu_time[i_index, j]}, {cl_time[i_index, j]}\\n\")"
   ]
  },
  {
   "cell_type": "code",
   "execution_count": 14,
   "id": "60fd8011-a76a-49fc-9e6a-b33eaa7cfd73",
   "metadata": {
    "tags": []
   },
   "outputs": [
    {
     "name": "stdout",
     "output_type": "stream",
     "text": [
      "p = 3\n",
      "dk = 3\n",
      "Iteration = 100\n"
     ]
    }
   ],
   "source": [
    "print('p =',n_layer)\n",
    "print('dk =',dk)\n",
    "print('Iteration =',ite)"
   ]
  },
  {
   "cell_type": "code",
   "execution_count": 15,
   "id": "a57744a9-0604-425f-a653-4560f9a6aeb2",
   "metadata": {
    "tags": []
   },
   "outputs": [
    {
     "name": "stdout",
     "output_type": "stream",
     "text": [
      "- cd-minbin_set: [[6. 6. 6. 6. 6. 6. 6. 6. 6. 6.]\n",
      " [6. 6. 6. 6. 6. 6. 6. 6. 6. 6.]\n",
      " [6. 6. 6. 6. 6. 6. 6. 6. 6. 6.]]\n",
      "- cd-sr_set: [[0.88888889 0.88888889 0.86111111 0.83333333 0.91666667 0.91666667\n",
      "  0.88888889 0.91666667 0.94444444 0.97222222]\n",
      " [0.91666667 0.97222222 1.         0.91666667 1.         0.97222222\n",
      "  0.88888889 0.94444444 0.94444444 0.94444444]\n",
      " [0.94444444 0.94444444 0.94444444 0.88888889 0.94444444 0.94444444\n",
      "  0.94444444 0.97222222 0.88888889 0.88888889]]\n",
      "- cd-sq_set: [[0.69565217 0.66666667 0.64583333 0.6122449  0.67346939 0.64705882\n",
      "  0.61538462 0.64705882 0.66666667 0.66037736]\n",
      " [0.58928571 0.63636364 0.61016949 0.57894737 0.62068966 0.63636364\n",
      "  0.61538462 0.60714286 0.64150943 0.60714286]\n",
      " [0.64150943 0.62962963 0.59649123 0.59259259 0.55737705 0.59649123\n",
      "  0.5862069  0.61403509 0.60377358 0.62745098]] \n",
      "\n",
      "**Elapsed time quantum: 38.01597476005554 seconds**\n",
      "**Elapsed time classic: 84.73806428909302 seconds**\n"
     ]
    }
   ],
   "source": [
    "print('- cd-minbin_set:',minbin_set)\n",
    "print('- cd-sr_set:',sr_set)\n",
    "print('- cd-sq_set:',sq_set,'\\n')\n",
    "print(\"**Elapsed time quantum:\", np.mean(elapsed_time_process1), \"seconds**\")\n",
    "print(\"**Elapsed time classic:\", np.mean(elapsed_time_process2), \"seconds**\")\n",
    "\n"
   ]
  },
  {
   "cell_type": "code",
   "execution_count": null,
   "id": "cf150888-adb2-4a2f-b862-eb8c258366bf",
   "metadata": {},
   "outputs": [],
   "source": []
  },
  {
   "cell_type": "code",
   "execution_count": 16,
   "id": "58ce65ff-babb-4ed3-b5da-fa3c17b6b885",
   "metadata": {
    "tags": []
   },
   "outputs": [
    {
     "name": "stdout",
     "output_type": "stream",
     "text": [
      "- cd-minbin_set: [[6. 6. 6. 6. 6. 6. 6. 6. 6. 6.]\n",
      " [6. 6. 6. 6. 6. 6. 6. 6. 6. 6.]\n",
      " [6. 6. 6. 6. 6. 6. 6. 6. 6. 6.]]\n",
      "- cd-sr_set: [[0.88888889 0.88888889 0.86111111 0.83333333 0.91666667 0.91666667\n",
      "  0.88888889 0.91666667 0.94444444 0.97222222]\n",
      " [0.91666667 0.97222222 1.         0.91666667 1.         0.97222222\n",
      "  0.88888889 0.94444444 0.94444444 0.94444444]\n",
      " [0.94444444 0.94444444 0.94444444 0.88888889 0.94444444 0.94444444\n",
      "  0.94444444 0.97222222 0.88888889 0.88888889]]\n",
      "- cd-sq_set: [[0.69565217 0.66666667 0.64583333 0.6122449  0.67346939 0.64705882\n",
      "  0.61538462 0.64705882 0.66666667 0.66037736]\n",
      " [0.58928571 0.63636364 0.61016949 0.57894737 0.62068966 0.63636364\n",
      "  0.61538462 0.60714286 0.64150943 0.60714286]\n",
      " [0.64150943 0.62962963 0.59649123 0.59259259 0.55737705 0.59649123\n",
      "  0.5862069  0.61403509 0.60377358 0.62745098]]\n"
     ]
    },
    {
     "ename": "NameError",
     "evalue": "name 'elapsed_time' is not defined",
     "output_type": "error",
     "traceback": [
      "\u001b[0;31m---------------------------------------------------------------------------\u001b[0m",
      "\u001b[0;31mNameError\u001b[0m                                 Traceback (most recent call last)",
      "Cell \u001b[0;32mIn[16], line 4\u001b[0m\n\u001b[1;32m      2\u001b[0m \u001b[38;5;28mprint\u001b[39m(\u001b[38;5;124m'\u001b[39m\u001b[38;5;124m- cd-sr_set:\u001b[39m\u001b[38;5;124m'\u001b[39m,sr_set)\n\u001b[1;32m      3\u001b[0m \u001b[38;5;28mprint\u001b[39m(\u001b[38;5;124m'\u001b[39m\u001b[38;5;124m- cd-sq_set:\u001b[39m\u001b[38;5;124m'\u001b[39m,sq_set)\n\u001b[0;32m----> 4\u001b[0m \u001b[38;5;28mprint\u001b[39m(\u001b[38;5;124m\"\u001b[39m\u001b[38;5;124m**Elapsed time:\u001b[39m\u001b[38;5;124m\"\u001b[39m, \u001b[43melapsed_time\u001b[49m, \u001b[38;5;124m\"\u001b[39m\u001b[38;5;124mseconds**\u001b[39m\u001b[38;5;124m\"\u001b[39m)\n",
      "\u001b[0;31mNameError\u001b[0m: name 'elapsed_time' is not defined"
     ]
    }
   ],
   "source": [
    "print('- cd-minbin_set:',minbin_set)\n",
    "print('- cd-sr_set:',sr_set)\n",
    "print('- cd-sq_set:',sq_set)\n",
    "print(\"**Elapsed time:\", elapsed_time, \"seconds**\")"
   ]
  },
  {
   "cell_type": "code",
   "execution_count": null,
   "id": "994f8c72-1841-41e2-b130-a602f21dc820",
   "metadata": {
    "tags": []
   },
   "outputs": [],
   "source": []
  },
  {
   "cell_type": "code",
   "execution_count": null,
   "id": "6b30675b-51e1-4ba4-aa0f-2f1caf7adf36",
   "metadata": {
    "tags": []
   },
   "outputs": [],
   "source": [
    "gs = E0_energy(h_p)"
   ]
  },
  {
   "cell_type": "code",
   "execution_count": null,
   "id": "0a27f04b-14f9-4657-be71-281dbf45a68e",
   "metadata": {
    "tags": []
   },
   "outputs": [],
   "source": [
    "plt.xlabel('iteration', fontsize=12)\n",
    "plt.ylabel('Energy', fontsize=12)\n",
    "plt.title(\"100 iteration\", fontsize=12)\n",
    "plt.axhline(y=gs, color=\"black\", linestyle=\"--\", label=\"True energy\")\n",
    "plt.plot(result)\n",
    "plt.savefig('100-dc-p=1.png')"
   ]
  },
  {
   "cell_type": "code",
   "execution_count": null,
   "id": "3ed0b271-2580-452b-9636-57c8a3c882e8",
   "metadata": {
    "tags": []
   },
   "outputs": [],
   "source": [
    "yz = QubitOperator(f'Y0 Z1',1)\n",
    "c = Circuit()\n",
    "c += decompose_single_term_time_evolution(yz, ParameterResolver(f'b{index}'))"
   ]
  },
  {
   "cell_type": "code",
   "execution_count": null,
   "id": "79d21234-d943-4757-a7e1-5e8c2f710529",
   "metadata": {
    "tags": []
   },
   "outputs": [],
   "source": [
    "c.svg().to_file('yz_0314.svg')"
   ]
  },
  {
   "cell_type": "code",
   "execution_count": null,
   "id": "acd4c2e0-b576-4a22-b495-64b1facf6ac4",
   "metadata": {
    "tags": []
   },
   "outputs": [],
   "source": []
  },
  {
   "cell_type": "code",
   "execution_count": null,
   "id": "7b6b6ff0-7638-406c-9121-74cde1ebe82f",
   "metadata": {},
   "outputs": [],
   "source": []
  }
 ],
 "metadata": {
  "kernelspec": {
   "display_name": "Python 3 (ipykernel)",
   "language": "python",
   "name": "python3"
  },
  "language_info": {
   "codemirror_mode": {
    "name": "ipython",
    "version": 3
   },
   "file_extension": ".py",
   "mimetype": "text/x-python",
   "name": "python",
   "nbconvert_exporter": "python",
   "pygments_lexer": "ipython3",
   "version": "3.9.17"
  }
 },
 "nbformat": 4,
 "nbformat_minor": 5
}
