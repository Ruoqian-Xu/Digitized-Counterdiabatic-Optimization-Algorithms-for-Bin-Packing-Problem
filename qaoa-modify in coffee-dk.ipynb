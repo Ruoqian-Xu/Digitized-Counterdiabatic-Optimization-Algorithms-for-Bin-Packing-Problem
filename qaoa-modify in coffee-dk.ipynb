{
 "cells": [
  {
   "cell_type": "code",
   "execution_count": 1,
   "id": "9c4a177a-c5ad-4ae6-9bbc-9c2aff86a23f",
   "metadata": {
    "tags": []
   },
   "outputs": [],
   "source": [
    "from mindquantum.core.circuit import Circuit, UN, add_suffix, apply, decompose_single_term_time_evolution\n",
    "from mindquantum.core.gates import H, Rzz, RX, Rzz,RZ, RY, Measure, BarrierGate\n",
    "from mindquantum.core.operators import Hamiltonian, QubitOperator\n",
    "from mindquantum.framework import MQAnsatzOnlyLayer\n",
    "from mindquantum.simulator import Simulator\n",
    "from mindquantum.core.operators import commutator\n",
    "import time\n",
    "from mindquantum.core.parameterresolver import ParameterResolver\n",
    "from mindquantum import *\n",
    "\n",
    "import mindspore.nn as nn\n",
    "from mindspore import Tensor\n",
    "import mindspore as ms\n",
    "ms.set_context(mode=ms.PYNATIVE_MODE, device_target=\"CPU\")\n",
    "\n",
    "import networkx as nx\n",
    "import numpy as np\n",
    "import matplotlib.pyplot as plt\n",
    "from scipy.optimize import minimize\n",
    "import matplotlib.pylab as pylab\n",
    "from tqdm import tqdm\n",
    "\n",
    "from itertools import combinations\n",
    "from collections import OrderedDict as ordict"
   ]
  },
  {
   "cell_type": "markdown",
   "id": "688a6eb6-dd8c-4bd0-a71a-5c38b9ba67e3",
   "metadata": {},
   "source": [
    "## Build quantum circuits"
   ]
  },
  {
   "cell_type": "code",
   "execution_count": 2,
   "id": "91704169-ae56-407f-8ac6-62f1ae6a6045",
   "metadata": {},
   "outputs": [],
   "source": [
    "def param2dict(keys, values):\n",
    "    # make the parameters and coresponding label to a dict\n",
    "    param_dict = {}\n",
    "    for (key, value) in zip(keys, values):\n",
    "        param_dict[key] = value\n",
    "    return param_dict\n",
    "\n",
    "def get_expectation_of_hamitonian(circ, ham, pr):\n",
    "    # calculate the expectation of hamitonian\n",
    "    sim = Simulator('mqvector', circ.n_qubits)\n",
    "    sim.apply_circuit(circ, pr)\n",
    "    result = sim.get_expectation(ham)\n",
    "        \n",
    "    return result.real\n",
    "def E0_energy(ham_operator):\n",
    "    \n",
    "    # 首先根据哈密顿量的算符将其转化为矩阵形式。\n",
    "    ham_matrix = ham_operator.matrix()\n",
    "    ham_matrix = ham_matrix.todense()\n",
    "\n",
    "    # calculate the eigenvalue and eigenvector\n",
    "    eigval, eigvec = np.linalg.eig(ham_matrix)\n",
    "\n",
    "    # ground energy\n",
    "    E0 = min(eigval).real\n",
    "    #print(eigval, eigvec)\n",
    "    \n",
    "    return E0\n",
    "\n",
    "def train(ham, ansatze, iteration):\n",
    "\n",
    "    # bulid the quantum circuit\n",
    "    \n",
    "    circ = ansatze                                         # 将初始化线路与ansatz线路组合成一个线路\n",
    "    sim = Simulator('mqvector', ansatze.n_qubits)  \n",
    "    #sim.set_qs(initial_ground_state)\n",
    "    \n",
    "    grad_ops = sim.get_expectation_with_grad(ham, circ)    # 获取计算变分量子线路的期望值和梯度的算子\n",
    "    net = MQAnsatzOnlyLayer(grad_ops)                             \n",
    "    opti = nn.Adam(net.trainable_params(), learning_rate=0.05)     \n",
    "    train_net = nn.TrainOneStepCell(net, opti)                    \n",
    "\n",
    "    result = []\n",
    "    #from tqdm import tqdm\n",
    "    for i in range(iteration):\n",
    "        train_net() \n",
    "        result.append(np.array(train_net()[0]))\n",
    "    pr = dict(zip(ansatze.params_name, net.weight.asnumpy())) # 获取线路参数\n",
    "        \n",
    "    return pr, result\n",
    "\n",
    "\n",
    "def state_sampling(ansatze, pr):\n",
    "    \n",
    "    shots = 1024\n",
    "\n",
    "    for i in range(ansatze.n_qubits):\n",
    "        ansatze += Measure().on(i)\n",
    "    \n",
    "\n",
    "    sim = Simulator('mqvector', ansatze.n_qubits)\n",
    "    #sim.set_qs(initial_ground_state)\n",
    "    res = sim.sampling(ansatze, pr, shots=shots)\n",
    "    \n",
    "    return res\n",
    "\n",
    "def CD_operator(CD):\n",
    "    \n",
    "    CD_term = []\n",
    "    for cd in CD.split():\n",
    "        CD_term.append(cd[1])\n",
    "    k = 0\n",
    "    out = ordict()\n",
    "    for cd in CD_term:\n",
    "        for key, term in cd.terms.items():\n",
    "            if len(key) == 2:\n",
    "                #print(len(key))\n",
    "                if key not in out:\n",
    "                    out[key] = ordict({f\"p{k}\": 1})\n",
    "                    k += 1\n",
    "    return out\n",
    "\n",
    "def CD_ansataz(out):\n",
    "    \"Transform a pauli ansatz to parameterized quantum circuit.\"\n",
    "\n",
    "    circuit = Circuit()\n",
    "    # circuit += inital_circuits(occupied, circuit_description)\n",
    "        \n",
    "    z = 0\n",
    "    for k, v in out.items():\n",
    "        index1 = (k[0][0], k[1][0])\n",
    "        index2 = (k[1][0], k[0][0])\n",
    "\n",
    "        pauli_operator = (str(k[0][1]), str(k[1][1]))\n",
    "        if pauli_operator == ('Z','Y'):\n",
    "            circuit += Ryz(f'{z}').on(index2)          \n",
    "            z+=1\n",
    "    # for k, v in out.items():\n",
    "    #     circuit += decompose_single_term_time_evolution(k, v)\n",
    "    for i in range(n_items):\n",
    "        circuit += RY(f'ry{i}').on(i)\n",
    "    \n",
    "    return circuit"
   ]
  },
  {
   "cell_type": "markdown",
   "id": "4e1114eb-6cc0-4b1c-af8a-475ce735c9f3",
   "metadata": {},
   "source": [
    "### The Hamitonian \n",
    "$H_p = \\sum_{i=1}^{n}(-\\frac{\\alpha}{2}+\\beta(C-\\frac{1}{2}\\sum_{i}^{n}\\omega_{i}))Z_{i}\\omega_{i} + \\sum_{i<j}\\frac{\\beta}{2}\\omega_{i}\\omega_{j}Z_{i}Z_{j}.$"
   ]
  },
  {
   "cell_type": "code",
   "execution_count": 3,
   "id": "11e47b90-ed3f-45df-8ebf-985f16056ded",
   "metadata": {},
   "outputs": [],
   "source": [
    "def generate_h_one_body(n, W, alpha, beta, capacity):\n",
    "    ele1 = QubitOperator()\n",
    "    for i in range(n):\n",
    "            ele1 += QubitOperator(f'Z{i}',-W[i]*(alpha/2 - beta*capacity))\n",
    "    for i in range(n):\n",
    "        for j in range(n):\n",
    "            ele1 += QubitOperator(f'Z{i}',-1/2*beta*W[i]*W[j])\n",
    "    return ele1\n",
    "\n",
    "def generate_h_two_body(n, W, beta):\n",
    "    ele1 = QubitOperator()\n",
    "    h_two_body = QubitOperator()\n",
    "    for i in range(n):\n",
    "        for j in range(n):\n",
    "            if i < j:\n",
    "                ele1 += QubitOperator(f'Z{i} Z{j}',W[i]*W[j]*beta/2)\n",
    "    return ele1\n",
    "\n",
    "def generate_h_mixer(n):\n",
    "    h_mixer = QubitOperator()\n",
    "    for i in range(n):\n",
    "        h_mixer += QubitOperator(f'X{i}')\n",
    "    return h_mixer"
   ]
  },
  {
   "cell_type": "code",
   "execution_count": 4,
   "id": "a9c18bb9-5a39-4f14-98d2-9df6bba50f8e",
   "metadata": {
    "tags": []
   },
   "outputs": [],
   "source": [
    "# Function of generating all possible solution in one bin\n",
    "def find_combinations(elements, target_sum):\n",
    "    result = []\n",
    "    # Enumerate the elements to keep track of their indices\n",
    "    enumerated_elements = list(enumerate(elements))\n",
    "    for r in range(1, len(elements) + 1):\n",
    "        for combo in combinations(enumerated_elements, r):\n",
    "            # Calculate the sum of the current combination\n",
    "            combo_sum = sum(ele[1] for ele in combo)\n",
    "            if combo_sum <= target_sum:\n",
    "                # Store the indices of the elements in the combination\n",
    "                result.append([ele[0] for ele in combo])\n",
    "    return result\n",
    "\n",
    "\n",
    "# Function of calculating the minimum positive difference of weights\n",
    "def min_positive_difference(lst):\n",
    "    # Sort the list in ascending order\n",
    "    sorted_lst = sorted(lst)\n",
    "    \n",
    "    # Initialize min_diff to a large value\n",
    "    min_diff = float('inf')\n",
    "\n",
    "    # Iterate through the sorted list to find the minimum positive difference\n",
    "    for i in range(len(sorted_lst) - 1):\n",
    "        diff = sorted_lst[i + 1] - sorted_lst[i]\n",
    "        if 0 < diff < min_diff:\n",
    "            min_diff = diff\n",
    "\n",
    "    return min_diff if min_diff != float('inf') else None"
   ]
  },
  {
   "cell_type": "markdown",
   "id": "9a748d69-4c24-466c-a966-48561bbd3ca2",
   "metadata": {},
   "source": [
    "### check the minimum number of bin"
   ]
  },
  {
   "cell_type": "code",
   "execution_count": 5,
   "id": "649dd143-7261-4109-8258-b78070864f0b",
   "metadata": {
    "tags": []
   },
   "outputs": [],
   "source": [
    "def find_min_number(lists, target):\n",
    "    opti_solu = 0\n",
    "    for n in tqdm(range(n_items)):\n",
    "        nested_list = list(combinations(lists,n))\n",
    "        for sublist in nested_list:\n",
    "            l = []\n",
    "            for i in sublist:\n",
    "                l+=i\n",
    "                l = sorted(l)\n",
    "                if l==target:\n",
    "                    opti_solu += 1\n",
    "        if opti_solu != 0:\n",
    "            return n, opti_solu\n",
    "            break\n",
    "    return 999, 999"
   ]
  },
  {
   "cell_type": "markdown",
   "id": "924a1c5d-9255-4282-827f-d32280822c02",
   "metadata": {},
   "source": [
    "### define the traing process, including optimizer, iteration"
   ]
  },
  {
   "cell_type": "code",
   "execution_count": 6,
   "id": "f81a3ca4-91f4-44b1-96f8-e8f12f852cf0",
   "metadata": {},
   "outputs": [],
   "source": [
    "def Quantum_cd_mixer(h_m, ci, n_layer, n_items):\n",
    "       \n",
    "    u_m = 0\n",
    "    index=0\n",
    "    for i in h_m:\n",
    "        u_m += decompose_single_term_time_evolution(i, ParameterResolver(f'c{index}'))\n",
    "        index=index+1\n",
    "\n",
    "    p = n_layer\n",
    "    prep_circ = UN(H, n_items)\n",
    "    ansatz_template =   u_m + ci #u_p +\n",
    "    ansatz = Circuit() + prep_circ\n",
    "\n",
    "    for i in range(p):\n",
    "        ansatz += add_suffix(ansatz_template, str(i)) + BarrierGate()\n",
    "        \n",
    "    return ansatz\n",
    "\n",
    "def Quantum_QAOA_Circuits(h_m, h_p, n_layer, n_items):\n",
    "    \n",
    "            \n",
    "    u_m = 0\n",
    "    index=0\n",
    "    for i in h_m:\n",
    "        u_m += decompose_single_term_time_evolution(i, ParameterResolver(f'b{index}'))\n",
    "        index=index+1\n",
    "\n",
    "    u_p = 0\n",
    "    index=0\n",
    "    for i in h_p:\n",
    "        u_p += decompose_single_term_time_evolution(i, ParameterResolver(f'a{index}'))\n",
    "        index=index+1\n",
    "\n",
    "\n",
    "    p = n_layer\n",
    "    prep_circ = UN(H, n_items)\n",
    "    ansatz_template =   u_p + u_m \n",
    "    ansatz = Circuit() + prep_circ\n",
    "\n",
    "    for i in range(p):\n",
    "        ansatz += add_suffix(ansatz_template, str(i)) + BarrierGate()\n",
    "        \n",
    "    return ansatz"
   ]
  },
  {
   "cell_type": "code",
   "execution_count": 7,
   "id": "5c2eb893-5be9-42cf-94db-d4ba94f390c6",
   "metadata": {},
   "outputs": [],
   "source": [
    "def data_analyze(n_items, solution_set, W, Capa, target_solu):\n",
    "    \n",
    "    # Extracting keys with values greater than 100\n",
    "    data = [key for sub_dict in solution_set for key, value in sub_dict.items()]\n",
    "    # Remove the duplicate keys\n",
    "    result_list = list(set(data))\n",
    "    # Calculate the weight sum for each binary string\n",
    "    weight_sums = [sum(W[i] for i in range(len(result_list_sub)) if result_list_sub[i] == '1') for result_list_sub in result_list]\n",
    "    # Combine the binary strings and their corresponding weight sums\n",
    "    combined_data = list(zip(result_list, weight_sums))\n",
    "    #print(combined_data)\n",
    "    # Filter out the empty lists\n",
    "    filtered_empty = [(binary_string, value) for binary_string, value in combined_data if value != 0]\n",
    "    #print(filtered_empty)\n",
    "    # Filter out the data whose weight sum is bigger than Capacity\n",
    "    filtered_data = [(binary_string, weight_sum) for binary_string, weight_sum in filtered_empty if weight_sum <= Capa]\n",
    "    # Sort the combined data by weight sum in descending order\n",
    "    sorted_data = sorted(filtered_data, key=lambda x: x[1], reverse=True)\n",
    "    # Read the feasible solutions\n",
    "    sorted_binary_strings = [data[0] for data in sorted_data] \n",
    "    \n",
    "    ar = len(sorted_binary_strings)/len(target_solu)\n",
    "    sq = len(sorted_binary_strings)/len(filtered_empty)\n",
    "\n",
    "    return  sorted_binary_strings, ar, sq"
   ]
  },
  {
   "cell_type": "code",
   "execution_count": 8,
   "id": "b81aff86-b708-4be3-a73b-ea858aa28d70",
   "metadata": {
    "tags": []
   },
   "outputs": [],
   "source": [
    "#dk = 1.5\n",
    "ite = 100\n",
    "n_layer = 1\n",
    "\n",
    "dk_list = [2.5]\n",
    "#iteration_list = [100, 150, 200]\n",
    "#n_layer_list = [1, 2, 3]"
   ]
  },
  {
   "cell_type": "code",
   "execution_count": 9,
   "id": "b761bf59-183d-4516-b23e-36ff2b171a89",
   "metadata": {
    "tags": []
   },
   "outputs": [],
   "source": [
    "n_items = 10 #number of items\n",
    "capacity = 120 #maximum capacity of box\n",
    "\n",
    "# insert QAOA weight list to compare fairly\n",
    "W = [42, 44, 63, 41, 51, 45, 42, 69, 50, 40]\n",
    "\n",
    "#np.random.normal(loc=capacity/2, size=n)\n",
    "beta = np.min(W)/5\n",
    "delta_w = min_positive_difference(W)\n",
    "\n",
    "# generate exact solutions\n",
    "result_combinations = find_combinations(W, capacity)\n",
    "target_solu = list(result_combinations)\n",
    "target = list(range(n_items))"
   ]
  },
  {
   "cell_type": "code",
   "execution_count": 10,
   "id": "2313a7b2-89e7-47b6-8f34-cb1b372670a9",
   "metadata": {},
   "outputs": [
    {
     "name": "stderr",
     "output_type": "stream",
     "text": [
      "100%|██████████| 48/48 [00:17<00:00,  2.73it/s]\n",
      " 50%|█████     | 5/10 [00:01<00:01,  3.73it/s]\n"
     ]
    },
    {
     "name": "stdout",
     "output_type": "stream",
     "text": [
      "successful ratio is:  0.8148148148148148\n",
      "solution quality is:  0.8301886792452831\n",
      "minimum number of bin is 5\n"
     ]
    },
    {
     "name": "stderr",
     "output_type": "stream",
     "text": [
      "100%|██████████| 48/48 [00:16<00:00,  2.84it/s]\n",
      " 50%|█████     | 5/10 [00:01<00:01,  4.23it/s]\n"
     ]
    },
    {
     "name": "stdout",
     "output_type": "stream",
     "text": [
      "successful ratio is:  0.7962962962962963\n",
      "solution quality is:  0.7413793103448276\n",
      "minimum number of bin is 5\n"
     ]
    },
    {
     "name": "stderr",
     "output_type": "stream",
     "text": [
      "100%|██████████| 48/48 [00:17<00:00,  2.82it/s]\n",
      " 50%|█████     | 5/10 [00:01<00:01,  4.75it/s]\n"
     ]
    },
    {
     "name": "stdout",
     "output_type": "stream",
     "text": [
      "successful ratio is:  0.7777777777777778\n",
      "solution quality is:  0.7368421052631579\n",
      "minimum number of bin is 5\n"
     ]
    },
    {
     "name": "stderr",
     "output_type": "stream",
     "text": [
      "100%|██████████| 48/48 [00:17<00:00,  2.74it/s]\n",
      " 50%|█████     | 5/10 [00:01<00:01,  3.47it/s]\n"
     ]
    },
    {
     "name": "stdout",
     "output_type": "stream",
     "text": [
      "successful ratio is:  0.8148148148148148\n",
      "solution quality is:  0.7719298245614035\n",
      "minimum number of bin is 5\n"
     ]
    },
    {
     "name": "stderr",
     "output_type": "stream",
     "text": [
      "100%|██████████| 48/48 [00:17<00:00,  2.73it/s]\n",
      " 50%|█████     | 5/10 [00:01<00:01,  3.60it/s]"
     ]
    },
    {
     "name": "stdout",
     "output_type": "stream",
     "text": [
      "successful ratio is:  0.8148148148148148\n",
      "solution quality is:  0.8301886792452831\n",
      "minimum number of bin is 5\n"
     ]
    },
    {
     "name": "stderr",
     "output_type": "stream",
     "text": [
      "\n"
     ]
    }
   ],
   "source": [
    "batch = 5\n",
    "sr_set = np.zeros((len(dk_list), batch))\n",
    "sq_set = np.zeros((len(dk_list), batch))\n",
    "n_solu_set = np.zeros((len(dk_list), batch))\n",
    "minbin_set = np.zeros((len(dk_list), batch))\n",
    "\n",
    "\n",
    "for i_index, dk in enumerate(dk_list):\n",
    "\n",
    "    for j in range(batch):\n",
    "\n",
    "        solution_set = []\n",
    "        # qu_time = []\n",
    "        # start_time_process1 = time.time()\n",
    "\n",
    "        for k in tqdm(np.arange(1,(capacity/delta_w),dk)):\n",
    "            alpha = 2*beta*(capacity-k*delta_w)\n",
    "            h_p = generate_h_two_body(n_items, W, beta) + generate_h_one_body(n_items, W, alpha, beta, capacity)\n",
    "            h_m = generate_h_mixer(n_items)\n",
    "            h_cd = commutator(h_m,h_p)#CD pool\n",
    "            cd = CD_operator(h_cd)\n",
    "            ci = CD_ansataz(cd)\n",
    "\n",
    "            circ = Quantum_QAOA_Circuits(h_m, h_p, n_layer, n_items)\n",
    "            #ground_energy.append(E0_energy(h_p))\n",
    "\n",
    "            ham = Hamiltonian(h_p)\n",
    "            sim = Simulator('mqvector', n_items)\n",
    "            grad_ops = sim.get_expectation_with_grad(ham, circ)\n",
    "\n",
    "            pr, result = train(ham, circ, ite)\n",
    "            #cost_fun.append(result)\n",
    "            res = state_sampling(circ, pr)\n",
    "            solution_set.append(res.data)\n",
    "\n",
    "        # Record the current time after the first process\n",
    "        # end_time_process1 = time.time()\n",
    "\n",
    "        # Calculate the elapsed time for the quantum process\n",
    "        # elapsed_time_process1 = end_time_process1 - start_time_process1\n",
    "        # qu_time[i_index, j] = elapsed_time_process1\n",
    "\n",
    "        elements_fea, succ_ratio, solution_quality= data_analyze(n_items, solution_set, W[::-1], capacity, target_solu)\n",
    "        positions = [[n_items-1-i for i, char in enumerate(element) if char == '1'] for element in elements_fea]\n",
    "        minbin, n_solu = find_min_number(positions,target)\n",
    "        \n",
    "        minbin_set[i_index, j] = minbin\n",
    "        n_solu_set[i_index, j] = n_solu\n",
    "        sr_set[i_index, j] = succ_ratio\n",
    "        sq_set[i_index, j] = solution_quality\n",
    "\n",
    "        # Record the current time before the second process\n",
    "        # end_time_process2 = time.time()\n",
    "\n",
    "        # Calculate the elapsed time for the classic process\n",
    "        # elapsed_time_process2 = end_time_process2 - end_time_process1\n",
    "        # cl_time[i_index, j] = elapsed_time_process2\n",
    "\n",
    "        print('successful ratio is: ',succ_ratio)\n",
    "        print('solution quality is: ',solution_quality)\n",
    "        print('minimum number of bin is',minbin)\n",
    "        # print(\"Elapsed time for quantum process:\", np.mean(elapsed_time_process1), \"seconds\")\n",
    "        # print(\"Elapsed time for classic process:\", np.mean(elapsed_time_process2), \"seconds\")"
   ]
  },
  {
   "cell_type": "code",
   "execution_count": 12,
   "id": "65f71331-99f5-41a3-8b8c-4fd0edc7cc63",
   "metadata": {
    "tags": []
   },
   "outputs": [],
   "source": [
    "# Write data to a text file\n",
    "with open('qaoa-k-W1.txt', 'w') as f:\n",
    "    f.write(\"dk, batch, sr_set, sq_set, minbin_set, n_solu\\n\")\n",
    "    for i_index, i in enumerate(dk_list):\n",
    "        for j in range(batch):\n",
    "            f.write(f\"{i}, {j}, {sr_set[i_index, j]}, {sq_set[i_index, j]}, {minbin_set[i_index, j]}, {n_solu_set[i_index, j]}\\n\")"
   ]
  },
  {
   "cell_type": "code",
   "execution_count": null,
   "id": "60fd8011-a76a-49fc-9e6a-b33eaa7cfd73",
   "metadata": {
    "tags": []
   },
   "outputs": [],
   "source": []
  },
  {
   "cell_type": "code",
   "execution_count": null,
   "id": "a57744a9-0604-425f-a653-4560f9a6aeb2",
   "metadata": {
    "tags": []
   },
   "outputs": [],
   "source": []
  },
  {
   "cell_type": "code",
   "execution_count": 13,
   "id": "b9a1aacc-640b-48a3-958a-44e0ca1adfd8",
   "metadata": {
    "tags": []
   },
   "outputs": [],
   "source": [
    "#dk = 1.5\n",
    "ite = 100\n",
    "n_layer = 1\n",
    "\n",
    "dk_list = [0.5, 1, 1.5, 2, 2.5, 3, 3.5, 4]\n",
    "#iteration_list = [100, 150, 200]\n",
    "#n_layer_list = [1, 2, 3]"
   ]
  },
  {
   "cell_type": "code",
   "execution_count": 34,
   "id": "baf3eb0b-2595-4457-92eb-848477365f2f",
   "metadata": {
    "tags": []
   },
   "outputs": [],
   "source": [
    "n_items = 10 #number of items\n",
    "capacity = 120 #maximum capacity of box\n",
    "\n",
    "# insert QAOA weight list to compare fairly\n",
    "W = [24, 35, 34, 23, 29, 20, 52, 33, 47, 20]\n",
    "\n",
    "#np.random.normal(loc=capacity/2, size=n)\n",
    "beta = np.min(W)/5\n",
    "delta_w = min_positive_difference(W)\n",
    "\n",
    "# generate exact solutions\n",
    "result_combinations = find_combinations(W, capacity)\n",
    "target_solu = list(result_combinations)\n",
    "target = list(range(n_items))"
   ]
  },
  {
   "cell_type": "code",
   "execution_count": 35,
   "id": "8f25c819-2787-4e49-921a-e445dd6a8c49",
   "metadata": {
    "tags": []
   },
   "outputs": [
    {
     "data": {
      "text/plain": [
       "246"
      ]
     },
     "execution_count": 35,
     "metadata": {},
     "output_type": "execute_result"
    }
   ],
   "source": [
    "len(target_solu)"
   ]
  },
  {
   "cell_type": "code",
   "execution_count": 15,
   "id": "d64b81a9-a57d-4b7a-bd71-27fffa1127f9",
   "metadata": {},
   "outputs": [
    {
     "name": "stderr",
     "output_type": "stream",
     "text": [
      "100%|██████████| 238/238 [01:41<00:00,  2.34it/s]\n",
      " 50%|█████     | 5/10 [00:02<00:02,  2.13it/s]\n"
     ]
    },
    {
     "name": "stdout",
     "output_type": "stream",
     "text": [
      "successful ratio is:  0.9791666666666666\n",
      "solution quality is:  0.6351351351351351\n",
      "minimum number of bin is 5\n"
     ]
    },
    {
     "name": "stderr",
     "output_type": "stream",
     "text": [
      "100%|██████████| 238/238 [01:51<00:00,  2.13it/s]\n",
      " 50%|█████     | 5/10 [00:02<00:02,  1.83it/s]\n"
     ]
    },
    {
     "name": "stdout",
     "output_type": "stream",
     "text": [
      "successful ratio is:  1.0\n",
      "solution quality is:  0.676056338028169\n",
      "minimum number of bin is 5\n"
     ]
    },
    {
     "name": "stderr",
     "output_type": "stream",
     "text": [
      "100%|██████████| 238/238 [01:52<00:00,  2.12it/s]\n",
      " 50%|█████     | 5/10 [00:02<00:02,  1.72it/s]\n"
     ]
    },
    {
     "name": "stdout",
     "output_type": "stream",
     "text": [
      "successful ratio is:  1.0\n",
      "solution quality is:  0.7058823529411765\n",
      "minimum number of bin is 5\n"
     ]
    },
    {
     "name": "stderr",
     "output_type": "stream",
     "text": [
      "100%|██████████| 238/238 [01:57<00:00,  2.02it/s]\n",
      " 50%|█████     | 5/10 [00:02<00:02,  1.71it/s]\n"
     ]
    },
    {
     "name": "stdout",
     "output_type": "stream",
     "text": [
      "successful ratio is:  1.0\n",
      "solution quality is:  0.676056338028169\n",
      "minimum number of bin is 5\n"
     ]
    },
    {
     "name": "stderr",
     "output_type": "stream",
     "text": [
      "100%|██████████| 238/238 [01:55<00:00,  2.07it/s]\n",
      " 50%|█████     | 5/10 [00:03<00:03,  1.57it/s]\n"
     ]
    },
    {
     "name": "stdout",
     "output_type": "stream",
     "text": [
      "successful ratio is:  1.0\n",
      "solution quality is:  0.6956521739130435\n",
      "minimum number of bin is 5\n"
     ]
    },
    {
     "name": "stderr",
     "output_type": "stream",
     "text": [
      "100%|██████████| 119/119 [00:57<00:00,  2.08it/s]\n",
      " 50%|█████     | 5/10 [00:01<00:01,  4.96it/s]\n"
     ]
    },
    {
     "name": "stdout",
     "output_type": "stream",
     "text": [
      "successful ratio is:  0.9375\n",
      "solution quality is:  0.7894736842105263\n",
      "minimum number of bin is 5\n"
     ]
    },
    {
     "name": "stderr",
     "output_type": "stream",
     "text": [
      "100%|██████████| 119/119 [00:59<00:00,  1.99it/s]\n",
      " 50%|█████     | 5/10 [00:01<00:01,  4.41it/s]\n"
     ]
    },
    {
     "name": "stdout",
     "output_type": "stream",
     "text": [
      "successful ratio is:  0.9583333333333334\n",
      "solution quality is:  0.7419354838709677\n",
      "minimum number of bin is 5\n"
     ]
    },
    {
     "name": "stderr",
     "output_type": "stream",
     "text": [
      "100%|██████████| 119/119 [00:59<00:00,  1.99it/s]\n",
      " 50%|█████     | 5/10 [00:00<00:00,  5.55it/s]\n"
     ]
    },
    {
     "name": "stdout",
     "output_type": "stream",
     "text": [
      "successful ratio is:  0.9166666666666666\n",
      "solution quality is:  0.8148148148148148\n",
      "minimum number of bin is 5\n"
     ]
    },
    {
     "name": "stderr",
     "output_type": "stream",
     "text": [
      "100%|██████████| 119/119 [00:59<00:00,  2.01it/s]\n",
      " 50%|█████     | 5/10 [00:02<00:02,  1.80it/s]\n"
     ]
    },
    {
     "name": "stdout",
     "output_type": "stream",
     "text": [
      "successful ratio is:  0.8958333333333334\n",
      "solution quality is:  0.7413793103448276\n",
      "minimum number of bin is 5\n"
     ]
    },
    {
     "name": "stderr",
     "output_type": "stream",
     "text": [
      "100%|██████████| 119/119 [00:59<00:00,  2.00it/s]\n",
      " 50%|█████     | 5/10 [00:00<00:00,  6.25it/s]\n"
     ]
    },
    {
     "name": "stdout",
     "output_type": "stream",
     "text": [
      "successful ratio is:  0.8958333333333334\n",
      "solution quality is:  0.7166666666666667\n",
      "minimum number of bin is 5\n"
     ]
    },
    {
     "name": "stderr",
     "output_type": "stream",
     "text": [
      "100%|██████████| 80/80 [00:41<00:00,  1.91it/s]\n",
      " 50%|█████     | 5/10 [00:00<00:00,  7.10it/s]\n"
     ]
    },
    {
     "name": "stdout",
     "output_type": "stream",
     "text": [
      "successful ratio is:  0.875\n",
      "solution quality is:  0.84\n",
      "minimum number of bin is 5\n"
     ]
    },
    {
     "name": "stderr",
     "output_type": "stream",
     "text": [
      "100%|██████████| 80/80 [00:41<00:00,  1.91it/s]\n",
      " 50%|█████     | 5/10 [00:02<00:02,  1.79it/s]\n"
     ]
    },
    {
     "name": "stdout",
     "output_type": "stream",
     "text": [
      "successful ratio is:  0.9375\n",
      "solution quality is:  0.7894736842105263\n",
      "minimum number of bin is 5\n"
     ]
    },
    {
     "name": "stderr",
     "output_type": "stream",
     "text": [
      "100%|██████████| 80/80 [00:44<00:00,  1.81it/s]\n",
      " 50%|█████     | 5/10 [00:01<00:01,  4.95it/s]\n"
     ]
    },
    {
     "name": "stdout",
     "output_type": "stream",
     "text": [
      "successful ratio is:  0.9375\n",
      "solution quality is:  0.8181818181818182\n",
      "minimum number of bin is 5\n"
     ]
    },
    {
     "name": "stderr",
     "output_type": "stream",
     "text": [
      "100%|██████████| 80/80 [00:39<00:00,  2.02it/s]\n",
      " 50%|█████     | 5/10 [00:02<00:02,  1.91it/s]\n"
     ]
    },
    {
     "name": "stdout",
     "output_type": "stream",
     "text": [
      "successful ratio is:  0.8958333333333334\n",
      "solution quality is:  0.7678571428571429\n",
      "minimum number of bin is 5\n"
     ]
    },
    {
     "name": "stderr",
     "output_type": "stream",
     "text": [
      "100%|██████████| 80/80 [00:41<00:00,  1.93it/s]\n",
      " 50%|█████     | 5/10 [00:00<00:00,  9.09it/s]\n"
     ]
    },
    {
     "name": "stdout",
     "output_type": "stream",
     "text": [
      "successful ratio is:  0.8333333333333334\n",
      "solution quality is:  0.7843137254901961\n",
      "minimum number of bin is 5\n"
     ]
    },
    {
     "name": "stderr",
     "output_type": "stream",
     "text": [
      "100%|██████████| 60/60 [00:30<00:00,  1.96it/s]\n",
      " 50%|█████     | 5/10 [00:02<00:02,  2.13it/s]\n"
     ]
    },
    {
     "name": "stdout",
     "output_type": "stream",
     "text": [
      "successful ratio is:  0.8125\n",
      "solution quality is:  0.7959183673469388\n",
      "minimum number of bin is 5\n"
     ]
    },
    {
     "name": "stderr",
     "output_type": "stream",
     "text": [
      "100%|██████████| 60/60 [00:31<00:00,  1.90it/s]\n",
      " 50%|█████     | 5/10 [00:00<00:00,  5.56it/s]\n"
     ]
    },
    {
     "name": "stdout",
     "output_type": "stream",
     "text": [
      "successful ratio is:  0.9166666666666666\n",
      "solution quality is:  0.8301886792452831\n",
      "minimum number of bin is 5\n"
     ]
    },
    {
     "name": "stderr",
     "output_type": "stream",
     "text": [
      "100%|██████████| 60/60 [00:30<00:00,  1.94it/s]\n",
      " 50%|█████     | 5/10 [00:02<00:02,  1.78it/s]\n"
     ]
    },
    {
     "name": "stdout",
     "output_type": "stream",
     "text": [
      "successful ratio is:  0.875\n",
      "solution quality is:  0.84\n",
      "minimum number of bin is 5\n"
     ]
    },
    {
     "name": "stderr",
     "output_type": "stream",
     "text": [
      "100%|██████████| 60/60 [00:31<00:00,  1.89it/s]\n",
      " 50%|█████     | 5/10 [00:00<00:00,  7.08it/s]\n"
     ]
    },
    {
     "name": "stdout",
     "output_type": "stream",
     "text": [
      "successful ratio is:  0.875\n",
      "solution quality is:  0.8235294117647058\n",
      "minimum number of bin is 5\n"
     ]
    },
    {
     "name": "stderr",
     "output_type": "stream",
     "text": [
      "100%|██████████| 60/60 [00:31<00:00,  1.93it/s]\n",
      " 50%|█████     | 5/10 [00:00<00:00,  6.27it/s]\n"
     ]
    },
    {
     "name": "stdout",
     "output_type": "stream",
     "text": [
      "successful ratio is:  0.8958333333333334\n",
      "solution quality is:  0.8958333333333334\n",
      "minimum number of bin is 5\n"
     ]
    },
    {
     "name": "stderr",
     "output_type": "stream",
     "text": [
      "100%|██████████| 48/48 [00:25<00:00,  1.89it/s]\n",
      " 50%|█████     | 5/10 [00:02<00:02,  1.70it/s]\n"
     ]
    },
    {
     "name": "stdout",
     "output_type": "stream",
     "text": [
      "successful ratio is:  0.875\n",
      "solution quality is:  0.9767441860465116\n",
      "minimum number of bin is 5\n"
     ]
    },
    {
     "name": "stderr",
     "output_type": "stream",
     "text": [
      "100%|██████████| 48/48 [00:27<00:00,  1.73it/s]\n",
      " 50%|█████     | 5/10 [00:00<00:00,  9.66it/s]\n"
     ]
    },
    {
     "name": "stdout",
     "output_type": "stream",
     "text": [
      "successful ratio is:  0.7916666666666666\n",
      "solution quality is:  0.8260869565217391\n",
      "minimum number of bin is 5\n"
     ]
    },
    {
     "name": "stderr",
     "output_type": "stream",
     "text": [
      "100%|██████████| 48/48 [00:26<00:00,  1.79it/s]\n",
      " 50%|█████     | 5/10 [00:02<00:02,  1.75it/s]\n"
     ]
    },
    {
     "name": "stdout",
     "output_type": "stream",
     "text": [
      "successful ratio is:  0.875\n",
      "solution quality is:  0.9333333333333333\n",
      "minimum number of bin is 5\n"
     ]
    },
    {
     "name": "stderr",
     "output_type": "stream",
     "text": [
      "100%|██████████| 48/48 [00:25<00:00,  1.86it/s]\n",
      " 50%|█████     | 5/10 [00:00<00:00,  8.10it/s]\n"
     ]
    },
    {
     "name": "stdout",
     "output_type": "stream",
     "text": [
      "successful ratio is:  0.8541666666666666\n",
      "solution quality is:  0.8723404255319149\n",
      "minimum number of bin is 5\n"
     ]
    },
    {
     "name": "stderr",
     "output_type": "stream",
     "text": [
      "100%|██████████| 48/48 [00:26<00:00,  1.81it/s]\n",
      " 50%|█████     | 5/10 [00:00<00:00, 15.49it/s]\n"
     ]
    },
    {
     "name": "stdout",
     "output_type": "stream",
     "text": [
      "successful ratio is:  0.75\n",
      "solution quality is:  0.8780487804878049\n",
      "minimum number of bin is 5\n"
     ]
    },
    {
     "name": "stderr",
     "output_type": "stream",
     "text": [
      "100%|██████████| 40/40 [00:22<00:00,  1.78it/s]\n",
      " 50%|█████     | 5/10 [00:00<00:00, 24.63it/s]\n"
     ]
    },
    {
     "name": "stdout",
     "output_type": "stream",
     "text": [
      "successful ratio is:  0.6875\n",
      "solution quality is:  0.7674418604651163\n",
      "minimum number of bin is 5\n"
     ]
    },
    {
     "name": "stderr",
     "output_type": "stream",
     "text": [
      "100%|██████████| 40/40 [00:22<00:00,  1.81it/s]\n",
      " 50%|█████     | 5/10 [00:00<00:00, 24.63it/s]\n"
     ]
    },
    {
     "name": "stdout",
     "output_type": "stream",
     "text": [
      "successful ratio is:  0.6875\n",
      "solution quality is:  0.8461538461538461\n",
      "minimum number of bin is 5\n"
     ]
    },
    {
     "name": "stderr",
     "output_type": "stream",
     "text": [
      "100%|██████████| 40/40 [00:21<00:00,  1.88it/s]\n",
      " 50%|█████     | 5/10 [00:02<00:02,  2.02it/s]\n"
     ]
    },
    {
     "name": "stdout",
     "output_type": "stream",
     "text": [
      "successful ratio is:  0.75\n",
      "solution quality is:  0.8571428571428571\n",
      "minimum number of bin is 5\n"
     ]
    },
    {
     "name": "stderr",
     "output_type": "stream",
     "text": [
      "100%|██████████| 40/40 [00:20<00:00,  1.92it/s]\n",
      " 50%|█████     | 5/10 [00:00<00:00, 25.24it/s]\n"
     ]
    },
    {
     "name": "stdout",
     "output_type": "stream",
     "text": [
      "successful ratio is:  0.6875\n",
      "solution quality is:  0.8048780487804879\n",
      "minimum number of bin is 5\n"
     ]
    },
    {
     "name": "stderr",
     "output_type": "stream",
     "text": [
      "100%|██████████| 40/40 [00:18<00:00,  2.13it/s]\n",
      " 50%|█████     | 5/10 [00:00<00:00, 16.13it/s]\n"
     ]
    },
    {
     "name": "stdout",
     "output_type": "stream",
     "text": [
      "successful ratio is:  0.75\n",
      "solution quality is:  0.8181818181818182\n",
      "minimum number of bin is 5\n"
     ]
    },
    {
     "name": "stderr",
     "output_type": "stream",
     "text": [
      "100%|██████████| 34/34 [00:16<00:00,  2.12it/s]\n",
      " 60%|██████    | 6/10 [00:00<00:00,  7.50it/s]\n"
     ]
    },
    {
     "name": "stdout",
     "output_type": "stream",
     "text": [
      "successful ratio is:  0.6458333333333334\n",
      "solution quality is:  0.8378378378378378\n",
      "minimum number of bin is 6\n"
     ]
    },
    {
     "name": "stderr",
     "output_type": "stream",
     "text": [
      "100%|██████████| 34/34 [00:16<00:00,  2.04it/s]\n",
      " 60%|██████    | 6/10 [00:03<00:02,  1.74it/s]\n"
     ]
    },
    {
     "name": "stdout",
     "output_type": "stream",
     "text": [
      "successful ratio is:  0.6875\n",
      "solution quality is:  0.9166666666666666\n",
      "minimum number of bin is 6\n"
     ]
    },
    {
     "name": "stderr",
     "output_type": "stream",
     "text": [
      "100%|██████████| 34/34 [00:15<00:00,  2.16it/s]\n",
      " 50%|█████     | 5/10 [00:00<00:00, 14.05it/s]\n"
     ]
    },
    {
     "name": "stdout",
     "output_type": "stream",
     "text": [
      "successful ratio is:  0.7708333333333334\n",
      "solution quality is:  0.8222222222222222\n",
      "minimum number of bin is 5\n"
     ]
    },
    {
     "name": "stderr",
     "output_type": "stream",
     "text": [
      "100%|██████████| 34/34 [00:16<00:00,  2.11it/s]\n",
      " 50%|█████     | 5/10 [00:00<00:00, 24.96it/s]\n"
     ]
    },
    {
     "name": "stdout",
     "output_type": "stream",
     "text": [
      "successful ratio is:  0.6875\n",
      "solution quality is:  0.8048780487804879\n",
      "minimum number of bin is 5\n"
     ]
    },
    {
     "name": "stderr",
     "output_type": "stream",
     "text": [
      "100%|██████████| 34/34 [00:15<00:00,  2.16it/s]\n",
      " 50%|█████     | 5/10 [00:00<00:00, 29.79it/s]\n"
     ]
    },
    {
     "name": "stdout",
     "output_type": "stream",
     "text": [
      "successful ratio is:  0.6666666666666666\n",
      "solution quality is:  0.9696969696969697\n",
      "minimum number of bin is 5\n"
     ]
    },
    {
     "name": "stderr",
     "output_type": "stream",
     "text": [
      "100%|██████████| 30/30 [00:14<00:00,  2.12it/s]\n",
      " 60%|██████    | 6/10 [00:03<00:02,  1.60it/s]\n"
     ]
    },
    {
     "name": "stdout",
     "output_type": "stream",
     "text": [
      "successful ratio is:  0.7083333333333334\n",
      "solution quality is:  0.8717948717948718\n",
      "minimum number of bin is 6\n"
     ]
    },
    {
     "name": "stderr",
     "output_type": "stream",
     "text": [
      "100%|██████████| 30/30 [00:14<00:00,  2.13it/s]\n",
      " 60%|██████    | 6/10 [00:00<00:00,  9.36it/s]\n"
     ]
    },
    {
     "name": "stdout",
     "output_type": "stream",
     "text": [
      "successful ratio is:  0.625\n",
      "solution quality is:  0.8571428571428571\n",
      "minimum number of bin is 6\n"
     ]
    },
    {
     "name": "stderr",
     "output_type": "stream",
     "text": [
      "100%|██████████| 30/30 [00:14<00:00,  2.13it/s]\n",
      " 60%|██████    | 6/10 [00:03<00:02,  1.75it/s]\n"
     ]
    },
    {
     "name": "stdout",
     "output_type": "stream",
     "text": [
      "successful ratio is:  0.6666666666666666\n",
      "solution quality is:  0.8205128205128205\n",
      "minimum number of bin is 6\n"
     ]
    },
    {
     "name": "stderr",
     "output_type": "stream",
     "text": [
      "100%|██████████| 30/30 [00:14<00:00,  2.13it/s]\n",
      " 50%|█████     | 5/10 [00:00<00:00, 35.30it/s]\n"
     ]
    },
    {
     "name": "stdout",
     "output_type": "stream",
     "text": [
      "successful ratio is:  0.6458333333333334\n",
      "solution quality is:  0.8611111111111112\n",
      "minimum number of bin is 5\n"
     ]
    },
    {
     "name": "stderr",
     "output_type": "stream",
     "text": [
      "100%|██████████| 30/30 [00:13<00:00,  2.15it/s]\n",
      " 50%|█████     | 5/10 [00:00<00:00, 18.89it/s]"
     ]
    },
    {
     "name": "stdout",
     "output_type": "stream",
     "text": [
      "successful ratio is:  0.7291666666666666\n",
      "solution quality is:  0.9210526315789473\n",
      "minimum number of bin is 5\n"
     ]
    },
    {
     "name": "stderr",
     "output_type": "stream",
     "text": [
      "\n"
     ]
    }
   ],
   "source": [
    "batch = 5\n",
    "sr_set = np.zeros((len(dk_list), batch))\n",
    "sq_set = np.zeros((len(dk_list), batch))\n",
    "n_solu_set = np.zeros((len(dk_list), batch))\n",
    "minbin_set = np.zeros((len(dk_list), batch))\n",
    "\n",
    "\n",
    "for i_index, dk in enumerate(dk_list):\n",
    "\n",
    "    for j in range(batch):\n",
    "\n",
    "        solution_set = []\n",
    "        # qu_time = []\n",
    "        # start_time_process1 = time.time()\n",
    "\n",
    "        for k in tqdm(np.arange(1,(capacity/delta_w),dk)):\n",
    "            alpha = 2*beta*(capacity-k*delta_w)\n",
    "            h_p = generate_h_two_body(n_items, W, beta) + generate_h_one_body(n_items, W, alpha, beta, capacity)\n",
    "            h_m = generate_h_mixer(n_items)\n",
    "            h_cd = commutator(h_m,h_p)#CD pool\n",
    "            cd = CD_operator(h_cd)\n",
    "            ci = CD_ansataz(cd)\n",
    "\n",
    "            circ = Quantum_QAOA_Circuits(h_m, h_p, n_layer, n_items)\n",
    "            #ground_energy.append(E0_energy(h_p))\n",
    "\n",
    "            ham = Hamiltonian(h_p)\n",
    "            sim = Simulator('mqvector', n_items)\n",
    "            grad_ops = sim.get_expectation_with_grad(ham, circ)\n",
    "\n",
    "            pr, result = train(ham, circ, ite)\n",
    "            #cost_fun.append(result)\n",
    "            res = state_sampling(circ, pr)\n",
    "            solution_set.append(res.data)\n",
    "\n",
    "        # Record the current time after the first process\n",
    "        # end_time_process1 = time.time()\n",
    "\n",
    "        # Calculate the elapsed time for the quantum process\n",
    "        # elapsed_time_process1 = end_time_process1 - start_time_process1\n",
    "        # qu_time[i_index, j] = elapsed_time_process1\n",
    "\n",
    "        elements_fea, succ_ratio, solution_quality= data_analyze(n_items, solution_set, W[::-1], capacity, target_solu)\n",
    "        positions = [[n_items-1-i for i, char in enumerate(element) if char == '1'] for element in elements_fea]\n",
    "        minbin, n_solu = find_min_number(positions,target)\n",
    "        \n",
    "        minbin_set[i_index, j] = minbin\n",
    "        n_solu_set[i_index, j] = n_solu\n",
    "        sr_set[i_index, j] = succ_ratio\n",
    "        sq_set[i_index, j] = solution_quality\n",
    "\n",
    "        # Record the current time before the second process\n",
    "        # end_time_process2 = time.time()\n",
    "\n",
    "        # Calculate the elapsed time for the classic process\n",
    "        # elapsed_time_process2 = end_time_process2 - end_time_process1\n",
    "        # cl_time[i_index, j] = elapsed_time_process2\n",
    "\n",
    "        print('successful ratio is: ',succ_ratio)\n",
    "        print('solution quality is: ',solution_quality)\n",
    "        print('minimum number of bin is',minbin)\n",
    "        # print(\"Elapsed time for quantum process:\", np.mean(elapsed_time_process1), \"seconds\")\n",
    "        # print(\"Elapsed time for classic process:\", np.mean(elapsed_time_process2), \"seconds\")"
   ]
  },
  {
   "cell_type": "code",
   "execution_count": 17,
   "id": "05724684-5041-4bd0-8cd2-6b07ec8e2b6e",
   "metadata": {
    "tags": []
   },
   "outputs": [],
   "source": [
    "# Write data to a text file\n",
    "with open('qaoa-k-W2.txt', 'w') as f:\n",
    "    f.write(\"dk, batch, sr_set, sq_set, minbin_set, n_solu\\n\")\n",
    "    for i_index, i in enumerate(dk_list):\n",
    "        for j in range(batch):\n",
    "            f.write(f\"{i}, {j}, {sr_set[i_index, j]}, {sq_set[i_index, j]}, {minbin_set[i_index, j]}, {n_solu_set[i_index, j]}\\n\")"
   ]
  },
  {
   "cell_type": "code",
   "execution_count": null,
   "id": "cf150888-adb2-4a2f-b862-eb8c258366bf",
   "metadata": {},
   "outputs": [],
   "source": []
  },
  {
   "cell_type": "code",
   "execution_count": null,
   "id": "58ce65ff-babb-4ed3-b5da-fa3c17b6b885",
   "metadata": {
    "tags": []
   },
   "outputs": [],
   "source": []
  },
  {
   "cell_type": "code",
   "execution_count": 9,
   "id": "0c0ed10d-0fa9-462d-9816-212add0b8a28",
   "metadata": {
    "tags": []
   },
   "outputs": [],
   "source": [
    "#dk = 1.5\n",
    "ite = 100\n",
    "n_layer = 1\n",
    "\n",
    "dk_list = [4]\n",
    "#iteration_list = [100, 150, 200]\n",
    "#n_layer_list = [1, 2, 3]"
   ]
  },
  {
   "cell_type": "code",
   "execution_count": 10,
   "id": "d215f9e0-f18c-4a1a-aecd-b3916f0bae72",
   "metadata": {
    "tags": []
   },
   "outputs": [],
   "source": [
    "n_items = 10 #number of items\n",
    "capacity = 120 #maximum capacity of box\n",
    "\n",
    "# insert QAOA weight list to compare fairly\n",
    "W = [28, 30, 31, 36, 46, 32, 49, 29, 33, 21]\n",
    "\n",
    "\n",
    "#np.random.normal(loc=capacity/2, size=n)\n",
    "beta = np.min(W)/5\n",
    "delta_w = min_positive_difference(W)\n",
    "\n",
    "# generate exact solutions\n",
    "result_combinations = find_combinations(W, capacity)\n",
    "target_solu = list(result_combinations)\n",
    "target = list(range(n_items))"
   ]
  },
  {
   "cell_type": "code",
   "execution_count": 11,
   "id": "b4d52aba-ffd9-4591-a49a-4809d27e0e77",
   "metadata": {
    "tags": []
   },
   "outputs": [
    {
     "data": {
      "text/plain": [
       "205"
      ]
     },
     "execution_count": 11,
     "metadata": {},
     "output_type": "execute_result"
    }
   ],
   "source": [
    "len(target_solu)"
   ]
  },
  {
   "cell_type": "code",
   "execution_count": 12,
   "id": "40980385-43b5-4c6f-b2a2-8b038ceee7e2",
   "metadata": {
    "tags": []
   },
   "outputs": [
    {
     "name": "stderr",
     "output_type": "stream",
     "text": [
      "100%|██████████| 30/30 [00:11<00:00,  2.72it/s]\n",
      " 30%|███       | 3/10 [00:00<00:00, 38.16it/s]\n"
     ]
    },
    {
     "name": "stdout",
     "output_type": "stream",
     "text": [
      "successful ratio is:  0.3463414634146341\n",
      "solution quality is:  0.8658536585365854\n",
      "minimum number of bin is 3\n"
     ]
    },
    {
     "name": "stderr",
     "output_type": "stream",
     "text": [
      "100%|██████████| 30/30 [00:10<00:00,  2.81it/s]\n",
      " 40%|████      | 4/10 [00:01<00:01,  3.40it/s]\n"
     ]
    },
    {
     "name": "stdout",
     "output_type": "stream",
     "text": [
      "successful ratio is:  0.35609756097560974\n",
      "solution quality is:  0.8690476190476191\n",
      "minimum number of bin is 4\n"
     ]
    },
    {
     "name": "stderr",
     "output_type": "stream",
     "text": [
      "100%|██████████| 30/30 [00:10<00:00,  2.80it/s]\n",
      " 30%|███       | 3/10 [00:00<00:00, 28.59it/s]\n"
     ]
    },
    {
     "name": "stdout",
     "output_type": "stream",
     "text": [
      "successful ratio is:  0.37073170731707317\n",
      "solution quality is:  0.8837209302325582\n",
      "minimum number of bin is 3\n"
     ]
    },
    {
     "name": "stderr",
     "output_type": "stream",
     "text": [
      "100%|██████████| 30/30 [00:10<00:00,  2.79it/s]\n",
      " 30%|███       | 3/10 [00:00<00:00, 22.81it/s]\n"
     ]
    },
    {
     "name": "stdout",
     "output_type": "stream",
     "text": [
      "successful ratio is:  0.4292682926829268\n",
      "solution quality is:  0.88\n",
      "minimum number of bin is 3\n"
     ]
    },
    {
     "name": "stderr",
     "output_type": "stream",
     "text": [
      "100%|██████████| 30/30 [00:10<00:00,  2.73it/s]\n",
      " 30%|███       | 3/10 [00:00<00:00, 55.85it/s]"
     ]
    },
    {
     "name": "stdout",
     "output_type": "stream",
     "text": [
      "successful ratio is:  0.4292682926829268\n",
      "solution quality is:  0.88\n",
      "minimum number of bin is 3\n"
     ]
    },
    {
     "name": "stderr",
     "output_type": "stream",
     "text": [
      "\n"
     ]
    }
   ],
   "source": [
    "batch = 5\n",
    "sr_set = np.zeros((len(dk_list), batch))\n",
    "sq_set = np.zeros((len(dk_list), batch))\n",
    "n_solu_set = np.zeros((len(dk_list), batch))\n",
    "minbin_set = np.zeros((len(dk_list), batch))\n",
    "\n",
    "\n",
    "for i_index, dk in enumerate(dk_list):\n",
    "\n",
    "    for j in range(batch):\n",
    "\n",
    "        solution_set = []\n",
    "        # qu_time = []\n",
    "        # start_time_process1 = time.time()\n",
    "\n",
    "        for k in tqdm(np.arange(1,(capacity/delta_w),dk)):\n",
    "            alpha = 2*beta*(capacity-k*delta_w)\n",
    "            h_p = generate_h_two_body(n_items, W, beta) + generate_h_one_body(n_items, W, alpha, beta, capacity)\n",
    "            h_m = generate_h_mixer(n_items)\n",
    "            h_cd = commutator(h_m,h_p)#CD pool\n",
    "            cd = CD_operator(h_cd)\n",
    "            ci = CD_ansataz(cd)\n",
    "\n",
    "            circ = Quantum_QAOA_Circuits(h_m, h_p, n_layer, n_items)\n",
    "            #ground_energy.append(E0_energy(h_p))\n",
    "\n",
    "            ham = Hamiltonian(h_p)\n",
    "            sim = Simulator('mqvector', n_items)\n",
    "            grad_ops = sim.get_expectation_with_grad(ham, circ)\n",
    "\n",
    "            pr, result = train(ham, circ, ite)\n",
    "            #cost_fun.append(result)\n",
    "            res = state_sampling(circ, pr)\n",
    "            solution_set.append(res.data)\n",
    "\n",
    "        # Record the current time after the first process\n",
    "        # end_time_process1 = time.time()\n",
    "\n",
    "        # Calculate the elapsed time for the quantum process\n",
    "        # elapsed_time_process1 = end_time_process1 - start_time_process1\n",
    "        # qu_time[i_index, j] = elapsed_time_process1\n",
    "\n",
    "        elements_fea, succ_ratio, solution_quality= data_analyze(n_items, solution_set, W[::-1], capacity, target_solu)\n",
    "        positions = [[n_items-1-i for i, char in enumerate(element) if char == '1'] for element in elements_fea]\n",
    "        minbin, n_solu = find_min_number(positions,target)\n",
    "        \n",
    "        minbin_set[i_index, j] = minbin\n",
    "        n_solu_set[i_index, j] = n_solu\n",
    "        sr_set[i_index, j] = succ_ratio\n",
    "        sq_set[i_index, j] = solution_quality\n",
    "\n",
    "        # Record the current time before the second process\n",
    "        # end_time_process2 = time.time()\n",
    "\n",
    "        # Calculate the elapsed time for the classic process\n",
    "        # elapsed_time_process2 = end_time_process2 - end_time_process1\n",
    "        # cl_time[i_index, j] = elapsed_time_process2\n",
    "\n",
    "        print('successful ratio is: ',succ_ratio)\n",
    "        print('solution quality is: ',solution_quality)\n",
    "        print('minimum number of bin is',minbin)\n",
    "        # print(\"Elapsed time for quantum process:\", np.mean(elapsed_time_process1), \"seconds\")\n",
    "        # print(\"Elapsed time for classic process:\", np.mean(elapsed_time_process2), \"seconds\")"
   ]
  },
  {
   "cell_type": "code",
   "execution_count": 21,
   "id": "b9c97e31-8f23-43c5-b164-83f063d79975",
   "metadata": {
    "tags": []
   },
   "outputs": [],
   "source": [
    "# Write data to a text file\n",
    "with open('qaoa-k-W3.txt', 'w') as f:\n",
    "    f.write(\"dk, batch, sr_set, sq_set, minbin_set, n_solu\\n\")\n",
    "    for i_index, i in enumerate(dk_list):\n",
    "        for j in range(batch):\n",
    "            f.write(f\"{i}, {j}, {sr_set[i_index, j]}, {sq_set[i_index, j]}, {minbin_set[i_index, j]}, {n_solu_set[i_index, j]}\\n\")"
   ]
  },
  {
   "cell_type": "code",
   "execution_count": null,
   "id": "994f8c72-1841-41e2-b130-a602f21dc820",
   "metadata": {
    "tags": []
   },
   "outputs": [],
   "source": []
  },
  {
   "cell_type": "code",
   "execution_count": null,
   "id": "4a2921d2-9c2b-40f2-aee1-c8c7daa0bd42",
   "metadata": {},
   "outputs": [],
   "source": []
  },
  {
   "cell_type": "code",
   "execution_count": null,
   "id": "fc6fbe96-88c7-40e9-bbdf-b816cdbc40c4",
   "metadata": {},
   "outputs": [],
   "source": []
  },
  {
   "cell_type": "code",
   "execution_count": 22,
   "id": "e0dd2121-b9ca-4dc0-b6fe-7cc5fce9577f",
   "metadata": {
    "tags": []
   },
   "outputs": [],
   "source": [
    "#dk = 1.5\n",
    "ite = 100\n",
    "n_layer = 1\n",
    "\n",
    "dk_list = [0.5, 1, 1.5, 2, 2.5, 3, 3.5, 4]\n",
    "#iteration_list = [100, 150, 200]\n",
    "#n_layer_list = [1, 2, 3]"
   ]
  },
  {
   "cell_type": "code",
   "execution_count": 38,
   "id": "f5aaad49-39c4-4c35-92a2-efd921cbe3a5",
   "metadata": {
    "tags": []
   },
   "outputs": [],
   "source": [
    "n_items = 10 #number of items\n",
    "capacity = 120 #maximum capacity of box\n",
    "\n",
    "# insert QAOA weight list to compare fairly\n",
    "W = [41, 31, 30, 26, 21, 24, 31, 30, 42, 29]\n",
    "\n",
    "#np.random.normal(loc=capacity/2, size=n)\n",
    "beta = np.min(W)/5\n",
    "delta_w = min_positive_difference(W)\n",
    "\n",
    "# generate exact solutions\n",
    "result_combinations = find_combinations(W, capacity)\n",
    "target_solu = list(result_combinations)\n",
    "target = list(range(n_items))"
   ]
  },
  {
   "cell_type": "code",
   "execution_count": 39,
   "id": "cb836907-ccdb-4ccb-ac54-046dd45224ed",
   "metadata": {
    "tags": []
   },
   "outputs": [
    {
     "data": {
      "text/plain": [
       "265"
      ]
     },
     "execution_count": 39,
     "metadata": {},
     "output_type": "execute_result"
    }
   ],
   "source": [
    "len(target_solu)"
   ]
  },
  {
   "cell_type": "code",
   "execution_count": 24,
   "id": "da1df19c-c4e7-43db-bfc4-7569ea7697ad",
   "metadata": {
    "tags": []
   },
   "outputs": [
    {
     "name": "stderr",
     "output_type": "stream",
     "text": [
      "100%|██████████| 238/238 [02:09<00:00,  1.84it/s]\n",
      " 30%|███       | 3/10 [00:01<00:03,  2.32it/s]\n"
     ]
    },
    {
     "name": "stdout",
     "output_type": "stream",
     "text": [
      "successful ratio is:  0.9358490566037736\n",
      "solution quality is:  0.7630769230769231\n",
      "minimum number of bin is 3\n"
     ]
    },
    {
     "name": "stderr",
     "output_type": "stream",
     "text": [
      "100%|██████████| 238/238 [02:19<00:00,  1.70it/s]\n",
      " 30%|███       | 3/10 [00:01<00:02,  2.49it/s]\n"
     ]
    },
    {
     "name": "stdout",
     "output_type": "stream",
     "text": [
      "successful ratio is:  0.9132075471698113\n",
      "solution quality is:  0.7586206896551724\n",
      "minimum number of bin is 3\n"
     ]
    },
    {
     "name": "stderr",
     "output_type": "stream",
     "text": [
      "100%|██████████| 238/238 [02:16<00:00,  1.74it/s]\n",
      " 30%|███       | 3/10 [00:04<00:11,  1.64s/it]\n"
     ]
    },
    {
     "name": "stdout",
     "output_type": "stream",
     "text": [
      "successful ratio is:  0.9547169811320755\n",
      "solution quality is:  0.790625\n",
      "minimum number of bin is 3\n"
     ]
    },
    {
     "name": "stderr",
     "output_type": "stream",
     "text": [
      "100%|██████████| 238/238 [02:15<00:00,  1.75it/s]\n",
      " 30%|███       | 3/10 [00:05<00:12,  1.74s/it]\n"
     ]
    },
    {
     "name": "stdout",
     "output_type": "stream",
     "text": [
      "successful ratio is:  0.9547169811320755\n",
      "solution quality is:  0.7784615384615384\n",
      "minimum number of bin is 3\n"
     ]
    },
    {
     "name": "stderr",
     "output_type": "stream",
     "text": [
      "100%|██████████| 238/238 [02:16<00:00,  1.74it/s]\n",
      " 30%|███       | 3/10 [00:01<00:03,  2.18it/s]\n"
     ]
    },
    {
     "name": "stdout",
     "output_type": "stream",
     "text": [
      "successful ratio is:  0.9547169811320755\n",
      "solution quality is:  0.7784615384615384\n",
      "minimum number of bin is 3\n"
     ]
    },
    {
     "name": "stderr",
     "output_type": "stream",
     "text": [
      "100%|██████████| 119/119 [01:08<00:00,  1.75it/s]\n",
      " 30%|███       | 3/10 [00:00<00:01,  4.04it/s]\n"
     ]
    },
    {
     "name": "stdout",
     "output_type": "stream",
     "text": [
      "successful ratio is:  0.7849056603773585\n",
      "solution quality is:  0.8\n",
      "minimum number of bin is 3\n"
     ]
    },
    {
     "name": "stderr",
     "output_type": "stream",
     "text": [
      "100%|██████████| 119/119 [01:13<00:00,  1.61it/s]\n",
      " 30%|███       | 3/10 [00:00<00:01,  3.83it/s]\n"
     ]
    },
    {
     "name": "stdout",
     "output_type": "stream",
     "text": [
      "successful ratio is:  0.7962264150943397\n",
      "solution quality is:  0.8178294573643411\n",
      "minimum number of bin is 3\n"
     ]
    },
    {
     "name": "stderr",
     "output_type": "stream",
     "text": [
      "100%|██████████| 119/119 [01:10<00:00,  1.68it/s]\n",
      " 30%|███       | 3/10 [00:00<00:02,  3.43it/s]\n"
     ]
    },
    {
     "name": "stdout",
     "output_type": "stream",
     "text": [
      "successful ratio is:  0.8264150943396227\n",
      "solution quality is:  0.8171641791044776\n",
      "minimum number of bin is 3\n"
     ]
    },
    {
     "name": "stderr",
     "output_type": "stream",
     "text": [
      "100%|██████████| 119/119 [01:12<00:00,  1.64it/s]\n",
      " 30%|███       | 3/10 [00:04<00:11,  1.57s/it]\n"
     ]
    },
    {
     "name": "stdout",
     "output_type": "stream",
     "text": [
      "successful ratio is:  0.7924528301886793\n",
      "solution quality is:  0.8108108108108109\n",
      "minimum number of bin is 3\n"
     ]
    },
    {
     "name": "stderr",
     "output_type": "stream",
     "text": [
      "100%|██████████| 119/119 [01:14<00:00,  1.61it/s]\n",
      " 30%|███       | 3/10 [00:00<00:02,  3.27it/s]\n"
     ]
    },
    {
     "name": "stdout",
     "output_type": "stream",
     "text": [
      "successful ratio is:  0.8377358490566038\n",
      "solution quality is:  0.8131868131868132\n",
      "minimum number of bin is 3\n"
     ]
    },
    {
     "name": "stderr",
     "output_type": "stream",
     "text": [
      "100%|██████████| 80/80 [00:48<00:00,  1.65it/s]\n",
      " 30%|███       | 3/10 [00:00<00:00,  8.21it/s]\n"
     ]
    },
    {
     "name": "stdout",
     "output_type": "stream",
     "text": [
      "successful ratio is:  0.6226415094339622\n",
      "solution quality is:  0.812807881773399\n",
      "minimum number of bin is 3\n"
     ]
    },
    {
     "name": "stderr",
     "output_type": "stream",
     "text": [
      "100%|██████████| 80/80 [00:48<00:00,  1.64it/s]\n",
      " 30%|███       | 3/10 [00:04<00:10,  1.51s/it]\n"
     ]
    },
    {
     "name": "stdout",
     "output_type": "stream",
     "text": [
      "successful ratio is:  0.6981132075471698\n",
      "solution quality is:  0.8409090909090909\n",
      "minimum number of bin is 3\n"
     ]
    },
    {
     "name": "stderr",
     "output_type": "stream",
     "text": [
      "100%|██████████| 80/80 [00:50<00:00,  1.60it/s]\n",
      " 30%|███       | 3/10 [00:00<00:00,  7.12it/s]\n"
     ]
    },
    {
     "name": "stdout",
     "output_type": "stream",
     "text": [
      "successful ratio is:  0.6490566037735849\n",
      "solution quality is:  0.8557213930348259\n",
      "minimum number of bin is 3\n"
     ]
    },
    {
     "name": "stderr",
     "output_type": "stream",
     "text": [
      "100%|██████████| 80/80 [00:51<00:00,  1.56it/s]\n",
      " 30%|███       | 3/10 [00:00<00:01,  6.96it/s]\n"
     ]
    },
    {
     "name": "stdout",
     "output_type": "stream",
     "text": [
      "successful ratio is:  0.6566037735849056\n",
      "solution quality is:  0.8529411764705882\n",
      "minimum number of bin is 3\n"
     ]
    },
    {
     "name": "stderr",
     "output_type": "stream",
     "text": [
      "100%|██████████| 80/80 [00:52<00:00,  1.52it/s]\n",
      " 30%|███       | 3/10 [00:00<00:01,  5.25it/s]\n"
     ]
    },
    {
     "name": "stdout",
     "output_type": "stream",
     "text": [
      "successful ratio is:  0.7056603773584905\n",
      "solution quality is:  0.85\n",
      "minimum number of bin is 3\n"
     ]
    },
    {
     "name": "stderr",
     "output_type": "stream",
     "text": [
      "100%|██████████| 60/60 [00:39<00:00,  1.52it/s]\n",
      " 30%|███       | 3/10 [00:00<00:00,  9.68it/s]\n"
     ]
    },
    {
     "name": "stdout",
     "output_type": "stream",
     "text": [
      "successful ratio is:  0.5886792452830188\n",
      "solution quality is:  0.8571428571428571\n",
      "minimum number of bin is 3\n"
     ]
    },
    {
     "name": "stderr",
     "output_type": "stream",
     "text": [
      "100%|██████████| 60/60 [00:39<00:00,  1.50it/s]\n",
      " 30%|███       | 3/10 [00:04<00:10,  1.56s/it]\n"
     ]
    },
    {
     "name": "stdout",
     "output_type": "stream",
     "text": [
      "successful ratio is:  0.6264150943396226\n",
      "solution quality is:  0.8469387755102041\n",
      "minimum number of bin is 3\n"
     ]
    },
    {
     "name": "stderr",
     "output_type": "stream",
     "text": [
      "100%|██████████| 60/60 [00:40<00:00,  1.48it/s]\n",
      " 30%|███       | 3/10 [00:00<00:00, 10.67it/s]\n"
     ]
    },
    {
     "name": "stdout",
     "output_type": "stream",
     "text": [
      "successful ratio is:  0.5660377358490566\n",
      "solution quality is:  0.8875739644970414\n",
      "minimum number of bin is 3\n"
     ]
    },
    {
     "name": "stderr",
     "output_type": "stream",
     "text": [
      "100%|██████████| 60/60 [00:38<00:00,  1.57it/s]\n",
      " 30%|███       | 3/10 [00:00<00:00,  9.01it/s]\n"
     ]
    },
    {
     "name": "stdout",
     "output_type": "stream",
     "text": [
      "successful ratio is:  0.6\n",
      "solution quality is:  0.8412698412698413\n",
      "minimum number of bin is 3\n"
     ]
    },
    {
     "name": "stderr",
     "output_type": "stream",
     "text": [
      "100%|██████████| 60/60 [00:38<00:00,  1.56it/s]\n",
      " 30%|███       | 3/10 [00:00<00:00, 10.61it/s]\n"
     ]
    },
    {
     "name": "stdout",
     "output_type": "stream",
     "text": [
      "successful ratio is:  0.569811320754717\n",
      "solution quality is:  0.8388888888888889\n",
      "minimum number of bin is 3\n"
     ]
    },
    {
     "name": "stderr",
     "output_type": "stream",
     "text": [
      "100%|██████████| 48/48 [00:31<00:00,  1.53it/s]\n",
      " 30%|███       | 3/10 [00:00<00:00, 17.50it/s]\n"
     ]
    },
    {
     "name": "stdout",
     "output_type": "stream",
     "text": [
      "successful ratio is:  0.4867924528301887\n",
      "solution quality is:  0.8376623376623377\n",
      "minimum number of bin is 3\n"
     ]
    },
    {
     "name": "stderr",
     "output_type": "stream",
     "text": [
      "100%|██████████| 48/48 [00:31<00:00,  1.54it/s]\n",
      " 30%|███       | 3/10 [00:00<00:00, 12.10it/s]\n"
     ]
    },
    {
     "name": "stdout",
     "output_type": "stream",
     "text": [
      "successful ratio is:  0.5433962264150943\n",
      "solution quality is:  0.9113924050632911\n",
      "minimum number of bin is 3\n"
     ]
    },
    {
     "name": "stderr",
     "output_type": "stream",
     "text": [
      "100%|██████████| 48/48 [00:30<00:00,  1.55it/s]\n",
      " 30%|███       | 3/10 [00:00<00:00, 14.80it/s]\n"
     ]
    },
    {
     "name": "stdout",
     "output_type": "stream",
     "text": [
      "successful ratio is:  0.5094339622641509\n",
      "solution quality is:  0.84375\n",
      "minimum number of bin is 3\n"
     ]
    },
    {
     "name": "stderr",
     "output_type": "stream",
     "text": [
      "100%|██████████| 48/48 [00:30<00:00,  1.55it/s]\n",
      " 30%|███       | 3/10 [00:00<00:00, 18.05it/s]\n"
     ]
    },
    {
     "name": "stdout",
     "output_type": "stream",
     "text": [
      "successful ratio is:  0.47547169811320755\n",
      "solution quality is:  0.863013698630137\n",
      "minimum number of bin is 3\n"
     ]
    },
    {
     "name": "stderr",
     "output_type": "stream",
     "text": [
      "100%|██████████| 48/48 [00:32<00:00,  1.48it/s]\n",
      " 30%|███       | 3/10 [00:04<00:10,  1.54s/it]\n"
     ]
    },
    {
     "name": "stdout",
     "output_type": "stream",
     "text": [
      "successful ratio is:  0.5018867924528302\n",
      "solution quality is:  0.806060606060606\n",
      "minimum number of bin is 3\n"
     ]
    },
    {
     "name": "stderr",
     "output_type": "stream",
     "text": [
      "100%|██████████| 40/40 [00:28<00:00,  1.41it/s]\n",
      " 30%|███       | 3/10 [00:00<00:00, 22.80it/s]\n"
     ]
    },
    {
     "name": "stdout",
     "output_type": "stream",
     "text": [
      "successful ratio is:  0.4377358490566038\n",
      "solution quality is:  0.8285714285714286\n",
      "minimum number of bin is 3\n"
     ]
    },
    {
     "name": "stderr",
     "output_type": "stream",
     "text": [
      "100%|██████████| 40/40 [00:27<00:00,  1.47it/s]\n",
      " 30%|███       | 3/10 [00:00<00:00, 19.44it/s]\n"
     ]
    },
    {
     "name": "stdout",
     "output_type": "stream",
     "text": [
      "successful ratio is:  0.4679245283018868\n",
      "solution quality is:  0.8732394366197183\n",
      "minimum number of bin is 3\n"
     ]
    },
    {
     "name": "stderr",
     "output_type": "stream",
     "text": [
      "100%|██████████| 40/40 [00:26<00:00,  1.51it/s]\n",
      " 30%|███       | 3/10 [00:00<00:00, 18.11it/s]\n"
     ]
    },
    {
     "name": "stdout",
     "output_type": "stream",
     "text": [
      "successful ratio is:  0.47547169811320755\n",
      "solution quality is:  0.9064748201438849\n",
      "minimum number of bin is 3\n"
     ]
    },
    {
     "name": "stderr",
     "output_type": "stream",
     "text": [
      "100%|██████████| 40/40 [00:26<00:00,  1.50it/s]\n",
      " 30%|███       | 3/10 [00:00<00:00, 17.05it/s]\n"
     ]
    },
    {
     "name": "stdout",
     "output_type": "stream",
     "text": [
      "successful ratio is:  0.4867924528301887\n",
      "solution quality is:  0.9084507042253521\n",
      "minimum number of bin is 3\n"
     ]
    },
    {
     "name": "stderr",
     "output_type": "stream",
     "text": [
      "100%|██████████| 40/40 [00:27<00:00,  1.44it/s]\n",
      " 30%|███       | 3/10 [00:00<00:00, 23.34it/s]\n"
     ]
    },
    {
     "name": "stdout",
     "output_type": "stream",
     "text": [
      "successful ratio is:  0.44150943396226416\n",
      "solution quality is:  0.8731343283582089\n",
      "minimum number of bin is 3\n"
     ]
    },
    {
     "name": "stderr",
     "output_type": "stream",
     "text": [
      "100%|██████████| 34/34 [00:22<00:00,  1.52it/s]\n",
      " 30%|███       | 3/10 [00:00<00:00, 28.80it/s]\n"
     ]
    },
    {
     "name": "stdout",
     "output_type": "stream",
     "text": [
      "successful ratio is:  0.41132075471698115\n",
      "solution quality is:  0.872\n",
      "minimum number of bin is 3\n"
     ]
    },
    {
     "name": "stderr",
     "output_type": "stream",
     "text": [
      "100%|██████████| 34/34 [00:21<00:00,  1.59it/s]\n",
      " 30%|███       | 3/10 [00:00<00:00, 36.56it/s]\n"
     ]
    },
    {
     "name": "stdout",
     "output_type": "stream",
     "text": [
      "successful ratio is:  0.37735849056603776\n",
      "solution quality is:  0.9090909090909091\n",
      "minimum number of bin is 3\n"
     ]
    },
    {
     "name": "stderr",
     "output_type": "stream",
     "text": [
      "100%|██████████| 34/34 [00:23<00:00,  1.45it/s]\n",
      " 30%|███       | 3/10 [00:00<00:00, 26.30it/s]\n"
     ]
    },
    {
     "name": "stdout",
     "output_type": "stream",
     "text": [
      "successful ratio is:  0.4188679245283019\n",
      "solution quality is:  0.8409090909090909\n",
      "minimum number of bin is 3\n"
     ]
    },
    {
     "name": "stderr",
     "output_type": "stream",
     "text": [
      "100%|██████████| 34/34 [00:22<00:00,  1.51it/s]\n",
      " 30%|███       | 3/10 [00:00<00:00, 30.61it/s]\n"
     ]
    },
    {
     "name": "stdout",
     "output_type": "stream",
     "text": [
      "successful ratio is:  0.4037735849056604\n",
      "solution quality is:  0.8359375\n",
      "minimum number of bin is 3\n"
     ]
    },
    {
     "name": "stderr",
     "output_type": "stream",
     "text": [
      "100%|██████████| 34/34 [00:23<00:00,  1.47it/s]\n",
      " 30%|███       | 3/10 [00:00<00:00, 24.37it/s]\n"
     ]
    },
    {
     "name": "stdout",
     "output_type": "stream",
     "text": [
      "successful ratio is:  0.43018867924528303\n",
      "solution quality is:  0.8976377952755905\n",
      "minimum number of bin is 3\n"
     ]
    },
    {
     "name": "stderr",
     "output_type": "stream",
     "text": [
      "100%|██████████| 30/30 [00:19<00:00,  1.50it/s]\n",
      " 30%|███       | 3/10 [00:00<00:00, 36.26it/s]\n"
     ]
    },
    {
     "name": "stdout",
     "output_type": "stream",
     "text": [
      "successful ratio is:  0.37735849056603776\n",
      "solution quality is:  0.8403361344537815\n",
      "minimum number of bin is 3\n"
     ]
    },
    {
     "name": "stderr",
     "output_type": "stream",
     "text": [
      "100%|██████████| 30/30 [00:19<00:00,  1.54it/s]\n",
      " 30%|███       | 3/10 [00:00<00:00, 47.55it/s]\n"
     ]
    },
    {
     "name": "stdout",
     "output_type": "stream",
     "text": [
      "successful ratio is:  0.3471698113207547\n",
      "solution quality is:  0.8214285714285714\n",
      "minimum number of bin is 3\n"
     ]
    },
    {
     "name": "stderr",
     "output_type": "stream",
     "text": [
      "100%|██████████| 30/30 [00:19<00:00,  1.54it/s]\n",
      " 30%|███       | 3/10 [00:00<00:00, 35.36it/s]\n"
     ]
    },
    {
     "name": "stdout",
     "output_type": "stream",
     "text": [
      "successful ratio is:  0.37358490566037733\n",
      "solution quality is:  0.8608695652173913\n",
      "minimum number of bin is 3\n"
     ]
    },
    {
     "name": "stderr",
     "output_type": "stream",
     "text": [
      "100%|██████████| 30/30 [00:19<00:00,  1.55it/s]\n",
      " 30%|███       | 3/10 [00:00<00:00, 37.69it/s]\n"
     ]
    },
    {
     "name": "stdout",
     "output_type": "stream",
     "text": [
      "successful ratio is:  0.37358490566037733\n",
      "solution quality is:  0.853448275862069\n",
      "minimum number of bin is 3\n"
     ]
    },
    {
     "name": "stderr",
     "output_type": "stream",
     "text": [
      "100%|██████████| 30/30 [00:19<00:00,  1.58it/s]\n",
      " 30%|███       | 3/10 [00:00<00:00, 39.83it/s]"
     ]
    },
    {
     "name": "stdout",
     "output_type": "stream",
     "text": [
      "successful ratio is:  0.36981132075471695\n",
      "solution quality is:  0.8828828828828829\n",
      "minimum number of bin is 3\n"
     ]
    },
    {
     "name": "stderr",
     "output_type": "stream",
     "text": [
      "\n"
     ]
    }
   ],
   "source": [
    "batch = 5\n",
    "sr_set = np.zeros((len(dk_list), batch))\n",
    "sq_set = np.zeros((len(dk_list), batch))\n",
    "n_solu_set = np.zeros((len(dk_list), batch))\n",
    "minbin_set = np.zeros((len(dk_list), batch))\n",
    "\n",
    "\n",
    "for i_index, dk in enumerate(dk_list):\n",
    "\n",
    "    for j in range(batch):\n",
    "\n",
    "        solution_set = []\n",
    "        # qu_time = []\n",
    "        # start_time_process1 = time.time()\n",
    "\n",
    "        for k in tqdm(np.arange(1,(capacity/delta_w),dk)):\n",
    "            alpha = 2*beta*(capacity-k*delta_w)\n",
    "            h_p = generate_h_two_body(n_items, W, beta) + generate_h_one_body(n_items, W, alpha, beta, capacity)\n",
    "            h_m = generate_h_mixer(n_items)\n",
    "            h_cd = commutator(h_m,h_p)#CD pool\n",
    "            cd = CD_operator(h_cd)\n",
    "            ci = CD_ansataz(cd)\n",
    "\n",
    "            circ = Quantum_QAOA_Circuits(h_m, h_p, n_layer, n_items)\n",
    "            #ground_energy.append(E0_energy(h_p))\n",
    "\n",
    "            ham = Hamiltonian(h_p)\n",
    "            sim = Simulator('mqvector', n_items)\n",
    "            grad_ops = sim.get_expectation_with_grad(ham, circ)\n",
    "\n",
    "            pr, result = train(ham, circ, ite)\n",
    "            #cost_fun.append(result)\n",
    "            res = state_sampling(circ, pr)\n",
    "            solution_set.append(res.data)\n",
    "\n",
    "        # Record the current time after the first process\n",
    "        # end_time_process1 = time.time()\n",
    "\n",
    "        # Calculate the elapsed time for the quantum process\n",
    "        # elapsed_time_process1 = end_time_process1 - start_time_process1\n",
    "        # qu_time[i_index, j] = elapsed_time_process1\n",
    "\n",
    "        elements_fea, succ_ratio, solution_quality= data_analyze(n_items, solution_set, W[::-1], capacity, target_solu)\n",
    "        positions = [[n_items-1-i for i, char in enumerate(element) if char == '1'] for element in elements_fea]\n",
    "        minbin, n_solu = find_min_number(positions,target)\n",
    "        \n",
    "        minbin_set[i_index, j] = minbin\n",
    "        n_solu_set[i_index, j] = n_solu\n",
    "        sr_set[i_index, j] = succ_ratio\n",
    "        sq_set[i_index, j] = solution_quality\n",
    "\n",
    "        # Record the current time before the second process\n",
    "        # end_time_process2 = time.time()\n",
    "\n",
    "        # Calculate the elapsed time for the classic process\n",
    "        # elapsed_time_process2 = end_time_process2 - end_time_process1\n",
    "        # cl_time[i_index, j] = elapsed_time_process2\n",
    "\n",
    "        print('successful ratio is: ',succ_ratio)\n",
    "        print('solution quality is: ',solution_quality)\n",
    "        print('minimum number of bin is',minbin)\n",
    "        # print(\"Elapsed time for quantum process:\", np.mean(elapsed_time_process1), \"seconds\")\n",
    "        # print(\"Elapsed time for classic process:\", np.mean(elapsed_time_process2), \"seconds\")"
   ]
  },
  {
   "cell_type": "code",
   "execution_count": 25,
   "id": "a1f86a90-9563-4214-89cb-31653ce2ffe7",
   "metadata": {
    "tags": []
   },
   "outputs": [],
   "source": [
    "# Write data to a text file\n",
    "with open('qaoa-k-W4.txt', 'w') as f:\n",
    "    f.write(\"dk, batch, sr_set, sq_set, minbin_set, n_solu\\n\")\n",
    "    for i_index, i in enumerate(dk_list):\n",
    "        for j in range(batch):\n",
    "            f.write(f\"{i}, {j}, {sr_set[i_index, j]}, {sq_set[i_index, j]}, {minbin_set[i_index, j]}, {n_solu_set[i_index, j]}\\n\")"
   ]
  },
  {
   "cell_type": "code",
   "execution_count": null,
   "id": "0f62c3fa-7bce-4155-b0cd-5ee3a155b488",
   "metadata": {},
   "outputs": [],
   "source": []
  },
  {
   "cell_type": "code",
   "execution_count": null,
   "id": "4b6a16e2-adfd-46a6-bcb1-67724b56cfff",
   "metadata": {},
   "outputs": [],
   "source": []
  },
  {
   "cell_type": "code",
   "execution_count": 26,
   "id": "211e7dfc-10f2-4782-b2f0-47c4bf1cd923",
   "metadata": {
    "tags": []
   },
   "outputs": [],
   "source": [
    "#dk = 1.5\n",
    "ite = 100\n",
    "n_layer = 1\n",
    "\n",
    "dk_list = [0.5, 1, 1.5, 2, 2.5, 3, 3.5, 4]\n",
    "#iteration_list = [100, 150, 200]\n",
    "#n_layer_list = [1, 2, 3]"
   ]
  },
  {
   "cell_type": "code",
   "execution_count": 40,
   "id": "a469d83a-28d3-43b1-a6ac-f7278d1d2355",
   "metadata": {
    "tags": []
   },
   "outputs": [],
   "source": [
    "n_items = 10 #number of items\n",
    "capacity = 120 #maximum capacity of box\n",
    "\n",
    "# insert QAOA weight list to compare fairly\n",
    "W = [42, 55, 52, 80, 55, 80, 53, 46, 79, 66]\n",
    "\n",
    "#np.random.normal(loc=capacity/2, size=n)\n",
    "beta = np.min(W)/5\n",
    "delta_w = min_positive_difference(W)\n",
    "\n",
    "# generate exact solutions\n",
    "result_combinations = find_combinations(W, capacity)\n",
    "target_solu = list(result_combinations)\n",
    "target = list(range(n_items))"
   ]
  },
  {
   "cell_type": "code",
   "execution_count": 41,
   "id": "0c237a47-7981-4116-b85e-a8e48c99ae40",
   "metadata": {
    "tags": []
   },
   "outputs": [
    {
     "data": {
      "text/plain": [
       "29"
      ]
     },
     "execution_count": 41,
     "metadata": {},
     "output_type": "execute_result"
    }
   ],
   "source": [
    "len(target_solu)"
   ]
  },
  {
   "cell_type": "code",
   "execution_count": 28,
   "id": "7ac52438-1156-4f61-bb2c-5a237b76eb85",
   "metadata": {
    "tags": []
   },
   "outputs": [
    {
     "name": "stderr",
     "output_type": "stream",
     "text": [
      "100%|██████████| 238/238 [02:37<00:00,  1.51it/s]\n",
      " 70%|███████   | 7/10 [00:01<00:00,  4.18it/s]\n"
     ]
    },
    {
     "name": "stdout",
     "output_type": "stream",
     "text": [
      "successful ratio is:  0.9655172413793104\n",
      "solution quality is:  0.5384615384615384\n",
      "minimum number of bin is 7\n"
     ]
    },
    {
     "name": "stderr",
     "output_type": "stream",
     "text": [
      "100%|██████████| 238/238 [02:34<00:00,  1.55it/s]\n",
      " 70%|███████   | 7/10 [00:02<00:00,  3.19it/s]\n"
     ]
    },
    {
     "name": "stdout",
     "output_type": "stream",
     "text": [
      "successful ratio is:  1.0\n",
      "solution quality is:  0.5918367346938775\n",
      "minimum number of bin is 7\n"
     ]
    },
    {
     "name": "stderr",
     "output_type": "stream",
     "text": [
      "100%|██████████| 238/238 [02:40<00:00,  1.48it/s]\n",
      " 70%|███████   | 7/10 [00:02<00:00,  3.21it/s]\n"
     ]
    },
    {
     "name": "stdout",
     "output_type": "stream",
     "text": [
      "successful ratio is:  1.0\n",
      "solution quality is:  0.48333333333333334\n",
      "minimum number of bin is 7\n"
     ]
    },
    {
     "name": "stderr",
     "output_type": "stream",
     "text": [
      "100%|██████████| 238/238 [02:38<00:00,  1.51it/s]\n",
      " 70%|███████   | 7/10 [00:01<00:00,  4.21it/s]\n"
     ]
    },
    {
     "name": "stdout",
     "output_type": "stream",
     "text": [
      "successful ratio is:  0.9655172413793104\n",
      "solution quality is:  0.5185185185185185\n",
      "minimum number of bin is 7\n"
     ]
    },
    {
     "name": "stderr",
     "output_type": "stream",
     "text": [
      "100%|██████████| 238/238 [02:38<00:00,  1.50it/s]\n",
      " 70%|███████   | 7/10 [00:07<00:03,  1.06s/it]\n"
     ]
    },
    {
     "name": "stdout",
     "output_type": "stream",
     "text": [
      "successful ratio is:  1.0\n",
      "solution quality is:  0.5272727272727272\n",
      "minimum number of bin is 7\n"
     ]
    },
    {
     "name": "stderr",
     "output_type": "stream",
     "text": [
      "100%|██████████| 119/119 [01:20<00:00,  1.48it/s]\n",
      " 70%|███████   | 7/10 [00:02<00:00,  3.22it/s]\n"
     ]
    },
    {
     "name": "stdout",
     "output_type": "stream",
     "text": [
      "successful ratio is:  1.0\n",
      "solution quality is:  0.6304347826086957\n",
      "minimum number of bin is 7\n"
     ]
    },
    {
     "name": "stderr",
     "output_type": "stream",
     "text": [
      "100%|██████████| 119/119 [01:20<00:00,  1.47it/s]\n",
      " 70%|███████   | 7/10 [00:06<00:02,  1.05it/s]\n"
     ]
    },
    {
     "name": "stdout",
     "output_type": "stream",
     "text": [
      "successful ratio is:  0.9655172413793104\n",
      "solution quality is:  0.6363636363636364\n",
      "minimum number of bin is 7\n"
     ]
    },
    {
     "name": "stderr",
     "output_type": "stream",
     "text": [
      "100%|██████████| 119/119 [01:21<00:00,  1.46it/s]\n",
      " 70%|███████   | 7/10 [00:01<00:00,  5.56it/s]\n"
     ]
    },
    {
     "name": "stdout",
     "output_type": "stream",
     "text": [
      "successful ratio is:  0.9310344827586207\n",
      "solution quality is:  0.6\n",
      "minimum number of bin is 7\n"
     ]
    },
    {
     "name": "stderr",
     "output_type": "stream",
     "text": [
      "100%|██████████| 119/119 [01:21<00:00,  1.46it/s]\n",
      " 70%|███████   | 7/10 [00:01<00:00,  5.56it/s]\n"
     ]
    },
    {
     "name": "stdout",
     "output_type": "stream",
     "text": [
      "successful ratio is:  0.9310344827586207\n",
      "solution quality is:  0.75\n",
      "minimum number of bin is 7\n"
     ]
    },
    {
     "name": "stderr",
     "output_type": "stream",
     "text": [
      "100%|██████████| 119/119 [01:22<00:00,  1.44it/s]\n",
      " 70%|███████   | 7/10 [00:01<00:00,  5.41it/s]\n"
     ]
    },
    {
     "name": "stdout",
     "output_type": "stream",
     "text": [
      "successful ratio is:  0.9310344827586207\n",
      "solution quality is:  0.6\n",
      "minimum number of bin is 7\n"
     ]
    },
    {
     "name": "stderr",
     "output_type": "stream",
     "text": [
      "100%|██████████| 80/80 [00:55<00:00,  1.44it/s]\n",
      " 70%|███████   | 7/10 [00:07<00:03,  1.05s/it]\n"
     ]
    },
    {
     "name": "stdout",
     "output_type": "stream",
     "text": [
      "successful ratio is:  0.9655172413793104\n",
      "solution quality is:  0.6666666666666666\n",
      "minimum number of bin is 7\n"
     ]
    },
    {
     "name": "stderr",
     "output_type": "stream",
     "text": [
      "100%|██████████| 80/80 [00:56<00:00,  1.43it/s]\n",
      " 70%|███████   | 7/10 [00:01<00:00,  5.54it/s]\n"
     ]
    },
    {
     "name": "stdout",
     "output_type": "stream",
     "text": [
      "successful ratio is:  0.9310344827586207\n",
      "solution quality is:  0.6428571428571429\n",
      "minimum number of bin is 7\n"
     ]
    },
    {
     "name": "stderr",
     "output_type": "stream",
     "text": [
      "100%|██████████| 80/80 [00:56<00:00,  1.42it/s]\n",
      " 70%|███████   | 7/10 [00:00<00:00,  7.49it/s]\n"
     ]
    },
    {
     "name": "stdout",
     "output_type": "stream",
     "text": [
      "successful ratio is:  0.896551724137931\n",
      "solution quality is:  0.6842105263157895\n",
      "minimum number of bin is 7\n"
     ]
    },
    {
     "name": "stderr",
     "output_type": "stream",
     "text": [
      "100%|██████████| 80/80 [00:56<00:00,  1.42it/s]\n",
      " 70%|███████   | 7/10 [00:01<00:00,  5.57it/s]\n"
     ]
    },
    {
     "name": "stdout",
     "output_type": "stream",
     "text": [
      "successful ratio is:  0.9310344827586207\n",
      "solution quality is:  0.6923076923076923\n",
      "minimum number of bin is 7\n"
     ]
    },
    {
     "name": "stderr",
     "output_type": "stream",
     "text": [
      "100%|██████████| 80/80 [00:57<00:00,  1.40it/s]\n",
      " 70%|███████   | 7/10 [00:00<00:00,  9.83it/s]\n"
     ]
    },
    {
     "name": "stdout",
     "output_type": "stream",
     "text": [
      "successful ratio is:  0.8620689655172413\n",
      "solution quality is:  0.6756756756756757\n",
      "minimum number of bin is 7\n"
     ]
    },
    {
     "name": "stderr",
     "output_type": "stream",
     "text": [
      "100%|██████████| 60/60 [00:43<00:00,  1.40it/s]\n",
      " 70%|███████   | 7/10 [00:07<00:03,  1.05s/it]\n"
     ]
    },
    {
     "name": "stdout",
     "output_type": "stream",
     "text": [
      "successful ratio is:  0.9655172413793104\n",
      "solution quality is:  0.7567567567567568\n",
      "minimum number of bin is 7\n"
     ]
    },
    {
     "name": "stderr",
     "output_type": "stream",
     "text": [
      "100%|██████████| 60/60 [00:43<00:00,  1.38it/s]\n",
      " 70%|███████   | 7/10 [00:00<00:00, 13.83it/s]\n"
     ]
    },
    {
     "name": "stdout",
     "output_type": "stream",
     "text": [
      "successful ratio is:  0.8275862068965517\n",
      "solution quality is:  0.6\n",
      "minimum number of bin is 7\n"
     ]
    },
    {
     "name": "stderr",
     "output_type": "stream",
     "text": [
      "100%|██████████| 60/60 [00:43<00:00,  1.38it/s]\n",
      " 70%|███████   | 7/10 [00:01<00:00,  5.40it/s]\n"
     ]
    },
    {
     "name": "stdout",
     "output_type": "stream",
     "text": [
      "successful ratio is:  0.9310344827586207\n",
      "solution quality is:  0.6923076923076923\n",
      "minimum number of bin is 7\n"
     ]
    },
    {
     "name": "stderr",
     "output_type": "stream",
     "text": [
      "100%|██████████| 60/60 [00:43<00:00,  1.38it/s]\n",
      " 70%|███████   | 7/10 [00:00<00:00,  9.81it/s]\n"
     ]
    },
    {
     "name": "stdout",
     "output_type": "stream",
     "text": [
      "successful ratio is:  0.8620689655172413\n",
      "solution quality is:  0.7352941176470589\n",
      "minimum number of bin is 7\n"
     ]
    },
    {
     "name": "stderr",
     "output_type": "stream",
     "text": [
      "100%|██████████| 60/60 [00:43<00:00,  1.38it/s]\n",
      " 70%|███████   | 7/10 [00:01<00:00,  5.55it/s]\n"
     ]
    },
    {
     "name": "stdout",
     "output_type": "stream",
     "text": [
      "successful ratio is:  0.9310344827586207\n",
      "solution quality is:  0.6923076923076923\n",
      "minimum number of bin is 7\n"
     ]
    },
    {
     "name": "stderr",
     "output_type": "stream",
     "text": [
      "100%|██████████| 48/48 [00:35<00:00,  1.36it/s]\n",
      " 70%|███████   | 7/10 [00:00<00:00,  7.35it/s]\n"
     ]
    },
    {
     "name": "stdout",
     "output_type": "stream",
     "text": [
      "successful ratio is:  0.896551724137931\n",
      "solution quality is:  0.7647058823529411\n",
      "minimum number of bin is 7\n"
     ]
    },
    {
     "name": "stderr",
     "output_type": "stream",
     "text": [
      "100%|██████████| 48/48 [00:35<00:00,  1.36it/s]\n",
      " 70%|███████   | 7/10 [00:00<00:00, 18.94it/s]\n"
     ]
    },
    {
     "name": "stdout",
     "output_type": "stream",
     "text": [
      "successful ratio is:  0.7931034482758621\n",
      "solution quality is:  0.696969696969697\n",
      "minimum number of bin is 7\n"
     ]
    },
    {
     "name": "stderr",
     "output_type": "stream",
     "text": [
      "100%|██████████| 48/48 [00:42<00:00,  1.14it/s]\n",
      " 70%|███████   | 7/10 [00:00<00:00,  7.31it/s]\n"
     ]
    },
    {
     "name": "stdout",
     "output_type": "stream",
     "text": [
      "successful ratio is:  0.896551724137931\n",
      "solution quality is:  0.8387096774193549\n",
      "minimum number of bin is 7\n"
     ]
    },
    {
     "name": "stderr",
     "output_type": "stream",
     "text": [
      "100%|██████████| 48/48 [00:35<00:00,  1.34it/s]\n",
      " 70%|███████   | 7/10 [00:00<00:00,  9.95it/s]\n"
     ]
    },
    {
     "name": "stdout",
     "output_type": "stream",
     "text": [
      "successful ratio is:  0.8620689655172413\n",
      "solution quality is:  0.625\n",
      "minimum number of bin is 7\n"
     ]
    },
    {
     "name": "stderr",
     "output_type": "stream",
     "text": [
      "100%|██████████| 48/48 [00:35<00:00,  1.36it/s]\n",
      " 70%|███████   | 7/10 [00:00<00:00, 13.52it/s]\n"
     ]
    },
    {
     "name": "stdout",
     "output_type": "stream",
     "text": [
      "successful ratio is:  0.8275862068965517\n",
      "solution quality is:  0.6857142857142857\n",
      "minimum number of bin is 7\n"
     ]
    },
    {
     "name": "stderr",
     "output_type": "stream",
     "text": [
      "100%|██████████| 40/40 [00:29<00:00,  1.35it/s]\n",
      " 70%|███████   | 7/10 [00:00<00:00, 13.73it/s]\n"
     ]
    },
    {
     "name": "stdout",
     "output_type": "stream",
     "text": [
      "successful ratio is:  0.8275862068965517\n",
      "solution quality is:  0.75\n",
      "minimum number of bin is 7\n"
     ]
    },
    {
     "name": "stderr",
     "output_type": "stream",
     "text": [
      "100%|██████████| 40/40 [00:29<00:00,  1.35it/s]\n",
      " 70%|███████   | 7/10 [00:00<00:00, 18.95it/s]\n"
     ]
    },
    {
     "name": "stdout",
     "output_type": "stream",
     "text": [
      "successful ratio is:  0.7931034482758621\n",
      "solution quality is:  0.8214285714285714\n",
      "minimum number of bin is 7\n"
     ]
    },
    {
     "name": "stderr",
     "output_type": "stream",
     "text": [
      "100%|██████████| 40/40 [00:29<00:00,  1.34it/s]\n",
      " 70%|███████   | 7/10 [00:00<00:00, 10.01it/s]\n"
     ]
    },
    {
     "name": "stdout",
     "output_type": "stream",
     "text": [
      "successful ratio is:  0.8620689655172413\n",
      "solution quality is:  0.7352941176470589\n",
      "minimum number of bin is 7\n"
     ]
    },
    {
     "name": "stderr",
     "output_type": "stream",
     "text": [
      "100%|██████████| 40/40 [00:29<00:00,  1.34it/s]\n",
      " 70%|███████   | 7/10 [00:00<00:00, 18.93it/s]\n"
     ]
    },
    {
     "name": "stdout",
     "output_type": "stream",
     "text": [
      "successful ratio is:  0.7931034482758621\n",
      "solution quality is:  0.7666666666666667\n",
      "minimum number of bin is 7\n"
     ]
    },
    {
     "name": "stderr",
     "output_type": "stream",
     "text": [
      "100%|██████████| 40/40 [00:29<00:00,  1.33it/s]\n",
      " 70%|███████   | 7/10 [00:00<00:00,  9.99it/s]\n"
     ]
    },
    {
     "name": "stdout",
     "output_type": "stream",
     "text": [
      "successful ratio is:  0.8620689655172413\n",
      "solution quality is:  0.7575757575757576\n",
      "minimum number of bin is 7\n"
     ]
    },
    {
     "name": "stderr",
     "output_type": "stream",
     "text": [
      "100%|██████████| 34/34 [00:25<00:00,  1.33it/s]\n",
      "100%|██████████| 10/10 [00:09<00:00,  1.02it/s]\n"
     ]
    },
    {
     "name": "stdout",
     "output_type": "stream",
     "text": [
      "successful ratio is:  0.8275862068965517\n",
      "solution quality is:  0.8\n",
      "minimum number of bin is 999\n"
     ]
    },
    {
     "name": "stderr",
     "output_type": "stream",
     "text": [
      "100%|██████████| 34/34 [00:25<00:00,  1.31it/s]\n",
      "100%|██████████| 10/10 [00:00<00:00, 184.01it/s]\n"
     ]
    },
    {
     "name": "stdout",
     "output_type": "stream",
     "text": [
      "successful ratio is:  0.5517241379310345\n",
      "solution quality is:  0.6956521739130435\n",
      "minimum number of bin is 999\n"
     ]
    },
    {
     "name": "stderr",
     "output_type": "stream",
     "text": [
      "100%|██████████| 34/34 [00:25<00:00,  1.33it/s]\n",
      "100%|██████████| 10/10 [00:02<00:00,  4.64it/s]\n"
     ]
    },
    {
     "name": "stdout",
     "output_type": "stream",
     "text": [
      "successful ratio is:  0.7931034482758621\n",
      "solution quality is:  0.71875\n",
      "minimum number of bin is 999\n"
     ]
    },
    {
     "name": "stderr",
     "output_type": "stream",
     "text": [
      "100%|██████████| 34/34 [00:25<00:00,  1.33it/s]\n",
      "100%|██████████| 10/10 [00:00<00:00, 11.56it/s]\n"
     ]
    },
    {
     "name": "stdout",
     "output_type": "stream",
     "text": [
      "successful ratio is:  0.7241379310344828\n",
      "solution quality is:  0.7241379310344828\n",
      "minimum number of bin is 999\n"
     ]
    },
    {
     "name": "stderr",
     "output_type": "stream",
     "text": [
      "100%|██████████| 34/34 [00:25<00:00,  1.33it/s]\n",
      "100%|██████████| 10/10 [00:03<00:00,  2.98it/s]\n"
     ]
    },
    {
     "name": "stdout",
     "output_type": "stream",
     "text": [
      "successful ratio is:  0.8275862068965517\n",
      "solution quality is:  0.8275862068965517\n",
      "minimum number of bin is 999\n"
     ]
    },
    {
     "name": "stderr",
     "output_type": "stream",
     "text": [
      "100%|██████████| 30/30 [00:22<00:00,  1.31it/s]\n",
      " 70%|███████   | 7/10 [00:06<00:02,  1.10it/s]\n"
     ]
    },
    {
     "name": "stdout",
     "output_type": "stream",
     "text": [
      "successful ratio is:  0.6551724137931034\n",
      "solution quality is:  0.6785714285714286\n",
      "minimum number of bin is 7\n"
     ]
    },
    {
     "name": "stderr",
     "output_type": "stream",
     "text": [
      "100%|██████████| 30/30 [00:22<00:00,  1.31it/s]\n",
      " 70%|███████   | 7/10 [00:00<00:00, 26.83it/s]\n"
     ]
    },
    {
     "name": "stdout",
     "output_type": "stream",
     "text": [
      "successful ratio is:  0.7586206896551724\n",
      "solution quality is:  0.7096774193548387\n",
      "minimum number of bin is 7\n"
     ]
    },
    {
     "name": "stderr",
     "output_type": "stream",
     "text": [
      "100%|██████████| 30/30 [00:22<00:00,  1.32it/s]\n",
      " 70%|███████   | 7/10 [00:00<00:00, 18.81it/s]\n"
     ]
    },
    {
     "name": "stdout",
     "output_type": "stream",
     "text": [
      "successful ratio is:  0.7931034482758621\n",
      "solution quality is:  0.7931034482758621\n",
      "minimum number of bin is 7\n"
     ]
    },
    {
     "name": "stderr",
     "output_type": "stream",
     "text": [
      "100%|██████████| 30/30 [00:22<00:00,  1.31it/s]\n",
      " 70%|███████   | 7/10 [00:00<00:00, 38.79it/s]\n"
     ]
    },
    {
     "name": "stdout",
     "output_type": "stream",
     "text": [
      "successful ratio is:  0.7241379310344828\n",
      "solution quality is:  0.7777777777777778\n",
      "minimum number of bin is 7\n"
     ]
    },
    {
     "name": "stderr",
     "output_type": "stream",
     "text": [
      "100%|██████████| 30/30 [00:23<00:00,  1.29it/s]\n",
      " 70%|███████   | 7/10 [00:00<00:00, 26.09it/s]"
     ]
    },
    {
     "name": "stdout",
     "output_type": "stream",
     "text": [
      "successful ratio is:  0.7586206896551724\n",
      "solution quality is:  0.7586206896551724\n",
      "minimum number of bin is 7\n"
     ]
    },
    {
     "name": "stderr",
     "output_type": "stream",
     "text": [
      "\n"
     ]
    }
   ],
   "source": [
    "batch = 5\n",
    "sr_set = np.zeros((len(dk_list), batch))\n",
    "sq_set = np.zeros((len(dk_list), batch))\n",
    "n_solu_set = np.zeros((len(dk_list), batch))\n",
    "minbin_set = np.zeros((len(dk_list), batch))\n",
    "\n",
    "\n",
    "for i_index, dk in enumerate(dk_list):\n",
    "\n",
    "    for j in range(batch):\n",
    "\n",
    "        solution_set = []\n",
    "        # qu_time = []\n",
    "        # start_time_process1 = time.time()\n",
    "\n",
    "        for k in tqdm(np.arange(1,(capacity/delta_w),dk)):\n",
    "            alpha = 2*beta*(capacity-k*delta_w)\n",
    "            h_p = generate_h_two_body(n_items, W, beta) + generate_h_one_body(n_items, W, alpha, beta, capacity)\n",
    "            h_m = generate_h_mixer(n_items)\n",
    "            h_cd = commutator(h_m,h_p)#CD pool\n",
    "            cd = CD_operator(h_cd)\n",
    "            ci = CD_ansataz(cd)\n",
    "\n",
    "            circ = Quantum_QAOA_Circuits(h_m, h_p, n_layer, n_items)\n",
    "            #ground_energy.append(E0_energy(h_p))\n",
    "\n",
    "            ham = Hamiltonian(h_p)\n",
    "            sim = Simulator('mqvector', n_items)\n",
    "            grad_ops = sim.get_expectation_with_grad(ham, circ)\n",
    "\n",
    "            pr, result = train(ham, circ, ite)\n",
    "            #cost_fun.append(result)\n",
    "            res = state_sampling(circ, pr)\n",
    "            solution_set.append(res.data)\n",
    "\n",
    "        # Record the current time after the first process\n",
    "        # end_time_process1 = time.time()\n",
    "\n",
    "        # Calculate the elapsed time for the quantum process\n",
    "        # elapsed_time_process1 = end_time_process1 - start_time_process1\n",
    "        # qu_time[i_index, j] = elapsed_time_process1\n",
    "\n",
    "        elements_fea, succ_ratio, solution_quality= data_analyze(n_items, solution_set, W[::-1], capacity, target_solu)\n",
    "        positions = [[n_items-1-i for i, char in enumerate(element) if char == '1'] for element in elements_fea]\n",
    "        minbin, n_solu = find_min_number(positions,target)\n",
    "        \n",
    "        minbin_set[i_index, j] = minbin\n",
    "        n_solu_set[i_index, j] = n_solu\n",
    "        sr_set[i_index, j] = succ_ratio\n",
    "        sq_set[i_index, j] = solution_quality\n",
    "\n",
    "        # Record the current time before the second process\n",
    "        # end_time_process2 = time.time()\n",
    "\n",
    "        # Calculate the elapsed time for the classic process\n",
    "        # elapsed_time_process2 = end_time_process2 - end_time_process1\n",
    "        # cl_time[i_index, j] = elapsed_time_process2\n",
    "\n",
    "        print('successful ratio is: ',succ_ratio)\n",
    "        print('solution quality is: ',solution_quality)\n",
    "        print('minimum number of bin is',minbin)\n",
    "        # print(\"Elapsed time for quantum process:\", np.mean(elapsed_time_process1), \"seconds\")\n",
    "        # print(\"Elapsed time for classic process:\", np.mean(elapsed_time_process2), \"seconds\")"
   ]
  },
  {
   "cell_type": "code",
   "execution_count": 29,
   "id": "67516bf7-973b-40ab-a9b1-fbb6ea8d870a",
   "metadata": {
    "tags": []
   },
   "outputs": [],
   "source": [
    "# Write data to a text file\n",
    "with open('qaoa-k-W5.txt', 'w') as f:\n",
    "    f.write(\"dk, batch, sr_set, sq_set, minbin_set, n_solu\\n\")\n",
    "    for i_index, i in enumerate(dk_list):\n",
    "        for j in range(batch):\n",
    "            f.write(f\"{i}, {j}, {sr_set[i_index, j]}, {sq_set[i_index, j]}, {minbin_set[i_index, j]}, {n_solu_set[i_index, j]}\\n\")"
   ]
  },
  {
   "cell_type": "code",
   "execution_count": null,
   "id": "482206f8-5f4c-44c5-b9b3-0c462205ca04",
   "metadata": {},
   "outputs": [],
   "source": []
  },
  {
   "cell_type": "code",
   "execution_count": null,
   "id": "6b30675b-51e1-4ba4-aa0f-2f1caf7adf36",
   "metadata": {
    "tags": []
   },
   "outputs": [],
   "source": [
    "gs = E0_energy(h_p)"
   ]
  },
  {
   "cell_type": "code",
   "execution_count": null,
   "id": "0a27f04b-14f9-4657-be71-281dbf45a68e",
   "metadata": {
    "tags": []
   },
   "outputs": [],
   "source": [
    "plt.xlabel('iteration', fontsize=12)\n",
    "plt.ylabel('Energy', fontsize=12)\n",
    "plt.title(\"100 iteration\", fontsize=12)\n",
    "plt.axhline(y=gs, color=\"black\", linestyle=\"--\", label=\"True energy\")\n",
    "plt.plot(result)\n",
    "plt.savefig('100-dc-p=1.png')"
   ]
  },
  {
   "cell_type": "code",
   "execution_count": null,
   "id": "3ed0b271-2580-452b-9636-57c8a3c882e8",
   "metadata": {
    "tags": []
   },
   "outputs": [],
   "source": [
    "yz = QubitOperator(f'Y0 Z1',1)\n",
    "c = Circuit()\n",
    "c += decompose_single_term_time_evolution(yz, ParameterResolver(f'b{index}'))"
   ]
  },
  {
   "cell_type": "code",
   "execution_count": null,
   "id": "79d21234-d943-4757-a7e1-5e8c2f710529",
   "metadata": {
    "tags": []
   },
   "outputs": [],
   "source": [
    "c.svg().to_file('yz_0314.svg')"
   ]
  },
  {
   "cell_type": "code",
   "execution_count": null,
   "id": "acd4c2e0-b576-4a22-b495-64b1facf6ac4",
   "metadata": {
    "tags": []
   },
   "outputs": [],
   "source": []
  },
  {
   "cell_type": "code",
   "execution_count": null,
   "id": "7b6b6ff0-7638-406c-9121-74cde1ebe82f",
   "metadata": {},
   "outputs": [],
   "source": []
  },
  {
   "cell_type": "code",
   "execution_count": null,
   "id": "3a0e9057-6e5e-4504-946c-004dec2e1209",
   "metadata": {
    "tags": []
   },
   "outputs": [],
   "source": []
  },
  {
   "cell_type": "code",
   "execution_count": null,
   "id": "e9e3f354-3699-4c24-ad03-1053f6e26ef0",
   "metadata": {
    "tags": []
   },
   "outputs": [],
   "source": []
  },
  {
   "cell_type": "code",
   "execution_count": null,
   "id": "47565dee-5e56-4893-9bae-b6bd6a5e60c0",
   "metadata": {
    "tags": []
   },
   "outputs": [],
   "source": []
  },
  {
   "cell_type": "code",
   "execution_count": null,
   "id": "4e51a59b-7cf4-4356-bffa-75c532c16462",
   "metadata": {
    "tags": []
   },
   "outputs": [],
   "source": []
  },
  {
   "cell_type": "code",
   "execution_count": null,
   "id": "bf71f392-3238-4276-a2f6-29420fea0ec3",
   "metadata": {
    "tags": []
   },
   "outputs": [],
   "source": []
  },
  {
   "cell_type": "code",
   "execution_count": null,
   "id": "6aa69632-39f0-4af8-a2f1-87835294df64",
   "metadata": {},
   "outputs": [],
   "source": []
  }
 ],
 "metadata": {
  "kernelspec": {
   "display_name": "Python 3 (ipykernel)",
   "language": "python",
   "name": "python3"
  },
  "language_info": {
   "codemirror_mode": {
    "name": "ipython",
    "version": 3
   },
   "file_extension": ".py",
   "mimetype": "text/x-python",
   "name": "python",
   "nbconvert_exporter": "python",
   "pygments_lexer": "ipython3",
   "version": "3.9.17"
  }
 },
 "nbformat": 4,
 "nbformat_minor": 5
}
