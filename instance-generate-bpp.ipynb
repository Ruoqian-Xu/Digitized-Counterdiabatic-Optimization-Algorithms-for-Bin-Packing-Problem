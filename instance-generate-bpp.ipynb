{
 "cells": [
  {
   "cell_type": "code",
   "execution_count": 3,
   "id": "a62630e2-9d0d-4ccd-82bb-5cdc99f55de8",
   "metadata": {
    "tags": []
   },
   "outputs": [
    {
     "name": "stdout",
     "output_type": "stream",
     "text": [
      "weights:  [49, 73, 48, 57, 54, 65, 47, 46, 42, 68]\n",
      "capacity:  120\n"
     ]
    }
   ],
   "source": [
    "import pandas as pd\n",
    "import numpy as np\n",
    "\n",
    "center = 60\n",
    "error_range = 20\n",
    "upp = center + error_range\n",
    "loww = center - error_range\n",
    "\n",
    "# Load the DataFrame from the pickle file\n",
    "df = pd.read_pickle('/Users/qiuqiu/Downloads/work/to_do_project/bin packing/Benchmark dataset and instance generator for Real-World 3dBPP/Input/Elhedhli_dataset/products.pkl')\n",
    "# Extract only the 'weight' column\n",
    "weight_column = df['weight']\n",
    "\n",
    "# Filter the weight_column to include values between loww and upp\n",
    "filtered_weights = weight_column[(weight_column >= loww) & (weight_column <= upp)]\n",
    "\n",
    "# Randomly sample 10 values from the filtered_weights\n",
    "sampled_weights = filtered_weights.sample(n=10, random_state=30)  # Set random_state for reproducibility\n",
    "\n",
    "print('weights: ',list(sampled_weights))\n",
    "print('capacity: ',center*2)\n",
    "\n"
   ]
  },
  {
   "cell_type": "code",
   "execution_count": 10,
   "id": "f766bb44-3120-4dbd-8eed-ee59d9cb90c0",
   "metadata": {
    "tags": []
   },
   "outputs": [
    {
     "name": "stdout",
     "output_type": "stream",
     "text": [
      "722055    53.688706\n",
      "718466    62.077566\n",
      "554459    58.722022\n",
      "322049    40.000000\n",
      "846459    40.000000\n",
      "247817    41.105415\n",
      "276598    40.000000\n",
      "891464    51.172048\n",
      "96929     53.688706\n",
      "393790    40.000000\n",
      "Name: weight, dtype: float64\n"
     ]
    }
   ],
   "source": [
    "import pandas as pd\n",
    "import numpy as np\n",
    "\n",
    "# Load the DataFrame from the pickle file\n",
    "df = pd.read_pickle('/Users/qiuqiu/Downloads/work/to_do_project/bin packing/Benchmark dataset and instance generator for Real-World 3dBPP/Input/Elhedhli_dataset/products.pkl')\n",
    "\n",
    "# Extract only the 'weight' column\n",
    "weight_column = df['weight']\n",
    "\n",
    "# Filter the weight_column to include values between loww and upp\n",
    "filtered_weights = weight_column[(weight_column >= loww) & (weight_column <= upp)]\n",
    "\n",
    "# Select 10 values randomly from filtered_weights\n",
    "selected_values = filtered_weights.sample(n=10)\n",
    "\n",
    "# Calculate the current standard deviation of selected values\n",
    "current_std = selected_values.std()\n",
    "\n",
    "# Scale the selected values to adjust the standard deviation to 2\n",
    "scaled_values = selected_values * (10 / current_std)\n",
    "\n",
    "# Clip scaled values to ensure they fall within the range [40, 80]\n",
    "scaled_values = scaled_values.clip(40, 80)\n",
    "\n",
    "print(scaled_values)\n"
   ]
  },
  {
   "cell_type": "code",
   "execution_count": 2,
   "id": "b4791403-279e-4750-814e-4259a9c3e598",
   "metadata": {
    "tags": []
   },
   "outputs": [
    {
     "name": "stdout",
     "output_type": "stream",
     "text": [
      "weights:  [43, 21, 29, 37, 54, 42, 31, 54, 24, 24, 59, 20, 30, 42, 22, 26, 25, 43, 31, 21, 26, 34, 30, 30, 44, 38, 47, 26, 32, 26, 33, 33, 47, 36, 35, 23, 31, 29, 31, 42, 26, 21, 52, 34, 21, 49, 31, 21, 51, 32, 31, 45, 31, 26, 57, 29, 32, 34, 27, 22, 48, 21, 25, 39, 29, 54, 33, 20, 51, 20, 51, 20, 52, 41, 31, 33, 26, 21, 49, 24, 41, 41, 36, 23, 28, 25, 25, 28, 31, 47, 22, 46, 26, 39, 30, 39, 20, 49, 35, 50]\n",
      "capacity:  118\n"
     ]
    }
   ],
   "source": [
    "import pandas as pd\n",
    "import numpy as np\n",
    "\n",
    "upp = 60\n",
    "loww = 20\n",
    "standard_error = 20\n",
    "\n",
    "# Load the DataFrame from the pickle file\n",
    "df = pd.read_pickle('/Users/qiuqiu/Downloads/work/to_do_project/bin packing/Benchmark dataset and instance generator for Real-World 3dBPP/Input/Elhedhli_dataset/products.pkl')\n",
    "\n",
    "# Extract only the 'weight' column\n",
    "weight_column = df['weight']\n",
    "\n",
    "# Calculate the mean and standard deviation of the weights\n",
    "mean_weight = weight_column.mean()\n",
    "std_weight = weight_column.std()\n",
    "\n",
    "# Filter the weight_column to include values between loww and upp, and with standard error within the specified range\n",
    "filtered_weights = weight_column[(weight_column >= loww) & (weight_column <= upp) & \n",
    "                                 (np.abs(weight_column - mean_weight) <= standard_error * std_weight)]\n",
    "\n",
    "# Randomly sample 10 values from the filtered_weights\n",
    "sampled_weights = filtered_weights.sample(n=100, random_state=70)  # Set random_state for reproducibility\n",
    "\n",
    "print('weights: ', list(sampled_weights))\n",
    "print('capacity: ', np.max(sampled_weights) * 2)\n"
   ]
  },
  {
   "cell_type": "code",
   "execution_count": 16,
   "id": "1337b225-fe24-49fe-8125-9ea378527239",
   "metadata": {
    "tags": []
   },
   "outputs": [
    {
     "name": "stdout",
     "output_type": "stream",
     "text": [
      "Extracted numbers with std 10.5: [24, 35, 34, 23, 29, 20, 52, 33, 47, 20]\n"
     ]
    }
   ],
   "source": [
    "import numpy as np\n",
    "\n",
    "def extract_numbers_with_std(numbers, target_std, sample_size=10, max_attempts=1000):\n",
    "    attempts = 0\n",
    "    while attempts < max_attempts:\n",
    "        # Randomly sample `sample_size` numbers from the list\n",
    "        sample = np.random.choice(numbers, sample_size, replace=False)\n",
    "        # Calculate the standard deviation of the sample\n",
    "        sample_std = np.std(sample)\n",
    "        # If the standard deviation is close to the target, return the sample\n",
    "        if np.isclose(sample_std, target_std, atol=1):\n",
    "            return sample\n",
    "        attempts += 1\n",
    "    # If no suitable sample is found after max_attempts, return None\n",
    "    return None\n",
    "\n",
    "target_std = 10.5\n",
    "pick = extract_numbers_with_std(sampled_weights, target_std)\n",
    "\n",
    "print(f\"Extracted numbers with std {target_std}:\", list(pick))\n"
   ]
  },
  {
   "cell_type": "code",
   "execution_count": 17,
   "id": "4a44b63b-f3da-4469-8469-1986af1b6dd0",
   "metadata": {},
   "outputs": [
    {
     "data": {
      "text/plain": [
       "10.392785959500946"
      ]
     },
     "execution_count": 17,
     "metadata": {},
     "output_type": "execute_result"
    }
   ],
   "source": [
    "np.std(pick)"
   ]
  },
  {
   "cell_type": "code",
   "execution_count": null,
   "id": "229ae5f7-6391-4516-b521-824abf7731a9",
   "metadata": {},
   "outputs": [],
   "source": []
  }
 ],
 "metadata": {
  "kernelspec": {
   "display_name": "Python 3 (ipykernel)",
   "language": "python",
   "name": "python3"
  },
  "language_info": {
   "codemirror_mode": {
    "name": "ipython",
    "version": 3
   },
   "file_extension": ".py",
   "mimetype": "text/x-python",
   "name": "python",
   "nbconvert_exporter": "python",
   "pygments_lexer": "ipython3",
   "version": "3.9.17"
  }
 },
 "nbformat": 4,
 "nbformat_minor": 5
}
